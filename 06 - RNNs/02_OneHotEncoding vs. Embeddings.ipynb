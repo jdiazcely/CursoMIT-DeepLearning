{
 "cells": [
  {
   "cell_type": "markdown",
   "metadata": {},
   "source": [
    "# Embeddings"
   ]
  },
  {
   "cell_type": "markdown",
   "metadata": {},
   "source": [
    "Basado en el capítulo 6 del libro \"Deep Learning with Python\" de Francois Chollet, 2018 Manning"
   ]
  },
  {
   "cell_type": "markdown",
   "metadata": {},
   "source": [
    "# Parte 1. Representación de secuencias"
   ]
  },
  {
   "cell_type": "markdown",
   "metadata": {},
   "source": [
    "Para poder analizar y procesar secuencias de términos (palabras, caracteres, señales, videos, series) es necesario primero definir el tipo de representación que se va a utilizar:\n",
    "- **One hot encoding**: se utiliza un espacio de representación donde cada dimensión corresponde a uno de los posibles términos que se pueden encontrar en las secuencias. Cada término en una secuencia es entonces representado como un vector de muchísimos 0s, salvo por la dimensión que corresponde al término en sí. Esto crea problemas, pues este espacio es bastante disperso (muy pocos 1s), de muy alta dimensionalidad, y codificado \"en duro\" (la posición de cada término sigue un proceso arbitrario no basado en los datos en sí)\n",
    "- **Embedding**: se utiliza un espacio de representación de dimensionalidad reducida, cuyo espacio está basado en una estructura estadística de la representación de los términos encontrados en las secuencias. En el caso de texto, la información de las relaciones de coocurrencia de las palabras se conserva a través de la distancia en el nuevo espacio de representación aprendido.\n",
    "\n",
    "Una vez se define la representación de las secuencias, estas deben pasar por un proceso de separación en tokens (términos, palabras o caracteres, proceso de **tokenización**), que luego son transformados a una nueva representación vectorial (proceso de **vectorización**)\n",
    "\n",
    "Las secuencias originales son entonces transformadas en tensores numéricos 2D: un eje para cada término, otro para el espacio de representación de cada token.\n",
    "\n",
    "En el caso de los textos, la tokenización se puede hacer a nivel de palabras (cada palabra se transforma en un vector), a nivel de caracteres (cada caracter se transforma en un vector), o a nivel de n-gramas de palabras o caracteres (cada grupo de palabras o caracteres consecutivos y sobrelapados se transforma en un vector).\n",
    "\n",
    "Los tensores numéricos de cada secuencia son enviados como inputs a la red de DL.\n",
    "\n"
   ]
  },
  {
   "cell_type": "markdown",
   "metadata": {},
   "source": [
    "## One hot encoding\n",
    "\n",
    "Si se tienen N tokens posibles (palabras o caracteres),\n",
    "se considera un vector de N posiciones, donde cada posición representa un token determinado, y cada token es entonces representado como un vector con N-1 valores en 0 y un valor en 1 correspondiente a su posición dada."
   ]
  },
  {
   "cell_type": "markdown",
   "metadata": {},
   "source": [
    "Se podría implementar el one hot encoding en Python con *numpy*, pero lo mejor es aprovechar las funcionalidades incluidas en *Keras*:"
   ]
  },
  {
   "cell_type": "code",
   "execution_count": 2,
   "metadata": {},
   "outputs": [
    {
     "name": "stderr",
     "output_type": "stream",
     "text": [
      "Using TensorFlow backend.\n"
     ]
    }
   ],
   "source": [
    "import keras"
   ]
  },
  {
   "cell_type": "code",
   "execution_count": 3,
   "metadata": {},
   "outputs": [
    {
     "data": {
      "text/plain": [
       "[]"
      ]
     },
     "execution_count": 3,
     "metadata": {},
     "output_type": "execute_result"
    }
   ],
   "source": [
    "from keras import backend as K\n",
    "K.tensorflow_backend._get_available_gpus()"
   ]
  },
  {
   "cell_type": "code",
   "execution_count": 4,
   "metadata": {},
   "outputs": [],
   "source": [
    "import time"
   ]
  },
  {
   "cell_type": "code",
   "execution_count": 5,
   "metadata": {},
   "outputs": [
    {
     "data": {
      "text/plain": [
       "OrderedDict([('the', 3),\n",
       "             ('cat', 1),\n",
       "             ('sat', 1),\n",
       "             ('on', 1),\n",
       "             ('mat', 1),\n",
       "             ('dog', 1),\n",
       "             ('ate', 1),\n",
       "             ('my', 1),\n",
       "             ('homework', 1)])"
      ]
     },
     "execution_count": 5,
     "metadata": {},
     "output_type": "execute_result"
    }
   ],
   "source": [
    "from keras.preprocessing.text import Tokenizer\n",
    "\n",
    "samples = ['The cat sat on the mat.', 'The dog ate my homework.']\n",
    "\n",
    "# Creamos un tokenizer, configurado para solo considerar las 20 palabras más comunes,\n",
    "# (así aquí solo tengamos 9).\n",
    "tokenizer = Tokenizer(num_words=20)\n",
    "# Creamos el índice de palabras\n",
    "tokenizer.fit_on_texts(samples)\n",
    "# Veamos las palábras mas frecuentes\n",
    "tokenizer.word_counts"
   ]
  },
  {
   "cell_type": "code",
   "execution_count": 6,
   "metadata": {},
   "outputs": [
    {
     "name": "stdout",
     "output_type": "stream",
     "text": [
      "Se encontraron 9 tokens únicos.\n",
      "El word_index es el diccionario con las palabras y sus índice correspondientes en el vocabulario\n"
     ]
    },
    {
     "data": {
      "text/plain": [
       "{'the': 1,\n",
       " 'cat': 2,\n",
       " 'sat': 3,\n",
       " 'on': 4,\n",
       " 'mat': 5,\n",
       " 'dog': 6,\n",
       " 'ate': 7,\n",
       " 'my': 8,\n",
       " 'homework': 9}"
      ]
     },
     "execution_count": 6,
     "metadata": {},
     "output_type": "execute_result"
    }
   ],
   "source": [
    "# Veamos el índice creado\n",
    "print('Se encontraron %s tokens únicos.' % len(tokenizer.word_index))\n",
    "print('El word_index es el diccionario con las palabras y sus índice correspondientes en el vocabulario')\n",
    "tokenizer.word_index"
   ]
  },
  {
   "cell_type": "markdown",
   "metadata": {},
   "source": [
    "Como ya se hizo la **tokenización**, podemos ahora realizar la **vectorización** de la secuencia de texto."
   ]
  },
  {
   "cell_type": "code",
   "execution_count": 7,
   "metadata": {},
   "outputs": [
    {
     "name": "stdout",
     "output_type": "stream",
     "text": [
      "Cada texto (secuencia de palabras) se puede entonces representar como una secuencia de los índices correspondientes\n"
     ]
    },
    {
     "data": {
      "text/plain": [
       "[[1, 2, 3, 4, 1, 5], [1, 6, 7, 8, 9]]"
      ]
     },
     "execution_count": 7,
     "metadata": {},
     "output_type": "execute_result"
    }
   ],
   "source": [
    "# Representación de los documentos a secuencias de índices\n",
    "print('Cada texto (secuencia de palabras) se puede entonces representar como una secuencia de los índices correspondientes')\n",
    "sequences = tokenizer.texts_to_sequences(samples)\n",
    "sequences"
   ]
  },
  {
   "cell_type": "markdown",
   "metadata": {},
   "source": [
    "Una variante del **one hot encoding** es el **hashing trick**, que se utiliza cuando el vocabulario es muy grande para asignar una posición a cada token dentro de un diccionario. \n",
    "\n",
    "En este caso se utiliza una función de hashing para crear un vector hash para cada token. \n",
    "\n",
    "El único posible problema sería la colisión de varios tokens con una misma representación de hashing; para limitar esta posibilidad, se utiliza un espacio de hashing mucho mayor que el número de tokens total."
   ]
  },
  {
   "cell_type": "code",
   "execution_count": 8,
   "metadata": {},
   "outputs": [],
   "source": [
    "import numpy as np\n",
    "samples = ['The cat sat on the mat.', 'The dog ate my homework.']\n",
    "\n",
    "# Vamos a guardar las palabras como vectores de 20 posiciones.\n",
    "# Si se tiene cerca de 20 palabras se tendrán muchas colisiones de hash, \n",
    "# y se reducirá la exactitud de este método de codificación.\n",
    "dimensionality = 20\n",
    "max_length = 10\n",
    "\n",
    "results = np.zeros((len(samples), max_length, dimensionality))\n",
    "for i, sample in enumerate(samples):\n",
    "    for j, word in list(enumerate(sample.split()))[:max_length]:\n",
    "        # Con un hash, se transforma la palabra en un índice entero \"aleatorio\" entre 0 y 1000\n",
    "        index = abs(hash(word)) % dimensionality\n",
    "        results[i, j, index] = 1."
   ]
  },
  {
   "cell_type": "code",
   "execution_count": 9,
   "metadata": {},
   "outputs": [
    {
     "data": {
      "text/plain": [
       "array([0., 1., 0., 0., 0., 0., 0., 0., 0., 0., 0., 0., 0., 0., 0., 0., 0.,\n",
       "       0., 0., 0.])"
      ]
     },
     "execution_count": 9,
     "metadata": {},
     "output_type": "execute_result"
    }
   ],
   "source": [
    "# Veamos el segundo token de la primera palabra\n",
    "results[0][1]"
   ]
  },
  {
   "cell_type": "markdown",
   "metadata": {},
   "source": [
    "## Embeddings"
   ]
  },
  {
   "cell_type": "markdown",
   "metadata": {},
   "source": [
    "Las dos maneras de usar los word embeddings son:\n",
    "* **Aprendizaje**: Se aprende el espacio de representación al mismo tiempo que la tarea principal (predicción de sentimiento, clasificación de documento). En este caso, se parte de un vector de representación aleatorio, que es actualizado a medida que que se actualizan los pesos de la red neuronal durante el aprendizaje.\n",
    "* **Transfer learning**: Se descarga una representación precomputada por un tercero. Se trata de word embeddings pre entrenados, usando algún otro proceso de machine learning, diferente al que se está tratando de resolver, aunque relacionado.\n"
   ]
  },
  {
   "cell_type": "markdown",
   "metadata": {},
   "source": [
    "## Aprendizaje de word embeddings "
   ]
  },
  {
   "cell_type": "markdown",
   "metadata": {},
   "source": [
    "La manera mas sencilla de representar una palabra a partir de un vector es asignándole coordenadas aleatorias, pero el espacio resultante estaría desprovisto de cualquier idea de estuctura.\n",
    "Se desea que las relaciones geométricas vectoriales entre embeddings de palabras representen sus relaciones semánticas.\n",
    "\n",
    "En un buen embedding, se esperaría que sinónimos se encuentren cerca y en general que la distancia geométrica entre palabras esté relacionada con la distancia semántica. Además, las direcciones en el espacio tambien tienen un significado, las relaciones semánticas se codifican como transformaciones geométricas vectoriales (e.g. género, plural, tamaño).\n",
    "\n",
    "No hay un embedding arquetípico perfecto del lenguaje humano; los embeddings dependen de la lengua y de la tarea para la cual se quiere utilizar. Un buen embedding para el analísis de sentimiento de reviews de películas no lo sería tanto para el análisis de documentos legales."
   ]
  },
  {
   "cell_type": "markdown",
   "metadata": {},
   "source": [
    "Es entonces razonable aprender un embedding para la tarea en cuestión. Keras lo permite a través del back propagation sobre capas *Embedding*.\n",
    "Lo primero que se debe hacer es definir la capa Embedding, estableciendo el número de tokens máximo a considerar (e.g. máximo de palabras a considerar), y el número de dimensiones de los vectores de embedding."
   ]
  },
  {
   "cell_type": "code",
   "execution_count": 10,
   "metadata": {},
   "outputs": [],
   "source": [
    "from keras.layers import Embedding\n",
    "\n",
    "# Número de palabras posibles (1000), dimensiones de los embeddings (64)\n",
    "embedding_layer = Embedding(1000, 64)"
   ]
  },
  {
   "cell_type": "markdown",
   "metadata": {},
   "source": [
    "La capa *Embedding* es un diccionario que mapea índices enteros de las palabras a los vectores correspondientes en el espacio de embedding, y recibe un dataset con muestras de texto codificadas en secuencias de los enteros correspondientes, de un largo determinado.\n",
    "Todas las secuencias deben tener el mismo largo, por lo que secuencias más cortas van a ser completadas con ceros, y secuencias más largas deben ser cortadas.\n",
    "\n",
    "Así, una capa embedding recibe un tensor 2D (samples, sequence_length) y producen un tensor 3D de salida (samples, sequence_length, embedding_dimensionality) con el array con la representación en el espacio de embedding."
   ]
  },
  {
   "cell_type": "markdown",
   "metadata": {},
   "source": [
    "### Embeddings de sentimientos de reviews de IMDB"
   ]
  },
  {
   "cell_type": "markdown",
   "metadata": {},
   "source": [
    "Vamos a aprender un embedding a partir del dataset de reviews de IMDB.\n",
    "Para simplificar la tarea, solo vamos a considerar las 10000 palabras mas frecuentes, y vamos a considerar solo las primeras 20 palabras de cada review para aprender embeddings en un espacio de 8 dimensiones.\n",
    "El tensor de salida de los embeddings lo vamos a aplanar a un tensor 2D y lo vamos a alimentar a capas MLP densas para clasificar el sentimiento de las reviews correspondientes.\n"
   ]
  },
  {
   "cell_type": "code",
   "execution_count": 11,
   "metadata": {},
   "outputs": [],
   "source": [
    "from keras.datasets import imdb\n",
    "from keras import preprocessing\n",
    "\n",
    "# Número de palabras a considerar\n",
    "max_features = 10000\n",
    "# Largo de la secuencia de representación de los reviews\n",
    "#(solo se consideran las primeras 10000 palabras más frecuentes)\n",
    "maxlen = 20\n",
    "\n",
    "# Carga los datos como listas de enteros (los baja desde AWS)\n",
    "(x_train, y_train), (x_test, y_test) = imdb.load_data(num_words=max_features)"
   ]
  },
  {
   "cell_type": "code",
   "execution_count": 12,
   "metadata": {},
   "outputs": [
    {
     "name": "stdout",
     "output_type": "stream",
     "text": [
      "Reviews. train:  (25000,) , test:  (25000,)\n",
      "Labels. train:  (25000,) , test:  (25000,)\n"
     ]
    }
   ],
   "source": [
    "print(\"Reviews. train: \", x_train.shape, \", test: \", x_test.shape)\n",
    "print(\"Labels. train: \", y_train.shape, \", test: \", y_test.shape)"
   ]
  },
  {
   "cell_type": "markdown",
   "metadata": {},
   "source": [
    "Se tienen 25000 documentos (reviews), con tamaños diferentes"
   ]
  },
  {
   "cell_type": "code",
   "execution_count": 13,
   "metadata": {},
   "outputs": [
    {
     "name": "stdout",
     "output_type": "stream",
     "text": [
      "Primera review:  218\n",
      "Sentimiento:  1\n"
     ]
    }
   ],
   "source": [
    "print(\"Primera review: \", len(x_train[0]))\n",
    "print(\"Sentimiento: \", y_train[0])"
   ]
  },
  {
   "cell_type": "markdown",
   "metadata": {},
   "source": [
    "La primera review tiene 218 palabras, y corresponde al sentimiento 1 (de posibles 0 y 1)"
   ]
  },
  {
   "cell_type": "code",
   "execution_count": 14,
   "metadata": {},
   "outputs": [
    {
     "name": "stdout",
     "output_type": "stream",
     "text": [
      "los primeros 20 índices de los tokens de la primera review son: [1, 14, 22, 16, 43, 530, 973, 1622, 1385, 65, 458, 4468, 66, 3941, 4, 173, 36, 256, 5, 25]\n",
      "los últimos 20 índices de los tokens de la primera review son: [65, 16, 38, 1334, 88, 12, 16, 283, 5, 16, 4472, 113, 103, 32, 15, 16, 5345, 19, 178, 32]\n"
     ]
    }
   ],
   "source": [
    "# La review ya está codificada con los índices de los tokens. \n",
    "print('los primeros 20 índices de los tokens de la primera review son:', x_train[0][0:20])\n",
    "print('los últimos 20 índices de los tokens de la primera review son:', x_train[0][198:218])"
   ]
  },
  {
   "cell_type": "markdown",
   "metadata": {},
   "source": [
    "Vamos ahora truncar las secuencias para que queden todas con solo 20 términos, rellenando si se requiere.\n",
    "Estas dos acciones, truncada y relleno, se pueden realizar al comienzo o al final de la secuencia."
   ]
  },
  {
   "cell_type": "code",
   "execution_count": 15,
   "metadata": {},
   "outputs": [],
   "source": [
    "# Convierte la lista de enteros a un tensor 2D con forma `(samples, maxlen)`\n",
    "# conservando solo maxlen palabras, estas pueden escogerse ya sea al comienzo o al final de la secuencia\n",
    "# El padding y el truncating se puede definir al principio o al final de la secuencia.\n",
    "# Por defecto se realiza al comienzo (pre), por lo que solo quedan las últimas palabras.\n",
    "x_train_pre = preprocessing.sequence.pad_sequences(x_train, maxlen=maxlen)\n",
    "x_train_post = preprocessing.sequence.pad_sequences(x_train, maxlen=maxlen,\n",
    "                                              padding='post', truncating='post')"
   ]
  },
  {
   "cell_type": "markdown",
   "metadata": {},
   "source": [
    "Preferimos quedarnos con las últimas 20 palábras, que pueden llegar a ser más dicientes en las críticas, nos quedamos entonces con x_train_pre\n",
    "\n",
    "Veamos como queda la primera review:"
   ]
  },
  {
   "cell_type": "code",
   "execution_count": 16,
   "metadata": {},
   "outputs": [
    {
     "data": {
      "text/plain": [
       "array([  65,   16,   38, 1334,   88,   12,   16,  283,    5,   16, 4472,\n",
       "        113,  103,   32,   15,   16, 5345,   19,  178,   32])"
      ]
     },
     "execution_count": 16,
     "metadata": {},
     "output_type": "execute_result"
    }
   ],
   "source": [
    "x_train_pre[0]"
   ]
  },
  {
   "cell_type": "markdown",
   "metadata": {},
   "source": [
    "Estos eran entonces los últimos 20 términos de la crítica."
   ]
  },
  {
   "cell_type": "markdown",
   "metadata": {},
   "source": [
    "Tenemos entonces que los datasets de entrenamiento y de evaluación del modelo son conjuntos de secuencias de 20 términos cada una, y que la variable dependiente que se quiere predecir es el sentimiento de la crítica (labels 0 o 1)."
   ]
  },
  {
   "cell_type": "code",
   "execution_count": 17,
   "metadata": {},
   "outputs": [
    {
     "name": "stdout",
     "output_type": "stream",
     "text": [
      "Reviews. train:  (25000, 20) , test:  (25000, 20)\n",
      "Labels. train:  (25000,) , test:  (25000,)\n"
     ]
    }
   ],
   "source": [
    "x_train= x_train_pre\n",
    "x_test = preprocessing.sequence.pad_sequences(x_test, maxlen=maxlen)\n",
    "print(\"Reviews. train: \", x_train.shape, \", test: \", x_test.shape)\n",
    "print(\"Labels. train: \", y_train.shape, \", test: \", y_test.shape)"
   ]
  },
  {
   "cell_type": "markdown",
   "metadata": {},
   "source": [
    "Vamos ahora a crear la capa de *Embedding*, a aplanarla, y a conectarla con una capa densa de clasificación con una sola neurona de salida."
   ]
  },
  {
   "cell_type": "code",
   "execution_count": 18,
   "metadata": {},
   "outputs": [],
   "source": [
    "from keras.models import Sequential\n",
    "from keras.layers import Flatten, Dense"
   ]
  },
  {
   "cell_type": "code",
   "execution_count": 19,
   "metadata": {},
   "outputs": [
    {
     "name": "stdout",
     "output_type": "stream",
     "text": [
      "_________________________________________________________________\n",
      "Layer (type)                 Output Shape              Param #   \n",
      "=================================================================\n",
      "embedding_2 (Embedding)      (None, 20, 8)             80000     \n",
      "_________________________________________________________________\n",
      "flatten_1 (Flatten)          (None, 160)               0         \n",
      "_________________________________________________________________\n",
      "dense_1 (Dense)              (None, 1)                 161       \n",
      "=================================================================\n",
      "Total params: 80,161\n",
      "Trainable params: 80,161\n",
      "Non-trainable params: 0\n",
      "_________________________________________________________________\n"
     ]
    }
   ],
   "source": [
    "model = Sequential()\n",
    "# Especificamos el número de palabras a considerar (10000), el número de dimensiones \n",
    "# de los embeddings (8) y el largo máximo de la entrada (20), para luego aplanar los datos\n",
    "model.add(Embedding(10000, 8, input_length=maxlen))\n",
    "# Después de la capa de Embedding, la forma de los tensores es `(samples, maxlen, 8)`.\n",
    "model.add(Flatten())\n",
    "# Cuando los aplanamos, quedan como tensores 2D con forma `(samples, maxlen*8)`\n",
    "\n",
    "# Agregamos el clasificador denso\n",
    "model.add(Dense(1, activation='sigmoid'))\n",
    "model.compile(optimizer='rmsprop', loss='binary_crossentropy', metrics=['acc'])\n",
    "model.summary()"
   ]
  },
  {
   "cell_type": "markdown",
   "metadata": {},
   "source": [
    "Vamos ahora a entrenar el modelo, y con ello la capa del Embedding."
   ]
  },
  {
   "cell_type": "code",
   "execution_count": 23,
   "metadata": {},
   "outputs": [
    {
     "name": "stdout",
     "output_type": "stream",
     "text": [
      "Train on 20000 samples, validate on 5000 samples\n",
      "Epoch 1/10\n",
      "20000/20000 [==============================] - 1s 30us/step - loss: 0.1456 - acc: 0.9484 - val_loss: 0.6866 - val_acc: 0.7238\n",
      "Epoch 2/10\n",
      "20000/20000 [==============================] - 1s 29us/step - loss: 0.1379 - acc: 0.9526 - val_loss: 0.7061 - val_acc: 0.7172\n",
      "Epoch 3/10\n",
      "20000/20000 [==============================] - 1s 31us/step - loss: 0.1303 - acc: 0.9552 - val_loss: 0.7229 - val_acc: 0.7176\n",
      "Epoch 4/10\n",
      "20000/20000 [==============================] - 1s 29us/step - loss: 0.1235 - acc: 0.9585 - val_loss: 0.7405 - val_acc: 0.7166\n",
      "Epoch 5/10\n",
      "20000/20000 [==============================] - 1s 30us/step - loss: 0.1174 - acc: 0.9607 - val_loss: 0.7591 - val_acc: 0.7138\n",
      "Epoch 6/10\n",
      "20000/20000 [==============================] - 1s 30us/step - loss: 0.1113 - acc: 0.9629 - val_loss: 0.7775 - val_acc: 0.7148\n",
      "Epoch 7/10\n",
      "20000/20000 [==============================] - 1s 29us/step - loss: 0.1058 - acc: 0.9648 - val_loss: 0.7955 - val_acc: 0.7138\n",
      "Epoch 8/10\n",
      "20000/20000 [==============================] - 1s 33us/step - loss: 0.1009 - acc: 0.9670 - val_loss: 0.8159 - val_acc: 0.7118\n",
      "Epoch 9/10\n",
      "20000/20000 [==============================] - 1s 37us/step - loss: 0.0964 - acc: 0.9684 - val_loss: 0.8339 - val_acc: 0.7112\n",
      "Epoch 10/10\n",
      "20000/20000 [==============================] - 1s 34us/step - loss: 0.0918 - acc: 0.9707 - val_loss: 0.8525 - val_acc: 0.7100\n",
      "Tiempo de entrenamiento: 0.10 minutos\n"
     ]
    }
   ],
   "source": [
    "t_start = time.time()\n",
    "history = model.fit(x_train, y_train,\n",
    "                    epochs=10,\n",
    "                    batch_size=32,\n",
    "                    validation_split=0.2)\n",
    "t_end = time.time()\n",
    "print(\"Tiempo de entrenamiento: %2.2f minutos\" % ((t_end - t_start)/60) )"
   ]
  },
  {
   "cell_type": "markdown",
   "metadata": {},
   "source": [
    "Obtenemos un accuracy de validación de 75%, bastante aceptable considerando que solo estamos teniendo en cuenta las últimas 20 palabras de cada review, y que consideramos las secuencias como sacos de palabras (*bag of words*) sin tener en cuenta su orden ni estructura de frase.\n",
    "\n",
    "Sería mucho más útil agregar capas recurrentes o capas convolucionales 1D despues de la capa de embedding para aprender características que consideran la secuencia en su totalidad."
   ]
  },
  {
   "cell_type": "markdown",
   "metadata": {},
   "source": [
    "# Parte 2. Utilización de word embeddings pre entrenados"
   ]
  },
  {
   "cell_type": "markdown",
   "metadata": {},
   "source": [
    "A veces no se cuenta con un set de entrenamiento lo suficientemente grande (e.g. corpus de textos) que permita aprender el embedding del vocabulario adecuado para la tarea en cuestión. En esos casos, en vez de aprender el embedding, se puede reutilizar otro embedding pre entrenado para otra tarea que haya logrado capturar aspectos genéricos del lenguaje; se trata de un tipo de **transfer learning**.\n",
    "\n",
    "Estos embeddings no necesariamente se obtuvieron a partir de otros modelos de DL; pueden haber sido utilizados modelos basados en estadísticas de palabras (e.g. Word2Vec, GloVe).\n",
    "Vamos a utilizar los embeddings de **GloVe** en el siguiente ejemplo."
   ]
  },
  {
   "cell_type": "markdown",
   "metadata": {},
   "source": [
    "### De texto plano a word embeddings"
   ]
  },
  {
   "cell_type": "markdown",
   "metadata": {},
   "source": [
    "Vamos a rehacer el ejemplo de IMDB, pero esta vez empezando desde las reviews textuales, y considerando los embeddings de GloVe, que descargamos de http://mng.bz/0tIo http://ai.stanford.edu/~amaas/data/sentiment/ y de https://nlp.stanford.edu/projects/glove/"
   ]
  },
  {
   "cell_type": "code",
   "execution_count": 24,
   "metadata": {},
   "outputs": [
    {
     "name": "stdout",
     "output_type": "stream",
     "text": [
      "Tiempo de carga de mensajes en memoria: 2.13 minutos\n"
     ]
    }
   ],
   "source": [
    "import os\n",
    "\n",
    "t_start = time.time()\n",
    "\n",
    "imdb_dir = 'D:/Usuarios/94501228/OneDrive - ICESI/Cursos_Propios/DL with Python/aclImdb'\n",
    "#imdb_dir = '/home/icesi/Escritorio/Javier/Data/aclImdb'\n",
    "train_dir = os.path.join(imdb_dir, 'train')\n",
    "\n",
    "labels = []\n",
    "texts = []\n",
    "\n",
    "# Recorremos dos subdirectorios, neg con los reviews negativos, pos con los reviews positivos\n",
    "for label_type in ['neg', 'pos']:\n",
    "    dir_name = os.path.join(train_dir, label_type)\n",
    "    for fname in os.listdir(dir_name):\n",
    "        # Si el archivo termina con .txt se lee y se carga en la lista texts\n",
    "        if fname[-4:] == '.txt':\n",
    "            f = open(os.path.join(dir_name, fname), encoding=\"utf8\")\n",
    "            texts.append(f.read())\n",
    "            f.close()\n",
    "            if label_type == 'neg':\n",
    "                labels.append(0)\n",
    "            else:\n",
    "                labels.append(1)\n",
    "                \n",
    "t_end = time.time()\n",
    "print(\"Tiempo de carga de mensajes en memoria: %2.2f minutos\" % ((t_end - t_start)/60) )"
   ]
  },
  {
   "cell_type": "markdown",
   "metadata": {},
   "source": [
    "En labels quedan las etiquetas de sentimiento y en texts quedan los contenidos textuales de los 25000 reviews. Por ejemplo, veamos la primera review:"
   ]
  },
  {
   "cell_type": "code",
   "execution_count": 25,
   "metadata": {},
   "outputs": [
    {
     "name": "stdout",
     "output_type": "stream",
     "text": [
      "Label:  0 , Texto: \" Airport '77 starts as a brand new luxury 747 plane is loaded up with valuable paintings & such belonging to rich businessman Philip Stevens (James Stewart) who is flying them & a bunch of VIP's to his estate in preparation of it being opened to the public as a museum, also on board is Stevens daughter Julie (Kathleen Quinlan) & her son. The luxury jetliner takes off as planned but mid-air the plane is hi-jacked by the co-pilot Chambers (Robert Foxworth) & his two accomplice's Banker (Monte Markham) & Wilson (Michael Pataki) who knock the passengers & crew out with sleeping gas, they plan to steal the valuable cargo & land on a disused plane strip on an isolated island but while making his descent Chambers almost hits an oil rig in the Ocean & loses control of the plane sending it crashing into the sea where it sinks to the bottom right bang in the middle of the Bermuda Triangle. With air in short supply, water leaking in & having flown over 200 miles off course the problems mount for the survivor's as they await help with time fast running out...<br /><br />Also known under the slightly different tile Airport 1977 this second sequel to the smash-hit disaster thriller Airport (1970) was directed by Jerry Jameson & while once again like it's predecessors I can't say Airport '77 is any sort of forgotten classic it is entertaining although not necessarily for the right reasons. Out of the three Airport films I have seen so far I actually liked this one the best, just. It has my favourite plot of the three with a nice mid-air hi-jacking & then the crashing (didn't he see the oil rig?) & sinking of the 747 (maybe the makers were trying to cross the original Airport with another popular disaster flick of the period The Poseidon Adventure (1972)) & submerged is where it stays until the end with a stark dilemma facing those trapped inside, either suffocate when the air runs out or drown as the 747 floods or if any of the doors are opened & it's a decent idea that could have made for a great little disaster flick but bad unsympathetic character's, dull dialogue, lethargic set-pieces & a real lack of danger or suspense or tension means this is a missed opportunity. While the rather sluggish plot keeps one entertained for 108 odd minutes not that much happens after the plane sinks & there's not as much urgency as I thought there should have been. Even when the Navy become involved things don't pick up that much with a few shots of huge ships & helicopters flying about but there's just something lacking here. George Kennedy as the jinxed airline worker Joe Patroni is back but only gets a couple of scenes & barely even says anything preferring to just look worried in the background.<br /><br />The home video & theatrical version of Airport '77 run 108 minutes while the US TV versions add an extra hour of footage including a new opening credits sequence, many more scenes with George Kennedy as Patroni, flashbacks to flesh out character's, longer rescue scenes & the discovery or another couple of dead bodies including the navigator. While I would like to see this extra footage I am not sure I could sit through a near three hour cut of Airport '77. As expected the film has dated badly with horrible fashions & interior design choices, I will say no more other than the toy plane model effects aren't great either. Along with the other two Airport sequels this takes pride of place in the Razzie Award's Hall of Shame although I can think of lots of worse films than this so I reckon that's a little harsh. The action scenes are a little dull unfortunately, the pace is slow & not much excitement or tension is generated which is a shame as I reckon this could have been a pretty good film if made properly.<br /><br />The production values are alright if nothing spectacular. The acting isn't great, two time Oscar winner Jack Lemmon has said since it was a mistake to star in this, one time Oscar winner James Stewart looks old & frail, also one time Oscar winner Lee Grant looks drunk while Sir Christopher Lee is given little to do & there are plenty of other familiar faces to look out for too.<br /><br />Airport '77 is the most disaster orientated of the three Airport films so far & I liked the ideas behind it even if they were a bit silly, the production & bland direction doesn't help though & a film about a sunken plane just shouldn't be this boring or lethargic. Followed by The Concorde ... Airport '79 (1979). \"\n"
     ]
    }
   ],
   "source": [
    "print(\"Label: \", labels[1], \", Texto: \\\"\", texts[1], \"\\\"\")"
   ]
  },
  {
   "cell_type": "markdown",
   "metadata": {},
   "source": [
    "Ya con los reviews en memoria, se procede a su tokenización, dividiéndolos en training y test sets."
   ]
  },
  {
   "cell_type": "markdown",
   "metadata": {},
   "source": [
    "Como lo dijimos antes, los embeddings se aprenden específicamente con respecto a una tarea, y sólo vale la pena usarlos en transfer learning cuando no se tiene suficientes datos para aprender unos embeddings de calidad para la nueva tarea a aprender.\n",
    "\n",
    "Así tengamos 25000 reviews, vamos a suponer que solo tenemos 200 reviews, que no serían suficientes para aprender un embedding, y a considerar 10000 reviews para validation."
   ]
  },
  {
   "cell_type": "code",
   "execution_count": 28,
   "metadata": {},
   "outputs": [
    {
     "name": "stdout",
     "output_type": "stream",
     "text": [
      "Tiempo de tokenización: 0.12 minutos\n"
     ]
    }
   ],
   "source": [
    "from keras.preprocessing.text import Tokenizer\n",
    "from keras.preprocessing.sequence import pad_sequences\n",
    "import numpy as np\n",
    "\n",
    "maxlen = 100  # Solo vamos a considerar solo 100 palabras de cada review\n",
    "training_samples = 200  # Entrenaremos en solo 200 mensajes\n",
    "validation_samples = 10000  # Validaremos en 10000 mensajes\n",
    "max_words = 10000  # Solo consideraremos las 10000 palabras mas frecuentes\n",
    "\n",
    "t_start = time.time()\n",
    "\n",
    "tokenizer = Tokenizer(num_words=max_words)\n",
    "tokenizer.fit_on_texts(texts)\n",
    "sequences = tokenizer.texts_to_sequences(texts)\n",
    "\n",
    "t_end = time.time()\n",
    "print(\"Tiempo de tokenización: %2.2f minutos\" % ((t_end - t_start)/60) )"
   ]
  },
  {
   "cell_type": "code",
   "execution_count": 29,
   "metadata": {},
   "outputs": [
    {
     "name": "stdout",
     "output_type": "stream",
     "text": [
      "Número de reviews 25000\n",
      "El segundo review tiene 724 palabras\n"
     ]
    }
   ],
   "source": [
    "print(\"Número de reviews\", len(sequences))\n",
    "print(\"El segundo review tiene\", len(sequences[1]), \"palabras\")"
   ]
  },
  {
   "cell_type": "code",
   "execution_count": 30,
   "metadata": {},
   "outputs": [
    {
     "name": "stdout",
     "output_type": "stream",
     "text": [
      "Se encontraron 88582 tokens únicos.\n"
     ]
    }
   ],
   "source": [
    "word_index = tokenizer.word_index\n",
    "print('Se encontraron %s tokens únicos.' % len(word_index))"
   ]
  },
  {
   "cell_type": "markdown",
   "metadata": {},
   "source": [
    "Se truncan y paddean las secuencias:"
   ]
  },
  {
   "cell_type": "code",
   "execution_count": 31,
   "metadata": {},
   "outputs": [
    {
     "data": {
      "text/plain": [
       "(25000, 100)"
      ]
     },
     "execution_count": 31,
     "metadata": {},
     "output_type": "execute_result"
    }
   ],
   "source": [
    "data = pad_sequences(sequences, maxlen=maxlen)\n",
    "data.shape"
   ]
  },
  {
   "cell_type": "markdown",
   "metadata": {},
   "source": [
    "Ya cortamos los reviews para que sean secuencias de solo 100 palabras."
   ]
  },
  {
   "cell_type": "code",
   "execution_count": 32,
   "metadata": {},
   "outputs": [
    {
     "name": "stdout",
     "output_type": "stream",
     "text": [
      "tensor de los datos: (25000, 100)\n",
      "tensor de los labels: (25000,)\n"
     ]
    }
   ],
   "source": [
    "labels = np.asarray(labels)\n",
    "print('tensor de los datos:', data.shape)\n",
    "print('tensor de los labels:', labels.shape)"
   ]
  },
  {
   "cell_type": "code",
   "execution_count": 33,
   "metadata": {},
   "outputs": [],
   "source": [
    "# Particionamiento del dataset en training y test set, después de reorganizar los reviews aleatoriamente.\n",
    "# Esto es necesario pues los reviews están ordenados, quedando primero los negativos y luego los positivos.\n",
    "indices = np.arange(data.shape[0])\n",
    "np.random.shuffle(indices)\n",
    "data = data[indices]\n",
    "labels = labels[indices]\n",
    "\n",
    "x_train = data[:training_samples]\n",
    "y_train = labels[:training_samples]\n",
    "x_val = data[training_samples: training_samples + validation_samples]\n",
    "y_val = labels[training_samples: training_samples + validation_samples]"
   ]
  },
  {
   "cell_type": "code",
   "execution_count": 34,
   "metadata": {},
   "outputs": [
    {
     "name": "stdout",
     "output_type": "stream",
     "text": [
      "Shape deL training set (200, 100)\n",
      "Shape del test set (10000, 100)\n"
     ]
    }
   ],
   "source": [
    "print(\"Shape deL training set\", x_train.shape)\n",
    "print(\"Shape del test set\", x_val.shape)\n"
   ]
  },
  {
   "cell_type": "markdown",
   "metadata": {},
   "source": [
    "Tenemos al final un training set con 200 reviews, de 100 palabras cada uno.\n",
    "Además, un test set con 10000 reviews, también de 100 palabras cada uno."
   ]
  },
  {
   "cell_type": "markdown",
   "metadata": {},
   "source": [
    "#### Se preprocesan los embeddings pre entrenados de GloVe\n",
    "Vamos ahora a cargar en memoria el dataset GloVe 6B, que contiene un embedding de 100 dimensiones de 400,000 palabras, que se descargó desde https://nlp.stanford.edu/projects/glove/ (pesa 822 MB)"
   ]
  },
  {
   "cell_type": "code",
   "execution_count": 36,
   "metadata": {},
   "outputs": [
    {
     "name": "stdout",
     "output_type": "stream",
     "text": [
      "Found 400000 word vectors.\n",
      "Tiempo de carga de los embeddings de cada palabra de GloVe: 0.20 minutos\n"
     ]
    }
   ],
   "source": [
    "glove_dir = 'D:/Usuarios/94501228/OneDrive - ICESI/Cursos_Propios/DL with Python/glove6B'\n",
    "#glove_dir = '/home/icesi/Escritorio/Javier/Data/glove6B'\n",
    "\n",
    "t_start = time.time()\n",
    "\n",
    "embeddings_index = {}\n",
    "f = open(os.path.join(glove_dir, 'glove.6B.100d.txt'), encoding=\"utf8\")\n",
    "\n",
    "# Se lee el archivo línea por línea y se crea un diccionario con la palabra como key y \n",
    "# un array con los 100 valores del embedding como valor\n",
    "for line in f:\n",
    "    values = line.split()\n",
    "    word = values[0]\n",
    "    coefs = np.asarray(values[1:], dtype='float32')\n",
    "    embeddings_index[word] = coefs\n",
    "f.close()\n",
    "\n",
    "print('Found %s word vectors.' % len(embeddings_index))\n",
    "\n",
    "t_end = time.time()\n",
    "print(\"Tiempo de carga de los embeddings de cada palabra de GloVe: %2.2f minutos\" % ((t_end - t_start)/60) )"
   ]
  },
  {
   "cell_type": "code",
   "execution_count": 37,
   "metadata": {},
   "outputs": [
    {
     "data": {
      "text/plain": [
       "array([-0.038194, -0.24487 ,  0.72812 , -0.39961 ,  0.083172,  0.043953,\n",
       "       -0.39141 ,  0.3344  , -0.57545 ,  0.087459,  0.28787 , -0.06731 ,\n",
       "        0.30906 , -0.26384 , -0.13231 , -0.20757 ,  0.33395 , -0.33848 ,\n",
       "       -0.31743 , -0.48336 ,  0.1464  , -0.37304 ,  0.34577 ,  0.052041,\n",
       "        0.44946 , -0.46971 ,  0.02628 , -0.54155 , -0.15518 , -0.14107 ,\n",
       "       -0.039722,  0.28277 ,  0.14393 ,  0.23464 , -0.31021 ,  0.086173,\n",
       "        0.20397 ,  0.52624 ,  0.17164 , -0.082378, -0.71787 , -0.41531 ,\n",
       "        0.20335 , -0.12763 ,  0.41367 ,  0.55187 ,  0.57908 , -0.33477 ,\n",
       "       -0.36559 , -0.54857 , -0.062892,  0.26584 ,  0.30205 ,  0.99775 ,\n",
       "       -0.80481 , -3.0243  ,  0.01254 , -0.36942 ,  2.2167  ,  0.72201 ,\n",
       "       -0.24978 ,  0.92136 ,  0.034514,  0.46745 ,  1.1079  , -0.19358 ,\n",
       "       -0.074575,  0.23353 , -0.052062, -0.22044 ,  0.057162, -0.15806 ,\n",
       "       -0.30798 , -0.41625 ,  0.37972 ,  0.15006 , -0.53212 , -0.2055  ,\n",
       "       -1.2526  ,  0.071624,  0.70565 ,  0.49744 , -0.42063 ,  0.26148 ,\n",
       "       -1.538   , -0.30223 , -0.073438, -0.28312 ,  0.37104 , -0.25217 ,\n",
       "        0.016215, -0.017099, -0.38984 ,  0.87424 , -0.72569 , -0.51058 ,\n",
       "       -0.52028 , -0.1459  ,  0.8278  ,  0.27062 ], dtype=float32)"
      ]
     },
     "execution_count": 37,
     "metadata": {},
     "output_type": "execute_result"
    }
   ],
   "source": [
    "embeddings_index.get(\"the\")"
   ]
  },
  {
   "cell_type": "markdown",
   "metadata": {},
   "source": [
    "Ahora vamos a crear una matriz de embeddings que se cargará en una capa ``Embedding``, que será de la forma (max_words, \n",
    "embedding_dim), es decir de 10000 palabras x 100 dimensiones, dónde cada entrada contiene el vector de representación en el espacio 100-dimensional de la palabra correspondiente al índice dado en el word index, que se construyó durante la tokenización.\n",
    "Por convención, el índice 0 se deja vació como placeholder para cualquier palabra."
   ]
  },
  {
   "cell_type": "code",
   "execution_count": 39,
   "metadata": {},
   "outputs": [],
   "source": [
    "embedding_dim = 100\n",
    "# Se crea la matriz de los embeddings llena de ceros con las 10000 palabras mas frecuentes de los reviews.\n",
    "embedding_matrix = np.zeros((max_words, embedding_dim))\n",
    "# Se llena con los embeddings correspondientes que se sacan de los embeddings pre entrenados de GloVe.\n",
    "for word, i in word_index.items():\n",
    "    embedding_vector = embeddings_index.get(word)\n",
    "    if i < max_words:\n",
    "        if embedding_vector is not None:\n",
    "            # Si se encuentra la palabra en GloVe, se usa su vector 100-dimensional, sino, se deja todo en ceros.\n",
    "            embedding_matrix[i] = embedding_vector"
   ]
  },
  {
   "cell_type": "code",
   "execution_count": 40,
   "metadata": {},
   "outputs": [
    {
     "data": {
      "text/plain": [
       "array([-0.038194  , -0.24487001,  0.72812003, -0.39961001,  0.083172  ,\n",
       "        0.043953  , -0.39140999,  0.3344    , -0.57545   ,  0.087459  ,\n",
       "        0.28786999, -0.06731   ,  0.30906001, -0.26383999, -0.13231   ,\n",
       "       -0.20757   ,  0.33395001, -0.33848   , -0.31742999, -0.48335999,\n",
       "        0.1464    , -0.37303999,  0.34577   ,  0.052041  ,  0.44946   ,\n",
       "       -0.46970999,  0.02628   , -0.54154998, -0.15518001, -0.14106999,\n",
       "       -0.039722  ,  0.28277001,  0.14393   ,  0.23464   , -0.31020999,\n",
       "        0.086173  ,  0.20397   ,  0.52623999,  0.17163999, -0.082378  ,\n",
       "       -0.71787   , -0.41531   ,  0.20334999, -0.12763   ,  0.41367   ,\n",
       "        0.55186999,  0.57907999, -0.33476999, -0.36559001, -0.54856998,\n",
       "       -0.062892  ,  0.26583999,  0.30204999,  0.99774998, -0.80480999,\n",
       "       -3.0243001 ,  0.01254   , -0.36941999,  2.21670008,  0.72201002,\n",
       "       -0.24978   ,  0.92136002,  0.034514  ,  0.46744999,  1.10790002,\n",
       "       -0.19358   , -0.074575  ,  0.23353   , -0.052062  , -0.22044   ,\n",
       "        0.057162  , -0.15806   , -0.30798   , -0.41624999,  0.37972   ,\n",
       "        0.15006   , -0.53211999, -0.20550001, -1.25259995,  0.071624  ,\n",
       "        0.70564997,  0.49744001, -0.42063001,  0.26148   , -1.53799999,\n",
       "       -0.30223   , -0.073438  , -0.28312001,  0.37103999, -0.25217   ,\n",
       "        0.016215  , -0.017099  , -0.38984001,  0.87423998, -0.72569001,\n",
       "       -0.51058   , -0.52028   , -0.1459    ,  0.82779998,  0.27061999])"
      ]
     },
     "execution_count": 40,
     "metadata": {},
     "output_type": "execute_result"
    }
   ],
   "source": [
    "embedding_matrix[1]"
   ]
  },
  {
   "cell_type": "markdown",
   "metadata": {},
   "source": [
    "#### Se define el modelo neuronal\n",
    "\n",
    "Se utiliza la misma arquitectura anterior, pero esta vez se carga en la primera capa, la del ``Embedding``, la matriz de pesos correspondientes a los valores sacados de GloVe, ya transformados en una matriz (un tensor) 2D, donde cada entrada es una vector que representa una palabra dada.\n"
   ]
  },
  {
   "cell_type": "code",
   "execution_count": 41,
   "metadata": {},
   "outputs": [
    {
     "name": "stdout",
     "output_type": "stream",
     "text": [
      "_________________________________________________________________\n",
      "Layer (type)                 Output Shape              Param #   \n",
      "=================================================================\n",
      "embedding_3 (Embedding)      (None, 100, 100)          1000000   \n",
      "_________________________________________________________________\n",
      "flatten_2 (Flatten)          (None, 10000)             0         \n",
      "_________________________________________________________________\n",
      "dense_2 (Dense)              (None, 32)                320032    \n",
      "_________________________________________________________________\n",
      "dense_3 (Dense)              (None, 1)                 33        \n",
      "=================================================================\n",
      "Total params: 1,320,065\n",
      "Trainable params: 1,320,065\n",
      "Non-trainable params: 0\n",
      "_________________________________________________________________\n"
     ]
    }
   ],
   "source": [
    "from keras.models import Sequential\n",
    "from keras.layers import Embedding, Flatten, Dense\n",
    "\n",
    "model = Sequential()\n",
    "model.add(Embedding(max_words, embedding_dim, input_length=maxlen))\n",
    "# Inicialmente tenemos reviews representados en un tensor de rango 2D con las 100 palabras, cada una con 100 dimensiones\n",
    "model.add(Flatten())\n",
    "# Despues de aplanarlos reviews, cada uno queda con una representacion de un tensor 1D de 100x100=10000 \n",
    "model.add(Dense(32, activation='relu'))\n",
    "model.add(Dense(1, activation='sigmoid'))\n",
    "model.summary()"
   ]
  },
  {
   "cell_type": "markdown",
   "metadata": {},
   "source": [
    "Se establece que los parámetros del embedding no se van a cambiar durante el entrenamiento, pues los gradientes producidos al entrenar las capas siguientes, incializadas aleatoriamente, serían muy grandes y dañarían las representaciones de los embeddings."
   ]
  },
  {
   "cell_type": "code",
   "execution_count": 42,
   "metadata": {},
   "outputs": [],
   "source": [
    "model.layers[0].set_weights([embedding_matrix])\n",
    "model.layers[0].trainable = False"
   ]
  },
  {
   "cell_type": "markdown",
   "metadata": {},
   "source": [
    "Compilamos el modelo y entrenamos las capas MLP con 50 épocas.\n",
    "\n",
    "Al final, guardamos los pesos del modelo en un archivo H5"
   ]
  },
  {
   "cell_type": "code",
   "execution_count": 43,
   "metadata": {},
   "outputs": [
    {
     "name": "stdout",
     "output_type": "stream",
     "text": [
      "Train on 200 samples, validate on 10000 samples\n",
      "Epoch 1/50\n",
      "200/200 [==============================] - 1s 4ms/step - loss: 1.3738 - acc: 0.5600 - val_loss: 0.8096 - val_acc: 0.4914\n",
      "Epoch 2/50\n",
      "200/200 [==============================] - 1s 3ms/step - loss: 0.6942 - acc: 0.6400 - val_loss: 0.6845 - val_acc: 0.5512\n",
      "Epoch 3/50\n",
      "200/200 [==============================] - 1s 3ms/step - loss: 0.4749 - acc: 0.7550 - val_loss: 0.6870 - val_acc: 0.5588\n",
      "Epoch 4/50\n",
      "200/200 [==============================] - 1s 3ms/step - loss: 0.4076 - acc: 0.8150 - val_loss: 1.1229 - val_acc: 0.4918\n",
      "Epoch 5/50\n",
      "200/200 [==============================] - 1s 3ms/step - loss: 0.2949 - acc: 0.8800 - val_loss: 0.7700 - val_acc: 0.5419\n",
      "Epoch 6/50\n",
      "200/200 [==============================] - 1s 3ms/step - loss: 0.1979 - acc: 0.9400 - val_loss: 0.7356 - val_acc: 0.5507\n",
      "Epoch 7/50\n",
      "200/200 [==============================] - 1s 4ms/step - loss: 0.1067 - acc: 0.9850 - val_loss: 0.9458 - val_acc: 0.5089\n",
      "Epoch 8/50\n",
      "200/200 [==============================] - 1s 3ms/step - loss: 0.0925 - acc: 0.9800 - val_loss: 1.1155 - val_acc: 0.5052\n",
      "Epoch 9/50\n",
      "200/200 [==============================] - 1s 3ms/step - loss: 0.0394 - acc: 1.0000 - val_loss: 1.3233 - val_acc: 0.5013\n",
      "Epoch 10/50\n",
      "200/200 [==============================] - 1s 3ms/step - loss: 0.5355 - acc: 0.7850 - val_loss: 0.7660 - val_acc: 0.5699\n",
      "Epoch 11/50\n",
      "200/200 [==============================] - 1s 3ms/step - loss: 0.0241 - acc: 1.0000 - val_loss: 0.7964 - val_acc: 0.5685\n",
      "Epoch 12/50\n",
      "200/200 [==============================] - 1s 3ms/step - loss: 0.0185 - acc: 1.0000 - val_loss: 0.7742 - val_acc: 0.5738\n",
      "Epoch 13/50\n",
      "200/200 [==============================] - 1s 3ms/step - loss: 0.0143 - acc: 1.0000 - val_loss: 0.8029 - val_acc: 0.5705\n",
      "Epoch 14/50\n",
      "200/200 [==============================] - 1s 4ms/step - loss: 0.0113 - acc: 1.0000 - val_loss: 0.7689 - val_acc: 0.5786\n",
      "Epoch 15/50\n",
      "200/200 [==============================] - 1s 4ms/step - loss: 0.0090 - acc: 1.0000 - val_loss: 0.9429 - val_acc: 0.5481\n",
      "Epoch 16/50\n",
      "200/200 [==============================] - 1s 3ms/step - loss: 0.0068 - acc: 1.0000 - val_loss: 0.7847 - val_acc: 0.5799\n",
      "Epoch 17/50\n",
      "200/200 [==============================] - 1s 3ms/step - loss: 0.0053 - acc: 1.0000 - val_loss: 0.8672 - val_acc: 0.5694\n",
      "Epoch 18/50\n",
      "200/200 [==============================] - 1s 4ms/step - loss: 0.0035 - acc: 1.0000 - val_loss: 0.9388 - val_acc: 0.5691\n",
      "Epoch 19/50\n",
      "200/200 [==============================] - 1s 3ms/step - loss: 0.0030 - acc: 1.0000 - val_loss: 1.5175 - val_acc: 0.5181\n",
      "Epoch 20/50\n",
      "200/200 [==============================] - 1s 3ms/step - loss: 0.0018 - acc: 1.0000 - val_loss: 1.1756 - val_acc: 0.5528\n",
      "Epoch 21/50\n",
      "200/200 [==============================] - 1s 3ms/step - loss: 9.7002e-04 - acc: 1.0000 - val_loss: 0.9576 - val_acc: 0.5779\n",
      "Epoch 22/50\n",
      "200/200 [==============================] - 1s 3ms/step - loss: 5.9444e-04 - acc: 1.0000 - val_loss: 1.1318 - val_acc: 0.5607\n",
      "Epoch 23/50\n",
      "200/200 [==============================] - 1s 3ms/step - loss: 4.6160e-04 - acc: 1.0000 - val_loss: 1.3180 - val_acc: 0.5611\n",
      "Epoch 24/50\n",
      "200/200 [==============================] - 1s 3ms/step - loss: 0.4078 - acc: 0.9250 - val_loss: 1.0265 - val_acc: 0.5776\n",
      "Epoch 25/50\n",
      "200/200 [==============================] - 1s 3ms/step - loss: 5.0663e-04 - acc: 1.0000 - val_loss: 1.0418 - val_acc: 0.5753\n",
      "Epoch 26/50\n",
      "200/200 [==============================] - 1s 3ms/step - loss: 4.7091e-04 - acc: 1.0000 - val_loss: 1.0601 - val_acc: 0.5737\n",
      "Epoch 27/50\n",
      "200/200 [==============================] - 1s 3ms/step - loss: 4.3731e-04 - acc: 1.0000 - val_loss: 1.0814 - val_acc: 0.5726\n",
      "Epoch 28/50\n",
      "200/200 [==============================] - 1s 3ms/step - loss: 4.0732e-04 - acc: 1.0000 - val_loss: 1.1000 - val_acc: 0.5695\n",
      "Epoch 29/50\n",
      "200/200 [==============================] - 1s 3ms/step - loss: 3.7632e-04 - acc: 1.0000 - val_loss: 1.1201 - val_acc: 0.5690\n",
      "Epoch 30/50\n",
      "200/200 [==============================] - 1s 3ms/step - loss: 3.4027e-04 - acc: 1.0000 - val_loss: 1.1206 - val_acc: 0.5709\n",
      "Epoch 31/50\n",
      "200/200 [==============================] - 1s 3ms/step - loss: 3.0109e-04 - acc: 1.0000 - val_loss: 1.1640 - val_acc: 0.5666\n",
      "Epoch 32/50\n",
      "200/200 [==============================] - 1s 3ms/step - loss: 2.5715e-04 - acc: 1.0000 - val_loss: 1.1057 - val_acc: 0.5723\n",
      "Epoch 33/50\n",
      "200/200 [==============================] - 1s 4ms/step - loss: 2.2743e-04 - acc: 1.0000 - val_loss: 1.1444 - val_acc: 0.5698\n",
      "Epoch 34/50\n",
      "200/200 [==============================] - 1s 3ms/step - loss: 1.8864e-04 - acc: 1.0000 - val_loss: 1.2297 - val_acc: 0.5664\n",
      "Epoch 35/50\n",
      "200/200 [==============================] - 1s 3ms/step - loss: 1.6048e-04 - acc: 1.0000 - val_loss: 1.1590 - val_acc: 0.5699\n",
      "Epoch 36/50\n",
      "200/200 [==============================] - 1s 3ms/step - loss: 1.2986e-04 - acc: 1.0000 - val_loss: 1.2086 - val_acc: 0.5680\n",
      "Epoch 37/50\n",
      "200/200 [==============================] - 1s 3ms/step - loss: 1.0621e-04 - acc: 1.0000 - val_loss: 1.2382 - val_acc: 0.5688\n",
      "Epoch 38/50\n",
      "200/200 [==============================] - 1s 3ms/step - loss: 8.5147e-05 - acc: 1.0000 - val_loss: 1.2467 - val_acc: 0.5688\n",
      "Epoch 39/50\n",
      "200/200 [==============================] - 1s 4ms/step - loss: 6.7425e-05 - acc: 1.0000 - val_loss: 1.3159 - val_acc: 0.5641\n",
      "Epoch 40/50\n",
      "200/200 [==============================] - 1s 3ms/step - loss: 4.9442e-05 - acc: 1.0000 - val_loss: 1.1526 - val_acc: 0.5810\n",
      "Epoch 41/50\n",
      "200/200 [==============================] - 1s 4ms/step - loss: 3.7426e-05 - acc: 1.0000 - val_loss: 1.2725 - val_acc: 0.5681\n",
      "Epoch 42/50\n",
      "200/200 [==============================] - 1s 3ms/step - loss: 2.7793e-05 - acc: 1.0000 - val_loss: 1.2894 - val_acc: 0.5689\n",
      "Epoch 43/50\n",
      "200/200 [==============================] - 1s 3ms/step - loss: 1.9808e-05 - acc: 1.0000 - val_loss: 1.4190 - val_acc: 0.5644\n",
      "Epoch 44/50\n",
      "200/200 [==============================] - 1s 3ms/step - loss: 1.5372e-05 - acc: 1.0000 - val_loss: 1.7612 - val_acc: 0.5494\n",
      "Epoch 45/50\n",
      "200/200 [==============================] - 1s 3ms/step - loss: 1.4188e-05 - acc: 1.0000 - val_loss: 1.3694 - val_acc: 0.5694\n",
      "Epoch 46/50\n",
      "200/200 [==============================] - 1s 3ms/step - loss: 8.8647e-06 - acc: 1.0000 - val_loss: 1.3293 - val_acc: 0.5836\n",
      "Epoch 47/50\n",
      "200/200 [==============================] - 1s 3ms/step - loss: 0.0466 - acc: 0.9850 - val_loss: 2.0931 - val_acc: 0.5435\n",
      "Epoch 48/50\n",
      "200/200 [==============================] - 1s 3ms/step - loss: 2.2063e-05 - acc: 1.0000 - val_loss: 2.0831 - val_acc: 0.5446\n",
      "Epoch 49/50\n",
      "200/200 [==============================] - 1s 4ms/step - loss: 2.1234e-05 - acc: 1.0000 - val_loss: 2.0668 - val_acc: 0.5441\n",
      "Epoch 50/50\n",
      "200/200 [==============================] - 1s 3ms/step - loss: 1.9986e-05 - acc: 1.0000 - val_loss: 2.0463 - val_acc: 0.5451\n",
      "Tiempo de entrenamiento del clasificador con GloVe: 0.56 minutos\n"
     ]
    }
   ],
   "source": [
    "t_start = time.time()\n",
    "\n",
    "model.compile(optimizer='rmsprop',\n",
    "              loss='binary_crossentropy',\n",
    "              metrics=['acc'])\n",
    "history = model.fit(x_train, y_train,\n",
    "                    epochs=50,\n",
    "                    batch_size=32,\n",
    "                    validation_data=(x_val, y_val))\n",
    "model.save_weights('pre_trained_glove_model.h5')\n",
    "\n",
    "t_end = time.time()\n",
    "print(\"Tiempo de entrenamiento del clasificador con GloVe: %2.2f minutos\" % ((t_end - t_start)/60) )"
   ]
  },
  {
   "cell_type": "markdown",
   "metadata": {},
   "source": [
    "Analicemos cómo evolucionó el modelo durante el entrenamiento."
   ]
  },
  {
   "cell_type": "code",
   "execution_count": 44,
   "metadata": {},
   "outputs": [],
   "source": [
    "import matplotlib.pyplot as plt\n",
    "\n",
    "acc = history.history['acc']\n",
    "val_acc = history.history['val_acc']\n",
    "loss = history.history['loss']\n",
    "val_loss = history.history['val_loss']\n",
    "\n",
    "epochs = range(1, len(acc) + 1)"
   ]
  },
  {
   "cell_type": "code",
   "execution_count": 45,
   "metadata": {},
   "outputs": [
    {
     "data": {
      "image/png": "[encoded data removed]",
      "text/plain": [
       "<Figure size 432x288 with 1 Axes>"
      ]
     },
     "metadata": {
      "needs_background": "light"
     },
     "output_type": "display_data"
    }
   ],
   "source": [
    "plt.plot(epochs, acc, 'bo', label='Training acc')\n",
    "plt.plot(epochs, val_acc, 'b', label='Validation acc')\n",
    "plt.title('Training and validation accuracy')\n",
    "plt.legend()\n",
    "\n",
    "plt.show()"
   ]
  },
  {
   "cell_type": "code",
   "execution_count": 46,
   "metadata": {},
   "outputs": [
    {
     "data": {
      "image/png": "[encoded data removed]",
      "text/plain": [
       "<Figure size 432x288 with 1 Axes>"
      ]
     },
     "metadata": {
      "needs_background": "light"
     },
     "output_type": "display_data"
    }
   ],
   "source": [
    "plt.plot(epochs, loss, 'bo', label='Training loss')\n",
    "plt.plot(epochs, val_loss, 'b', label='Validation loss')\n",
    "plt.title('Training and validation loss')\n",
    "plt.legend()\n",
    "\n",
    "plt.show()"
   ]
  },
  {
   "cell_type": "markdown",
   "metadata": {},
   "source": [
    "Vemos que el modelo comienza a presentar **overfitting** rápidamente, lo que no es una sorpresa, dado el pequeño número de ejemplos de entrenamiento. El accuracy de validación tiene una varianza importante, por la misma razón, logrando alcanzar valores cercanos al 58%.\n",
    "\n",
    "El performance puede cambiar drásticamente, dependiendo altamente de los 200 mensajes específicos que se escogieron en el training set.\n",
    "\n",
    "También podemos intentar entrenar el mismo modelo sin utilizar los embeddings pre-entrenados y sin congelar la capa de ``Embedding``. En ese caso, estaríamos aprendiendo un embedding específico a la tarea de clasificación final, lo que en general es más poderoso que los embeddings pre-entrenados, cuando se tiene un training set grande (no uno con solo 200 ejemplos). Veamos:"
   ]
  },
  {
   "cell_type": "code",
   "execution_count": 48,
   "metadata": {},
   "outputs": [
    {
     "name": "stdout",
     "output_type": "stream",
     "text": [
      "_________________________________________________________________\n",
      "Layer (type)                 Output Shape              Param #   \n",
      "=================================================================\n",
      "embedding_5 (Embedding)      (None, 100, 100)          1000000   \n",
      "_________________________________________________________________\n",
      "flatten_4 (Flatten)          (None, 10000)             0         \n",
      "_________________________________________________________________\n",
      "dense_6 (Dense)              (None, 32)                320032    \n",
      "_________________________________________________________________\n",
      "dense_7 (Dense)              (None, 1)                 33        \n",
      "=================================================================\n",
      "Total params: 1,320,065\n",
      "Trainable params: 1,320,065\n",
      "Non-trainable params: 0\n",
      "_________________________________________________________________\n",
      "Train on 200 samples, validate on 10000 samples\n",
      "Epoch 1/50\n",
      "200/200 [==============================] - 1s 6ms/step - loss: 0.6942 - acc: 0.5350 - val_loss: 0.6935 - val_acc: 0.5015\n",
      "Epoch 2/50\n",
      "200/200 [==============================] - 1s 4ms/step - loss: 0.5122 - acc: 1.0000 - val_loss: 0.6983 - val_acc: 0.5027\n",
      "Epoch 3/50\n",
      "200/200 [==============================] - 1s 4ms/step - loss: 0.2981 - acc: 0.9950 - val_loss: 0.7139 - val_acc: 0.5028\n",
      "Epoch 4/50\n",
      "200/200 [==============================] - 1s 4ms/step - loss: 0.1353 - acc: 1.0000 - val_loss: 0.7349 - val_acc: 0.5005\n",
      "Epoch 5/50\n",
      "200/200 [==============================] - 1s 4ms/step - loss: 0.0638 - acc: 1.0000 - val_loss: 0.7563 - val_acc: 0.5004\n",
      "Epoch 6/50\n",
      "200/200 [==============================] - 1s 4ms/step - loss: 0.0330 - acc: 1.0000 - val_loss: 0.7370 - val_acc: 0.5129\n",
      "Epoch 7/50\n",
      "200/200 [==============================] - 1s 4ms/step - loss: 0.0176 - acc: 1.0000 - val_loss: 0.7354 - val_acc: 0.5110\n",
      "Epoch 8/50\n",
      "200/200 [==============================] - 1s 4ms/step - loss: 0.0103 - acc: 1.0000 - val_loss: 0.7443 - val_acc: 0.5119\n",
      "Epoch 9/50\n",
      "200/200 [==============================] - 1s 4ms/step - loss: 0.0062 - acc: 1.0000 - val_loss: 0.7480 - val_acc: 0.5110\n",
      "Epoch 10/50\n",
      "200/200 [==============================] - 1s 4ms/step - loss: 0.0038 - acc: 1.0000 - val_loss: 0.7673 - val_acc: 0.5120\n",
      "Epoch 11/50\n",
      "200/200 [==============================] - 1s 4ms/step - loss: 0.0024 - acc: 1.0000 - val_loss: 0.7916 - val_acc: 0.5113\n",
      "Epoch 12/50\n",
      "200/200 [==============================] - 1s 4ms/step - loss: 0.0015 - acc: 1.0000 - val_loss: 0.7926 - val_acc: 0.5128\n",
      "Epoch 13/50\n",
      "200/200 [==============================] - 1s 4ms/step - loss: 9.6316e-04 - acc: 1.0000 - val_loss: 0.8115 - val_acc: 0.5120\n",
      "Epoch 14/50\n",
      "200/200 [==============================] - 1s 4ms/step - loss: 6.2444e-04 - acc: 1.0000 - val_loss: 0.8266 - val_acc: 0.5118\n",
      "Epoch 15/50\n",
      "200/200 [==============================] - 1s 4ms/step - loss: 4.0746e-04 - acc: 1.0000 - val_loss: 0.8262 - val_acc: 0.5121\n",
      "Epoch 16/50\n",
      "200/200 [==============================] - 1s 4ms/step - loss: 2.6386e-04 - acc: 1.0000 - val_loss: 0.8335 - val_acc: 0.5130\n",
      "Epoch 17/50\n",
      "200/200 [==============================] - 1s 4ms/step - loss: 1.7266e-04 - acc: 1.0000 - val_loss: 0.8653 - val_acc: 0.5117\n",
      "Epoch 18/50\n",
      "200/200 [==============================] - 1s 4ms/step - loss: 1.1283e-04 - acc: 1.0000 - val_loss: 0.8676 - val_acc: 0.5117\n",
      "Epoch 19/50\n",
      "200/200 [==============================] - 1s 3ms/step - loss: 7.4234e-05 - acc: 1.0000 - val_loss: 0.9202 - val_acc: 0.5091\n",
      "Epoch 20/50\n",
      "200/200 [==============================] - 1s 4ms/step - loss: 5.0169e-05 - acc: 1.0000 - val_loss: 0.8916 - val_acc: 0.5118\n",
      "Epoch 21/50\n",
      "200/200 [==============================] - 1s 3ms/step - loss: 3.3195e-05 - acc: 1.0000 - val_loss: 0.9269 - val_acc: 0.5106\n",
      "Epoch 22/50\n",
      "200/200 [==============================] - 1s 4ms/step - loss: 2.2458e-05 - acc: 1.0000 - val_loss: 0.9138 - val_acc: 0.5115\n",
      "Epoch 23/50\n",
      "200/200 [==============================] - 1s 4ms/step - loss: 1.5311e-05 - acc: 1.0000 - val_loss: 0.9320 - val_acc: 0.5120\n",
      "Epoch 24/50\n",
      "200/200 [==============================] - 1s 4ms/step - loss: 1.0613e-05 - acc: 1.0000 - val_loss: 0.9427 - val_acc: 0.5120\n",
      "Epoch 25/50\n",
      "200/200 [==============================] - 1s 3ms/step - loss: 7.3525e-06 - acc: 1.0000 - val_loss: 0.9754 - val_acc: 0.5114\n",
      "Epoch 26/50\n",
      "200/200 [==============================] - 1s 3ms/step - loss: 5.1542e-06 - acc: 1.0000 - val_loss: 0.9757 - val_acc: 0.5112\n",
      "Epoch 27/50\n",
      "200/200 [==============================] - 1s 3ms/step - loss: 3.6950e-06 - acc: 1.0000 - val_loss: 0.9979 - val_acc: 0.5110\n",
      "Epoch 28/50\n",
      "200/200 [==============================] - 1s 4ms/step - loss: 2.6894e-06 - acc: 1.0000 - val_loss: 0.9990 - val_acc: 0.5120\n",
      "Epoch 29/50\n",
      "200/200 [==============================] - 1s 4ms/step - loss: 1.9827e-06 - acc: 1.0000 - val_loss: 1.0225 - val_acc: 0.5113\n",
      "Epoch 30/50\n",
      "200/200 [==============================] - 1s 4ms/step - loss: 1.4712e-06 - acc: 1.0000 - val_loss: 1.0493 - val_acc: 0.5119\n",
      "Epoch 31/50\n",
      "200/200 [==============================] - 1s 4ms/step - loss: 1.1046e-06 - acc: 1.0000 - val_loss: 1.0569 - val_acc: 0.5103\n",
      "Epoch 32/50\n",
      "200/200 [==============================] - 1s 4ms/step - loss: 8.4183e-07 - acc: 1.0000 - val_loss: 1.0760 - val_acc: 0.5111\n",
      "Epoch 33/50\n",
      "200/200 [==============================] - 1s 4ms/step - loss: 6.4877e-07 - acc: 1.0000 - val_loss: 1.0906 - val_acc: 0.5115\n",
      "Epoch 34/50\n",
      "200/200 [==============================] - 1s 4ms/step - loss: 5.0603e-07 - acc: 1.0000 - val_loss: 1.0923 - val_acc: 0.5108\n",
      "Epoch 35/50\n",
      "200/200 [==============================] - 1s 4ms/step - loss: 3.9768e-07 - acc: 1.0000 - val_loss: 1.1055 - val_acc: 0.5103\n",
      "Epoch 36/50\n",
      "200/200 [==============================] - 1s 4ms/step - loss: 3.1674e-07 - acc: 1.0000 - val_loss: 1.1082 - val_acc: 0.5103\n",
      "Epoch 37/50\n",
      "200/200 [==============================] - 1s 3ms/step - loss: 2.5003e-07 - acc: 1.0000 - val_loss: 1.1305 - val_acc: 0.5100\n",
      "Epoch 38/50\n",
      "200/200 [==============================] - 1s 4ms/step - loss: 2.0042e-07 - acc: 1.0000 - val_loss: 1.1495 - val_acc: 0.5104\n",
      "Epoch 39/50\n",
      "200/200 [==============================] - 1s 4ms/step - loss: 1.6623e-07 - acc: 1.0000 - val_loss: 1.1735 - val_acc: 0.5104\n",
      "Epoch 40/50\n",
      "200/200 [==============================] - 1s 4ms/step - loss: 1.4018e-07 - acc: 1.0000 - val_loss: 1.1884 - val_acc: 0.5103\n",
      "Epoch 41/50\n",
      "200/200 [==============================] - 1s 3ms/step - loss: 1.2681e-07 - acc: 1.0000 - val_loss: 1.2022 - val_acc: 0.5095\n",
      "Epoch 42/50\n",
      "200/200 [==============================] - 1s 3ms/step - loss: 1.2067e-07 - acc: 1.0000 - val_loss: 1.2229 - val_acc: 0.5111\n",
      "Epoch 43/50\n",
      "200/200 [==============================] - 1s 4ms/step - loss: 1.1612e-07 - acc: 1.0000 - val_loss: 1.2405 - val_acc: 0.5096\n",
      "Epoch 44/50\n",
      "200/200 [==============================] - 1s 4ms/step - loss: 1.1457e-07 - acc: 1.0000 - val_loss: 1.2531 - val_acc: 0.5086\n",
      "Epoch 45/50\n",
      "200/200 [==============================] - 1s 3ms/step - loss: 1.1336e-07 - acc: 1.0000 - val_loss: 1.2598 - val_acc: 0.5084\n",
      "Epoch 46/50\n",
      "200/200 [==============================] - 1s 3ms/step - loss: 1.1228e-07 - acc: 1.0000 - val_loss: 1.2710 - val_acc: 0.5078\n",
      "Epoch 47/50\n",
      "200/200 [==============================] - 1s 3ms/step - loss: 1.1203e-07 - acc: 1.0000 - val_loss: 1.2842 - val_acc: 0.5062\n",
      "Epoch 48/50\n",
      "200/200 [==============================] - 1s 3ms/step - loss: 1.1190e-07 - acc: 1.0000 - val_loss: 1.2875 - val_acc: 0.5063\n",
      "Epoch 49/50\n",
      "200/200 [==============================] - 1s 3ms/step - loss: 1.1165e-07 - acc: 1.0000 - val_loss: 1.2906 - val_acc: 0.5062\n",
      "Epoch 50/50\n",
      "200/200 [==============================] - 1s 3ms/step - loss: 1.1151e-07 - acc: 1.0000 - val_loss: 1.2948 - val_acc: 0.5070\n",
      "Tiempo de entrenamiento del clasificador desde cero: 0.61 minutos\n"
     ]
    }
   ],
   "source": [
    "from keras.models import Sequential\n",
    "from keras.layers import Embedding, Flatten, Dense\n",
    "\n",
    "t_start = time.time()\n",
    "\n",
    "model = Sequential()\n",
    "model.add(Embedding(max_words, embedding_dim, input_length=maxlen))\n",
    "model.add(Flatten())\n",
    "model.add(Dense(32, activation='relu'))\n",
    "model.add(Dense(1, activation='sigmoid'))\n",
    "model.summary()\n",
    "\n",
    "model.compile(optimizer='rmsprop',\n",
    "              loss='binary_crossentropy',\n",
    "              metrics=['acc'])\n",
    "history = model.fit(x_train, y_train,\n",
    "                    epochs=50,\n",
    "                    batch_size=32,\n",
    "                    validation_data=(x_val, y_val))\n",
    "\n",
    "t_end = time.time()\n",
    "print(\"Tiempo de entrenamiento del clasificador desde cero: %2.2f minutos\" % ((t_end - t_start)/60) )"
   ]
  },
  {
   "cell_type": "code",
   "execution_count": 49,
   "metadata": {},
   "outputs": [
    {
     "data": {
      "image/png": "[encoded data removed]",
      "text/plain": [
       "<Figure size 432x288 with 1 Axes>"
      ]
     },
     "metadata": {
      "needs_background": "light"
     },
     "output_type": "display_data"
    },
    {
     "data": {
      "image/png": "[encoded data removed]",
      "text/plain": [
       "<Figure size 432x288 with 1 Axes>"
      ]
     },
     "metadata": {
      "needs_background": "light"
     },
     "output_type": "display_data"
    }
   ],
   "source": [
    "acc = history.history['acc']\n",
    "val_acc = history.history['val_acc']\n",
    "loss = history.history['loss']\n",
    "val_loss = history.history['val_loss']\n",
    "\n",
    "epochs = range(1, len(acc) + 1)\n",
    "\n",
    "plt.plot(epochs, acc, 'bo', label='Training acc')\n",
    "plt.plot(epochs, val_acc, 'b', label='Validation acc')\n",
    "plt.title('Training and validation accuracy')\n",
    "plt.legend()\n",
    "\n",
    "plt.figure()\n",
    "\n",
    "plt.plot(epochs, loss, 'bo', label='Training loss')\n",
    "plt.plot(epochs, val_loss, 'b', label='Validation loss')\n",
    "plt.title('Training and validation loss')\n",
    "plt.legend()\n",
    "\n",
    "plt.show()\n"
   ]
  },
  {
   "cell_type": "markdown",
   "metadata": {},
   "source": [
    "En este caso el accuracy de validación llega a los valores llegan alrededor de 52.5%. Por lo que podemos concluir que en este caso particular, utilizando embeddings pre-entrenados se logra un mejor rendimiento que aprendiéndolos desde cero al mismo tiempo que la tarea de clasificación final.\n",
    "Si se aumenta el training set, esto puede cambiar."
   ]
  },
  {
   "cell_type": "markdown",
   "metadata": {},
   "source": [
    "Finalmente, vamos a evaluar el modelo con el test set y con el modelo que incluye los embeddings pre-entrenados, cuyos pesos guardamos en un archivo h5."
   ]
  },
  {
   "cell_type": "code",
   "execution_count": 51,
   "metadata": {},
   "outputs": [
    {
     "name": "stdout",
     "output_type": "stream",
     "text": [
      "Tiempo de carga del test set: 1.35 minutos\n"
     ]
    }
   ],
   "source": [
    "t_start = time.time()\n",
    "\n",
    "test_dir = os.path.join(imdb_dir, 'test')\n",
    "\n",
    "labels = []\n",
    "texts = []\n",
    "\n",
    "for label_type in ['neg', 'pos']:\n",
    "    dir_name = os.path.join(test_dir, label_type)\n",
    "    for fname in sorted(os.listdir(dir_name)):\n",
    "        if fname[-4:] == '.txt':\n",
    "            f = open(os.path.join(dir_name, fname), encoding=\"utf8\")\n",
    "            texts.append(f.read())\n",
    "            f.close()\n",
    "            if label_type == 'neg':\n",
    "                labels.append(0)\n",
    "            else:\n",
    "                labels.append(1)\n",
    "\n",
    "sequences = tokenizer.texts_to_sequences(texts)\n",
    "x_test = pad_sequences(sequences, maxlen=maxlen)\n",
    "y_test = np.asarray(labels)\n",
    "\n",
    "t_end = time.time()\n",
    "print(\"Tiempo de carga del test set: %2.2f minutos\" % ((t_end - t_start)/60) )"
   ]
  },
  {
   "cell_type": "code",
   "execution_count": 52,
   "metadata": {},
   "outputs": [
    {
     "name": "stdout",
     "output_type": "stream",
     "text": [
      "25000/25000 [==============================] - 2s 63us/step\n"
     ]
    },
    {
     "data": {
      "text/plain": [
       "[2.0224194637715818, 0.55032]"
      ]
     },
     "execution_count": 52,
     "metadata": {},
     "output_type": "execute_result"
    }
   ],
   "source": [
    "model.load_weights('pre_trained_glove_model.h5')\n",
    "model.evaluate(x_test, y_test)"
   ]
  },
  {
   "cell_type": "markdown",
   "metadata": {},
   "source": [
    "Obtenemos solamente 56% de accuracy, muy cerca del baseline. Trabajar con tan pocos ejemplos de entranamiento es muy difícil!"
   ]
  },
  {
   "cell_type": "markdown",
   "metadata": {},
   "source": [
    "#### Utilización de 20000 reviews de entrenamiento y pesos pre-entrenados"
   ]
  },
  {
   "cell_type": "markdown",
   "metadata": {},
   "source": [
    "Se hizo el mismo ejercicio con 20000 reviews en el training set con los embedding pre-entrenados."
   ]
  },
  {
   "cell_type": "code",
   "execution_count": 53,
   "metadata": {},
   "outputs": [
    {
     "name": "stdout",
     "output_type": "stream",
     "text": [
      "Found 87393 unique tokens.\n",
      "Shape of data tensor: (25000, 100)\n",
      "Shape of label tensor: (25000,)\n"
     ]
    }
   ],
   "source": [
    "maxlen = 100  # We will cut reviews after 100 words\n",
    "training_samples = 20000  # We will be training on 20000 samples\n",
    "validation_samples = 5000  # We will be validating on 5000 samples\n",
    "max_words = 10000  # We will only consider the top 10,000 words in the dataset\n",
    "\n",
    "tokenizer = Tokenizer(num_words=max_words)\n",
    "tokenizer.fit_on_texts(texts)\n",
    "sequences = tokenizer.texts_to_sequences(texts)\n",
    "\n",
    "word_index = tokenizer.word_index\n",
    "print('Found %s unique tokens.' % len(word_index))\n",
    "\n",
    "data = pad_sequences(sequences, maxlen=maxlen)\n",
    "\n",
    "labels = np.asarray(labels)\n",
    "print('Shape of data tensor:', data.shape)\n",
    "print('Shape of label tensor:', labels.shape)\n",
    "\n",
    "# Split the data into a training set and a validation set\n",
    "# But first, shuffle the data, since we started from data\n",
    "# where sample are ordered (all negative first, then all positive).\n",
    "indices = np.arange(data.shape[0])\n",
    "np.random.shuffle(indices)\n",
    "data = data[indices]\n",
    "labels = labels[indices]\n",
    "\n",
    "x_train = data[:training_samples]\n",
    "y_train = labels[:training_samples]\n",
    "x_val = data[training_samples: training_samples + validation_samples]\n",
    "y_val = labels[training_samples: training_samples + validation_samples]"
   ]
  },
  {
   "cell_type": "markdown",
   "metadata": {},
   "source": [
    "Tenemos al final un training set con 20000 reviews, de 100 palabras cada uno.\n",
    "Además, un test set con 10000 reviews, también de 100 palabras cada uno."
   ]
  },
  {
   "cell_type": "code",
   "execution_count": 54,
   "metadata": {},
   "outputs": [
    {
     "data": {
      "text/plain": [
       "(20000, 100)"
      ]
     },
     "execution_count": 54,
     "metadata": {},
     "output_type": "execute_result"
    }
   ],
   "source": [
    "x_train.shape"
   ]
  },
  {
   "cell_type": "code",
   "execution_count": 55,
   "metadata": {},
   "outputs": [
    {
     "data": {
      "text/plain": [
       "(5000, 100)"
      ]
     },
     "execution_count": 55,
     "metadata": {},
     "output_type": "execute_result"
    }
   ],
   "source": [
    "x_val.shape"
   ]
  },
  {
   "cell_type": "markdown",
   "metadata": {},
   "source": [
    "Ya teníamos los embeddings preciamente cargados con las 10000 palabras mas frecuentes, representadas en 100 dimensiones."
   ]
  },
  {
   "cell_type": "code",
   "execution_count": 56,
   "metadata": {},
   "outputs": [],
   "source": [
    "embedding_dim = 100\n",
    "\n",
    "embedding_matrix = np.zeros((max_words, embedding_dim))\n",
    "for word, i in word_index.items():\n",
    "    embedding_vector = embeddings_index.get(word)\n",
    "    if i < max_words:\n",
    "        if embedding_vector is not None:\n",
    "            # Words not found in embedding index will be all-zeros.\n",
    "            embedding_matrix[i] = embedding_vector            "
   ]
  },
  {
   "cell_type": "code",
   "execution_count": 57,
   "metadata": {},
   "outputs": [
    {
     "data": {
      "text/plain": [
       "(10000, 100)"
      ]
     },
     "execution_count": 57,
     "metadata": {},
     "output_type": "execute_result"
    }
   ],
   "source": [
    "embedding_matrix.shape"
   ]
  },
  {
   "cell_type": "markdown",
   "metadata": {},
   "source": [
    "Redefinimos el mismo modelo neuronal y lo entrenamos"
   ]
  },
  {
   "cell_type": "code",
   "execution_count": 58,
   "metadata": {},
   "outputs": [
    {
     "name": "stdout",
     "output_type": "stream",
     "text": [
      "_________________________________________________________________\n",
      "Layer (type)                 Output Shape              Param #   \n",
      "=================================================================\n",
      "embedding_6 (Embedding)      (None, 100, 100)          1000000   \n",
      "_________________________________________________________________\n",
      "flatten_5 (Flatten)          (None, 10000)             0         \n",
      "_________________________________________________________________\n",
      "dense_8 (Dense)              (None, 32)                320032    \n",
      "_________________________________________________________________\n",
      "dense_9 (Dense)              (None, 1)                 33        \n",
      "=================================================================\n",
      "Total params: 1,320,065\n",
      "Trainable params: 1,320,065\n",
      "Non-trainable params: 0\n",
      "_________________________________________________________________\n"
     ]
    }
   ],
   "source": [
    "model = Sequential()\n",
    "model.add(Embedding(max_words, embedding_dim, input_length=maxlen))\n",
    "model.add(Flatten())\n",
    "model.add(Dense(32, activation='relu'))\n",
    "model.add(Dense(1, activation='sigmoid'))\n",
    "model.summary()"
   ]
  },
  {
   "cell_type": "code",
   "execution_count": 59,
   "metadata": {},
   "outputs": [],
   "source": [
    "model.layers[0].set_weights([embedding_matrix])\n",
    "model.layers[0].trainable = False"
   ]
  },
  {
   "cell_type": "code",
   "execution_count": 61,
   "metadata": {},
   "outputs": [
    {
     "name": "stdout",
     "output_type": "stream",
     "text": [
      "Train on 20000 samples, validate on 5000 samples\n",
      "Epoch 1/50\n",
      "20000/20000 [==============================] - 5s 236us/step - loss: 0.6439 - acc: 0.6403 - val_loss: 0.5600 - val_acc: 0.7214\n",
      "Epoch 2/50\n",
      "20000/20000 [==============================] - 6s 298us/step - loss: 0.5144 - acc: 0.7503 - val_loss: 0.5478 - val_acc: 0.7218\n",
      "Epoch 3/50\n",
      "20000/20000 [==============================] - 5s 259us/step - loss: 0.4598 - acc: 0.7856 - val_loss: 0.5655 - val_acc: 0.7166\n",
      "Epoch 4/50\n",
      "20000/20000 [==============================] - 4s 222us/step - loss: 0.4170 - acc: 0.8080 - val_loss: 0.5546 - val_acc: 0.7320\n",
      "Epoch 5/50\n",
      "20000/20000 [==============================] - 5s 237us/step - loss: 0.3839 - acc: 0.8260 - val_loss: 0.5816 - val_acc: 0.7182\n",
      "Epoch 6/50\n",
      "20000/20000 [==============================] - 4s 217us/step - loss: 0.3502 - acc: 0.8447 - val_loss: 0.6587 - val_acc: 0.7034\n",
      "Epoch 7/50\n",
      "20000/20000 [==============================] - 4s 215us/step - loss: 0.3199 - acc: 0.8605 - val_loss: 0.6334 - val_acc: 0.7248\n",
      "Epoch 8/50\n",
      "20000/20000 [==============================] - 5s 232us/step - loss: 0.2869 - acc: 0.8755 - val_loss: 0.6942 - val_acc: 0.7236\n",
      "Epoch 9/50\n",
      "20000/20000 [==============================] - 5s 242us/step - loss: 0.2530 - acc: 0.8891 - val_loss: 0.8178 - val_acc: 0.7198\n",
      "Epoch 10/50\n",
      "20000/20000 [==============================] - 4s 220us/step - loss: 0.2185 - acc: 0.9054 - val_loss: 0.8512 - val_acc: 0.7038\n",
      "Epoch 11/50\n",
      "20000/20000 [==============================] - 4s 216us/step - loss: 0.1904 - acc: 0.9178 - val_loss: 0.9275 - val_acc: 0.7156\n",
      "Epoch 12/50\n",
      "20000/20000 [==============================] - 4s 221us/step - loss: 0.1622 - acc: 0.9323 - val_loss: 0.8952 - val_acc: 0.7138\n",
      "Epoch 13/50\n",
      "20000/20000 [==============================] - 4s 220us/step - loss: 0.1432 - acc: 0.9410 - val_loss: 1.0612 - val_acc: 0.7036\n",
      "Epoch 14/50\n",
      "20000/20000 [==============================] - 4s 212us/step - loss: 0.1124 - acc: 0.9552 - val_loss: 1.1875 - val_acc: 0.7064\n",
      "Epoch 15/50\n",
      "20000/20000 [==============================] - 4s 212us/step - loss: 0.0975 - acc: 0.9608 - val_loss: 1.4588 - val_acc: 0.7084\n",
      "Epoch 16/50\n",
      "20000/20000 [==============================] - 5s 229us/step - loss: 0.0834 - acc: 0.9676 - val_loss: 1.2437 - val_acc: 0.7054\n",
      "Epoch 17/50\n",
      "20000/20000 [==============================] - 4s 213us/step - loss: 0.0688 - acc: 0.9720 - val_loss: 1.4325 - val_acc: 0.7124\n",
      "Epoch 18/50\n",
      "20000/20000 [==============================] - 4s 218us/step - loss: 0.0616 - acc: 0.9756 - val_loss: 1.5832 - val_acc: 0.6908\n",
      "Epoch 19/50\n",
      "20000/20000 [==============================] - 4s 216us/step - loss: 0.0588 - acc: 0.9770 - val_loss: 1.5944 - val_acc: 0.7060\n",
      "Epoch 20/50\n",
      "20000/20000 [==============================] - 5s 239us/step - loss: 0.0501 - acc: 0.9813 - val_loss: 1.7467 - val_acc: 0.7046\n",
      "Epoch 21/50\n",
      "20000/20000 [==============================] - 4s 216us/step - loss: 0.0496 - acc: 0.9811 - val_loss: 1.8531 - val_acc: 0.6936\n",
      "Epoch 22/50\n",
      "20000/20000 [==============================] - 4s 218us/step - loss: 0.0389 - acc: 0.9856 - val_loss: 2.0438 - val_acc: 0.6876\n",
      "Epoch 23/50\n",
      "20000/20000 [==============================] - 5s 231us/step - loss: 0.0398 - acc: 0.9847 - val_loss: 1.9683 - val_acc: 0.6990\n",
      "Epoch 24/50\n",
      "20000/20000 [==============================] - 4s 221us/step - loss: 0.0382 - acc: 0.9860 - val_loss: 2.1057 - val_acc: 0.6962\n",
      "Epoch 25/50\n",
      "20000/20000 [==============================] - 5s 230us/step - loss: 0.0349 - acc: 0.9867 - val_loss: 1.9982 - val_acc: 0.7028\n",
      "Epoch 26/50\n",
      "20000/20000 [==============================] - 5s 233us/step - loss: 0.0322 - acc: 0.9883 - val_loss: 2.2888 - val_acc: 0.6790\n",
      "Epoch 27/50\n",
      "20000/20000 [==============================] - 5s 252us/step - loss: 0.0286 - acc: 0.9888 - val_loss: 2.0879 - val_acc: 0.6944\n",
      "Epoch 28/50\n",
      "20000/20000 [==============================] - 5s 227us/step - loss: 0.0279 - acc: 0.9900 - val_loss: 2.1624 - val_acc: 0.6956\n",
      "Epoch 29/50\n",
      "20000/20000 [==============================] - 4s 222us/step - loss: 0.0271 - acc: 0.9899 - val_loss: 2.2819 - val_acc: 0.6976\n",
      "Epoch 30/50\n",
      "20000/20000 [==============================] - 5s 237us/step - loss: 0.0247 - acc: 0.9910 - val_loss: 2.2031 - val_acc: 0.6964\n",
      "Epoch 31/50\n",
      "20000/20000 [==============================] - 4s 221us/step - loss: 0.0233 - acc: 0.9911 - val_loss: 2.3066 - val_acc: 0.6976\n",
      "Epoch 32/50\n",
      "20000/20000 [==============================] - 5s 229us/step - loss: 0.0231 - acc: 0.9913 - val_loss: 2.3423 - val_acc: 0.6934\n",
      "Epoch 33/50\n",
      "20000/20000 [==============================] - 4s 220us/step - loss: 0.0239 - acc: 0.9914 - val_loss: 2.4623 - val_acc: 0.6940\n",
      "Epoch 34/50\n",
      "20000/20000 [==============================] - 5s 243us/step - loss: 0.0217 - acc: 0.9924 - val_loss: 2.3790 - val_acc: 0.6938\n",
      "Epoch 35/50\n",
      "20000/20000 [==============================] - 4s 221us/step - loss: 0.0195 - acc: 0.9934 - val_loss: 2.5917 - val_acc: 0.6896\n",
      "Epoch 36/50\n",
      "20000/20000 [==============================] - 5s 230us/step - loss: 0.0215 - acc: 0.9923 - val_loss: 2.4536 - val_acc: 0.6934\n",
      "Epoch 37/50\n",
      "20000/20000 [==============================] - 5s 258us/step - loss: 0.0209 - acc: 0.9931 - val_loss: 2.5905 - val_acc: 0.6966\n",
      "Epoch 38/50\n",
      "20000/20000 [==============================] - 5s 231us/step - loss: 0.0190 - acc: 0.9936 - val_loss: 2.5624 - val_acc: 0.7008\n",
      "Epoch 39/50\n",
      "20000/20000 [==============================] - 4s 222us/step - loss: 0.0182 - acc: 0.9940 - val_loss: 2.7126 - val_acc: 0.6974\n",
      "Epoch 40/50\n",
      "20000/20000 [==============================] - 5s 234us/step - loss: 0.0167 - acc: 0.9946 - val_loss: 2.6618 - val_acc: 0.6954\n",
      "Epoch 41/50\n",
      "20000/20000 [==============================] - 5s 233us/step - loss: 0.0167 - acc: 0.9944 - val_loss: 2.5912 - val_acc: 0.6990\n",
      "Epoch 42/50\n",
      "20000/20000 [==============================] - 4s 224us/step - loss: 0.0150 - acc: 0.9940 - val_loss: 2.6507 - val_acc: 0.7006\n",
      "Epoch 43/50\n",
      "20000/20000 [==============================] - 4s 224us/step - loss: 0.0132 - acc: 0.9950 - val_loss: 2.7199 - val_acc: 0.7000\n",
      "Epoch 44/50\n",
      "20000/20000 [==============================] - 5s 241us/step - loss: 0.0134 - acc: 0.9947 - val_loss: 2.5766 - val_acc: 0.7002\n",
      "Epoch 45/50\n",
      "20000/20000 [==============================] - 4s 223us/step - loss: 0.0142 - acc: 0.9949 - val_loss: 2.9150 - val_acc: 0.6788\n",
      "Epoch 46/50\n",
      "20000/20000 [==============================] - 4s 223us/step - loss: 0.0132 - acc: 0.9951 - val_loss: 2.8767 - val_acc: 0.6834\n",
      "Epoch 47/50\n",
      "20000/20000 [==============================] - 5s 226us/step - loss: 0.0145 - acc: 0.9949 - val_loss: 2.6742 - val_acc: 0.6932\n",
      "Epoch 48/50\n",
      "20000/20000 [==============================] - 5s 235us/step - loss: 0.0114 - acc: 0.9960 - val_loss: 2.8651 - val_acc: 0.6868\n",
      "Epoch 49/50\n",
      "20000/20000 [==============================] - 4s 224us/step - loss: 0.0143 - acc: 0.9950 - val_loss: 2.7904 - val_acc: 0.6868\n",
      "Epoch 50/50\n",
      "20000/20000 [==============================] - 4s 223us/step - loss: 0.0117 - acc: 0.9957 - val_loss: 3.1366 - val_acc: 0.6832\n",
      "Tiempo de entrenamiento del clasificador desde cero: 3.82 minutos\n"
     ]
    }
   ],
   "source": [
    "t_start = time.time()\n",
    "model.compile(optimizer='rmsprop',\n",
    "              loss='binary_crossentropy',\n",
    "              metrics=['acc'])\n",
    "history = model.fit(x_train, y_train,\n",
    "                    epochs=50,\n",
    "                    batch_size=32,\n",
    "                    validation_data=(x_val, y_val))\n",
    "model.save_weights('pre_trained_glove_model_2000_reviews.h5')\n",
    "\n",
    "t_end = time.time()\n",
    "print(\"Tiempo de entrenamiento del clasificador desde cero: %2.2f minutos\" % ((t_end - t_start)/60) )"
   ]
  },
  {
   "cell_type": "markdown",
   "metadata": {},
   "source": [
    "Analicemos cómo evolucionó el modelo durante el entrenamiento."
   ]
  },
  {
   "cell_type": "code",
   "execution_count": 62,
   "metadata": {},
   "outputs": [],
   "source": [
    "import matplotlib.pyplot as plt\n",
    "\n",
    "acc = history.history['acc']\n",
    "val_acc = history.history['val_acc']\n",
    "loss = history.history['loss']\n",
    "val_loss = history.history['val_loss']\n",
    "\n",
    "epochs = range(1, len(acc) + 1)"
   ]
  },
  {
   "cell_type": "code",
   "execution_count": 63,
   "metadata": {},
   "outputs": [
    {
     "data": {
      "image/png": "[encoded data removed]",
      "text/plain": [
       "<Figure size 432x288 with 1 Axes>"
      ]
     },
     "metadata": {
      "needs_background": "light"
     },
     "output_type": "display_data"
    }
   ],
   "source": [
    "plt.plot(epochs, acc, 'bo', label='Training acc')\n",
    "plt.plot(epochs, val_acc, 'b', label='Validation acc')\n",
    "plt.title('Training and validation accuracy')\n",
    "plt.legend()\n",
    "\n",
    "plt.show()"
   ]
  },
  {
   "cell_type": "code",
   "execution_count": 64,
   "metadata": {},
   "outputs": [
    {
     "data": {
      "image/png": "[encoded data removed]",
      "text/plain": [
       "<Figure size 432x288 with 1 Axes>"
      ]
     },
     "metadata": {
      "needs_background": "light"
     },
     "output_type": "display_data"
    }
   ],
   "source": [
    "plt.plot(epochs, loss, 'bo', label='Training loss')\n",
    "plt.plot(epochs, val_loss, 'b', label='Validation loss')\n",
    "plt.title('Training and validation loss')\n",
    "plt.legend()\n",
    "\n",
    "plt.show()"
   ]
  },
  {
   "cell_type": "markdown",
   "metadata": {},
   "source": [
    "Vemos que el modelo comienza a presentar **overfitting** rápidamente.\n",
    "Despuès de la primera decena de iteraciones encontramos un aumento importante en la función de pérdida del set de validación. En el punto óptimo, alcanzamos un accuracy de validación de alrededor de 72%"
   ]
  }
 ],
 "metadata": {
  "kernelspec": {
   "display_name": "Python 3",
   "language": "python",
   "name": "python3"
  },
  "language_info": {
   "codemirror_mode": {
    "name": "ipython",
    "version": 3
   },
   "file_extension": ".py",
   "mimetype": "text/x-python",
   "name": "python",
   "nbconvert_exporter": "python",
   "pygments_lexer": "ipython3",
   "version": "3.6.6"
  }
 },
 "nbformat": 4,
 "nbformat_minor": 2
}
