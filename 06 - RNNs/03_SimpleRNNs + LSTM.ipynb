{
 "cells": [
  {
   "cell_type": "markdown",
   "metadata": {},
   "source": [
    "# Redes Neuronales Recurrentes"
   ]
  },
  {
   "cell_type": "markdown",
   "metadata": {},
   "source": [
    "Basado en el capítulo 6 del libro \"Deep Learning with Python\" de Francois Chollet, 2018 Manning"
   ]
  },
  {
   "cell_type": "markdown",
   "metadata": {},
   "source": [
    "Las redes que hemos visto hasta ahora han sido feed-forward, sin ningún mecanismo para memorizar resultados anteriores: cada entrada es procesada de manera independiente de las demas entradas.\n",
    "Si se quiere procesar una secuencia en redes densas, es necesario codificarla como una sola instancia que se procesa de manera atómica.\n",
    "\n",
    "\n"
   ]
  },
  {
   "cell_type": "markdown",
   "metadata": {},
   "source": [
    "En Keras, las capas recurrentes pueden ejecutarse en 2 modos: \n",
    "- pueden retornar la totalidad de las secuencias de salidas sucesivas para cada paso de tiempo, a través de tensores 3D (batch_size, timesteps, output_features)\n",
    "- pueden retornar la salida correspondiente a cada paso, sin retornar las salidas anteriores, a través de un tensor 2D (batch_size, output_features)."
   ]
  },
  {
   "cell_type": "markdown",
   "metadata": {},
   "source": [
    "## SimpleRNN\n",
    "\n",
    "Vamos a definir un modelo secuencial con dos componentes:\n",
    "- Tenemos primero una capa **Embedding**, que define un espacio vectorial de 32 dimensiones para representar las críticas textuales de películas, considerando las 10000 palabras o términos más frecuentes.\n",
    "- Tenemos luego una capa **SimpleRNN**, que recibe la representación de los Embeddings, que por defecto retorna la última salida. Si quisieramos una concatenación de las salidas, habríamos poder especificado el parámetro *return_sequences=True*."
   ]
  },
  {
   "cell_type": "markdown",
   "metadata": {},
   "source": [
    "La capa **SimpleRNN** consiste en la utilización de 2 matrices, una para las entradas y otra para las salidas anteriores, así como un sesgo que sirven para calcular la agregación recurrente que es luego pasada por una linearidad (tanh por defecto)."
   ]
  },
  {
   "cell_type": "markdown",
   "metadata": {},
   "source": [
    "### Preparación de los datos de entrada: Embedding"
   ]
  },
  {
   "cell_type": "markdown",
   "metadata": {},
   "source": [
    "Vamos a utilizar el dataset *imdb* de Keras, un compendio textual de críticas de cine."
   ]
  },
  {
   "cell_type": "code",
   "execution_count": 5,
   "metadata": {},
   "outputs": [],
   "source": [
    "import time"
   ]
  },
  {
   "cell_type": "code",
   "execution_count": 2,
   "metadata": {},
   "outputs": [],
   "source": [
    "from keras.datasets import imdb\n",
    "from keras.preprocessing import sequence"
   ]
  },
  {
   "cell_type": "code",
   "execution_count": 3,
   "metadata": {},
   "outputs": [],
   "source": [
    "max_features = 10000 # Consideramos las 10000 palabras mas frecuentes\n",
    "maxlen = 500         # El largo de cada review será de 500 palabras\n",
    "embedding_dim = 32    # El embedding representará las palabras en un espacio de 32 dimensiones"
   ]
  },
  {
   "cell_type": "markdown",
   "metadata": {},
   "source": [
    "Cargamos el dataset"
   ]
  },
  {
   "cell_type": "code",
   "execution_count": 4,
   "metadata": {},
   "outputs": [
    {
     "name": "stdout",
     "output_type": "stream",
     "text": [
      "Cargando los datos...\n",
      "25000 secuencias de entrenamiento\n",
      "25000 secuencias de evaluación\n"
     ]
    }
   ],
   "source": [
    "print(\"Cargando los datos...\")\n",
    "(input_train, y_train), (input_test, y_test) = imdb.load_data(num_words=max_features)\n",
    "print(len(input_train), \"secuencias de entrenamiento\")\n",
    "print(len(input_test), \"secuencias de evaluación\")"
   ]
  },
  {
   "cell_type": "markdown",
   "metadata": {},
   "source": [
    "Cada review es una secuencia con el ID de la palabra:"
   ]
  },
  {
   "cell_type": "code",
   "execution_count": 6,
   "metadata": {},
   "outputs": [
    {
     "data": {
      "text/plain": [
       "array([list([1, 14, 22, 16, 43, 530, 973, 1622, 1385, 65, 458, 4468, 66, 3941, 4, 173, 36, 256, 5, 25, 100, 43, 838, 112, 50, 670, 2, 9, 35, 480, 284, 5, 150, 4, 172, 112, 167, 2, 336, 385, 39, 4, 172, 4536, 1111, 17, 546, 38, 13, 447, 4, 192, 50, 16, 6, 147, 2025, 19, 14, 22, 4, 1920, 4613, 469, 4, 22, 71, 87, 12, 16, 43, 530, 38, 76, 15, 13, 1247, 4, 22, 17, 515, 17, 12, 16, 626, 18, 2, 5, 62, 386, 12, 8, 316, 8, 106, 5, 4, 2223, 5244, 16, 480, 66, 3785, 33, 4, 130, 12, 16, 38, 619, 5, 25, 124, 51, 36, 135, 48, 25, 1415, 33, 6, 22, 12, 215, 28, 77, 52, 5, 14, 407, 16, 82, 2, 8, 4, 107, 117, 5952, 15, 256, 4, 2, 7, 3766, 5, 723, 36, 71, 43, 530, 476, 26, 400, 317, 46, 7, 4, 2, 1029, 13, 104, 88, 4, 381, 15, 297, 98, 32, 2071, 56, 26, 141, 6, 194, 7486, 18, 4, 226, 22, 21, 134, 476, 26, 480, 5, 144, 30, 5535, 18, 51, 36, 28, 224, 92, 25, 104, 4, 226, 65, 16, 38, 1334, 88, 12, 16, 283, 5, 16, 4472, 113, 103, 32, 15, 16, 5345, 19, 178, 32]),\n",
       "       list([1, 194, 1153, 194, 8255, 78, 228, 5, 6, 1463, 4369, 5012, 134, 26, 4, 715, 8, 118, 1634, 14, 394, 20, 13, 119, 954, 189, 102, 5, 207, 110, 3103, 21, 14, 69, 188, 8, 30, 23, 7, 4, 249, 126, 93, 4, 114, 9, 2300, 1523, 5, 647, 4, 116, 9, 35, 8163, 4, 229, 9, 340, 1322, 4, 118, 9, 4, 130, 4901, 19, 4, 1002, 5, 89, 29, 952, 46, 37, 4, 455, 9, 45, 43, 38, 1543, 1905, 398, 4, 1649, 26, 6853, 5, 163, 11, 3215, 2, 4, 1153, 9, 194, 775, 7, 8255, 2, 349, 2637, 148, 605, 2, 8003, 15, 123, 125, 68, 2, 6853, 15, 349, 165, 4362, 98, 5, 4, 228, 9, 43, 2, 1157, 15, 299, 120, 5, 120, 174, 11, 220, 175, 136, 50, 9, 4373, 228, 8255, 5, 2, 656, 245, 2350, 5, 4, 9837, 131, 152, 491, 18, 2, 32, 7464, 1212, 14, 9, 6, 371, 78, 22, 625, 64, 1382, 9, 8, 168, 145, 23, 4, 1690, 15, 16, 4, 1355, 5, 28, 6, 52, 154, 462, 33, 89, 78, 285, 16, 145, 95]),\n",
       "       list([1, 14, 47, 8, 30, 31, 7, 4, 249, 108, 7, 4, 5974, 54, 61, 369, 13, 71, 149, 14, 22, 112, 4, 2401, 311, 12, 16, 3711, 33, 75, 43, 1829, 296, 4, 86, 320, 35, 534, 19, 263, 4821, 1301, 4, 1873, 33, 89, 78, 12, 66, 16, 4, 360, 7, 4, 58, 316, 334, 11, 4, 1716, 43, 645, 662, 8, 257, 85, 1200, 42, 1228, 2578, 83, 68, 3912, 15, 36, 165, 1539, 278, 36, 69, 2, 780, 8, 106, 14, 6905, 1338, 18, 6, 22, 12, 215, 28, 610, 40, 6, 87, 326, 23, 2300, 21, 23, 22, 12, 272, 40, 57, 31, 11, 4, 22, 47, 6, 2307, 51, 9, 170, 23, 595, 116, 595, 1352, 13, 191, 79, 638, 89, 2, 14, 9, 8, 106, 607, 624, 35, 534, 6, 227, 7, 129, 113])],\n",
       "      dtype=object)"
      ]
     },
     "execution_count": 6,
     "metadata": {},
     "output_type": "execute_result"
    }
   ],
   "source": [
    "input_train[0:3]"
   ]
  },
  {
   "cell_type": "markdown",
   "metadata": {},
   "source": [
    "En la variable dependiente tenemos el tipo de sentimiento (1: Positivo, 0: Negativo) que queremos predecir"
   ]
  },
  {
   "cell_type": "code",
   "execution_count": 7,
   "metadata": {},
   "outputs": [
    {
     "data": {
      "text/plain": [
       "array([1, 0, 0], dtype=int64)"
      ]
     },
     "execution_count": 7,
     "metadata": {},
     "output_type": "execute_result"
    }
   ],
   "source": [
    "y_train[0:3]"
   ]
  },
  {
   "cell_type": "markdown",
   "metadata": {},
   "source": [
    "Completamos las reviews que no logran alcanzar 500 palabras, truncamos las que los sobrepasan."
   ]
  },
  {
   "cell_type": "code",
   "execution_count": 8,
   "metadata": {},
   "outputs": [
    {
     "name": "stdout",
     "output_type": "stream",
     "text": [
      "(25000, 500)\n",
      "(25000, 500)\n"
     ]
    }
   ],
   "source": [
    "input_train = sequence.pad_sequences(input_train, maxlen=maxlen)\n",
    "input_test = sequence.pad_sequences(input_test, maxlen=maxlen)\n",
    "print(input_train.shape)\n",
    "print(input_test.shape)"
   ]
  },
  {
   "cell_type": "markdown",
   "metadata": {},
   "source": [
    "Tenemos en total 25000 reviews de entrenamiento y de evaluación, cada una con 500 palabras."
   ]
  },
  {
   "cell_type": "markdown",
   "metadata": {},
   "source": [
    "### Definimos el modelo recurrente y lo entrenamos"
   ]
  },
  {
   "cell_type": "code",
   "execution_count": 11,
   "metadata": {},
   "outputs": [],
   "source": [
    "from keras.layers import Embedding, SimpleRNN, Dense\n",
    "from keras.models import Sequential"
   ]
  },
  {
   "cell_type": "code",
   "execution_count": 13,
   "metadata": {},
   "outputs": [
    {
     "name": "stdout",
     "output_type": "stream",
     "text": [
      "_________________________________________________________________\n",
      "Layer (type)                 Output Shape              Param #   \n",
      "=================================================================\n",
      "embedding_2 (Embedding)      (None, None, 32)          320000    \n",
      "_________________________________________________________________\n",
      "simple_rnn_1 (SimpleRNN)     (None, 32)                2080      \n",
      "_________________________________________________________________\n",
      "dense_1 (Dense)              (None, 1)                 33        \n",
      "=================================================================\n",
      "Total params: 322,113\n",
      "Trainable params: 322,113\n",
      "Non-trainable params: 0\n",
      "_________________________________________________________________\n"
     ]
    }
   ],
   "source": [
    "model = Sequential()\n",
    "model.add(Embedding(max_features, embedding_dim)) #10000 xxxx con 32 XXXX\n",
    "model.add(SimpleRNN(embedding_dim))\n",
    "model.add(Dense(1, activation='sigmoid'))\n",
    "model.summary()"
   ]
  },
  {
   "cell_type": "markdown",
   "metadata": {},
   "source": [
    "Tenemos que la entrada es un paquete de \"series de tiempo\", donde tenemos que cada batch (primer eje) tiene un número de de pasos de tiempo (2o eje) cada uno usando una representación en 32 dimensiones.\n",
    "\n",
    "Al haber utilizado una capa recurrente que no devuelve la secuencia de activaciones anteriores, solo consideramos la última activación como salida, por lo que la salida de la capa SimpleRNN es un tensor con el primer eje representando el batch_size y el segundo eje con el número de unidades (neuronas) de la capa, que son finalmente conectadas con la capa densa de salida."
   ]
  },
  {
   "cell_type": "markdown",
   "metadata": {},
   "source": [
    "Vamos a entrenar el modelo durante 10 épocas, con un mini batch de a 128 instancias a la vez.\n",
    "Definimos además que el 20\\% de los datos de entrenamiento se separan para validación y monitoreo."
   ]
  },
  {
   "cell_type": "code",
   "execution_count": 14,
   "metadata": {},
   "outputs": [
    {
     "name": "stdout",
     "output_type": "stream",
     "text": [
      "Train on 20000 samples, validate on 5000 samples\n",
      "Epoch 1/10\n",
      "20000/20000 [==============================] - 16s 820us/step - loss: 0.5976 - acc: 0.6683 - val_loss: 0.5184 - val_acc: 0.7610\n",
      "Epoch 2/10\n",
      "20000/20000 [==============================] - 15s 751us/step - loss: 0.3751 - acc: 0.8455 - val_loss: 0.5965 - val_acc: 0.7344\n",
      "Epoch 3/10\n",
      "20000/20000 [==============================] - 15s 750us/step - loss: 0.2764 - acc: 0.8910 - val_loss: 0.4062 - val_acc: 0.8258\n",
      "Epoch 4/10\n",
      "20000/20000 [==============================] - 15s 753us/step - loss: 0.2150 - acc: 0.9194 - val_loss: 0.3656 - val_acc: 0.8450\n",
      "Epoch 5/10\n",
      "20000/20000 [==============================] - 15s 733us/step - loss: 0.1434 - acc: 0.9498 - val_loss: 0.3727 - val_acc: 0.8558\n",
      "Epoch 6/10\n",
      "20000/20000 [==============================] - 15s 749us/step - loss: 0.0914 - acc: 0.9700 - val_loss: 0.5680 - val_acc: 0.7644\n",
      "Epoch 7/10\n",
      "20000/20000 [==============================] - 15s 750us/step - loss: 0.0601 - acc: 0.9822 - val_loss: 0.6521 - val_acc: 0.7616\n",
      "Epoch 8/10\n",
      "20000/20000 [==============================] - 15s 729us/step - loss: 0.0392 - acc: 0.9890 - val_loss: 0.5175 - val_acc: 0.8370\n",
      "Epoch 9/10\n",
      "20000/20000 [==============================] - 15s 735us/step - loss: 0.0241 - acc: 0.9935 - val_loss: 0.6285 - val_acc: 0.8136\n",
      "Epoch 10/10\n",
      "20000/20000 [==============================] - 15s 751us/step - loss: 0.0167 - acc: 0.9956 - val_loss: 0.5995 - val_acc: 0.8304\n",
      "Tiempo de entrenamiento: 2.52 minutos\n"
     ]
    }
   ],
   "source": [
    "t_start = time.time()\n",
    "\n",
    "model.compile(optimizer='rmsprop', loss='binary_crossentropy', metrics=['acc'])\n",
    "history = model.fit(input_train, y_train, epochs=10, batch_size=128, validation_split=0.2)\n",
    "\n",
    "t_end = time.time()\n",
    "print(\"Tiempo de entrenamiento: %2.2f minutos\" % ((t_end - t_start)/60) )"
   ]
  },
  {
   "cell_type": "markdown",
   "metadata": {},
   "source": [
    "### Evaluación de los resultados"
   ]
  },
  {
   "cell_type": "code",
   "execution_count": 16,
   "metadata": {},
   "outputs": [
    {
     "data": {
      "image/png": "[encoded data removed]",
      "text/plain": [
       "<Figure size 432x288 with 1 Axes>"
      ]
     },
     "metadata": {
      "needs_background": "light"
     },
     "output_type": "display_data"
    },
    {
     "data": {
      "image/png": "[encoded data removed]",
      "text/plain": [
       "<Figure size 432x288 with 1 Axes>"
      ]
     },
     "metadata": {
      "needs_background": "light"
     },
     "output_type": "display_data"
    }
   ],
   "source": [
    "import matplotlib.pyplot as plt\n",
    "\n",
    "acc = history.history['acc']\n",
    "val_acc = history.history['val_acc']\n",
    "loss = history.history['loss']\n",
    "val_loss = history.history['val_loss']\n",
    "\n",
    "epochs = range(len(acc))\n",
    "\n",
    "plt.plot(epochs, acc, 'bo', label='Training acc')\n",
    "plt.plot(epochs, val_acc, 'b', label='Validation acc')\n",
    "plt.title('Training and validation accuracy')\n",
    "plt.legend()\n",
    "\n",
    "plt.figure()\n",
    "\n",
    "plt.plot(epochs, loss, 'bo', label='Training loss')\n",
    "plt.plot(epochs, val_loss, 'b', label='Validation loss')\n",
    "plt.title('Training and validation loss')\n",
    "plt.legend()\n",
    "\n",
    "plt.show()"
   ]
  },
  {
   "cell_type": "markdown",
   "metadata": {},
   "source": [
    "Llegamos a aproximadamente 85% de accuracy en la predicción del sentimiento de los reviews.\n",
    "Esta cifra no es muy alta y se puede explicar por solo considerar las primeras 500 palabras de cada review y por el hecho de que **SimpleRNN** es un modelo cuyos estados son rápidamente olvidados (problema del *vanishing gradient*)."
   ]
  },
  {
   "cell_type": "markdown",
   "metadata": {},
   "source": [
    "Intentemos con un modelo un poco mas complejo, con 3 capas de SimpleRNN. Para poder conectar varias capas recurrentes, es necesario conservar las secuencias de los estados precedentes (no se puede utilizar el modo que produce y tiene en cuenta solamente el último valor):"
   ]
  },
  {
   "cell_type": "code",
   "execution_count": 18,
   "metadata": {},
   "outputs": [
    {
     "name": "stdout",
     "output_type": "stream",
     "text": [
      "_________________________________________________________________\n",
      "Layer (type)                 Output Shape              Param #   \n",
      "=================================================================\n",
      "embedding_3 (Embedding)      (None, None, 32)          320000    \n",
      "_________________________________________________________________\n",
      "simple_rnn_2 (SimpleRNN)     (None, None, 32)          2080      \n",
      "_________________________________________________________________\n",
      "simple_rnn_3 (SimpleRNN)     (None, None, 32)          2080      \n",
      "_________________________________________________________________\n",
      "simple_rnn_4 (SimpleRNN)     (None, 32)                2080      \n",
      "_________________________________________________________________\n",
      "dense_2 (Dense)              (None, 1)                 33        \n",
      "=================================================================\n",
      "Total params: 326,273\n",
      "Trainable params: 326,273\n",
      "Non-trainable params: 0\n",
      "_________________________________________________________________\n"
     ]
    }
   ],
   "source": [
    "model = Sequential()\n",
    "model.add(Embedding(max_features, embedding_dim)) #10000 xxxx con 32 XXXX\n",
    "model.add(SimpleRNN(embedding_dim, return_sequences=True))\n",
    "model.add(SimpleRNN(embedding_dim, return_sequences=True))\n",
    "model.add(SimpleRNN(embedding_dim))\n",
    "model.add(Dense(1, activation='sigmoid'))\n",
    "model.summary()"
   ]
  },
  {
   "cell_type": "markdown",
   "metadata": {},
   "source": [
    "Nótese cómo la última capa no retorna la secuencia de activaciones precedentes, pues estas no son necesarias para la comparación del valor predicho con el valor real.\n",
    "\n",
    "Entrenamos el modelo con 10 épocas (cada una dura 40 segundos en una máquina normal)"
   ]
  },
  {
   "cell_type": "code",
   "execution_count": 14,
   "metadata": {},
   "outputs": [
    {
     "name": "stdout",
     "output_type": "stream",
     "text": [
      "Train on 20000 samples, validate on 5000 samples\n",
      "Epoch 1/10\n",
      "20000/20000 [==============================] - 39s 2ms/step - loss: 0.6305 - acc: 0.6205 - val_loss: 0.5254 - val_acc: 0.7392\n",
      "Epoch 2/10\n",
      "20000/20000 [==============================] - 38s 2ms/step - loss: 0.4099 - acc: 0.8219 - val_loss: 0.4325 - val_acc: 0.8218\n",
      "Epoch 3/10\n",
      "20000/20000 [==============================] - 38s 2ms/step - loss: 0.3020 - acc: 0.8783 - val_loss: 1.3279 - val_acc: 0.6046\n",
      "Epoch 4/10\n",
      "20000/20000 [==============================] - 39s 2ms/step - loss: 0.2339 - acc: 0.9108 - val_loss: 0.4999 - val_acc: 0.7810\n",
      "Epoch 5/10\n",
      "20000/20000 [==============================] - 38s 2ms/step - loss: 0.1534 - acc: 0.9456 - val_loss: 0.5009 - val_acc: 0.7966\n",
      "Epoch 6/10\n",
      "20000/20000 [==============================] - 40s 2ms/step - loss: 0.0846 - acc: 0.9722 - val_loss: 0.5509 - val_acc: 0.8110\n",
      "Epoch 7/10\n",
      "20000/20000 [==============================] - 40s 2ms/step - loss: 0.0452 - acc: 0.9854 - val_loss: 0.6982 - val_acc: 0.8044\n",
      "Epoch 8/10\n",
      "20000/20000 [==============================] - 40s 2ms/step - loss: 0.0246 - acc: 0.9921 - val_loss: 1.0143 - val_acc: 0.7966\n",
      "Epoch 9/10\n",
      "20000/20000 [==============================] - 40s 2ms/step - loss: 0.0170 - acc: 0.9947 - val_loss: 1.2049 - val_acc: 0.7240\n",
      "Epoch 10/10\n",
      "20000/20000 [==============================] - 39s 2ms/step - loss: 0.0079 - acc: 0.9977 - val_loss: 0.9213 - val_acc: 0.8200\n"
     ]
    }
   ],
   "source": [
    "t_start = time.time()\n",
    "\n",
    "model.compile(optimizer='rmsprop', loss='binary_crossentropy', metrics=['acc'])\n",
    "history = model.fit(input_train, y_train, epochs=10, batch_size=128, validation_split=0.2)\n",
    "\n",
    "t_end = time.time()\n",
    "print(\"Tiempo de entrenamiento: %2.2f minutos\" % ((t_end - t_start)/60) )"
   ]
  },
  {
   "cell_type": "code",
   "execution_count": 15,
   "metadata": {},
   "outputs": [
    {
     "data": {
      "image/png": "[encoded data removed]",
      "text/plain": [
       "<Figure size 432x288 with 1 Axes>"
      ]
     },
     "metadata": {
      "needs_background": "light"
     },
     "output_type": "display_data"
    },
    {
     "data": {
      "image/png": "[encoded data removed]",
      "text/plain": [
       "<Figure size 432x288 with 1 Axes>"
      ]
     },
     "metadata": {
      "needs_background": "light"
     },
     "output_type": "display_data"
    }
   ],
   "source": [
    "acc = history.history['acc']\n",
    "val_acc = history.history['val_acc']\n",
    "loss = history.history['loss']\n",
    "val_loss = history.history['val_loss']\n",
    "\n",
    "epochs = range(len(acc))\n",
    "\n",
    "plt.plot(epochs, acc, 'bo', label='Training acc')\n",
    "plt.plot(epochs, val_acc, 'b', label='Validation acc')\n",
    "plt.title('Training and validation accuracy')\n",
    "plt.legend()\n",
    "\n",
    "plt.figure()\n",
    "\n",
    "plt.plot(epochs, loss, 'bo', label='Training loss')\n",
    "plt.plot(epochs, val_loss, 'b', label='Validation loss')\n",
    "plt.title('Training and validation loss')\n",
    "plt.legend()\n",
    "\n",
    "plt.show()\n"
   ]
  },
  {
   "cell_type": "markdown",
   "metadata": {},
   "source": [
    "Vemos que definitivamente con un **SimpleRNN**, así tengamos más de una 1 capa, logramos detectar algunos patrones secuenciales, pero estos no son lo suficientemente significativos para poder obtener resultados excelentes en el tratamiento de lenguaje natural."
   ]
  },
  {
   "cell_type": "markdown",
   "metadata": {},
   "source": [
    "### Modelo utilizando LSTMs"
   ]
  },
  {
   "cell_type": "markdown",
   "metadata": {},
   "source": [
    "Keras tienen buenos valores por defecto, en vez de un SimpleRNN, usemos modulos LSTM para clasificar los reviews."
   ]
  },
  {
   "cell_type": "code",
   "execution_count": 19,
   "metadata": {},
   "outputs": [],
   "source": [
    "from keras.layers import LSTM"
   ]
  },
  {
   "cell_type": "code",
   "execution_count": 21,
   "metadata": {},
   "outputs": [
    {
     "name": "stdout",
     "output_type": "stream",
     "text": [
      "_________________________________________________________________\n",
      "Layer (type)                 Output Shape              Param #   \n",
      "=================================================================\n",
      "embedding_4 (Embedding)      (None, None, 32)          320000    \n",
      "_________________________________________________________________\n",
      "lstm_1 (LSTM)                (None, 32)                8320      \n",
      "_________________________________________________________________\n",
      "dense_3 (Dense)              (None, 1)                 33        \n",
      "=================================================================\n",
      "Total params: 328,353\n",
      "Trainable params: 328,353\n",
      "Non-trainable params: 0\n",
      "_________________________________________________________________\n"
     ]
    }
   ],
   "source": [
    "model = Sequential()\n",
    "model.add(Embedding(max_features, embedding_dim)) #10000 xxxx con 32 XXXX\n",
    "model.add(LSTM(embedding_dim))\n",
    "model.add(Dense(1, activation='sigmoid'))\n",
    "model.summary()"
   ]
  },
  {
   "cell_type": "code",
   "execution_count": 22,
   "metadata": {},
   "outputs": [
    {
     "name": "stdout",
     "output_type": "stream",
     "text": [
      "Train on 20000 samples, validate on 5000 samples\n",
      "Epoch 1/10\n",
      "20000/20000 [==============================] - 41s 2ms/step - loss: 0.5374 - acc: 0.7367 - val_loss: 0.3667 - val_acc: 0.8502\n",
      "Epoch 2/10\n",
      "20000/20000 [==============================] - 40s 2ms/step - loss: 0.2978 - acc: 0.8827 - val_loss: 0.3212 - val_acc: 0.8646\n",
      "Epoch 3/10\n",
      "20000/20000 [==============================] - 41s 2ms/step - loss: 0.2401 - acc: 0.9086 - val_loss: 0.2984 - val_acc: 0.8830\n",
      "Epoch 4/10\n",
      "20000/20000 [==============================] - 44s 2ms/step - loss: 0.2045 - acc: 0.9250 - val_loss: 0.3022 - val_acc: 0.8772\n",
      "Epoch 5/10\n",
      "20000/20000 [==============================] - 40s 2ms/step - loss: 0.1828 - acc: 0.9338 - val_loss: 0.2977 - val_acc: 0.8874\n",
      "Epoch 6/10\n",
      "20000/20000 [==============================] - 39s 2ms/step - loss: 0.1655 - acc: 0.9405 - val_loss: 0.2948 - val_acc: 0.8876\n",
      "Epoch 7/10\n",
      "20000/20000 [==============================] - 40s 2ms/step - loss: 0.1498 - acc: 0.9465 - val_loss: 0.4856 - val_acc: 0.8162\n",
      "Epoch 8/10\n",
      "20000/20000 [==============================] - 40s 2ms/step - loss: 0.1385 - acc: 0.9512 - val_loss: 0.3112 - val_acc: 0.8766\n",
      "Epoch 9/10\n",
      "20000/20000 [==============================] - 39s 2ms/step - loss: 0.1239 - acc: 0.9566 - val_loss: 0.3341 - val_acc: 0.8844\n",
      "Epoch 10/10\n",
      "20000/20000 [==============================] - 40s 2ms/step - loss: 0.1193 - acc: 0.9593 - val_loss: 0.3393 - val_acc: 0.8742\n",
      "Tiempo de entrenamiento: 6.77 minutos\n"
     ]
    }
   ],
   "source": [
    "t_start = time.time()\n",
    "\n",
    "model.compile(optimizer='rmsprop', loss='binary_crossentropy', metrics=['acc'])\n",
    "history = model.fit(input_train, y_train, epochs=10, batch_size=128, validation_split=0.2)\n",
    "\n",
    "t_end = time.time()\n",
    "print(\"Tiempo de entrenamiento: %2.2f minutos\" % ((t_end - t_start)/60) )"
   ]
  },
  {
   "cell_type": "code",
   "execution_count": 23,
   "metadata": {},
   "outputs": [
    {
     "data": {
      "image/png": "[encoded data removed]",
      "text/plain": [
       "<Figure size 432x288 with 1 Axes>"
      ]
     },
     "metadata": {
      "needs_background": "light"
     },
     "output_type": "display_data"
    },
    {
     "data": {
      "image/png": "[encoded data removed]",
      "text/plain": [
       "<Figure size 432x288 with 1 Axes>"
      ]
     },
     "metadata": {
      "needs_background": "light"
     },
     "output_type": "display_data"
    }
   ],
   "source": [
    "acc = history.history['acc']\n",
    "val_acc = history.history['val_acc']\n",
    "loss = history.history['loss']\n",
    "val_loss = history.history['val_loss']\n",
    "\n",
    "epochs = range(len(acc))\n",
    "\n",
    "plt.plot(epochs, acc, 'bo', label='Training acc')\n",
    "plt.plot(epochs, val_acc, 'b', label='Validation acc')\n",
    "plt.title('Training and validation accuracy')\n",
    "plt.legend()\n",
    "\n",
    "plt.figure()\n",
    "\n",
    "plt.plot(epochs, loss, 'bo', label='Training loss')\n",
    "plt.plot(epochs, val_loss, 'b', label='Validation loss')\n",
    "plt.title('Training and validation loss')\n",
    "plt.legend()\n",
    "\n",
    "plt.show()\n"
   ]
  },
  {
   "cell_type": "markdown",
   "metadata": {},
   "source": [
    "Con un módulo LSTM, pudimos lograr obtener un accuracy del 89%.\n",
    "Esto es mucho mejor que con el SimpleRNN, dado que los LSTMs sufren mucho menos del olvido causado por el desvanecimiento de gradiente.\n",
    "Sin embargo podría ser mucho mejor:\n",
    "- si se busca un mejor tuning de los hyper-parámetros, como las dimensiones de representación del embedding, o la dimensionalidad de salida del LSTM\n",
    "- si se utilizara algún mecanismo de regularización como el dropout secuencial\n",
    "\n",
    "De cualquier manera el análisis de sentimiento es una tarea bastante básica que no requiere de los mecanismos de memoria de los LSTMs."
   ]
  }
 ],
 "metadata": {
  "kernelspec": {
   "display_name": "Python 3",
   "language": "python",
   "name": "python3"
  },
  "language_info": {
   "codemirror_mode": {
    "name": "ipython",
    "version": 3
   },
   "file_extension": ".py",
   "mimetype": "text/x-python",
   "name": "python",
   "nbconvert_exporter": "python",
   "pygments_lexer": "ipython3",
   "version": "3.6.6"
  }
 },
 "nbformat": 4,
 "nbformat_minor": 2
}
