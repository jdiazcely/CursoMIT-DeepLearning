{
 "cells": [
  {
   "cell_type": "markdown",
   "metadata": {},
   "source": [
    "# Redes Neuronales Recurrentes"
   ]
  },
  {
   "cell_type": "markdown",
   "metadata": {},
   "source": [
    "Basado en https://machinelearningmastery.com/time-series-prediction-lstm-recurrent-neural-networks-python-keras/"
   ]
  },
  {
   "cell_type": "markdown",
   "metadata": {},
   "source": [
    "Las redes neuronales recurrentes permiten hacer predicción con series de tiempo, aprendiendo las relaciones de dependencia secuencial entre valores numéricos."
   ]
  },
  {
   "cell_type": "markdown",
   "metadata": {},
   "source": [
    "Para ilustrar la aplicación de estos modelos para el forecasting con series de tiempo, vamos a considerar un dataset con datos históricos muy conocido que describe la evolución del número de pasajeros aéreos de enero de 1949 a diciembre de 1960 (144 pasos de tiempo).\n",
    "\n",
    "Vamos a utilizar redes LSTM en Keras."
   ]
  },
  {
   "cell_type": "markdown",
   "metadata": {},
   "source": [
    "## Exploración y preparación de los datos"
   ]
  },
  {
   "cell_type": "markdown",
   "metadata": {},
   "source": [
    "Cargamos el archivo de datos y lo exploramos."
   ]
  },
  {
   "cell_type": "code",
   "execution_count": 1,
   "metadata": {},
   "outputs": [
    {
     "name": "stderr",
     "output_type": "stream",
     "text": [
      "Using TensorFlow backend.\n"
     ]
    }
   ],
   "source": [
    "import numpy as np\n",
    "import matplotlib.pyplot as plt\n",
    "import pandas as pd\n",
    "import math\n",
    "from keras.models import Sequential\n",
    "from keras.layers import Dense\n",
    "from keras.layers import LSTM\n",
    "from sklearn.preprocessing import MinMaxScaler\n",
    "from sklearn.metrics import mean_squared_error"
   ]
  },
  {
   "cell_type": "code",
   "execution_count": 2,
   "metadata": {},
   "outputs": [],
   "source": [
    "path = \"D:/Usuarios/94501228/Dropbox/Cursos_Propios/MIT - Deep Learning/06 - RNN/PasajerosAereos.csv\"\n",
    "dataset = pd.read_csv(path, usecols=[1])#, engine='python', skipfooter=3)"
   ]
  },
  {
   "cell_type": "code",
   "execution_count": 3,
   "metadata": {},
   "outputs": [
    {
     "name": "stdout",
     "output_type": "stream",
     "text": [
      "<class 'pandas.core.frame.DataFrame'>\n",
      "RangeIndex: 144 entries, 0 to 143\n",
      "Data columns (total 1 columns):\n",
      "Pasajeros    144 non-null int64\n",
      "dtypes: int64(1)\n",
      "memory usage: 1.2 KB\n"
     ]
    }
   ],
   "source": [
    "dataset.info()"
   ]
  },
  {
   "cell_type": "code",
   "execution_count": 4,
   "metadata": {},
   "outputs": [
    {
     "data": {
      "text/html": [
       "<div>\n",
       "<style scoped>\n",
       "    .dataframe tbody tr th:only-of-type {\n",
       "        vertical-align: middle;\n",
       "    }\n",
       "\n",
       "    .dataframe tbody tr th {\n",
       "        vertical-align: top;\n",
       "    }\n",
       "\n",
       "    .dataframe thead th {\n",
       "        text-align: right;\n",
       "    }\n",
       "</style>\n",
       "<table border=\"1\" class=\"dataframe\">\n",
       "  <thead>\n",
       "    <tr style=\"text-align: right;\">\n",
       "      <th></th>\n",
       "      <th>Pasajeros</th>\n",
       "    </tr>\n",
       "  </thead>\n",
       "  <tbody>\n",
       "    <tr>\n",
       "      <th>0</th>\n",
       "      <td>112</td>\n",
       "    </tr>\n",
       "    <tr>\n",
       "      <th>1</th>\n",
       "      <td>118</td>\n",
       "    </tr>\n",
       "    <tr>\n",
       "      <th>2</th>\n",
       "      <td>132</td>\n",
       "    </tr>\n",
       "    <tr>\n",
       "      <th>3</th>\n",
       "      <td>129</td>\n",
       "    </tr>\n",
       "    <tr>\n",
       "      <th>4</th>\n",
       "      <td>121</td>\n",
       "    </tr>\n",
       "  </tbody>\n",
       "</table>\n",
       "</div>"
      ],
      "text/plain": [
       "   Pasajeros\n",
       "0        112\n",
       "1        118\n",
       "2        132\n",
       "3        129\n",
       "4        121"
      ]
     },
     "execution_count": 4,
     "metadata": {},
     "output_type": "execute_result"
    }
   ],
   "source": [
    "dataset.head()"
   ]
  },
  {
   "cell_type": "code",
   "execution_count": 5,
   "metadata": {},
   "outputs": [
    {
     "data": {
      "text/html": [
       "<div>\n",
       "<style scoped>\n",
       "    .dataframe tbody tr th:only-of-type {\n",
       "        vertical-align: middle;\n",
       "    }\n",
       "\n",
       "    .dataframe tbody tr th {\n",
       "        vertical-align: top;\n",
       "    }\n",
       "\n",
       "    .dataframe thead th {\n",
       "        text-align: right;\n",
       "    }\n",
       "</style>\n",
       "<table border=\"1\" class=\"dataframe\">\n",
       "  <thead>\n",
       "    <tr style=\"text-align: right;\">\n",
       "      <th></th>\n",
       "      <th>Pasajeros</th>\n",
       "    </tr>\n",
       "  </thead>\n",
       "  <tbody>\n",
       "    <tr>\n",
       "      <th>count</th>\n",
       "      <td>144.000000</td>\n",
       "    </tr>\n",
       "    <tr>\n",
       "      <th>mean</th>\n",
       "      <td>280.298611</td>\n",
       "    </tr>\n",
       "    <tr>\n",
       "      <th>std</th>\n",
       "      <td>119.966317</td>\n",
       "    </tr>\n",
       "    <tr>\n",
       "      <th>min</th>\n",
       "      <td>104.000000</td>\n",
       "    </tr>\n",
       "    <tr>\n",
       "      <th>25%</th>\n",
       "      <td>180.000000</td>\n",
       "    </tr>\n",
       "    <tr>\n",
       "      <th>50%</th>\n",
       "      <td>265.500000</td>\n",
       "    </tr>\n",
       "    <tr>\n",
       "      <th>75%</th>\n",
       "      <td>360.500000</td>\n",
       "    </tr>\n",
       "    <tr>\n",
       "      <th>max</th>\n",
       "      <td>622.000000</td>\n",
       "    </tr>\n",
       "  </tbody>\n",
       "</table>\n",
       "</div>"
      ],
      "text/plain": [
       "        Pasajeros\n",
       "count  144.000000\n",
       "mean   280.298611\n",
       "std    119.966317\n",
       "min    104.000000\n",
       "25%    180.000000\n",
       "50%    265.500000\n",
       "75%    360.500000\n",
       "max    622.000000"
      ]
     },
     "execution_count": 5,
     "metadata": {},
     "output_type": "execute_result"
    }
   ],
   "source": [
    "dataset.describe()"
   ]
  },
  {
   "cell_type": "code",
   "execution_count": 6,
   "metadata": {},
   "outputs": [
    {
     "data": {
      "image/png": "[encoded data removed]",
      "text/plain": [
       "<Figure size 432x288 with 1 Axes>"
      ]
     },
     "metadata": {
      "needs_background": "light"
     },
     "output_type": "display_data"
    }
   ],
   "source": [
    "plt.plot(dataset)\n",
    "plt.show()"
   ]
  },
  {
   "cell_type": "markdown",
   "metadata": {},
   "source": [
    "Podemos ver que existe una periodicidad de los datos encontrados. Fácilmente podemos encontrar los 12 años que abarcan los datos. Además, se puede notar que existe una tendencia positiva."
   ]
  },
  {
   "cell_type": "markdown",
   "metadata": {},
   "source": [
    "Los LSTMs son sensibles a la escala de los datos. Idealmente deberían tener pequeños valores, por lo que vamos a normalizarlos para que queden entre 0 y 1."
   ]
  },
  {
   "cell_type": "code",
   "execution_count": 7,
   "metadata": {},
   "outputs": [],
   "source": [
    "dataset = dataset.values.astype('float32')"
   ]
  },
  {
   "cell_type": "code",
   "execution_count": 8,
   "metadata": {},
   "outputs": [],
   "source": [
    "scaler = MinMaxScaler(feature_range=(0, 1))\n",
    "dataset = scaler.fit_transform(dataset)"
   ]
  },
  {
   "cell_type": "markdown",
   "metadata": {},
   "source": [
    "Para poder validar el modelo, vamos a particionar el dataset en training y test set:"
   ]
  },
  {
   "cell_type": "code",
   "execution_count": 9,
   "metadata": {},
   "outputs": [
    {
     "name": "stdout",
     "output_type": "stream",
     "text": [
      "96 48\n"
     ]
    }
   ],
   "source": [
    "# split into train and test sets\n",
    "train_size = int(len(dataset) * 0.67)\n",
    "test_size = len(dataset) - train_size\n",
    "train, test = dataset[0:train_size,:], dataset[train_size:len(dataset),:]\n",
    "print(len(train), len(test))"
   ]
  },
  {
   "cell_type": "markdown",
   "metadata": {},
   "source": [
    "Para poder crear batches (muestras) de tratamiento para aprender el modelo de forecasting, vamos a definir la función siguiente que, dado un array con los datos de una serie de tiempo, y un número de pasos de tiempo a considerar en el pasado (lookback), produce una matriz con los datos organizados para ser consumidos por la red neuronal recurrente."
   ]
  },
  {
   "cell_type": "code",
   "execution_count": 10,
   "metadata": {},
   "outputs": [],
   "source": [
    "# convert an array of values into a dataset matrix\n",
    "def create_dataset(dataset, look_back=1):\n",
    "    dataX, dataY = [], []\n",
    "    for i in range(len(dataset)-look_back-1):\n",
    "        a = dataset[i:(i+look_back), 0]\n",
    "        dataX.append(a)\n",
    "        dataY.append(dataset[i + look_back, 0])\n",
    "    return (np.asarray(dataX), np.asarray(dataY))"
   ]
  },
  {
   "cell_type": "markdown",
   "metadata": {},
   "source": [
    "Por ejemplo, veamos lo que produce esta función con el dataset actual."
   ]
  },
  {
   "cell_type": "code",
   "execution_count": 11,
   "metadata": {},
   "outputs": [
    {
     "data": {
      "text/plain": [
       "array([[0.01544401],\n",
       "       [0.02702703],\n",
       "       [0.05405405],\n",
       "       [0.04826255],\n",
       "       [0.03281853]], dtype=float32)"
      ]
     },
     "execution_count": 11,
     "metadata": {},
     "output_type": "execute_result"
    }
   ],
   "source": [
    "dataset[0:5]"
   ]
  },
  {
   "cell_type": "code",
   "execution_count": 12,
   "metadata": {},
   "outputs": [],
   "source": [
    "look_back = 1\n",
    "trainX, trainY = create_dataset(train, look_back)\n",
    "testX, testY = create_dataset(test, look_back)"
   ]
  },
  {
   "cell_type": "code",
   "execution_count": 13,
   "metadata": {},
   "outputs": [
    {
     "data": {
      "text/plain": [
       "array([[0.01544401],\n",
       "       [0.02702703],\n",
       "       [0.05405405],\n",
       "       [0.04826255],\n",
       "       [0.03281853]], dtype=float32)"
      ]
     },
     "execution_count": 13,
     "metadata": {},
     "output_type": "execute_result"
    }
   ],
   "source": [
    "trainX[0:5]"
   ]
  },
  {
   "cell_type": "code",
   "execution_count": 14,
   "metadata": {},
   "outputs": [
    {
     "data": {
      "text/plain": [
       "array([0.02702703, 0.05405405, 0.04826255, 0.03281853, 0.05984557],\n",
       "      dtype=float32)"
      ]
     },
     "execution_count": 14,
     "metadata": {},
     "output_type": "execute_result"
    }
   ],
   "source": [
    "trainY[0:5]"
   ]
  },
  {
   "cell_type": "code",
   "execution_count": 15,
   "metadata": {},
   "outputs": [
    {
     "data": {
      "text/plain": [
       "(94, 1)"
      ]
     },
     "execution_count": 15,
     "metadata": {},
     "output_type": "execute_result"
    }
   ],
   "source": [
    "trainX.shape"
   ]
  },
  {
   "cell_type": "markdown",
   "metadata": {},
   "source": [
    "La red LSTM espera recibir los datos de entrenamiento con la forma [samples, timesteps, features]. En este caso vamos a tener 94 samples de entrada, 1 solo paso de tiempo, y un feature de entrada (lookback = 1).\n",
    "\n",
    "En el estado actual tenemos los datasets de los inputs (variables predictivas X) con la forma [samples, features], por lo que necesitamos modificarlo. Utilizamos entonces la función reshape."
   ]
  },
  {
   "cell_type": "code",
   "execution_count": 16,
   "metadata": {},
   "outputs": [],
   "source": [
    "trainX = np.reshape(trainX, (trainX.shape[0], 1, trainX.shape[1]))\n",
    "testX = np.reshape(testX, (testX.shape[0], 1, testX.shape[1]))"
   ]
  },
  {
   "cell_type": "code",
   "execution_count": 17,
   "metadata": {},
   "outputs": [
    {
     "data": {
      "text/plain": [
       "(94, 1, 1)"
      ]
     },
     "execution_count": 17,
     "metadata": {},
     "output_type": "execute_result"
    }
   ],
   "source": [
    "trainX.shape"
   ]
  },
  {
   "cell_type": "markdown",
   "metadata": {},
   "source": [
    "## Aplicación de LSTMs para la predicción"
   ]
  },
  {
   "cell_type": "markdown",
   "metadata": {},
   "source": [
    "Vamos a tratar de resolver la pregunta siguiente: \"Dados los datos históricos de número de pasajeros mensuales, podemos predecir el número de pasajeros del mes siguiente?\""
   ]
  },
  {
   "cell_type": "markdown",
   "metadata": {},
   "source": [
    "### Modelo inicial: considera el dato anterior"
   ]
  },
  {
   "cell_type": "markdown",
   "metadata": {},
   "source": [
    "Comenzamos con un modelo muy sencillo con 1 solo input, una capa escondida con 4 bloques LSTM, y una sola neurona de salida con la predicción del siguiente valor de la serie de tiempo (función de activación por defecto lineal). \n",
    "En los bloques LSTM vamos a utilizar la función de activación por defecto. \n",
    "Entrenamos los parámetros durante 100 épocas con un batch de tamaño 1 (Stochastic Gradient Descent)."
   ]
  },
  {
   "cell_type": "code",
   "execution_count": 19,
   "metadata": {},
   "outputs": [],
   "source": [
    "np.random.seed(7)"
   ]
  },
  {
   "cell_type": "code",
   "execution_count": 20,
   "metadata": {},
   "outputs": [
    {
     "name": "stdout",
     "output_type": "stream",
     "text": [
      "_________________________________________________________________\n",
      "Layer (type)                 Output Shape              Param #   \n",
      "=================================================================\n",
      "lstm_1 (LSTM)                (None, 4)                 96        \n",
      "_________________________________________________________________\n",
      "dense_1 (Dense)              (None, 1)                 5         \n",
      "=================================================================\n",
      "Total params: 101\n",
      "Trainable params: 101\n",
      "Non-trainable params: 0\n",
      "_________________________________________________________________\n"
     ]
    }
   ],
   "source": [
    "model = Sequential()\n",
    "model.add(LSTM(4, input_shape=(1, look_back)))\n",
    "model.add(Dense(1))\n",
    "model.summary()"
   ]
  },
  {
   "cell_type": "code",
   "execution_count": 21,
   "metadata": {},
   "outputs": [
    {
     "name": "stdout",
     "output_type": "stream",
     "text": [
      "Epoch 1/100\n",
      " - 1s - loss: 0.0413\n",
      "Epoch 2/100\n",
      " - 0s - loss: 0.0202\n",
      "Epoch 3/100\n",
      " - 0s - loss: 0.0146\n",
      "Epoch 4/100\n",
      " - 0s - loss: 0.0131\n",
      "Epoch 5/100\n",
      " - 0s - loss: 0.0121\n",
      "Epoch 6/100\n",
      " - 0s - loss: 0.0111\n",
      "Epoch 7/100\n",
      " - 0s - loss: 0.0102\n",
      "Epoch 8/100\n",
      " - 0s - loss: 0.0093\n",
      "Epoch 9/100\n",
      " - 0s - loss: 0.0081\n",
      "Epoch 10/100\n",
      " - 0s - loss: 0.0071\n",
      "Epoch 11/100\n",
      " - 0s - loss: 0.0062\n",
      "Epoch 12/100\n",
      " - 0s - loss: 0.0053\n",
      "Epoch 13/100\n",
      " - 0s - loss: 0.0045\n",
      "Epoch 14/100\n",
      " - 0s - loss: 0.0038\n",
      "Epoch 15/100\n",
      " - 0s - loss: 0.0033\n",
      "Epoch 16/100\n",
      " - 0s - loss: 0.0029\n",
      "Epoch 17/100\n",
      " - 0s - loss: 0.0026\n",
      "Epoch 18/100\n",
      " - 0s - loss: 0.0024\n",
      "Epoch 19/100\n",
      " - 0s - loss: 0.0022\n",
      "Epoch 20/100\n",
      " - 0s - loss: 0.0022\n",
      "Epoch 21/100\n",
      " - 0s - loss: 0.0021\n",
      "Epoch 22/100\n",
      " - 0s - loss: 0.0021\n",
      "Epoch 23/100\n",
      " - 0s - loss: 0.0021\n",
      "Epoch 24/100\n",
      " - 0s - loss: 0.0021\n",
      "Epoch 25/100\n",
      " - 0s - loss: 0.0020\n",
      "Epoch 26/100\n",
      " - 0s - loss: 0.0021\n",
      "Epoch 27/100\n",
      " - 0s - loss: 0.0020\n",
      "Epoch 28/100\n",
      " - 0s - loss: 0.0020\n",
      "Epoch 29/100\n",
      " - 0s - loss: 0.0020\n",
      "Epoch 30/100\n",
      " - 0s - loss: 0.0021\n",
      "Epoch 31/100\n",
      " - 0s - loss: 0.0020\n",
      "Epoch 32/100\n",
      " - 0s - loss: 0.0020\n",
      "Epoch 33/100\n",
      " - 0s - loss: 0.0021\n",
      "Epoch 34/100\n",
      " - 0s - loss: 0.0021\n",
      "Epoch 35/100\n",
      " - 0s - loss: 0.0021\n",
      "Epoch 36/100\n",
      " - 0s - loss: 0.0020\n",
      "Epoch 37/100\n",
      " - 0s - loss: 0.0021\n",
      "Epoch 38/100\n",
      " - 0s - loss: 0.0020\n",
      "Epoch 39/100\n",
      " - 0s - loss: 0.0021\n",
      "Epoch 40/100\n",
      " - 0s - loss: 0.0020\n",
      "Epoch 41/100\n",
      " - 0s - loss: 0.0020\n",
      "Epoch 42/100\n",
      " - 0s - loss: 0.0020\n",
      "Epoch 43/100\n",
      " - 0s - loss: 0.0021\n",
      "Epoch 44/100\n",
      " - 0s - loss: 0.0020\n",
      "Epoch 45/100\n",
      " - 0s - loss: 0.0021\n",
      "Epoch 46/100\n",
      " - 0s - loss: 0.0020\n",
      "Epoch 47/100\n",
      " - 0s - loss: 0.0020\n",
      "Epoch 48/100\n",
      " - 0s - loss: 0.0020\n",
      "Epoch 49/100\n",
      " - 0s - loss: 0.0020\n",
      "Epoch 50/100\n",
      " - 0s - loss: 0.0020\n",
      "Epoch 51/100\n",
      " - 0s - loss: 0.0020\n",
      "Epoch 52/100\n",
      " - 0s - loss: 0.0020\n",
      "Epoch 53/100\n",
      " - 0s - loss: 0.0020\n",
      "Epoch 54/100\n",
      " - 0s - loss: 0.0020\n",
      "Epoch 55/100\n",
      " - 0s - loss: 0.0021\n",
      "Epoch 56/100\n",
      " - 0s - loss: 0.0020\n",
      "Epoch 57/100\n",
      " - 0s - loss: 0.0020\n",
      "Epoch 58/100\n",
      " - 0s - loss: 0.0020\n",
      "Epoch 59/100\n",
      " - 0s - loss: 0.0020\n",
      "Epoch 60/100\n",
      " - 0s - loss: 0.0020\n",
      "Epoch 61/100\n",
      " - 0s - loss: 0.0021\n",
      "Epoch 62/100\n",
      " - 0s - loss: 0.0020\n",
      "Epoch 63/100\n",
      " - 0s - loss: 0.0020\n",
      "Epoch 64/100\n",
      " - 0s - loss: 0.0020\n",
      "Epoch 65/100\n",
      " - 0s - loss: 0.0020\n",
      "Epoch 66/100\n",
      " - 0s - loss: 0.0020\n",
      "Epoch 67/100\n",
      " - 0s - loss: 0.0020\n",
      "Epoch 68/100\n",
      " - 0s - loss: 0.0021\n",
      "Epoch 69/100\n",
      " - 0s - loss: 0.0020\n",
      "Epoch 70/100\n",
      " - 0s - loss: 0.0021\n",
      "Epoch 71/100\n",
      " - 0s - loss: 0.0020\n",
      "Epoch 72/100\n",
      " - 0s - loss: 0.0020\n",
      "Epoch 73/100\n",
      " - 0s - loss: 0.0020\n",
      "Epoch 74/100\n",
      " - 0s - loss: 0.0021\n",
      "Epoch 75/100\n",
      " - 0s - loss: 0.0021\n",
      "Epoch 76/100\n",
      " - 0s - loss: 0.0020\n",
      "Epoch 77/100\n",
      " - 0s - loss: 0.0021\n",
      "Epoch 78/100\n",
      " - 0s - loss: 0.0019\n",
      "Epoch 79/100\n",
      " - 0s - loss: 0.0022\n",
      "Epoch 80/100\n",
      " - 0s - loss: 0.0020\n",
      "Epoch 81/100\n",
      " - 0s - loss: 0.0020\n",
      "Epoch 82/100\n",
      " - 0s - loss: 0.0020\n",
      "Epoch 83/100\n",
      " - 0s - loss: 0.0020\n",
      "Epoch 84/100\n",
      " - 0s - loss: 0.0020\n",
      "Epoch 85/100\n",
      " - 0s - loss: 0.0021\n",
      "Epoch 86/100\n",
      " - 0s - loss: 0.0021\n",
      "Epoch 87/100\n",
      " - 0s - loss: 0.0020\n",
      "Epoch 88/100\n",
      " - 0s - loss: 0.0020\n",
      "Epoch 89/100\n",
      " - 0s - loss: 0.0020\n",
      "Epoch 90/100\n",
      " - 0s - loss: 0.0020\n",
      "Epoch 91/100\n",
      " - 0s - loss: 0.0020\n",
      "Epoch 92/100\n",
      " - 0s - loss: 0.0020\n",
      "Epoch 93/100\n",
      " - 0s - loss: 0.0021\n",
      "Epoch 94/100\n",
      " - 0s - loss: 0.0021\n",
      "Epoch 95/100\n",
      " - 0s - loss: 0.0020\n",
      "Epoch 96/100\n",
      " - 0s - loss: 0.0020\n",
      "Epoch 97/100\n",
      " - 0s - loss: 0.0020\n",
      "Epoch 98/100\n",
      " - 0s - loss: 0.0020\n",
      "Epoch 99/100\n",
      " - 0s - loss: 0.0020\n",
      "Epoch 100/100\n",
      " - 0s - loss: 0.0020\n"
     ]
    }
   ],
   "source": [
    "model.compile(loss='mean_squared_error', optimizer='adam')\n",
    "history = model.fit(trainX, trainY, epochs=100, batch_size=1, verbose=2)"
   ]
  },
  {
   "cell_type": "code",
   "execution_count": 29,
   "metadata": {},
   "outputs": [
    {
     "data": {
      "image/png": "[encoded data removed]",
      "text/plain": [
       "<Figure size 432x288 with 1 Axes>"
      ]
     },
     "metadata": {
      "needs_background": "light"
     },
     "output_type": "display_data"
    }
   ],
   "source": [
    "loss = history.history[\"loss\"]\n",
    "epocas =  range(1,101)\n",
    "\n",
    "plt.figure()\n",
    "plt.plot(epocas, loss, \"bo\", label=\"Training loss\")\n",
    "plt.title(\"Training loss\")\n",
    "plt.legend()\n",
    "plt.show()"
   ]
  },
  {
   "cell_type": "markdown",
   "metadata": {},
   "source": [
    "Vamos a ver como nos fue con la calidad de la predicción. Para poder obtener las predicciones en las unidades originales (número de pasajeros), vamos a invertir el cambio de escala. Utilizamos el RMSE como métrica de evaluación."
   ]
  },
  {
   "cell_type": "code",
   "execution_count": 30,
   "metadata": {},
   "outputs": [],
   "source": [
    "trainPredict = model.predict(trainX)\n",
    "trainPredict = scaler.inverse_transform(trainPredict)\n",
    "trainY = scaler.inverse_transform([trainY])\n",
    "\n",
    "testPredict = model.predict(testX)\n",
    "testPredict = scaler.inverse_transform(testPredict)\n",
    "testY = scaler.inverse_transform([testY])"
   ]
  },
  {
   "cell_type": "code",
   "execution_count": 31,
   "metadata": {},
   "outputs": [
    {
     "data": {
      "text/plain": [
       "array([124.27634, 129.4215 , 141.62347, 138.98637, 132.01344],\n",
       "      dtype=float32)"
      ]
     },
     "execution_count": 31,
     "metadata": {},
     "output_type": "execute_result"
    }
   ],
   "source": [
    "np.squeeze(trainPredict)[0:5]"
   ]
  },
  {
   "cell_type": "code",
   "execution_count": 32,
   "metadata": {},
   "outputs": [
    {
     "data": {
      "text/plain": [
       "array([117.99999916, 131.99999879, 129.00000163, 120.99999632,\n",
       "       135.00000368])"
      ]
     },
     "execution_count": 32,
     "metadata": {},
     "output_type": "execute_result"
    }
   ],
   "source": [
    "np.squeeze(trainY)[0:5]"
   ]
  },
  {
   "cell_type": "code",
   "execution_count": 33,
   "metadata": {},
   "outputs": [
    {
     "data": {
      "text/plain": [
       "array([314.82596, 301.37778, 353.67957, 346.17392, 352.74368],\n",
       "      dtype=float32)"
      ]
     },
     "execution_count": 33,
     "metadata": {},
     "output_type": "execute_result"
    }
   ],
   "source": [
    "np.squeeze(testPredict)[0:5]"
   ]
  },
  {
   "cell_type": "code",
   "execution_count": 34,
   "metadata": {},
   "outputs": [
    {
     "data": {
      "text/plain": [
       "array([301.00001152, 355.999993  , 348.00001085, 355.00000681,\n",
       "       421.9999924 ])"
      ]
     },
     "execution_count": 34,
     "metadata": {},
     "output_type": "execute_result"
    }
   ],
   "source": [
    "np.squeeze(testY)[0:5]"
   ]
  },
  {
   "cell_type": "code",
   "execution_count": 35,
   "metadata": {},
   "outputs": [
    {
     "name": "stdout",
     "output_type": "stream",
     "text": [
      "Train Score: 22.92 RMSE\n",
      "Test Score: 47.53 RMSE\n"
     ]
    }
   ],
   "source": [
    "trainScore = math.sqrt(mean_squared_error(trainY[0], trainPredict[:,0]))\n",
    "print('Train Score: %.2f RMSE' % (trainScore))\n",
    "testScore = math.sqrt(mean_squared_error(testY[0], testPredict[:,0]))\n",
    "print('Test Score: %.2f RMSE' % (testScore))"
   ]
  },
  {
   "cell_type": "markdown",
   "metadata": {},
   "source": [
    "Vamos a decalar de un paso de tiempo las predicciones, pues así se tenga el primer valor real de la serie, no se tiene el valor predicho correspondiente."
   ]
  },
  {
   "cell_type": "code",
   "execution_count": 36,
   "metadata": {},
   "outputs": [
    {
     "name": "stdout",
     "output_type": "stream",
     "text": [
      "[[      nan]\n",
      " [124.27634]\n",
      " [129.4215 ]\n",
      " [141.62347]\n",
      " [138.98637]]\n",
      "[[507.3264 ]\n",
      " [570.98047]\n",
      " [559.7904 ]\n",
      " [486.11057]\n",
      " [447.4635 ]]\n"
     ]
    }
   ],
   "source": [
    "trainPredictPlot = np.empty_like(dataset)\n",
    "trainPredictPlot[:, :] = np.nan\n",
    "trainPredictPlot[look_back:len(trainPredict)+look_back, :] = trainPredict\n",
    "print(trainPredictPlot[0:5])\n",
    "\n",
    "testPredictPlot = np.empty_like(dataset)\n",
    "testPredictPlot[:, :] = np.nan\n",
    "testPredictPlot[len(trainPredict)+(look_back*2)+1:len(dataset)-1, :] = testPredict\n",
    "print(testPredictPlot[-6:-1])"
   ]
  },
  {
   "cell_type": "markdown",
   "metadata": {},
   "source": [
    "La serie predicha de entreamiento tiene solo valores para los primeros 2 tercios de los datos, la de test solo para el último tercio.\n",
    "\n",
    "Veamos gráficamente la calidad de las predicciones comparadas con los valores reales."
   ]
  },
  {
   "cell_type": "code",
   "execution_count": 37,
   "metadata": {},
   "outputs": [
    {
     "data": {
      "image/png": "[encoded data removed]",
      "text/plain": [
       "<Figure size 1080x504 with 1 Axes>"
      ]
     },
     "metadata": {
      "needs_background": "light"
     },
     "output_type": "display_data"
    }
   ],
   "source": [
    "plt.figure(figsize=(15,7))\n",
    "plt.plot(scaler.inverse_transform(dataset)) # en azul\n",
    "plt.plot(trainPredictPlot) # en naranja\n",
    "plt.plot(testPredictPlot) # en verde\n",
    "plt.show()"
   ]
  },
  {
   "cell_type": "markdown",
   "metadata": {},
   "source": [
    "### 2. Modelo que considera una ventana de datos anteriores como diferentes features"
   ]
  },
  {
   "cell_type": "markdown",
   "metadata": {},
   "source": [
    "Vamos ahora a considerar la ventana de los últimos 3 valores para predecir el siguiente valor.\n",
    "Conservamos el mismo modelo con los 4 bloques LSTM."
   ]
  },
  {
   "cell_type": "code",
   "execution_count": 40,
   "metadata": {},
   "outputs": [],
   "source": [
    "np.random.seed(7)"
   ]
  },
  {
   "cell_type": "code",
   "execution_count": 41,
   "metadata": {},
   "outputs": [],
   "source": [
    "look_back = 3\n",
    "trainX, trainY = create_dataset(train, look_back)\n",
    "testX, testY = create_dataset(test, look_back)"
   ]
  },
  {
   "cell_type": "code",
   "execution_count": 42,
   "metadata": {},
   "outputs": [
    {
     "data": {
      "text/plain": [
       "array([[0.01544401, 0.02702703, 0.05405405],\n",
       "       [0.02702703, 0.05405405, 0.04826255],\n",
       "       [0.05405405, 0.04826255, 0.03281853],\n",
       "       [0.04826255, 0.03281853, 0.05984557],\n",
       "       [0.03281853, 0.05984557, 0.08494207]], dtype=float32)"
      ]
     },
     "execution_count": 42,
     "metadata": {},
     "output_type": "execute_result"
    }
   ],
   "source": [
    "trainX[0:5]"
   ]
  },
  {
   "cell_type": "code",
   "execution_count": 43,
   "metadata": {},
   "outputs": [],
   "source": [
    "trainX = np.reshape(trainX, (trainX.shape[0], 1, trainX.shape[1]))\n",
    "testX = np.reshape(testX, (testX.shape[0], 1, testX.shape[1]))"
   ]
  },
  {
   "cell_type": "code",
   "execution_count": 44,
   "metadata": {},
   "outputs": [
    {
     "data": {
      "text/plain": [
       "(92, 1, 3)"
      ]
     },
     "execution_count": 44,
     "metadata": {},
     "output_type": "execute_result"
    }
   ],
   "source": [
    "trainX.shape"
   ]
  },
  {
   "cell_type": "markdown",
   "metadata": {},
   "source": [
    "Tenemos ahora que cada valor de la ventan de tiempo se considera como un feature diferente."
   ]
  },
  {
   "cell_type": "code",
   "execution_count": 45,
   "metadata": {},
   "outputs": [
    {
     "name": "stdout",
     "output_type": "stream",
     "text": [
      "_________________________________________________________________\n",
      "Layer (type)                 Output Shape              Param #   \n",
      "=================================================================\n",
      "lstm_2 (LSTM)                (None, 4)                 128       \n",
      "_________________________________________________________________\n",
      "dense_2 (Dense)              (None, 1)                 5         \n",
      "=================================================================\n",
      "Total params: 133\n",
      "Trainable params: 133\n",
      "Non-trainable params: 0\n",
      "_________________________________________________________________\n"
     ]
    }
   ],
   "source": [
    "model2 = Sequential()\n",
    "model2.add(LSTM(4, input_shape=(1, look_back)))\n",
    "model2.add(Dense(1))\n",
    "model2.summary()"
   ]
  },
  {
   "cell_type": "code",
   "execution_count": 46,
   "metadata": {},
   "outputs": [
    {
     "name": "stdout",
     "output_type": "stream",
     "text": [
      "Epoch 1/100\n",
      " - 1s - loss: 0.0542\n",
      "Epoch 2/100\n",
      " - 0s - loss: 0.0259\n",
      "Epoch 3/100\n",
      " - 0s - loss: 0.0167\n",
      "Epoch 4/100\n",
      " - 0s - loss: 0.0145\n",
      "Epoch 5/100\n",
      " - 0s - loss: 0.0129\n",
      "Epoch 6/100\n",
      " - 0s - loss: 0.0116\n",
      "Epoch 7/100\n",
      " - 0s - loss: 0.0105\n",
      "Epoch 8/100\n",
      " - 0s - loss: 0.0094\n",
      "Epoch 9/100\n",
      " - 0s - loss: 0.0081\n",
      "Epoch 10/100\n",
      " - 0s - loss: 0.0074\n",
      "Epoch 11/100\n",
      " - 0s - loss: 0.0066\n",
      "Epoch 12/100\n",
      " - 0s - loss: 0.0060\n",
      "Epoch 13/100\n",
      " - 0s - loss: 0.0056\n",
      "Epoch 14/100\n",
      " - 0s - loss: 0.0052\n",
      "Epoch 15/100\n",
      " - 0s - loss: 0.0050\n",
      "Epoch 16/100\n",
      " - 0s - loss: 0.0049\n",
      "Epoch 17/100\n",
      " - 0s - loss: 0.0046\n",
      "Epoch 18/100\n",
      " - 0s - loss: 0.0045\n",
      "Epoch 19/100\n",
      " - 0s - loss: 0.0045\n",
      "Epoch 20/100\n",
      " - 0s - loss: 0.0043\n",
      "Epoch 21/100\n",
      " - 0s - loss: 0.0043\n",
      "Epoch 22/100\n",
      " - 0s - loss: 0.0042\n",
      "Epoch 23/100\n",
      " - 0s - loss: 0.0042\n",
      "Epoch 24/100\n",
      " - 0s - loss: 0.0042\n",
      "Epoch 25/100\n",
      " - 0s - loss: 0.0040\n",
      "Epoch 26/100\n",
      " - 0s - loss: 0.0041\n",
      "Epoch 27/100\n",
      " - 0s - loss: 0.0040\n",
      "Epoch 28/100\n",
      " - 0s - loss: 0.0040\n",
      "Epoch 29/100\n",
      " - 0s - loss: 0.0039\n",
      "Epoch 30/100\n",
      " - 0s - loss: 0.0038\n",
      "Epoch 31/100\n",
      " - 0s - loss: 0.0038\n",
      "Epoch 32/100\n",
      " - 0s - loss: 0.0037\n",
      "Epoch 33/100\n",
      " - 0s - loss: 0.0037\n",
      "Epoch 34/100\n",
      " - 0s - loss: 0.0037\n",
      "Epoch 35/100\n",
      " - 0s - loss: 0.0036\n",
      "Epoch 36/100\n",
      " - 0s - loss: 0.0035\n",
      "Epoch 37/100\n",
      " - 0s - loss: 0.0036\n",
      "Epoch 38/100\n",
      " - 0s - loss: 0.0035\n",
      "Epoch 39/100\n",
      " - 0s - loss: 0.0035\n",
      "Epoch 40/100\n",
      " - 0s - loss: 0.0034\n",
      "Epoch 41/100\n",
      " - 0s - loss: 0.0035\n",
      "Epoch 42/100\n",
      " - 0s - loss: 0.0034\n",
      "Epoch 43/100\n",
      " - 0s - loss: 0.0033\n",
      "Epoch 44/100\n",
      " - 0s - loss: 0.0033\n",
      "Epoch 45/100\n",
      " - 0s - loss: 0.0032\n",
      "Epoch 46/100\n",
      " - 0s - loss: 0.0034\n",
      "Epoch 47/100\n",
      " - 0s - loss: 0.0031\n",
      "Epoch 48/100\n",
      " - 0s - loss: 0.0031\n",
      "Epoch 49/100\n",
      " - 0s - loss: 0.0031\n",
      "Epoch 50/100\n",
      " - 0s - loss: 0.0030\n",
      "Epoch 51/100\n",
      " - 0s - loss: 0.0030\n",
      "Epoch 52/100\n",
      " - 0s - loss: 0.0029\n",
      "Epoch 53/100\n",
      " - 0s - loss: 0.0030\n",
      "Epoch 54/100\n",
      " - 0s - loss: 0.0028\n",
      "Epoch 55/100\n",
      " - 0s - loss: 0.0028\n",
      "Epoch 56/100\n",
      " - 0s - loss: 0.0028\n",
      "Epoch 57/100\n",
      " - 0s - loss: 0.0027\n",
      "Epoch 58/100\n",
      " - 0s - loss: 0.0028\n",
      "Epoch 59/100\n",
      " - 0s - loss: 0.0027\n",
      "Epoch 60/100\n",
      " - 0s - loss: 0.0028\n",
      "Epoch 61/100\n",
      " - 0s - loss: 0.0027\n",
      "Epoch 62/100\n",
      " - 0s - loss: 0.0026\n",
      "Epoch 63/100\n",
      " - 0s - loss: 0.0025\n",
      "Epoch 64/100\n",
      " - 0s - loss: 0.0028\n",
      "Epoch 65/100\n",
      " - 0s - loss: 0.0025\n",
      "Epoch 66/100\n",
      " - 0s - loss: 0.0025\n",
      "Epoch 67/100\n",
      " - 0s - loss: 0.0024\n",
      "Epoch 68/100\n",
      " - 0s - loss: 0.0025\n",
      "Epoch 69/100\n",
      " - 0s - loss: 0.0024\n",
      "Epoch 70/100\n",
      " - 0s - loss: 0.0024\n",
      "Epoch 71/100\n",
      " - 0s - loss: 0.0024\n",
      "Epoch 72/100\n",
      " - 0s - loss: 0.0024\n",
      "Epoch 73/100\n",
      " - 0s - loss: 0.0024\n",
      "Epoch 74/100\n",
      " - 0s - loss: 0.0023\n",
      "Epoch 75/100\n",
      " - 0s - loss: 0.0023\n",
      "Epoch 76/100\n",
      " - 0s - loss: 0.0023\n",
      "Epoch 77/100\n",
      " - 0s - loss: 0.0024\n",
      "Epoch 78/100\n",
      " - 0s - loss: 0.0023\n",
      "Epoch 79/100\n",
      " - 0s - loss: 0.0023\n",
      "Epoch 80/100\n",
      " - 0s - loss: 0.0023\n",
      "Epoch 81/100\n",
      " - 0s - loss: 0.0023\n",
      "Epoch 82/100\n",
      " - 0s - loss: 0.0022\n",
      "Epoch 83/100\n",
      " - 0s - loss: 0.0022\n",
      "Epoch 84/100\n",
      " - 0s - loss: 0.0022\n",
      "Epoch 85/100\n",
      " - 0s - loss: 0.0022\n",
      "Epoch 86/100\n",
      " - 0s - loss: 0.0020\n",
      "Epoch 87/100\n",
      " - 0s - loss: 0.0023\n",
      "Epoch 88/100\n",
      " - 0s - loss: 0.0021\n",
      "Epoch 89/100\n",
      " - 0s - loss: 0.0021\n",
      "Epoch 90/100\n",
      " - 0s - loss: 0.0021\n",
      "Epoch 91/100\n",
      " - 0s - loss: 0.0021\n",
      "Epoch 92/100\n",
      " - 0s - loss: 0.0021\n",
      "Epoch 93/100\n",
      " - 0s - loss: 0.0021\n",
      "Epoch 94/100\n",
      " - 0s - loss: 0.0021\n",
      "Epoch 95/100\n",
      " - 0s - loss: 0.0021\n",
      "Epoch 96/100\n",
      " - 0s - loss: 0.0021\n",
      "Epoch 97/100\n",
      " - 0s - loss: 0.0021\n",
      "Epoch 98/100\n",
      " - 0s - loss: 0.0021\n",
      "Epoch 99/100\n",
      " - 0s - loss: 0.0022\n",
      "Epoch 100/100\n",
      " - 0s - loss: 0.0020\n"
     ]
    }
   ],
   "source": [
    "model2.compile(loss='mean_squared_error', optimizer='adam')\n",
    "history = model2.fit(trainX, trainY, epochs=100, batch_size=1, verbose=2)"
   ]
  },
  {
   "cell_type": "code",
   "execution_count": 47,
   "metadata": {},
   "outputs": [
    {
     "data": {
      "image/png": "[encoded data removed]",
      "text/plain": [
       "<Figure size 432x288 with 1 Axes>"
      ]
     },
     "metadata": {
      "needs_background": "light"
     },
     "output_type": "display_data"
    }
   ],
   "source": [
    "loss = history.history[\"loss\"]\n",
    "epocas =  range(1,101)\n",
    "\n",
    "plt.figure()\n",
    "plt.plot(epocas, loss, \"bo\", label=\"Training loss\")\n",
    "plt.title(\"Training loss\")\n",
    "plt.legend()\n",
    "plt.show()"
   ]
  },
  {
   "cell_type": "code",
   "execution_count": 48,
   "metadata": {},
   "outputs": [],
   "source": [
    "trainPredict = model2.predict(trainX)\n",
    "trainPredict = scaler.inverse_transform(trainPredict)\n",
    "trainY = scaler.inverse_transform([trainY])\n",
    "\n",
    "testPredict = model2.predict(testX)\n",
    "testPredict = scaler.inverse_transform(testPredict)\n",
    "testY = scaler.inverse_transform([testY])"
   ]
  },
  {
   "cell_type": "code",
   "execution_count": 49,
   "metadata": {},
   "outputs": [
    {
     "name": "stdout",
     "output_type": "stream",
     "text": [
      "Train Score: 24.19 RMSE\n",
      "Test Score: 58.03 RMSE\n"
     ]
    }
   ],
   "source": [
    "trainScore = math.sqrt(mean_squared_error(trainY[0], trainPredict[:,0]))\n",
    "print('Train Score: %.2f RMSE' % (trainScore))\n",
    "testScore = math.sqrt(mean_squared_error(testY[0], testPredict[:,0]))\n",
    "print('Test Score: %.2f RMSE' % (testScore))"
   ]
  },
  {
   "cell_type": "markdown",
   "metadata": {},
   "source": [
    "Vamos a decalar las predicciones teniendo en cuenta los pasos de tiempo correspondientes."
   ]
  },
  {
   "cell_type": "code",
   "execution_count": 50,
   "metadata": {},
   "outputs": [
    {
     "name": "stdout",
     "output_type": "stream",
     "text": [
      "[[      nan]\n",
      " [      nan]\n",
      " [      nan]\n",
      " [136.12057]\n",
      " [134.67914]]\n",
      "[[485.75943]\n",
      " [570.5385 ]\n",
      " [535.79456]\n",
      " [402.17877]\n",
      " [357.81482]]\n"
     ]
    }
   ],
   "source": [
    "trainPredictPlot = np.empty_like(dataset)\n",
    "trainPredictPlot[:, :] = np.nan\n",
    "trainPredictPlot[look_back:len(trainPredict)+look_back, :] = trainPredict\n",
    "print(trainPredictPlot[0:5])\n",
    "\n",
    "testPredictPlot = np.empty_like(dataset)\n",
    "testPredictPlot[:, :] = np.nan\n",
    "testPredictPlot[len(trainPredict)+(look_back*2)+1:len(dataset)-1, :] = testPredict\n",
    "print(testPredictPlot[-6:-1])"
   ]
  },
  {
   "cell_type": "markdown",
   "metadata": {},
   "source": [
    "La serie predicha de entreamiento tiene solo valores para los primeros 2 tercios de los datos, la de test solo para el último tercio.\n",
    "\n",
    "Veamos gráficamente la calidad de las predicciones comparadas con los valores reales."
   ]
  },
  {
   "cell_type": "code",
   "execution_count": 51,
   "metadata": {},
   "outputs": [
    {
     "data": {
      "image/png": "[encoded data removed]",
      "text/plain": [
       "<Figure size 1080x504 with 1 Axes>"
      ]
     },
     "metadata": {
      "needs_background": "light"
     },
     "output_type": "display_data"
    }
   ],
   "source": [
    "plt.figure(figsize=(15,7))\n",
    "plt.plot(scaler.inverse_transform(dataset)) # en azul\n",
    "plt.plot(trainPredictPlot) # en naranja\n",
    "plt.plot(testPredictPlot) # en verde\n",
    "plt.show()"
   ]
  },
  {
   "cell_type": "markdown",
   "metadata": {},
   "source": [
    "Vemos aue los errores son un poco mayores que en el caso anterior. Habría que definir mejor la ventana de los datos de entrada a utilizar para minimizar la predicción."
   ]
  },
  {
   "cell_type": "markdown",
   "metadata": {},
   "source": [
    "### 3. Modelo que considera una ventana de datos anteriores como pasos de tiempo diferentes"
   ]
  },
  {
   "cell_type": "markdown",
   "metadata": {},
   "source": [
    "En el caso de la ventana con tamaño 3, los inputs de la red eran de la forma [92, 1, 3], cada valor anterior de la ventana lo considerabamos como un feature diferente.\n",
    "\n",
    "Ahora vamos a considerarlos como diferentes pasos de tiempo, pasando entonces a una forma [92, 3, 1]. De esta manera consideramos que se trata del mismo feature en momento de tiempo diferentes."
   ]
  },
  {
   "cell_type": "code",
   "execution_count": 53,
   "metadata": {},
   "outputs": [],
   "source": [
    "np.random.seed(7)"
   ]
  },
  {
   "cell_type": "code",
   "execution_count": 54,
   "metadata": {},
   "outputs": [],
   "source": [
    "look_back = 3\n",
    "trainX, trainY = create_dataset(train, look_back)\n",
    "testX, testY = create_dataset(test, look_back)"
   ]
  },
  {
   "cell_type": "code",
   "execution_count": 55,
   "metadata": {},
   "outputs": [],
   "source": [
    "# reshape input to be [samples, time steps, features]\n",
    "trainX = np.reshape(trainX, (trainX.shape[0], trainX.shape[1], 1))\n",
    "testX = np.reshape(testX, (testX.shape[0], testX.shape[1], 1))"
   ]
  },
  {
   "cell_type": "code",
   "execution_count": 56,
   "metadata": {},
   "outputs": [
    {
     "data": {
      "text/plain": [
       "(92, 3, 1)"
      ]
     },
     "execution_count": 56,
     "metadata": {},
     "output_type": "execute_result"
    }
   ],
   "source": [
    "trainX.shape"
   ]
  },
  {
   "cell_type": "markdown",
   "metadata": {},
   "source": [
    "Tenemos tambien que cambiar la forma de entrada del modelo"
   ]
  },
  {
   "cell_type": "code",
   "execution_count": 57,
   "metadata": {},
   "outputs": [
    {
     "name": "stdout",
     "output_type": "stream",
     "text": [
      "_________________________________________________________________\n",
      "Layer (type)                 Output Shape              Param #   \n",
      "=================================================================\n",
      "lstm_3 (LSTM)                (None, 4)                 96        \n",
      "_________________________________________________________________\n",
      "dense_3 (Dense)              (None, 1)                 5         \n",
      "=================================================================\n",
      "Total params: 101\n",
      "Trainable params: 101\n",
      "Non-trainable params: 0\n",
      "_________________________________________________________________\n"
     ]
    }
   ],
   "source": [
    "model3 = Sequential()\n",
    "model3.add(LSTM(4, input_shape=(look_back, 1)))\n",
    "model3.add(Dense(1))\n",
    "model3.summary()"
   ]
  },
  {
   "cell_type": "code",
   "execution_count": 58,
   "metadata": {},
   "outputs": [
    {
     "name": "stdout",
     "output_type": "stream",
     "text": [
      "Epoch 1/100\n",
      " - 1s - loss: 0.0287\n",
      "Epoch 2/100\n",
      " - 0s - loss: 0.0118\n",
      "Epoch 3/100\n",
      " - 0s - loss: 0.0097\n",
      "Epoch 4/100\n",
      " - 0s - loss: 0.0086\n",
      "Epoch 5/100\n",
      " - 0s - loss: 0.0075\n",
      "Epoch 6/100\n",
      " - 0s - loss: 0.0065\n",
      "Epoch 7/100\n",
      " - 0s - loss: 0.0058\n",
      "Epoch 8/100\n",
      " - 0s - loss: 0.0053\n",
      "Epoch 9/100\n",
      " - 0s - loss: 0.0046\n",
      "Epoch 10/100\n",
      " - 0s - loss: 0.0044\n",
      "Epoch 11/100\n",
      " - 0s - loss: 0.0041\n",
      "Epoch 12/100\n",
      " - 0s - loss: 0.0041\n",
      "Epoch 13/100\n",
      " - 0s - loss: 0.0040\n",
      "Epoch 14/100\n",
      " - 0s - loss: 0.0039\n",
      "Epoch 15/100\n",
      " - 0s - loss: 0.0039\n",
      "Epoch 16/100\n",
      " - 0s - loss: 0.0039\n",
      "Epoch 17/100\n",
      " - 0s - loss: 0.0038\n",
      "Epoch 18/100\n",
      " - 0s - loss: 0.0039\n",
      "Epoch 19/100\n",
      " - 0s - loss: 0.0038\n",
      "Epoch 20/100\n",
      " - 0s - loss: 0.0038\n",
      "Epoch 21/100\n",
      " - 0s - loss: 0.0038\n",
      "Epoch 22/100\n",
      " - 0s - loss: 0.0038\n",
      "Epoch 23/100\n",
      " - 0s - loss: 0.0037\n",
      "Epoch 24/100\n",
      " - 0s - loss: 0.0038\n",
      "Epoch 25/100\n",
      " - 0s - loss: 0.0037\n",
      "Epoch 26/100\n",
      " - 0s - loss: 0.0038\n",
      "Epoch 27/100\n",
      " - 0s - loss: 0.0037\n",
      "Epoch 28/100\n",
      " - 0s - loss: 0.0038\n",
      "Epoch 29/100\n",
      " - 0s - loss: 0.0037\n",
      "Epoch 30/100\n",
      " - 0s - loss: 0.0036\n",
      "Epoch 31/100\n",
      " - 0s - loss: 0.0037\n",
      "Epoch 32/100\n",
      " - 0s - loss: 0.0036\n",
      "Epoch 33/100\n",
      " - 0s - loss: 0.0036\n",
      "Epoch 34/100\n",
      " - 0s - loss: 0.0036\n",
      "Epoch 35/100\n",
      " - 0s - loss: 0.0036\n",
      "Epoch 36/100\n",
      " - 0s - loss: 0.0035\n",
      "Epoch 37/100\n",
      " - 0s - loss: 0.0036\n",
      "Epoch 38/100\n",
      " - 0s - loss: 0.0035\n",
      "Epoch 39/100\n",
      " - 0s - loss: 0.0035\n",
      "Epoch 40/100\n",
      " - 0s - loss: 0.0035\n",
      "Epoch 41/100\n",
      " - 0s - loss: 0.0036\n",
      "Epoch 42/100\n",
      " - 0s - loss: 0.0035\n",
      "Epoch 43/100\n",
      " - 0s - loss: 0.0035\n",
      "Epoch 44/100\n",
      " - 0s - loss: 0.0034\n",
      "Epoch 45/100\n",
      " - 0s - loss: 0.0034\n",
      "Epoch 46/100\n",
      " - 0s - loss: 0.0035\n",
      "Epoch 47/100\n",
      " - 0s - loss: 0.0034\n",
      "Epoch 48/100\n",
      " - 0s - loss: 0.0034\n",
      "Epoch 49/100\n",
      " - 0s - loss: 0.0034\n",
      "Epoch 50/100\n",
      " - 0s - loss: 0.0033\n",
      "Epoch 51/100\n",
      " - 0s - loss: 0.0033\n",
      "Epoch 52/100\n",
      " - 0s - loss: 0.0033\n",
      "Epoch 53/100\n",
      " - 0s - loss: 0.0034\n",
      "Epoch 54/100\n",
      " - 0s - loss: 0.0033\n",
      "Epoch 55/100\n",
      " - 0s - loss: 0.0033\n",
      "Epoch 56/100\n",
      " - 0s - loss: 0.0032\n",
      "Epoch 57/100\n",
      " - 0s - loss: 0.0032\n",
      "Epoch 58/100\n",
      " - 0s - loss: 0.0033\n",
      "Epoch 59/100\n",
      " - 0s - loss: 0.0032\n",
      "Epoch 60/100\n",
      " - 0s - loss: 0.0032\n",
      "Epoch 61/100\n",
      " - 0s - loss: 0.0032\n",
      "Epoch 62/100\n",
      " - 0s - loss: 0.0031\n",
      "Epoch 63/100\n",
      " - 0s - loss: 0.0029\n",
      "Epoch 64/100\n",
      " - 0s - loss: 0.0033\n",
      "Epoch 65/100\n",
      " - 0s - loss: 0.0030\n",
      "Epoch 66/100\n",
      " - 0s - loss: 0.0030\n",
      "Epoch 67/100\n",
      " - 0s - loss: 0.0029\n",
      "Epoch 68/100\n",
      " - 0s - loss: 0.0030\n",
      "Epoch 69/100\n",
      " - 0s - loss: 0.0029\n",
      "Epoch 70/100\n",
      " - 0s - loss: 0.0029\n",
      "Epoch 71/100\n",
      " - 0s - loss: 0.0028\n",
      "Epoch 72/100\n",
      " - 0s - loss: 0.0029\n",
      "Epoch 73/100\n",
      " - 0s - loss: 0.0028\n",
      "Epoch 74/100\n",
      " - 0s - loss: 0.0028\n",
      "Epoch 75/100\n",
      " - 0s - loss: 0.0027\n",
      "Epoch 76/100\n",
      " - 0s - loss: 0.0026\n",
      "Epoch 77/100\n",
      " - 0s - loss: 0.0026\n",
      "Epoch 78/100\n",
      " - 0s - loss: 0.0026\n",
      "Epoch 79/100\n",
      " - 0s - loss: 0.0026\n",
      "Epoch 80/100\n",
      " - 0s - loss: 0.0025\n",
      "Epoch 81/100\n",
      " - 0s - loss: 0.0025\n",
      "Epoch 82/100\n",
      " - 0s - loss: 0.0024\n",
      "Epoch 83/100\n",
      " - 0s - loss: 0.0024\n",
      "Epoch 84/100\n",
      " - 0s - loss: 0.0024\n",
      "Epoch 85/100\n",
      " - 0s - loss: 0.0024\n",
      "Epoch 86/100\n",
      " - 0s - loss: 0.0022\n",
      "Epoch 87/100\n",
      " - 0s - loss: 0.0024\n",
      "Epoch 88/100\n",
      " - 0s - loss: 0.0023\n",
      "Epoch 89/100\n",
      " - 0s - loss: 0.0022\n",
      "Epoch 90/100\n",
      " - 0s - loss: 0.0022\n",
      "Epoch 91/100\n",
      " - 0s - loss: 0.0022\n",
      "Epoch 92/100\n",
      " - 0s - loss: 0.0022\n",
      "Epoch 93/100\n",
      " - 0s - loss: 0.0022\n",
      "Epoch 94/100\n",
      " - 0s - loss: 0.0021\n",
      "Epoch 95/100\n",
      " - 0s - loss: 0.0021\n",
      "Epoch 96/100\n",
      " - 0s - loss: 0.0021\n",
      "Epoch 97/100\n",
      " - 0s - loss: 0.0021\n",
      "Epoch 98/100\n",
      " - 0s - loss: 0.0020\n",
      "Epoch 99/100\n",
      " - 0s - loss: 0.0021\n",
      "Epoch 100/100\n",
      " - 0s - loss: 0.0020\n"
     ]
    }
   ],
   "source": [
    "model3.compile(loss='mean_squared_error', optimizer='adam')\n",
    "history = model3.fit(trainX, trainY, epochs=100, batch_size=1, verbose=2)"
   ]
  },
  {
   "cell_type": "code",
   "execution_count": 59,
   "metadata": {},
   "outputs": [
    {
     "data": {
      "image/png": "[encoded data removed]",
      "text/plain": [
       "<Figure size 432x288 with 1 Axes>"
      ]
     },
     "metadata": {
      "needs_background": "light"
     },
     "output_type": "display_data"
    }
   ],
   "source": [
    "loss = history.history[\"loss\"]\n",
    "epocas =  range(1,101)\n",
    "\n",
    "plt.figure()\n",
    "plt.plot(epocas, loss, \"bo\", label=\"Training loss\")\n",
    "plt.title(\"Training loss\")\n",
    "plt.legend()\n",
    "plt.show()"
   ]
  },
  {
   "cell_type": "code",
   "execution_count": 60,
   "metadata": {},
   "outputs": [],
   "source": [
    "trainPredict = model3.predict(trainX)\n",
    "trainPredict = scaler.inverse_transform(trainPredict)\n",
    "trainY = scaler.inverse_transform([trainY])\n",
    "\n",
    "testPredict = model3.predict(testX)\n",
    "testPredict = scaler.inverse_transform(testPredict)\n",
    "testY = scaler.inverse_transform([testY])"
   ]
  },
  {
   "cell_type": "code",
   "execution_count": 61,
   "metadata": {},
   "outputs": [
    {
     "name": "stdout",
     "output_type": "stream",
     "text": [
      "Train Score: 23.70 RMSE\n",
      "Test Score: 58.80 RMSE\n"
     ]
    }
   ],
   "source": [
    "trainScore = math.sqrt(mean_squared_error(trainY[0], trainPredict[:,0]))\n",
    "print('Train Score: %.2f RMSE' % (trainScore))\n",
    "testScore = math.sqrt(mean_squared_error(testY[0], testPredict[:,0]))\n",
    "print('Test Score: %.2f RMSE' % (testScore))"
   ]
  },
  {
   "cell_type": "markdown",
   "metadata": {},
   "source": [
    "Vamos a decalar las predicciones teniendo en cuenta los pasos de tiempo correspondientes."
   ]
  },
  {
   "cell_type": "code",
   "execution_count": 62,
   "metadata": {},
   "outputs": [
    {
     "name": "stdout",
     "output_type": "stream",
     "text": [
      "[[      nan]\n",
      " [      nan]\n",
      " [      nan]\n",
      " [129.80063]\n",
      " [130.71924]]\n",
      "[[472.84744]\n",
      " [535.6833 ]\n",
      " [515.9305 ]\n",
      " [438.10153]\n",
      " [407.33963]]\n"
     ]
    }
   ],
   "source": [
    "trainPredictPlot = np.empty_like(dataset)\n",
    "trainPredictPlot[:, :] = np.nan\n",
    "trainPredictPlot[look_back:len(trainPredict)+look_back, :] = trainPredict\n",
    "print(trainPredictPlot[0:5])\n",
    "\n",
    "testPredictPlot = np.empty_like(dataset)\n",
    "testPredictPlot[:, :] = np.nan\n",
    "testPredictPlot[len(trainPredict)+(look_back*2)+1:len(dataset)-1, :] = testPredict\n",
    "print(testPredictPlot[-6:-1])"
   ]
  },
  {
   "cell_type": "markdown",
   "metadata": {},
   "source": [
    "La serie predicha de entreamiento tiene solo valores para los primeros 2 tercios de los datos, la de test solo para el último tercio.\n",
    "\n",
    "Veamos gráficamente la calidad de las predicciones comparadas con los valores reales."
   ]
  },
  {
   "cell_type": "code",
   "execution_count": 63,
   "metadata": {},
   "outputs": [
    {
     "data": {
      "image/png": "[encoded data removed]",
      "text/plain": [
       "<Figure size 1080x504 with 1 Axes>"
      ]
     },
     "metadata": {
      "needs_background": "light"
     },
     "output_type": "display_data"
    }
   ],
   "source": [
    "plt.figure(figsize=(15,7))\n",
    "plt.plot(scaler.inverse_transform(dataset)) # en azul\n",
    "plt.plot(trainPredictPlot) # en naranja\n",
    "plt.plot(testPredictPlot) # en verde\n",
    "plt.show()"
   ]
  },
  {
   "cell_type": "markdown",
   "metadata": {},
   "source": [
    "Vemos que los errores de entrenamiento son un poco mayores que en el caso anterior, pero no en el caso del set de test."
   ]
  },
  {
   "cell_type": "markdown",
   "metadata": {},
   "source": [
    "### 4. Modelo con memoria entre los diferentes batches"
   ]
  },
  {
   "cell_type": "markdown",
   "metadata": {},
   "source": [
    "La red LSTM tiene memoria, lo que le permite recordar patrones dentre de largas secuencias.\n",
    "\n",
    "Normalmente, el estado dentro de una red se resetea después de cada batch de entrenamiento cuando se está ajustando el modelo, al igual que con cada llamada a las funciones de predicción (model.predict()).\n",
    "\n",
    "Podemos controlar cuando se \"limpia\" la memoria dentro de un LSTM en Keras, haciendo que la capa LSTM sea \"stateful\" (**stateful = True** en la creación de la capa LSTM), lo que significa que va a construir el estado interno sobre la totalidad de la secuencia de entrenamiento. Se tiene además que especificar el **batch_input_shape** en vez del parámetro input_shape, definiendo en duro el número de samples (batch_size) en el momento de crear la capa LSTM y en el momento de utilizar el modelo para predecir (model.predict()).\n",
    "\n",
    "Los datos de entrada deben presentarse entonces en el orden temporal definido. Además, es necesario explícitamente resetear el estado de la red despues de cada época, con llamadas a **model.reset_states()**. Esto implica que se tenga que crear un loop externo de épocas."
   ]
  },
  {
   "cell_type": "markdown",
   "metadata": {},
   "source": [
    "Veamos como cambian los resultados:"
   ]
  },
  {
   "cell_type": "code",
   "execution_count": 64,
   "metadata": {},
   "outputs": [],
   "source": [
    "np.random.seed(7)"
   ]
  },
  {
   "cell_type": "code",
   "execution_count": 65,
   "metadata": {},
   "outputs": [],
   "source": [
    "look_back = 3\n",
    "trainX, trainY = create_dataset(train, look_back)\n",
    "testX, testY = create_dataset(test, look_back)"
   ]
  },
  {
   "cell_type": "code",
   "execution_count": 66,
   "metadata": {},
   "outputs": [],
   "source": [
    "# reshape input to be [samples, time steps, features]\n",
    "trainX = np.reshape(trainX, (trainX.shape[0], trainX.shape[1], 1))\n",
    "testX = np.reshape(testX, (testX.shape[0], testX.shape[1], 1))"
   ]
  },
  {
   "cell_type": "code",
   "execution_count": 67,
   "metadata": {},
   "outputs": [],
   "source": [
    "batch_size=1"
   ]
  },
  {
   "cell_type": "code",
   "execution_count": 68,
   "metadata": {},
   "outputs": [
    {
     "name": "stdout",
     "output_type": "stream",
     "text": [
      "_________________________________________________________________\n",
      "Layer (type)                 Output Shape              Param #   \n",
      "=================================================================\n",
      "lstm_4 (LSTM)                (1, 4)                    96        \n",
      "_________________________________________________________________\n",
      "dense_4 (Dense)              (1, 1)                    5         \n",
      "=================================================================\n",
      "Total params: 101\n",
      "Trainable params: 101\n",
      "Non-trainable params: 0\n",
      "_________________________________________________________________\n"
     ]
    }
   ],
   "source": [
    "model4 = Sequential()\n",
    "model4.add(LSTM(4, batch_input_shape=(batch_size, look_back, 1), stateful=True))\n",
    "model4.add(Dense(1))\n",
    "model4.summary()"
   ]
  },
  {
   "cell_type": "code",
   "execution_count": 69,
   "metadata": {},
   "outputs": [
    {
     "name": "stdout",
     "output_type": "stream",
     "text": [
      "Epoch 1/1\n",
      " - 1s - loss: 0.0048\n",
      "Epoch 1/1\n",
      " - 0s - loss: 0.0082\n",
      "Epoch 1/1\n",
      " - 0s - loss: 0.0056\n",
      "Epoch 1/1\n",
      " - 0s - loss: 0.0048\n",
      "Epoch 1/1\n",
      " - 0s - loss: 0.0047\n",
      "Epoch 1/1\n",
      " - 0s - loss: 0.0047\n",
      "Epoch 1/1\n",
      " - 0s - loss: 0.0047\n",
      "Epoch 1/1\n",
      " - 0s - loss: 0.0046\n",
      "Epoch 1/1\n",
      " - 0s - loss: 0.0045\n",
      "Epoch 1/1\n",
      " - 0s - loss: 0.0045\n",
      "Epoch 1/1\n",
      " - 0s - loss: 0.0044\n",
      "Epoch 1/1\n",
      " - 0s - loss: 0.0044\n",
      "Epoch 1/1\n",
      " - 0s - loss: 0.0043\n",
      "Epoch 1/1\n",
      " - 0s - loss: 0.0042\n",
      "Epoch 1/1\n",
      " - 0s - loss: 0.0042\n",
      "Epoch 1/1\n",
      " - 0s - loss: 0.0041\n",
      "Epoch 1/1\n",
      " - 0s - loss: 0.0041\n",
      "Epoch 1/1\n",
      " - 0s - loss: 0.0040\n",
      "Epoch 1/1\n",
      " - 0s - loss: 0.0040\n",
      "Epoch 1/1\n",
      " - 0s - loss: 0.0039\n",
      "Epoch 1/1\n",
      " - 0s - loss: 0.0038\n",
      "Epoch 1/1\n",
      " - 0s - loss: 0.0037\n",
      "Epoch 1/1\n",
      " - 0s - loss: 0.0037\n",
      "Epoch 1/1\n",
      " - 0s - loss: 0.0036\n",
      "Epoch 1/1\n",
      " - 0s - loss: 0.0035\n",
      "Epoch 1/1\n",
      " - 0s - loss: 0.0034\n",
      "Epoch 1/1\n",
      " - 0s - loss: 0.0033\n",
      "Epoch 1/1\n",
      " - 0s - loss: 0.0032\n",
      "Epoch 1/1\n",
      " - 0s - loss: 0.0032\n",
      "Epoch 1/1\n",
      " - 0s - loss: 0.0031\n",
      "Epoch 1/1\n",
      " - 0s - loss: 0.0030\n",
      "Epoch 1/1\n",
      " - 0s - loss: 0.0029\n",
      "Epoch 1/1\n",
      " - 0s - loss: 0.0029\n",
      "Epoch 1/1\n",
      " - 0s - loss: 0.0028\n",
      "Epoch 1/1\n",
      " - 0s - loss: 0.0027\n",
      "Epoch 1/1\n",
      " - 0s - loss: 0.0027\n",
      "Epoch 1/1\n",
      " - 0s - loss: 0.0026\n",
      "Epoch 1/1\n",
      " - 0s - loss: 0.0026\n",
      "Epoch 1/1\n",
      " - 0s - loss: 0.0026\n",
      "Epoch 1/1\n",
      " - 0s - loss: 0.0025\n",
      "Epoch 1/1\n",
      " - 0s - loss: 0.0025\n",
      "Epoch 1/1\n",
      " - 0s - loss: 0.0024\n",
      "Epoch 1/1\n",
      " - 0s - loss: 0.0024\n",
      "Epoch 1/1\n",
      " - 0s - loss: 0.0024\n",
      "Epoch 1/1\n",
      " - 0s - loss: 0.0023\n",
      "Epoch 1/1\n",
      " - 0s - loss: 0.0023\n",
      "Epoch 1/1\n",
      " - 0s - loss: 0.0023\n",
      "Epoch 1/1\n",
      " - 0s - loss: 0.0023\n",
      "Epoch 1/1\n",
      " - 0s - loss: 0.0022\n",
      "Epoch 1/1\n",
      " - 0s - loss: 0.0022\n",
      "Epoch 1/1\n",
      " - 0s - loss: 0.0022\n",
      "Epoch 1/1\n",
      " - 0s - loss: 0.0022\n",
      "Epoch 1/1\n",
      " - 0s - loss: 0.0022\n",
      "Epoch 1/1\n",
      " - 0s - loss: 0.0021\n",
      "Epoch 1/1\n",
      " - 0s - loss: 0.0021\n",
      "Epoch 1/1\n",
      " - 0s - loss: 0.0021\n",
      "Epoch 1/1\n",
      " - 0s - loss: 0.0021\n",
      "Epoch 1/1\n",
      " - 0s - loss: 0.0021\n",
      "Epoch 1/1\n",
      " - 0s - loss: 0.0020\n",
      "Epoch 1/1\n",
      " - 0s - loss: 0.0020\n",
      "Epoch 1/1\n",
      " - 0s - loss: 0.0020\n",
      "Epoch 1/1\n",
      " - 0s - loss: 0.0020\n",
      "Epoch 1/1\n",
      " - 0s - loss: 0.0020\n",
      "Epoch 1/1\n",
      " - 0s - loss: 0.0020\n",
      "Epoch 1/1\n",
      " - 0s - loss: 0.0019\n",
      "Epoch 1/1\n",
      " - 0s - loss: 0.0019\n",
      "Epoch 1/1\n",
      " - 0s - loss: 0.0019\n",
      "Epoch 1/1\n",
      " - 0s - loss: 0.0019\n",
      "Epoch 1/1\n",
      " - 0s - loss: 0.0019\n",
      "Epoch 1/1\n",
      " - 0s - loss: 0.0019\n",
      "Epoch 1/1\n",
      " - 0s - loss: 0.0019\n",
      "Epoch 1/1\n",
      " - 0s - loss: 0.0019\n",
      "Epoch 1/1\n",
      " - 0s - loss: 0.0018\n",
      "Epoch 1/1\n",
      " - 0s - loss: 0.0018\n",
      "Epoch 1/1\n",
      " - 0s - loss: 0.0018\n",
      "Epoch 1/1\n",
      " - 0s - loss: 0.0018\n",
      "Epoch 1/1\n",
      " - 0s - loss: 0.0018\n",
      "Epoch 1/1\n",
      " - 0s - loss: 0.0018\n",
      "Epoch 1/1\n",
      " - 0s - loss: 0.0018\n",
      "Epoch 1/1\n",
      " - 0s - loss: 0.0018\n",
      "Epoch 1/1\n",
      " - 0s - loss: 0.0018\n",
      "Epoch 1/1\n",
      " - 0s - loss: 0.0018\n",
      "Epoch 1/1\n",
      " - 0s - loss: 0.0017\n",
      "Epoch 1/1\n",
      " - 0s - loss: 0.0017\n",
      "Epoch 1/1\n",
      " - 0s - loss: 0.0017\n",
      "Epoch 1/1\n",
      " - 0s - loss: 0.0017\n",
      "Epoch 1/1\n",
      " - 0s - loss: 0.0017\n",
      "Epoch 1/1\n",
      " - 0s - loss: 0.0017\n",
      "Epoch 1/1\n",
      " - 0s - loss: 0.0017\n",
      "Epoch 1/1\n",
      " - 0s - loss: 0.0017\n",
      "Epoch 1/1\n",
      " - 0s - loss: 0.0017\n",
      "Epoch 1/1\n",
      " - 0s - loss: 0.0017\n",
      "Epoch 1/1\n",
      " - 0s - loss: 0.0017\n",
      "Epoch 1/1\n",
      " - 0s - loss: 0.0017\n",
      "Epoch 1/1\n",
      " - 0s - loss: 0.0017\n",
      "Epoch 1/1\n",
      " - 0s - loss: 0.0017\n",
      "Epoch 1/1\n",
      " - 0s - loss: 0.0017\n",
      "Epoch 1/1\n",
      " - 0s - loss: 0.0017\n",
      "Epoch 1/1\n",
      " - 0s - loss: 0.0017\n",
      "Epoch 1/1\n",
      " - 0s - loss: 0.0017\n"
     ]
    }
   ],
   "source": [
    "model4.compile(loss='mean_squared_error', optimizer='adam')\n",
    "\n",
    "for i in range(100):\n",
    "    model4.fit(trainX, trainY, epochs=1, batch_size=batch_size, verbose=2, shuffle=False)\n",
    "    model4.reset_states()"
   ]
  },
  {
   "cell_type": "code",
   "execution_count": 70,
   "metadata": {},
   "outputs": [],
   "source": [
    "trainPredict = model4.predict(trainX, batch_size=batch_size)\n",
    "trainPredict = scaler.inverse_transform(trainPredict)\n",
    "trainY = scaler.inverse_transform([trainY])\n",
    "\n",
    "model.reset_states()\n",
    "\n",
    "testPredict = model4.predict(testX, batch_size=batch_size)\n",
    "testPredict = scaler.inverse_transform(testPredict)\n",
    "testY = scaler.inverse_transform([testY])"
   ]
  },
  {
   "cell_type": "code",
   "execution_count": 71,
   "metadata": {},
   "outputs": [
    {
     "name": "stdout",
     "output_type": "stream",
     "text": [
      "Train Score: 20.79 RMSE\n",
      "Test Score: 54.62 RMSE\n"
     ]
    }
   ],
   "source": [
    "trainScore = math.sqrt(mean_squared_error(trainY[0], trainPredict[:,0]))\n",
    "print('Train Score: %.2f RMSE' % (trainScore))\n",
    "testScore = math.sqrt(mean_squared_error(testY[0], testPredict[:,0]))\n",
    "print('Test Score: %.2f RMSE' % (testScore))"
   ]
  },
  {
   "cell_type": "markdown",
   "metadata": {},
   "source": [
    "Ya tenemos un mucho mejor de entrenamiento, mas no de test"
   ]
  },
  {
   "cell_type": "code",
   "execution_count": 72,
   "metadata": {},
   "outputs": [
    {
     "name": "stdout",
     "output_type": "stream",
     "text": [
      "[[      nan]\n",
      " [      nan]\n",
      " [      nan]\n",
      " [143.27089]\n",
      " [138.89316]]\n",
      "[[481.35004]\n",
      " [544.50836]\n",
      " [481.39536]\n",
      " [375.48013]\n",
      " [360.9473 ]]\n"
     ]
    }
   ],
   "source": [
    "trainPredictPlot = np.empty_like(dataset)\n",
    "trainPredictPlot[:, :] = np.nan\n",
    "trainPredictPlot[look_back:len(trainPredict)+look_back, :] = trainPredict\n",
    "print(trainPredictPlot[0:5])\n",
    "\n",
    "testPredictPlot = np.empty_like(dataset)\n",
    "testPredictPlot[:, :] = np.nan\n",
    "testPredictPlot[len(trainPredict)+(look_back*2)+1:len(dataset)-1, :] = testPredict\n",
    "print(testPredictPlot[-6:-1])"
   ]
  },
  {
   "cell_type": "code",
   "execution_count": 73,
   "metadata": {},
   "outputs": [
    {
     "data": {
      "image/png": "[encoded data removed]",
      "text/plain": [
       "<Figure size 1080x504 with 1 Axes>"
      ]
     },
     "metadata": {
      "needs_background": "light"
     },
     "output_type": "display_data"
    }
   ],
   "source": [
    "plt.figure(figsize=(15,7))\n",
    "plt.plot(scaler.inverse_transform(dataset)) # en azul\n",
    "plt.plot(trainPredictPlot) # en naranja\n",
    "plt.plot(testPredictPlot) # en verde\n",
    "plt.show()"
   ]
  },
  {
   "cell_type": "markdown",
   "metadata": {},
   "source": [
    "Vemos que los errores de entrenamiento son un poco mayores que en el caso anterior, y set de test, mas no si comparamos a nuestro primer modelo."
   ]
  },
  {
   "cell_type": "markdown",
   "metadata": {},
   "source": [
    "### 5. Múltiples capas LSTM interconectadas"
   ]
  },
  {
   "cell_type": "markdown",
   "metadata": {},
   "source": [
    "Finalmente, vamos a aprovechar uno de los grandes beneficios de las capas LSTMs: el hecho de que se puedan apilar dentro de la arquitectura de en un mismo modelo.\n",
    "\n",
    "La única diferencia en Keras con respecto a otos tipos de capas, es que se requiere que una capa LSTM que precede otra capa LSTM debe retornar la secuencia de proceso. Esto se logra utilizando con el parámetro **return_sequences=True**.\n",
    "\n",
    "Retomamos el último modelo agregándole otra capa LSTM."
   ]
  },
  {
   "cell_type": "code",
   "execution_count": 74,
   "metadata": {},
   "outputs": [],
   "source": [
    "np.random.seed(7)"
   ]
  },
  {
   "cell_type": "code",
   "execution_count": 75,
   "metadata": {},
   "outputs": [],
   "source": [
    "look_back = 3\n",
    "trainX, trainY = create_dataset(train, look_back)\n",
    "testX, testY = create_dataset(test, look_back)"
   ]
  },
  {
   "cell_type": "code",
   "execution_count": 76,
   "metadata": {},
   "outputs": [],
   "source": [
    "# reshape input to be [samples, time steps, features]\n",
    "trainX = np.reshape(trainX, (trainX.shape[0], trainX.shape[1], 1))\n",
    "testX = np.reshape(testX, (testX.shape[0], testX.shape[1], 1))"
   ]
  },
  {
   "cell_type": "code",
   "execution_count": 77,
   "metadata": {},
   "outputs": [],
   "source": [
    "batch_size=1"
   ]
  },
  {
   "cell_type": "code",
   "execution_count": 78,
   "metadata": {},
   "outputs": [
    {
     "name": "stdout",
     "output_type": "stream",
     "text": [
      "_________________________________________________________________\n",
      "Layer (type)                 Output Shape              Param #   \n",
      "=================================================================\n",
      "lstm_5 (LSTM)                (1, 3, 4)                 96        \n",
      "_________________________________________________________________\n",
      "lstm_6 (LSTM)                (1, 4)                    144       \n",
      "_________________________________________________________________\n",
      "dense_5 (Dense)              (1, 1)                    5         \n",
      "=================================================================\n",
      "Total params: 245\n",
      "Trainable params: 245\n",
      "Non-trainable params: 0\n",
      "_________________________________________________________________\n"
     ]
    }
   ],
   "source": [
    "model5 = Sequential()\n",
    "model5.add(LSTM(4, batch_input_shape=(batch_size, look_back, 1), stateful=True, return_sequences=True))\n",
    "model5.add(LSTM(4, batch_input_shape=(batch_size, look_back, 1), stateful=True))\n",
    "model5.add(Dense(1))\n",
    "model5.summary()"
   ]
  },
  {
   "cell_type": "code",
   "execution_count": 79,
   "metadata": {},
   "outputs": [
    {
     "name": "stdout",
     "output_type": "stream",
     "text": [
      "Epoch 1/1\n",
      " - 2s - loss: 0.0057\n",
      "Epoch 1/1\n",
      " - 0s - loss: 0.0142\n",
      "Epoch 1/1\n",
      " - 0s - loss: 0.0100\n",
      "Epoch 1/1\n",
      " - 0s - loss: 0.0072\n",
      "Epoch 1/1\n",
      " - 0s - loss: 0.0060\n",
      "Epoch 1/1\n",
      " - 0s - loss: 0.0056\n",
      "Epoch 1/1\n",
      " - 0s - loss: 0.0056\n",
      "Epoch 1/1\n",
      " - 0s - loss: 0.0056\n",
      "Epoch 1/1\n",
      " - 0s - loss: 0.0056\n",
      "Epoch 1/1\n",
      " - 0s - loss: 0.0056\n",
      "Epoch 1/1\n",
      " - 0s - loss: 0.0056\n",
      "Epoch 1/1\n",
      " - 0s - loss: 0.0056\n",
      "Epoch 1/1\n",
      " - 0s - loss: 0.0056\n",
      "Epoch 1/1\n",
      " - 0s - loss: 0.0056\n",
      "Epoch 1/1\n",
      " - 0s - loss: 0.0056\n",
      "Epoch 1/1\n",
      " - 0s - loss: 0.0056\n",
      "Epoch 1/1\n",
      " - 0s - loss: 0.0056\n",
      "Epoch 1/1\n",
      " - 0s - loss: 0.0056\n",
      "Epoch 1/1\n",
      " - 0s - loss: 0.0056\n",
      "Epoch 1/1\n",
      " - 0s - loss: 0.0056\n",
      "Epoch 1/1\n",
      " - 0s - loss: 0.0056\n",
      "Epoch 1/1\n",
      " - 0s - loss: 0.0056\n",
      "Epoch 1/1\n",
      " - 0s - loss: 0.0056\n",
      "Epoch 1/1\n",
      " - 0s - loss: 0.0056\n",
      "Epoch 1/1\n",
      " - 0s - loss: 0.0055\n",
      "Epoch 1/1\n",
      " - 0s - loss: 0.0055\n",
      "Epoch 1/1\n",
      " - 0s - loss: 0.0055\n",
      "Epoch 1/1\n",
      " - 0s - loss: 0.0055\n",
      "Epoch 1/1\n",
      " - 0s - loss: 0.0055\n",
      "Epoch 1/1\n",
      " - 0s - loss: 0.0055\n",
      "Epoch 1/1\n",
      " - 0s - loss: 0.0055\n",
      "Epoch 1/1\n",
      " - 0s - loss: 0.0055\n",
      "Epoch 1/1\n",
      " - 0s - loss: 0.0054\n",
      "Epoch 1/1\n",
      " - 0s - loss: 0.0054\n",
      "Epoch 1/1\n",
      " - 0s - loss: 0.0054\n",
      "Epoch 1/1\n",
      " - 0s - loss: 0.0054\n",
      "Epoch 1/1\n",
      " - 0s - loss: 0.0054\n",
      "Epoch 1/1\n",
      " - 0s - loss: 0.0054\n",
      "Epoch 1/1\n",
      " - 0s - loss: 0.0054\n",
      "Epoch 1/1\n",
      " - 0s - loss: 0.0053\n",
      "Epoch 1/1\n",
      " - 0s - loss: 0.0053\n",
      "Epoch 1/1\n",
      " - 0s - loss: 0.0053\n",
      "Epoch 1/1\n",
      " - 0s - loss: 0.0053\n",
      "Epoch 1/1\n",
      " - 0s - loss: 0.0053\n",
      "Epoch 1/1\n",
      " - 0s - loss: 0.0053\n",
      "Epoch 1/1\n",
      " - 0s - loss: 0.0053\n",
      "Epoch 1/1\n",
      " - 0s - loss: 0.0053\n",
      "Epoch 1/1\n",
      " - 0s - loss: 0.0052\n",
      "Epoch 1/1\n",
      " - 0s - loss: 0.0052\n",
      "Epoch 1/1\n",
      " - 0s - loss: 0.0052\n",
      "Epoch 1/1\n",
      " - 0s - loss: 0.0052\n",
      "Epoch 1/1\n",
      " - 0s - loss: 0.0052\n",
      "Epoch 1/1\n",
      " - 0s - loss: 0.0052\n",
      "Epoch 1/1\n",
      " - 0s - loss: 0.0052\n",
      "Epoch 1/1\n",
      " - 0s - loss: 0.0051\n",
      "Epoch 1/1\n",
      " - 0s - loss: 0.0051\n",
      "Epoch 1/1\n",
      " - 0s - loss: 0.0051\n",
      "Epoch 1/1\n",
      " - 0s - loss: 0.0051\n",
      "Epoch 1/1\n",
      " - 0s - loss: 0.0051\n",
      "Epoch 1/1\n",
      " - 0s - loss: 0.0050\n",
      "Epoch 1/1\n",
      " - 0s - loss: 0.0050\n",
      "Epoch 1/1\n",
      " - 0s - loss: 0.0050\n",
      "Epoch 1/1\n",
      " - 0s - loss: 0.0050\n",
      "Epoch 1/1\n",
      " - 0s - loss: 0.0050\n",
      "Epoch 1/1\n",
      " - 0s - loss: 0.0049\n",
      "Epoch 1/1\n",
      " - 0s - loss: 0.0049\n",
      "Epoch 1/1\n",
      " - 0s - loss: 0.0049\n",
      "Epoch 1/1\n",
      " - 0s - loss: 0.0049\n",
      "Epoch 1/1\n",
      " - 0s - loss: 0.0048\n",
      "Epoch 1/1\n",
      " - 0s - loss: 0.0048\n",
      "Epoch 1/1\n",
      " - 0s - loss: 0.0048\n",
      "Epoch 1/1\n",
      " - 0s - loss: 0.0048\n",
      "Epoch 1/1\n",
      " - 0s - loss: 0.0047\n",
      "Epoch 1/1\n",
      " - 0s - loss: 0.0047\n",
      "Epoch 1/1\n",
      " - 0s - loss: 0.0047\n",
      "Epoch 1/1\n",
      " - 0s - loss: 0.0046\n",
      "Epoch 1/1\n",
      " - 0s - loss: 0.0046\n",
      "Epoch 1/1\n",
      " - 0s - loss: 0.0046\n",
      "Epoch 1/1\n",
      " - 0s - loss: 0.0045\n",
      "Epoch 1/1\n",
      " - 0s - loss: 0.0045\n",
      "Epoch 1/1\n",
      " - 0s - loss: 0.0045\n",
      "Epoch 1/1\n",
      " - 0s - loss: 0.0044\n",
      "Epoch 1/1\n",
      " - 0s - loss: 0.0044\n",
      "Epoch 1/1\n",
      " - 0s - loss: 0.0044\n",
      "Epoch 1/1\n",
      " - 0s - loss: 0.0043\n",
      "Epoch 1/1\n",
      " - 0s - loss: 0.0043\n",
      "Epoch 1/1\n",
      " - 0s - loss: 0.0042\n",
      "Epoch 1/1\n",
      " - 0s - loss: 0.0042\n",
      "Epoch 1/1\n",
      " - 0s - loss: 0.0042\n",
      "Epoch 1/1\n",
      " - 0s - loss: 0.0041\n",
      "Epoch 1/1\n",
      " - 0s - loss: 0.0041\n",
      "Epoch 1/1\n",
      " - 0s - loss: 0.0040\n",
      "Epoch 1/1\n",
      " - 0s - loss: 0.0040\n",
      "Epoch 1/1\n",
      " - 0s - loss: 0.0040\n",
      "Epoch 1/1\n",
      " - 0s - loss: 0.0039\n",
      "Epoch 1/1\n",
      " - 0s - loss: 0.0039\n",
      "Epoch 1/1\n",
      " - 0s - loss: 0.0038\n",
      "Epoch 1/1\n",
      " - 0s - loss: 0.0038\n",
      "Epoch 1/1\n",
      " - 0s - loss: 0.0037\n",
      "Epoch 1/1\n",
      " - 0s - loss: 0.0036\n"
     ]
    }
   ],
   "source": [
    "model5.compile(loss='mean_squared_error', optimizer='adam')\n",
    "\n",
    "for i in range(100):\n",
    "    model5.fit(trainX, trainY, epochs=1, batch_size=batch_size, verbose=2, shuffle=False)\n",
    "    model5.reset_states()"
   ]
  },
  {
   "cell_type": "code",
   "execution_count": 80,
   "metadata": {},
   "outputs": [],
   "source": [
    "trainPredict = model5.predict(trainX, batch_size=batch_size)\n",
    "trainPredict = scaler.inverse_transform(trainPredict)\n",
    "trainY = scaler.inverse_transform([trainY])\n",
    "\n",
    "model.reset_states()\n",
    "\n",
    "testPredict = model5.predict(testX, batch_size=batch_size)\n",
    "testPredict = scaler.inverse_transform(testPredict)\n",
    "testY = scaler.inverse_transform([testY])"
   ]
  },
  {
   "cell_type": "code",
   "execution_count": 81,
   "metadata": {},
   "outputs": [
    {
     "name": "stdout",
     "output_type": "stream",
     "text": [
      "Train Score: 29.87 RMSE\n",
      "Test Score: 78.41 RMSE\n"
     ]
    }
   ],
   "source": [
    "trainScore = math.sqrt(mean_squared_error(trainY[0], trainPredict[:,0]))\n",
    "print('Train Score: %.2f RMSE' % (trainScore))\n",
    "testScore = math.sqrt(mean_squared_error(testY[0], testPredict[:,0]))\n",
    "print('Test Score: %.2f RMSE' % (testScore))"
   ]
  },
  {
   "cell_type": "markdown",
   "metadata": {},
   "source": [
    "En este caso no nos ayudó para nada el apilamiento de las capas, pero el propósito con este caso era mostrar el tipo de acciones posibles en la definición de la arquitectura de un modelo recurrente para los problemas de forecasting."
   ]
  },
  {
   "cell_type": "code",
   "execution_count": 82,
   "metadata": {},
   "outputs": [
    {
     "name": "stdout",
     "output_type": "stream",
     "text": [
      "[[      nan]\n",
      " [      nan]\n",
      " [      nan]\n",
      " [124.23465]\n",
      " [132.61832]]\n",
      "[[407.60336]\n",
      " [437.85532]\n",
      " [435.32727]\n",
      " [399.18924]\n",
      " [375.56244]]\n"
     ]
    }
   ],
   "source": [
    "trainPredictPlot = np.empty_like(dataset)\n",
    "trainPredictPlot[:, :] = np.nan\n",
    "trainPredictPlot[look_back:len(trainPredict)+look_back, :] = trainPredict\n",
    "print(trainPredictPlot[0:5])\n",
    "\n",
    "testPredictPlot = np.empty_like(dataset)\n",
    "testPredictPlot[:, :] = np.nan\n",
    "testPredictPlot[len(trainPredict)+(look_back*2)+1:len(dataset)-1, :] = testPredict\n",
    "print(testPredictPlot[-6:-1])"
   ]
  },
  {
   "cell_type": "code",
   "execution_count": 83,
   "metadata": {},
   "outputs": [
    {
     "data": {
      "image/png": "[encoded data removed]",
      "text/plain": [
       "<Figure size 1080x504 with 1 Axes>"
      ]
     },
     "metadata": {
      "needs_background": "light"
     },
     "output_type": "display_data"
    }
   ],
   "source": [
    "plt.figure(figsize=(15,7))\n",
    "plt.plot(scaler.inverse_transform(dataset)) # en azul\n",
    "plt.plot(trainPredictPlot) # en naranja\n",
    "plt.plot(testPredictPlot) # en verde\n",
    "plt.show()"
   ]
  },
  {
   "cell_type": "markdown",
   "metadata": {},
   "source": [
    "Vemos que los errores de entrenamiento son un poco mayores que en el caso anterior, y set de test, mas no si comparamos a nuestro primer modelo."
   ]
  }
 ],
 "metadata": {
  "kernelspec": {
   "display_name": "Python 3",
   "language": "python",
   "name": "python3"
  },
  "language_info": {
   "codemirror_mode": {
    "name": "ipython",
    "version": 3
   },
   "file_extension": ".py",
   "mimetype": "text/x-python",
   "name": "python",
   "nbconvert_exporter": "python",
   "pygments_lexer": "ipython3",
   "version": "3.6.6"
  }
 },
 "nbformat": 4,
 "nbformat_minor": 2
}
