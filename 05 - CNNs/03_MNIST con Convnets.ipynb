{
 "cells": [
  {
   "cell_type": "markdown",
   "metadata": {},
   "source": [
    "# MNIST en Keras con Convnets"
   ]
  },
  {
   "cell_type": "markdown",
   "metadata": {},
   "source": [
    "Basado en el capítulo 5 del libro \"Deep Learning with Python\" de Francois Chollet, 2018 Manning"
   ]
  },
  {
   "cell_type": "markdown",
   "metadata": {},
   "source": [
    "Se va a utilizar el dataset de imágenes de dígitos MNIST. Con el modelo de 2 capas escondidas con redes neuronales tradicionales, obtuvimos 98% de accuracy en set de test."
   ]
  },
  {
   "cell_type": "markdown",
   "metadata": {},
   "source": [
    "## Obtención y preparación del dataset"
   ]
  },
  {
   "cell_type": "markdown",
   "metadata": {},
   "source": [
    "Los datasets serán representados como tensores.\n",
    "El tensor de entrada a la red tendra rango 4: número de imágenes, alto de la imagen, anchon de la imagen y canales de color.\n",
    "\n",
    "Por ejemplo, En el caso del del tensor de entrenamiento (train_images) tenemos el primer rango de 60000 dimensiones, pues hay 60000 imágenes. Los 2 siguientes rangos son los que dan el tamaño de las imágenes (de 28 dimensiones cada uno). Como son imágenes en escala de grises, el 4o rango que tendría el canal de color (e.g. RGB) tendrá solo una dimensión. Cada valor de la matriz de 28x28 es una valor en escal de grises de 0 a 255.\n",
    "\n",
    "Necesitamos que los datos de entrenamiento y test estén en el formato dado por la capa de entrada de la red que vamos a definir."
   ]
  },
  {
   "cell_type": "code",
   "execution_count": 1,
   "metadata": {},
   "outputs": [
    {
     "name": "stderr",
     "output_type": "stream",
     "text": [
      "Using TensorFlow backend.\n"
     ]
    }
   ],
   "source": [
    "import keras\n",
    "import matplotlib.pyplot as plt\n",
    "from keras.datasets import mnist\n",
    "from keras.utils import to_categorical\n",
    "\n",
    "(train_images, train_labels), (test_images, test_labels) = mnist.load_data()"
   ]
  },
  {
   "cell_type": "code",
   "execution_count": 2,
   "metadata": {},
   "outputs": [
    {
     "data": {
      "text/plain": [
       "(60000, 28, 28)"
      ]
     },
     "execution_count": 2,
     "metadata": {},
     "output_type": "execute_result"
    }
   ],
   "source": [
    "train_images.shape"
   ]
  },
  {
   "cell_type": "markdown",
   "metadata": {},
   "source": [
    "Tenemos que agregar el cuarto eje al tensor (con una sola dimensión, con el único canal de color).\n",
    "Vamos además a modificar la escalas de grises con valores en una escala que vaya de 0 a 1 y que sean entonces de tipo flotantes.\n",
    "\n",
    "Finalmente, convertimos los labels de arrays one hot encoded."
   ]
  },
  {
   "cell_type": "code",
   "execution_count": 3,
   "metadata": {},
   "outputs": [
    {
     "data": {
      "text/plain": [
       "array([0., 0., 0., 0., 0., 1., 0., 0., 0., 0.], dtype=float32)"
      ]
     },
     "execution_count": 3,
     "metadata": {},
     "output_type": "execute_result"
    }
   ],
   "source": [
    "train_images = train_images.reshape((60000, 28, 28, 1))\n",
    "train_images = train_images.astype('float32') / 255\n",
    "\n",
    "test_images = test_images.reshape((10000, 28, 28, 1))\n",
    "test_images = test_images.astype('float32') / 255\n",
    "\n",
    "train_labels = to_categorical(train_labels)\n",
    "test_labels = to_categorical(test_labels)\n",
    "\n",
    "train_labels[0]"
   ]
  },
  {
   "cell_type": "markdown",
   "metadata": {},
   "source": [
    "## Definición del modelo"
   ]
  },
  {
   "cell_type": "markdown",
   "metadata": {},
   "source": [
    "Vamos a definir un modelo secuencial:\n",
    "* que recibe un tensor con las instancias de imágen con tres ejes con la dimensionalidad (28, 28, 1), \n",
    "* con 3 capas convolucionales 2D, la primera con 32 filtros de 3x3 utilizando una función de activación RELU, y la segunda con 64 filtros,\n",
    "* con capas intermedias de pooling que toman las salidas de las capas convolucionales, calculando el MAX de los valores de ventanas de 2x2."
   ]
  },
  {
   "cell_type": "code",
   "execution_count": 11,
   "metadata": {},
   "outputs": [
    {
     "name": "stdout",
     "output_type": "stream",
     "text": [
      "_________________________________________________________________\n",
      "Layer (type)                 Output Shape              Param #   \n",
      "=================================================================\n",
      "conv2d_7 (Conv2D)            (None, 26, 26, 32)        320       \n",
      "_________________________________________________________________\n",
      "max_pooling2d_5 (MaxPooling2 (None, 13, 13, 32)        0         \n",
      "_________________________________________________________________\n",
      "conv2d_8 (Conv2D)            (None, 11, 11, 64)        18496     \n",
      "_________________________________________________________________\n",
      "max_pooling2d_6 (MaxPooling2 (None, 5, 5, 64)          0         \n",
      "_________________________________________________________________\n",
      "conv2d_9 (Conv2D)            (None, 3, 3, 64)          36928     \n",
      "=================================================================\n",
      "Total params: 55,744\n",
      "Trainable params: 55,744\n",
      "Non-trainable params: 0\n",
      "_________________________________________________________________\n"
     ]
    }
   ],
   "source": [
    "from keras import layers\n",
    "from keras import models\n",
    "\n",
    "model = models.Sequential()\n",
    "model.add(layers.Conv2D(32, (3, 3), activation='relu', input_shape=(28, 28, 1)))\n",
    "model.add(layers.MaxPooling2D((2, 2)))\n",
    "model.add(layers.Conv2D(64, (3, 3), activation='relu'))\n",
    "model.add(layers.MaxPooling2D((2, 2)))\n",
    "model.add(layers.Conv2D(64, (3, 3), activation='relu'))\n",
    "\n",
    "model.summary()"
   ]
  },
  {
   "cell_type": "markdown",
   "metadata": {},
   "source": [
    "- **Expliquen el número de parámetros de cada capa**"
   ]
  },
  {
   "cell_type": "markdown",
   "metadata": {},
   "source": [
    "### Modelos con capas convolucionales"
   ]
  },
  {
   "cell_type": "markdown",
   "metadata": {},
   "source": [
    "La diferencia entre un modelo convolucional y uno fully connected es que el fully connected aprende patrones globales, mientras que el convolucional aprende patrones locales, lo cual es muy importante en el caso del análisis de imágenes, presentando 2 características muy importantes:\n",
    "* los patrones aprendidos son invariantes a la traslación: una capa convolucional puede reconocer el patrón independientemente de dónde se encuentre en la imagen, uno fully connected necesitaría una red dependiente del lugar donde esté el mismo patrón en dos imágenes diferentes.\n",
    "* se puede reconocer una jerarquía espacial entre los patrones aprendidos: las primeras capas convolucionales aprenden a un mayor nivel de abstracción, que se va especializando a medida que las capas son más profundas. Las abstracciones de las primeras capas son los bloques que componen los patrones de las siguientes capas, todo sucesivamente, hasta llegar a la última capa con mayor complejidad en las representaciones que puede aprender.\n",
    "\n",
    "Las convoluciones en imágenes operan sobre tensores de 3D llamados **feature maps**, con dos ejes espaciales (ancho, alto) y uno de profundidad (los canales). Las imágenes del MNIST solo tenían los ejes espaciales, es por esto que se tuvo que agregar el tercer eje.\n",
    "\n",
    "Los filtros de las convoluciones van aplicándose a ventanas de las imágenes de entrada, produciendo **feature maps** de salida, donde la profundidad (el eje de canales) está dada por el número de filtros en cada capa. Cada filtro produce la imágen de un canal. Esto también aplica para imágenes de entrada con múltiples canales: si fueran RGB, cada filtro produce al final un feature map de un solo canal.\n",
    "\n",
    "Cada filtro se aplica a los diferentes canales de entrada. En la primera capa convolucional se reciben imágenes de 28x28x3, se consideran entonces 26x26 ventanas (dado el padding 'valid', ver en la subsección siguiente), por cada uno de los canales RGB. Así, un filtro aplicado va a producir 3 imágenes de 26x26 que se deben agregar en una sola; el promedio de las 3 imágenes creadas por un filtro va a dar la imagen 26x26 del canal de salida correspondiente al filtro en cuestión.\n",
    "\n",
    "En Keras, una capa convolucional se especifica con 2 parámetros principales: la profundidad (número de filtros), y el tamaño del filtro (alto, ancho) que se va a desplazar a cada ventana de los inputs 2D."
   ]
  },
  {
   "cell_type": "markdown",
   "metadata": {},
   "source": [
    "### Pooling"
   ]
  },
  {
   "cell_type": "markdown",
   "metadata": {},
   "source": [
    "Las capas convolucionales son a menudo seguidas de capas de **pooling** que permiten reducir la dimensionalidad (y el número de parámetros de los pesos de capas convolucionales subsecuentes. Las capas de pooling consisten en ventanas que se deslizan sobre las imágenes de entrada para resumir los datos. La función de agregación más usada es el **max**, pero tambien es posible usar poolings con **average**.\n",
    "\n",
    "Por defecto, las ventanas tienen un stride correspondiente al tamaño de las mismas, de tal modo que se divide el tamaño de las imágenes de entrada por el tamaño de la ventana del pooling para dar una representación de salida con dimensiones reducidas. Con ventanas de 2x2 (las mas usuales), el pooling termina reduciendo las imágenes a la mitad.\n",
    "\n",
    "Las capas de pooling, y la reducción de las imágenes son necesarias porque, por un lado, esto permite que las capas mas profundas tengan una visión mayor, cada vez menos localizada de las capas superiores, uno de los objetivos es aprender la jerarquía espacial de los patrones detectados; las convoluciones sucesivas tienen una visión cada vez más grande de los datos.\n",
    "Por otro lado, el número de valores de la última capa convolucional debe reducirse, teniendo en cuenta la conexión con las capas densas finales, y no tener millones de parámetros y los problemas que ello genera (tiempo y espacio durante el entrenamiento, overfitting).\n",
    "\n",
    "La reducción de los datos también se pudo haber logrado utilizando strides, o utilizar un promedio de los datos agregados, pero en la aplicación, max pooling tiende a funcionar mejor."
   ]
  },
  {
   "cell_type": "markdown",
   "metadata": {},
   "source": [
    "### Padding, strides y número de parámetros"
   ]
  },
  {
   "cell_type": "markdown",
   "metadata": {},
   "source": [
    "Las capas convolucionales y de pooling tienen como argumento el tipo de **padding** a utilizar, que consiste en la configuración a seguir cuando se estén tratando los pixeles que se encuentren en los extremos de las imágenes. Existen 2 tipos:\n",
    "* '**valid**': que no agrega pixeles en los extremos de las imágenes, teniendo como resultado imágenes de salida con un tamaño inferior al de la entrada. El qué tan inferior depende del tamaño del filtro. Con un padding 'valid' y con filtros 3x3, se reduce en 2 pixeles el alto y ancho de las imágenes; con filtros 5x5, se reducen en 4 pixeles; con filtros 7x7 se reducen en 6 pixeles. Este es el valor por defecto en las capas convolucionales y de pooling.\n",
    "* '**same**': que agrega los pixeles que sean necesarios en los extremos de las imágenes para que las imágenes de salida tengan el mismo alto y ancho que las de entrada."
   ]
  },
  {
   "cell_type": "markdown",
   "metadata": {},
   "source": [
    "En cuanto al **stride** a utilizar, que especifica los saltos que se deben tomar en cada ventana de análisis:\n",
    "* en el caso de las convoluciones, el stride por defecto es de (1, 1), es decir, los filtros se aplican en ventanas que se mueven de a 1 pixel en el eje del alto y de a 1 pixel en el eje del ancho.\n",
    "* en el caso del pooling, el stride por defecto es igual al tamaño de la ventana (*pool_size*), de tal manera que las ventanas de análisis no se sobreponen nunca."
   ]
  },
  {
   "cell_type": "markdown",
   "metadata": {},
   "source": [
    "La primera capa del modelo tiene como entrada tensores de dimensionalidad (28, 28, 1). Por cada filtro aplicado, se tiene una salida resultado de la convolución. Como el padding es 'valid' por defecto y los filtros son de tamaño 3x3, los tensores de salida tienen una dimensionalidad de (26, 26, 32). \n",
    "Esta salida pasa por una capa de maxpooling (2, 2), que reduce entonces el tamaño en 2, con tensores de salida de tipo (13, 13, 32).\n",
    "\n",
    "La segunda capa del modelo tiene como entrada tensores de dimensionalidad (13, 13, 32). Por cada filtro aplicado, se tiene una salida resultado de la convolución. Como el padding es 'valid' por defecto y los filtros son de tamaño 3x3, los tensores de salida tienen una dimensionalidad de (11, 11, 64).\n",
    "La segunda capa de maxpooling recibe entonces tensores tipo (11, 11, 64). Como las dimensiones de las imágenes no son divisibles por 2, la última fila y última columna no son consideradas y se desechan, dando tensores de salida de tipo (5, 5, 64). \n",
    "\n",
    "La tercera capa de convolución produce una salida con tensores (3, 3, 64). Después de esta capa no hay capa de pooling."
   ]
  },
  {
   "cell_type": "markdown",
   "metadata": {},
   "source": [
    "El número total de parámetros del modelo convolucional es de 55744:\n",
    "* Cada capa convolucional aporta un parámetro por cada pixel de su filtro (en este caso 3x3=9) multiplicado por la profundidad del input (la capa inicial tiene un solo canal de color) y uno del bias por cada filtro. Así, la primera capa convolucional tiene (3x3)x1x32 + 32= 320. La segunda capa tiene (3x3)x32x64 + 64 = 18496. La tercera capa tiene (3x3)x64x64+64 = 36928.\n",
    "* Las capas de pooling no tienen parámetros."
   ]
  },
  {
   "cell_type": "markdown",
   "metadata": {},
   "source": [
    "Después de las capas convolucionales, vamos a aplanar el tensor de salida, pasando de (3, 3, 64) a (3x3x64) 576 neuronas . Se utiliza una capa tipo **Flatten**, que no tiene parámetros para realizar esta reorganización de los datos. Cabe anotar que no se pierde ninguna información, solo se reacomoda.\n",
    "\n",
    "Este tensor 1D es luego usado como entrada de una primera capa **Dense**, una capa fully connected, de las tradicionales redes neuronales de perceptron multicapa, con 64 neuronas utilizando una función de activación RELU. Esto equivale a 576x64+64=36928 parámetros del modelo.\n",
    "\n",
    "Una última capa fully connected de 10 neuronas permite realizar la clasificación final en cada uno de los 10 dígitos (64x10+10=650 parámetros adicionales). Cada una de estas neuronas representa una de las clases, de tal manera que los outputs reales representados con arrays one hot encoded de 10 posiciones van a ser comparados con los arrays de las 10 neuronas de salida. Esta última capa utiliza una función de activación **softmax** para poder realizar la clasificación multi clase.\n"
   ]
  },
  {
   "cell_type": "code",
   "execution_count": 12,
   "metadata": {},
   "outputs": [],
   "source": [
    "model.add(layers.Flatten())\n",
    "model.add(layers.Dense(64, activation='relu'))\n",
    "model.add(layers.Dropout(0.3))\n",
    "model.add(layers.Dense(10, activation='softmax'))"
   ]
  },
  {
   "cell_type": "code",
   "execution_count": 13,
   "metadata": {},
   "outputs": [
    {
     "name": "stdout",
     "output_type": "stream",
     "text": [
      "_________________________________________________________________\n",
      "Layer (type)                 Output Shape              Param #   \n",
      "=================================================================\n",
      "conv2d_7 (Conv2D)            (None, 26, 26, 32)        320       \n",
      "_________________________________________________________________\n",
      "max_pooling2d_5 (MaxPooling2 (None, 13, 13, 32)        0         \n",
      "_________________________________________________________________\n",
      "conv2d_8 (Conv2D)            (None, 11, 11, 64)        18496     \n",
      "_________________________________________________________________\n",
      "max_pooling2d_6 (MaxPooling2 (None, 5, 5, 64)          0         \n",
      "_________________________________________________________________\n",
      "conv2d_9 (Conv2D)            (None, 3, 3, 64)          36928     \n",
      "_________________________________________________________________\n",
      "flatten_4 (Flatten)          (None, 576)               0         \n",
      "_________________________________________________________________\n",
      "dense_5 (Dense)              (None, 64)                36928     \n",
      "_________________________________________________________________\n",
      "dropout_3 (Dropout)          (None, 64)                0         \n",
      "_________________________________________________________________\n",
      "dense_6 (Dense)              (None, 10)                650       \n",
      "=================================================================\n",
      "Total params: 93,322\n",
      "Trainable params: 93,322\n",
      "Non-trainable params: 0\n",
      "_________________________________________________________________\n"
     ]
    }
   ],
   "source": [
    "model.summary()"
   ]
  },
  {
   "cell_type": "markdown",
   "metadata": {},
   "source": [
    "## Entrenamiento del modelo"
   ]
  },
  {
   "cell_type": "markdown",
   "metadata": {},
   "source": [
    "El modelo final tiene en total 93332 parámetros. Lo compilamos utilizando un optimizador **rmsprop** y una función de activación **categorical_cross_entropy**, y lo entrenamos con 5 épocas con el set de entrenamiento ya procesado."
   ]
  },
  {
   "cell_type": "code",
   "execution_count": 14,
   "metadata": {},
   "outputs": [
    {
     "name": "stdout",
     "output_type": "stream",
     "text": [
      "Train on 54000 samples, validate on 6000 samples\n",
      "Epoch 1/5\n",
      "54000/54000 [==============================] - 32s 592us/step - loss: 0.2390 - acc: 0.9264 - val_loss: 0.0568 - val_acc: 0.9832\n",
      "Epoch 2/5\n",
      "54000/54000 [==============================] - 33s 617us/step - loss: 0.0675 - acc: 0.9796 - val_loss: 0.0379 - val_acc: 0.9907\n",
      "Epoch 3/5\n",
      "54000/54000 [==============================] - 34s 623us/step - loss: 0.0477 - acc: 0.9862 - val_loss: 0.0409 - val_acc: 0.9887\n",
      "Epoch 4/5\n",
      "54000/54000 [==============================] - 32s 589us/step - loss: 0.0365 - acc: 0.9891 - val_loss: 0.0297 - val_acc: 0.9927\n",
      "Epoch 5/5\n",
      "54000/54000 [==============================] - 32s 592us/step - loss: 0.0300 - acc: 0.9913 - val_loss: 0.0318 - val_acc: 0.9927\n"
     ]
    }
   ],
   "source": [
    "model.compile(optimizer='rmsprop',\n",
    "              loss='categorical_crossentropy',\n",
    "              metrics=['accuracy'])\n",
    "history = model.fit(train_images, train_labels, epochs=5, batch_size=64, validation_split=0.1)"
   ]
  },
  {
   "cell_type": "markdown",
   "metadata": {},
   "source": [
    "## Evaluación de los resultados del modelo"
   ]
  },
  {
   "cell_type": "code",
   "execution_count": 15,
   "metadata": {},
   "outputs": [
    {
     "name": "stdout",
     "output_type": "stream",
     "text": [
      "10000/10000 [==============================] - 2s 183us/step\n"
     ]
    }
   ],
   "source": [
    "test_loss, test_acc = model.evaluate(test_images, test_labels)"
   ]
  },
  {
   "cell_type": "code",
   "execution_count": 16,
   "metadata": {},
   "outputs": [
    {
     "data": {
      "text/plain": [
       "0.9911"
      ]
     },
     "execution_count": 16,
     "metadata": {},
     "output_type": "execute_result"
    }
   ],
   "source": [
    "test_acc"
   ]
  },
  {
   "cell_type": "markdown",
   "metadata": {},
   "source": [
    "Teniendo en cuenta el resultado obtenido con el modelo de red neuronal tradicional (98%), el modelo convolucional lo mejora, llegando a un nivel de exactitud de mas del 99% en tan solo 5 épocas, utilizando una capa de regularización a partir de dropout."
   ]
  },
  {
   "cell_type": "code",
   "execution_count": 17,
   "metadata": {},
   "outputs": [
    {
     "data": {
      "image/png": "[encoded data removed]",
      "text/plain": [
       "<Figure size 432x288 with 1 Axes>"
      ]
     },
     "metadata": {
      "needs_background": "light"
     },
     "output_type": "display_data"
    }
   ],
   "source": [
    "plt.plot(history.history['acc'])\n",
    "plt.plot(history.history['val_acc'])\n",
    "plt.title('model accuracy')\n",
    "plt.ylabel('accuracy')\n",
    "plt.xlabel('epoch')\n",
    "plt.legend(['train', 'test'], loc='upper left')\n",
    "plt.show()"
   ]
  },
  {
   "cell_type": "code",
   "execution_count": 18,
   "metadata": {},
   "outputs": [
    {
     "data": {
      "image/png": "[encoded data removed]",
      "text/plain": [
       "<Figure size 432x288 with 1 Axes>"
      ]
     },
     "metadata": {
      "needs_background": "light"
     },
     "output_type": "display_data"
    }
   ],
   "source": [
    "plt.plot(history.history['loss'])\n",
    "plt.plot(history.history['val_loss'])\n",
    "plt.title('model loss')\n",
    "plt.ylabel('loss')\n",
    "plt.xlabel('epoch')\n",
    "plt.legend(['train', 'test'], loc='upper left')\n",
    "plt.show()"
   ]
  }
 ],
 "metadata": {
  "kernelspec": {
   "display_name": "Python 3",
   "language": "python",
   "name": "python3"
  },
  "language_info": {
   "codemirror_mode": {
    "name": "ipython",
    "version": 3
   },
   "file_extension": ".py",
   "mimetype": "text/x-python",
   "name": "python",
   "nbconvert_exporter": "python",
   "pygments_lexer": "ipython3",
   "version": "3.6.6"
  }
 },
 "nbformat": 4,
 "nbformat_minor": 2
}
