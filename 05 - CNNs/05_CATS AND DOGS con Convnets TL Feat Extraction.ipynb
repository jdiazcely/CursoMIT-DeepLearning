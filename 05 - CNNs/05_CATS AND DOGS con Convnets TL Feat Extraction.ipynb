{
 "cells": [
  {
   "cell_type": "markdown",
   "metadata": {},
   "source": [
    "# Perros y Gatos con Convnets pre entrenados (feature extraction)"
   ]
  },
  {
   "cell_type": "markdown",
   "metadata": {},
   "source": [
    "Basado en el capítulo 5 del libro \"Deep Learning with Python\" de Francois Chollet, 2018 Manning"
   ]
  },
  {
   "cell_type": "markdown",
   "metadata": {},
   "source": [
    "Una de las características mas interesantes de los modelos convolucionales de clasificación de imágenes, es que se pueden reutilizar modelos pre entrenados con datasets suficientemente generales de mucho mayor tamaño, y aplicarlos a tareas de clasificación diferentes, que no disponen de un gran volúmen de datos. \n",
    "\n",
    "La idea es reutilizar las características (los *features*) espaciales aprendidos sobre un dataset general y de gran tamaño, ya que son abstracciones suficientemente generales para poder ser útiles para otros problemas, así estos involucren otras clases diferentes a las de la tarea original.\n",
    "\n",
    "La portabilidad de las características a diferentes tipos de problemas es la base del **transfer learning** de modelos conexionistas, que constituye una ventaja sobre modelos de ML tradicionales, y permite aplicar el deep learning a problemas que no dispongan de datasets suficientemente grandes."
   ]
  },
  {
   "cell_type": "markdown",
   "metadata": {},
   "source": [
    "En este ejemplo vamos a considerar una Convnet entrenada sobre 1.4 millones de imágenes del dataset **Imagenet**, etiquetadas con 1000 clases, entre ellas diferentes clases de animales, por lo que probablemente funcione bien con el pequeño dataset de 25000 imágenes de perros y gatos de Kaggle."
   ]
  },
  {
   "cell_type": "markdown",
   "metadata": {},
   "source": [
    "Existen varios modelos disponibles gratuitamente para el transfer learning: VGG, Inception, ResNet, Inception-ResNet, Xception. Vamos a servirnos de una Convnet con arquitectura VGG16, desarrollada por Karen Simonyan y Andrew Zisserman en 2014, muy utilizada por su simple arquitectura, aunque un poco pesada (tamaño, número de parámetros). "
   ]
  },
  {
   "cell_type": "markdown",
   "metadata": {},
   "source": [
    "Hay dos maneras de reutilizar modelos pre entrenados, se pueden utilizar para hacer **feature extraction** sin tocar las capas convolucionales originales (lo que haremos aquí), o para hacer **fine tuning** que toma el modelo importado como base de inicialización y remodifica sus pesos según la tarea en cuestión."
   ]
  },
  {
   "cell_type": "markdown",
   "metadata": {},
   "source": [
    "## Feature extraction"
   ]
  },
  {
   "cell_type": "markdown",
   "metadata": {},
   "source": [
    "El **feature extraction** consiste en utilizar las representaciones aprendidas por una red anterior como entradas sin modificar de un nuevo modelo de clasificación entrenado desde cero.\n",
    "\n",
    "De los modelos originales se conservará entonces las salidas de las capas convolucionales, que luego se conectarán con capas densas fully connected. Los datos de la nueva tarea son entonces pasados por las capas convolucionales originales, cuya salida es luego \"aplastada\" en un tensor 1D que sirve como inputs de una red neuronal tradicional."
   ]
  },
  {
   "cell_type": "markdown",
   "metadata": {},
   "source": [
    "No se reutiliza las capas densas de los modelos originales, ya que son demasiado específicas a los problemas y clases originales con las que fueron entrenadas, sin contener información espacial de la ubicación de los conceptos aprendidos.\n",
    "No son genéricas como lo son las capas convolucionales, que sirven como mapas de conceptos genéricos que podrían servir para todo tipo de problemas de computación visual."
   ]
  },
  {
   "cell_type": "markdown",
   "metadata": {},
   "source": [
    "El nivel de generalidad y reusabilidad de las representaciones extraídas por una capa convolucional específica depende de la profundidad de la misma. Las capas iniciales extraen conceptos locales mucho mas abstractos y altamente genéricos (lineas, esquinas, curvas), mientras que las capas finales extraen conceptos mas específicos (oreja de perro, nariz de gato). \n",
    "\n",
    "Es así como si la tarea de clasificación a la que se quiere transferir un modelo es muy diferente a la tarea original, puede ser mejor no utilizar todas las capas convolucionales, sino solo las primeras."
   ]
  },
  {
   "cell_type": "markdown",
   "metadata": {},
   "source": [
    "En este caso, como las clases de ImageNet comprendían últiples clases de perros y gatos, es provechoso reutilizar todas las capas convolucionales."
   ]
  },
  {
   "cell_type": "markdown",
   "metadata": {},
   "source": [
    "## Definición del modelo"
   ]
  },
  {
   "cell_type": "markdown",
   "metadata": {},
   "source": [
    "Se va a reutilizar el modelo VGG16 que viene ya con Keras, pero que en todo caso hay que descargar de internet.\n",
    "Se especifican los pesos que se quieren utilizar (los aprendidos con el dataset ImageNet), que no se quieren las capas densas (no se incluye la parte superior del modelo), y el tipo de inputs (imágenes en tensores de 150x150x3; por defecto se aceptaría cualquier tipo de imágenes)."
   ]
  },
  {
   "cell_type": "code",
   "execution_count": 1,
   "metadata": {},
   "outputs": [
    {
     "name": "stderr",
     "output_type": "stream",
     "text": [
      "Using TensorFlow backend.\n"
     ]
    }
   ],
   "source": [
    "import keras"
   ]
  },
  {
   "cell_type": "code",
   "execution_count": 27,
   "metadata": {},
   "outputs": [
    {
     "name": "stdout",
     "output_type": "stream",
     "text": [
      "_________________________________________________________________\n",
      "Layer (type)                 Output Shape              Param #   \n",
      "=================================================================\n",
      "input_2 (InputLayer)         (None, 150, 150, 3)       0         \n",
      "_________________________________________________________________\n",
      "block1_conv1 (Conv2D)        (None, 150, 150, 64)      1792      \n",
      "_________________________________________________________________\n",
      "block1_conv2 (Conv2D)        (None, 150, 150, 64)      36928     \n",
      "_________________________________________________________________\n",
      "block1_pool (MaxPooling2D)   (None, 75, 75, 64)        0         \n",
      "_________________________________________________________________\n",
      "block2_conv1 (Conv2D)        (None, 75, 75, 128)       73856     \n",
      "_________________________________________________________________\n",
      "block2_conv2 (Conv2D)        (None, 75, 75, 128)       147584    \n",
      "_________________________________________________________________\n",
      "block2_pool (MaxPooling2D)   (None, 37, 37, 128)       0         \n",
      "_________________________________________________________________\n",
      "block3_conv1 (Conv2D)        (None, 37, 37, 256)       295168    \n",
      "_________________________________________________________________\n",
      "block3_conv2 (Conv2D)        (None, 37, 37, 256)       590080    \n",
      "_________________________________________________________________\n",
      "block3_conv3 (Conv2D)        (None, 37, 37, 256)       590080    \n",
      "_________________________________________________________________\n",
      "block3_pool (MaxPooling2D)   (None, 18, 18, 256)       0         \n",
      "_________________________________________________________________\n",
      "block4_conv1 (Conv2D)        (None, 18, 18, 512)       1180160   \n",
      "_________________________________________________________________\n",
      "block4_conv2 (Conv2D)        (None, 18, 18, 512)       2359808   \n",
      "_________________________________________________________________\n",
      "block4_conv3 (Conv2D)        (None, 18, 18, 512)       2359808   \n",
      "_________________________________________________________________\n",
      "block4_pool (MaxPooling2D)   (None, 9, 9, 512)         0         \n",
      "_________________________________________________________________\n",
      "block5_conv1 (Conv2D)        (None, 9, 9, 512)         2359808   \n",
      "_________________________________________________________________\n",
      "block5_conv2 (Conv2D)        (None, 9, 9, 512)         2359808   \n",
      "_________________________________________________________________\n",
      "block5_conv3 (Conv2D)        (None, 9, 9, 512)         2359808   \n",
      "_________________________________________________________________\n",
      "block5_pool (MaxPooling2D)   (None, 4, 4, 512)         0         \n",
      "=================================================================\n",
      "Total params: 14,714,688\n",
      "Trainable params: 14,714,688\n",
      "Non-trainable params: 0\n",
      "_________________________________________________________________\n"
     ]
    }
   ],
   "source": [
    "from keras.applications import VGG16\n",
    "\n",
    "conv_base = VGG16(weights='imagenet',\n",
    "                  include_top=False,\n",
    "                  input_shape=(150, 150, 3))\n",
    "\n",
    "\n",
    "conv_base.summary()"
   ]
  },
  {
   "cell_type": "markdown",
   "metadata": {},
   "source": [
    "El modelo tiene 14.7 millones de parámetros.\n",
    "\n",
    "El tensor final tiene una forma (4, 4, 512), 512 filtros de \"imágenes\" de 4x4, las características que tienen que adaptarse para ser luego conectadas con una red densa fully connected.\n",
    "\n",
    "Hay 2 maneras de proceder en este punto:\n",
    "* Procesar el dataset de la tarea de destino pasándolo por la base convolucional, para luego grabar en disco el tensor final, que luego se puede cargar en una segunda etapa como los inputs de entrenamiento de una nueva red con la base fully connected. Esta solución es rápida y ahorradora en tiempo de ejecución, pues solo se utilizará la red convolucional una sola vez por cada imágen, la parte más consumidora de procesamiento, sin tener que repetirla por cada paso de entrenamiento. Pero esta técnica impide utilizar el **data augmentation**\n",
    "* Extender el modelo convolucional de base importado, agregándole la subred fully connected, que serían las únicas capas que serían entrenadas. Esto permite el **data augmentation**, pero es mucho más costosa que la anterior."
   ]
  },
  {
   "cell_type": "markdown",
   "metadata": {},
   "source": [
    "## Feature extracción sin data augmentation  "
   ]
  },
  {
   "cell_type": "markdown",
   "metadata": {},
   "source": [
    "Se va a procesar todo el dataset de test a través de la base convolucional importada, utilizando la función *predict*. La salida del dataset procesado se guardarán en memoria como un tensor de features maps que se aplanará para posteriormente ser procesado por una red densa shallow. [El preprocesamiento dura unos 20 minutos en un computador sin GPU]."
   ]
  },
  {
   "cell_type": "code",
   "execution_count": 28,
   "metadata": {},
   "outputs": [],
   "source": [
    "import os\n",
    "import numpy as np\n",
    "from keras.preprocessing.image import ImageDataGenerator\n",
    "\n",
    "# El directorio con los particionamientos que utilizaremos para entrenar, validar y evaluar\n",
    "base_dir = '/home/icesi/Dropbox/Cursos_Propios/MIT - Deep Learning/05 - CNNs/cats_and_dogs/'\n",
    "\n",
    "train_dir = os.path.join(base_dir, 'train')\n",
    "validation_dir = os.path.join(base_dir, 'validation')\n",
    "test_dir = os.path.join(base_dir, 'test')"
   ]
  },
  {
   "cell_type": "code",
   "execution_count": 29,
   "metadata": {},
   "outputs": [
    {
     "name": "stdout",
     "output_type": "stream",
     "text": [
      "Found 2000 images belonging to 2 classes.\n",
      "Found 1000 images belonging to 2 classes.\n",
      "Found 1000 images belonging to 2 classes.\n"
     ]
    }
   ],
   "source": [
    "# se utiliza un generador que convierte el tipo de los datos a float y reescala los inputs a [0,1] \n",
    "datagen = ImageDataGenerator(rescale=1./255)\n",
    "batch_size = 20\n",
    "\n",
    "# Esta función realiza el procesamiento de las imágenes de un directorio dado.\n",
    "# Se define un número de imágenes deseado, pues los generadores son infinitos.\n",
    "# Además puede servir para la extracción con un generador de data augmentation.\n",
    "# Retorna tanto los tensores con los features como los labels correspondientes.\n",
    "def extract_features(directory, sample_count):\n",
    "    features = np.zeros(shape=(sample_count, 4, 4, 512))\n",
    "    labels = np.zeros(shape=(sample_count))\n",
    "    generator = datagen.flow_from_directory(\n",
    "        directory,\n",
    "        target_size=(150, 150),\n",
    "        batch_size=batch_size,\n",
    "        class_mode='binary')\n",
    "    i = 0\n",
    "    for inputs_batch, labels_batch in generator:\n",
    "        features_batch = conv_base.predict(inputs_batch)\n",
    "        features[i * batch_size : (i + 1) * batch_size] = features_batch\n",
    "        labels[i * batch_size : (i + 1) * batch_size] = labels_batch\n",
    "        i += 1\n",
    "        if i * batch_size >= sample_count:\n",
    "            # Es necesario explicitar el break, ya que los generadores son infinitos en su generación\n",
    "            break\n",
    "    return features, labels\n",
    "\n",
    "# Se transforman todos los dataset: train, validation y test.\n",
    "train_features, train_labels = extract_features(train_dir, 2000)\n",
    "validation_features, validation_labels = extract_features(validation_dir, 1000)\n",
    "test_features, test_labels = extract_features(test_dir, 1000)"
   ]
  },
  {
   "cell_type": "markdown",
   "metadata": {},
   "source": [
    "Las características extraídas son tensores de tipo (samples, 4, 4, 512), se van a aplanar a un tensor de tipo (samples, 8192)."
   ]
  },
  {
   "cell_type": "code",
   "execution_count": 30,
   "metadata": {},
   "outputs": [],
   "source": [
    "train_features = np.reshape(train_features, (2000, 4 * 4 * 512))\n",
    "validation_features = np.reshape(validation_features, (1000, 4 * 4 * 512))\n",
    "test_features = np.reshape(test_features, (1000, 4 * 4 * 512))"
   ]
  },
  {
   "cell_type": "markdown",
   "metadata": {},
   "source": [
    "En este punto se podrían grabar archivos para cada dataset procesado, así se pueden persistir para ser reutilizados varias veces en otras sesiones.\n",
    "\n",
    "Ahora definimos la red fully connected con una capa final de clasificacón binaria con una función de activación sigmoide, agregando regularización a partir de una capa de Dropout al 50\\%, y la entrenamos con 30 épocas."
   ]
  },
  {
   "cell_type": "code",
   "execution_count": 31,
   "metadata": {},
   "outputs": [
    {
     "name": "stdout",
     "output_type": "stream",
     "text": [
      "Train on 2000 samples, validate on 1000 samples\n",
      "Epoch 1/30\n",
      "2000/2000 [==============================] - 1s 291us/step - loss: 0.6179 - acc: 0.6615 - val_loss: 0.4504 - val_acc: 0.8080\n",
      "Epoch 2/30\n",
      "2000/2000 [==============================] - 0s 168us/step - loss: 0.4385 - acc: 0.7995 - val_loss: 0.3642 - val_acc: 0.8560\n",
      "Epoch 3/30\n",
      "2000/2000 [==============================] - 0s 160us/step - loss: 0.3653 - acc: 0.8425 - val_loss: 0.3221 - val_acc: 0.8620\n",
      "Epoch 4/30\n",
      "2000/2000 [==============================] - 0s 165us/step - loss: 0.3199 - acc: 0.8615 - val_loss: 0.2981 - val_acc: 0.8770\n",
      "Epoch 5/30\n",
      "2000/2000 [==============================] - 0s 170us/step - loss: 0.2863 - acc: 0.8860 - val_loss: 0.2824 - val_acc: 0.8810\n",
      "Epoch 6/30\n",
      "2000/2000 [==============================] - 0s 165us/step - loss: 0.2657 - acc: 0.8885 - val_loss: 0.2728 - val_acc: 0.8880\n",
      "Epoch 7/30\n",
      "2000/2000 [==============================] - 0s 168us/step - loss: 0.2547 - acc: 0.8940 - val_loss: 0.2664 - val_acc: 0.8960\n",
      "Epoch 8/30\n",
      "2000/2000 [==============================] - 0s 165us/step - loss: 0.2281 - acc: 0.9170 - val_loss: 0.2580 - val_acc: 0.8940\n",
      "Epoch 9/30\n",
      "2000/2000 [==============================] - 0s 167us/step - loss: 0.2204 - acc: 0.9160 - val_loss: 0.2549 - val_acc: 0.8940\n",
      "Epoch 10/30\n",
      "2000/2000 [==============================] - 0s 163us/step - loss: 0.2091 - acc: 0.9200 - val_loss: 0.2509 - val_acc: 0.8990\n",
      "Epoch 11/30\n",
      "2000/2000 [==============================] - 0s 167us/step - loss: 0.1962 - acc: 0.9340 - val_loss: 0.2465 - val_acc: 0.9000\n",
      "Epoch 12/30\n",
      "2000/2000 [==============================] - 0s 168us/step - loss: 0.1851 - acc: 0.9265 - val_loss: 0.2525 - val_acc: 0.8930\n",
      "Epoch 13/30\n",
      "2000/2000 [==============================] - 0s 175us/step - loss: 0.1798 - acc: 0.9355 - val_loss: 0.2484 - val_acc: 0.8950\n",
      "Epoch 14/30\n",
      "2000/2000 [==============================] - 0s 170us/step - loss: 0.1722 - acc: 0.9355 - val_loss: 0.2431 - val_acc: 0.9020\n",
      "Epoch 15/30\n",
      "2000/2000 [==============================] - 0s 162us/step - loss: 0.1600 - acc: 0.9450 - val_loss: 0.2385 - val_acc: 0.9010\n",
      "Epoch 16/30\n",
      "2000/2000 [==============================] - 0s 167us/step - loss: 0.1527 - acc: 0.9485 - val_loss: 0.2448 - val_acc: 0.8930\n",
      "Epoch 17/30\n",
      "2000/2000 [==============================] - 0s 165us/step - loss: 0.1464 - acc: 0.9505 - val_loss: 0.2384 - val_acc: 0.9000\n",
      "Epoch 18/30\n",
      "2000/2000 [==============================] - 0s 167us/step - loss: 0.1441 - acc: 0.9495 - val_loss: 0.2403 - val_acc: 0.8970\n",
      "Epoch 19/30\n",
      "2000/2000 [==============================] - ETA: 0s - loss: 0.1410 - acc: 0.949 - 0s 182us/step - loss: 0.1387 - acc: 0.9505 - val_loss: 0.2400 - val_acc: 0.8980\n",
      "Epoch 20/30\n",
      "2000/2000 [==============================] - 0s 179us/step - loss: 0.1304 - acc: 0.9570 - val_loss: 0.2396 - val_acc: 0.8990\n",
      "Epoch 21/30\n",
      "2000/2000 [==============================] - 0s 187us/step - loss: 0.1283 - acc: 0.9540 - val_loss: 0.2535 - val_acc: 0.8960\n",
      "Epoch 22/30\n",
      "2000/2000 [==============================] - 0s 190us/step - loss: 0.1203 - acc: 0.9600 - val_loss: 0.2357 - val_acc: 0.8980\n",
      "Epoch 23/30\n",
      "2000/2000 [==============================] - 0s 185us/step - loss: 0.1194 - acc: 0.9590 - val_loss: 0.2433 - val_acc: 0.8990\n",
      "Epoch 24/30\n",
      "2000/2000 [==============================] - 0s 185us/step - loss: 0.1120 - acc: 0.9640 - val_loss: 0.2369 - val_acc: 0.8990\n",
      "Epoch 25/30\n",
      "2000/2000 [==============================] - 0s 168us/step - loss: 0.1034 - acc: 0.9650 - val_loss: 0.2377 - val_acc: 0.8990\n",
      "Epoch 26/30\n",
      "2000/2000 [==============================] - 0s 190us/step - loss: 0.0985 - acc: 0.9680 - val_loss: 0.2367 - val_acc: 0.9010\n",
      "Epoch 27/30\n",
      "2000/2000 [==============================] - 0s 188us/step - loss: 0.1029 - acc: 0.9660 - val_loss: 0.2367 - val_acc: 0.9030\n",
      "Epoch 28/30\n",
      "2000/2000 [==============================] - 0s 169us/step - loss: 0.0943 - acc: 0.9710 - val_loss: 0.2441 - val_acc: 0.8980\n",
      "Epoch 29/30\n",
      "2000/2000 [==============================] - 0s 174us/step - loss: 0.0869 - acc: 0.9725 - val_loss: 0.2380 - val_acc: 0.9040\n",
      "Epoch 30/30\n",
      "2000/2000 [==============================] - 0s 196us/step - loss: 0.0902 - acc: 0.9690 - val_loss: 0.2399 - val_acc: 0.9020\n"
     ]
    }
   ],
   "source": [
    "from keras import models\n",
    "from keras import layers\n",
    "from keras import optimizers\n",
    "\n",
    "model = models.Sequential()\n",
    "model.add(layers.Dense(256, activation='relu', input_dim=4 * 4 * 512))\n",
    "model.add(layers.Dropout(0.5))\n",
    "model.add(layers.Dense(1, activation='sigmoid'))\n",
    "\n",
    "model.compile(optimizer=optimizers.RMSprop(lr=2e-5),\n",
    "              loss='binary_crossentropy',\n",
    "              metrics=['acc'])\n",
    "\n",
    "history = model.fit(train_features, train_labels,\n",
    "                    epochs=30,\n",
    "                    batch_size=20,\n",
    "                    validation_data=(validation_features, validation_labels))"
   ]
  },
  {
   "cell_type": "markdown",
   "metadata": {},
   "source": [
    "El entrenamiento de esta red es bastante rápido, pues no se reentrenan las capas convolucionales y solo cuenta con 2 capas fully connected. Cada época dura unos pocos segundos."
   ]
  },
  {
   "cell_type": "markdown",
   "metadata": {},
   "source": [
    "Veamos los resultados del modelo."
   ]
  },
  {
   "cell_type": "code",
   "execution_count": 32,
   "metadata": {},
   "outputs": [
    {
     "data": {
      "image/png": "[encoded data removed]",
      "text/plain": [
       "<Figure size 432x288 with 1 Axes>"
      ]
     },
     "metadata": {
      "needs_background": "light"
     },
     "output_type": "display_data"
    },
    {
     "data": {
      "image/png": "[encoded data removed]",
      "text/plain": [
       "<Figure size 432x288 with 1 Axes>"
      ]
     },
     "metadata": {
      "needs_background": "light"
     },
     "output_type": "display_data"
    }
   ],
   "source": [
    "import matplotlib.pyplot as plt\n",
    "\n",
    "acc = history.history['acc']\n",
    "val_acc = history.history['val_acc']\n",
    "loss = history.history['loss']\n",
    "val_loss = history.history['val_loss']\n",
    "\n",
    "epochs = range(len(acc))\n",
    "\n",
    "plt.plot(epochs, acc, 'bo', label='Training acc')\n",
    "plt.plot(epochs, val_acc, 'b', label='Validation acc')\n",
    "plt.title('Training and validation accuracy')\n",
    "plt.legend()\n",
    "plt.show()\n",
    "\n",
    "plt.plot(epochs, loss, 'bo', label='Training loss')\n",
    "plt.plot(epochs, val_loss, 'b', label='Validation loss')\n",
    "plt.title('Training and validation loss')\n",
    "plt.legend()\n",
    "plt.show()"
   ]
  },
  {
   "cell_type": "markdown",
   "metadata": {},
   "source": [
    "Se llega a un nivel de exactitud de validación de aproximadamente 90%, superior al 86-87% del modelo entrenado desde cero. Sin embargo, se puede ver que se hace overfitting después de quinta época, aún depués de utilizar dropout. Esto nos lleva a buscar una mejora en los datasets, que puede que sean muy pequeños. Aplicamos entonces data augmentation para tratar de aliviar el problema."
   ]
  },
  {
   "cell_type": "markdown",
   "metadata": {},
   "source": [
    "## Feature extracción con data augmentation  "
   ]
  },
  {
   "cell_type": "markdown",
   "metadata": {},
   "source": [
    "Ahora vamos a considerar una sola red, concatenando la base convolucional con la fully connected, permitiendo esto el **data augmentation**, pero siendo mucho más costosa en tiempo de ejecución, tanto que es inviable sin usar GPU."
   ]
  },
  {
   "cell_type": "markdown",
   "metadata": {},
   "source": [
    "Los modelos se comportan como capas, por lo que se va a construir un nuevo modelo secuencial agregando la base convolucional como una capa inicial. "
   ]
  },
  {
   "cell_type": "code",
   "execution_count": 33,
   "metadata": {},
   "outputs": [
    {
     "name": "stdout",
     "output_type": "stream",
     "text": [
      "_________________________________________________________________\n",
      "Layer (type)                 Output Shape              Param #   \n",
      "=================================================================\n",
      "vgg16 (Model)                (None, 4, 4, 512)         14714688  \n",
      "_________________________________________________________________\n",
      "flatten_4 (Flatten)          (None, 8192)              0         \n",
      "_________________________________________________________________\n",
      "dense_11 (Dense)             (None, 256)               2097408   \n",
      "_________________________________________________________________\n",
      "dense_12 (Dense)             (None, 1)                 257       \n",
      "=================================================================\n",
      "Total params: 16,812,353\n",
      "Trainable params: 16,812,353\n",
      "Non-trainable params: 0\n",
      "_________________________________________________________________\n"
     ]
    }
   ],
   "source": [
    "from keras import models\n",
    "from keras import layers\n",
    "\n",
    "model = models.Sequential()\n",
    "model.add(conv_base)\n",
    "model.add(layers.Flatten())\n",
    "model.add(layers.Dense(256, activation='relu'))\n",
    "model.add(layers.Dense(1, activation='sigmoid'))\n",
    "\n",
    "model.summary()"
   ]
  },
  {
   "cell_type": "markdown",
   "metadata": {},
   "source": [
    "El modelo VGG16 tiene mas de 14,7 millones de parámetros (muy grande), y las capas fully connected tienen 2 millones.\n",
    "\n",
    "Antes de compilar el modelo es importante configurar el modelo, especificando que la base convolucional no debe ser modificada durante le entrenamiento. \"Congelarla\" es necesario pués la base convolucional solo debe ser utilizada para extraer las características de los datos. De lo contrario, como las capas fully connected son incializadas aleatoriamente, actualizaciones muy grandes serían propagadas a la base convolucional durante el entrenamiento, destruyendo las representaciones previamente aprendidas."
   ]
  },
  {
   "cell_type": "code",
   "execution_count": 36,
   "metadata": {},
   "outputs": [
    {
     "name": "stdout",
     "output_type": "stream",
     "text": [
      "El número de capas a entrenar antes de congelar la parte convolucional es de:  30\n",
      "El número de capas a entrenar despues de congeler la parte convolucinales es de:  4\n"
     ]
    }
   ],
   "source": [
    "conv_base.trainable = True\n",
    "print('El número de capas a entrenar antes de congelar la parte convolucional es de: ', len(model.trainable_weights))\n",
    "conv_base.trainable = False\n",
    "print('El número de capas a entrenar despues de congeler la parte convolucional es de: ', len(model.trainable_weights))"
   ]
  },
  {
   "cell_type": "markdown",
   "metadata": {},
   "source": [
    "Al final solo se pueden entrenar las capas densas agregadas, proceso que se hará con **data augmentation** durante 30 épocas."
   ]
  },
  {
   "cell_type": "code",
   "execution_count": 37,
   "metadata": {},
   "outputs": [
    {
     "name": "stdout",
     "output_type": "stream",
     "text": [
      "Found 2000 images belonging to 2 classes.\n",
      "Found 1000 images belonging to 2 classes.\n"
     ]
    }
   ],
   "source": [
    "from keras.preprocessing.image import ImageDataGenerator\n",
    "\n",
    "train_datagen = ImageDataGenerator(\n",
    "      rescale=1./255,\n",
    "      rotation_range=40,\n",
    "      width_shift_range=0.2,\n",
    "      height_shift_range=0.2,\n",
    "      shear_range=0.2,\n",
    "      zoom_range=0.2,\n",
    "      horizontal_flip=True,\n",
    "      fill_mode='nearest')\n",
    "\n",
    "# Note that the validation data should not be augmented!\n",
    "test_datagen = ImageDataGenerator(rescale=1./255)\n",
    "\n",
    "train_generator = train_datagen.flow_from_directory(\n",
    "        # This is the target directory\n",
    "        train_dir,\n",
    "        # All images will be resized to 150x150\n",
    "        target_size=(150, 150),\n",
    "        batch_size=20,\n",
    "        # Since we use binary_crossentropy loss, we need binary labels\n",
    "        class_mode='binary')\n",
    "\n",
    "validation_generator = test_datagen.flow_from_directory(\n",
    "        validation_dir,\n",
    "        target_size=(150, 150),\n",
    "        batch_size=20,\n",
    "        class_mode='binary')"
   ]
  },
  {
   "cell_type": "markdown",
   "metadata": {},
   "source": [
    "Ojo: el entrenamiento de cada época dura entre 9 y 10 minutos en un computador sin GPU!! (Si se corre en CPU hay que pararlo, a menos que se tengan 5 horas para esperar el resultado...).\n",
    "\n",
    "En GPUs el entrenamiento dura 6 minutos."
   ]
  },
  {
   "cell_type": "code",
   "execution_count": 38,
   "metadata": {},
   "outputs": [
    {
     "name": "stdout",
     "output_type": "stream",
     "text": [
      "Epoch 1/30\n",
      " - 11s - loss: 0.5962 - acc: 0.6885 - val_loss: 0.4589 - val_acc: 0.8200\n",
      "Epoch 2/30\n",
      " - 10s - loss: 0.4991 - acc: 0.7645 - val_loss: 0.3812 - val_acc: 0.8530\n",
      "Epoch 3/30\n",
      " - 10s - loss: 0.4389 - acc: 0.8090 - val_loss: 0.3383 - val_acc: 0.8600\n",
      "Epoch 4/30\n",
      " - 10s - loss: 0.4130 - acc: 0.8190 - val_loss: 0.3148 - val_acc: 0.8660\n",
      "Epoch 5/30\n",
      " - 10s - loss: 0.3970 - acc: 0.8305 - val_loss: 0.2955 - val_acc: 0.8820\n",
      "Epoch 6/30\n",
      " - 10s - loss: 0.3717 - acc: 0.8390 - val_loss: 0.2869 - val_acc: 0.8800\n",
      "Epoch 7/30\n",
      " - 10s - loss: 0.3674 - acc: 0.8370 - val_loss: 0.2752 - val_acc: 0.8850\n",
      "Epoch 8/30\n",
      " - 10s - loss: 0.3619 - acc: 0.8370 - val_loss: 0.2700 - val_acc: 0.8890\n",
      "Epoch 9/30\n",
      " - 10s - loss: 0.3492 - acc: 0.8535 - val_loss: 0.2657 - val_acc: 0.8840\n",
      "Epoch 10/30\n",
      " - 10s - loss: 0.3443 - acc: 0.8425 - val_loss: 0.2717 - val_acc: 0.8810\n",
      "Epoch 11/30\n",
      " - 10s - loss: 0.3279 - acc: 0.8595 - val_loss: 0.2636 - val_acc: 0.8890\n",
      "Epoch 12/30\n",
      " - 11s - loss: 0.3341 - acc: 0.8570 - val_loss: 0.2580 - val_acc: 0.8940\n",
      "Epoch 13/30\n",
      " - 11s - loss: 0.3368 - acc: 0.8590 - val_loss: 0.2478 - val_acc: 0.8990\n",
      "Epoch 14/30\n",
      " - 11s - loss: 0.3229 - acc: 0.8625 - val_loss: 0.2471 - val_acc: 0.9010\n",
      "Epoch 15/30\n",
      " - 13s - loss: 0.3236 - acc: 0.8660 - val_loss: 0.2477 - val_acc: 0.9030\n",
      "Epoch 16/30\n",
      " - 12s - loss: 0.3110 - acc: 0.8630 - val_loss: 0.2516 - val_acc: 0.8980\n",
      "Epoch 17/30\n",
      " - 11s - loss: 0.3242 - acc: 0.8625 - val_loss: 0.2464 - val_acc: 0.9010\n",
      "Epoch 18/30\n",
      " - 11s - loss: 0.3094 - acc: 0.8710 - val_loss: 0.2419 - val_acc: 0.8990\n",
      "Epoch 19/30\n",
      " - 11s - loss: 0.2873 - acc: 0.8730 - val_loss: 0.2410 - val_acc: 0.9030\n",
      "Epoch 20/30\n",
      " - 11s - loss: 0.3145 - acc: 0.8660 - val_loss: 0.2563 - val_acc: 0.8910\n",
      "Epoch 21/30\n",
      " - 11s - loss: 0.2914 - acc: 0.8855 - val_loss: 0.2435 - val_acc: 0.8990\n",
      "Epoch 22/30\n",
      " - 12s - loss: 0.2938 - acc: 0.8710 - val_loss: 0.2423 - val_acc: 0.9040\n",
      "Epoch 23/30\n",
      " - 13s - loss: 0.2976 - acc: 0.8685 - val_loss: 0.2396 - val_acc: 0.9010\n",
      "Epoch 24/30\n",
      " - 11s - loss: 0.2942 - acc: 0.8745 - val_loss: 0.2387 - val_acc: 0.9000\n",
      "Epoch 25/30\n",
      " - 12s - loss: 0.2881 - acc: 0.8805 - val_loss: 0.2409 - val_acc: 0.9020\n",
      "Epoch 26/30\n",
      " - 11s - loss: 0.2879 - acc: 0.8855 - val_loss: 0.2351 - val_acc: 0.9010\n",
      "Epoch 27/30\n",
      " - 10s - loss: 0.3020 - acc: 0.8630 - val_loss: 0.2374 - val_acc: 0.9070\n",
      "Epoch 28/30\n",
      " - 13s - loss: 0.2814 - acc: 0.8740 - val_loss: 0.2363 - val_acc: 0.9020\n",
      "Epoch 29/30\n",
      " - 11s - loss: 0.2961 - acc: 0.8730 - val_loss: 0.2473 - val_acc: 0.9030\n",
      "Epoch 30/30\n",
      " - 11s - loss: 0.2742 - acc: 0.8855 - val_loss: 0.2371 - val_acc: 0.9030\n"
     ]
    }
   ],
   "source": [
    "model.compile(loss='binary_crossentropy',\n",
    "              optimizer=optimizers.RMSprop(lr=2e-5),\n",
    "              metrics=['acc'])\n",
    "\n",
    "history = model.fit_generator(\n",
    "      train_generator,\n",
    "      steps_per_epoch=100,\n",
    "      epochs=30,\n",
    "      validation_data=validation_generator,\n",
    "      validation_steps=50,\n",
    "      verbose=2)"
   ]
  },
  {
   "cell_type": "markdown",
   "metadata": {},
   "source": [
    "Grabamos el modelo a disco"
   ]
  },
  {
   "cell_type": "code",
   "execution_count": 39,
   "metadata": {},
   "outputs": [],
   "source": [
    "model_path = base_dir + \"cats_and_dogs_small_3_ftext.h5\"\n",
    "model.save(model_path)"
   ]
  },
  {
   "cell_type": "markdown",
   "metadata": {},
   "source": [
    "Evaluamos los resultados"
   ]
  },
  {
   "cell_type": "code",
   "execution_count": 40,
   "metadata": {},
   "outputs": [
    {
     "data": {
      "image/png": "[encoded data removed]",
      "text/plain": [
       "<Figure size 432x288 with 1 Axes>"
      ]
     },
     "metadata": {
      "needs_background": "light"
     },
     "output_type": "display_data"
    },
    {
     "data": {
      "image/png": "[encoded data removed]",
      "text/plain": [
       "<Figure size 432x288 with 1 Axes>"
      ]
     },
     "metadata": {
      "needs_background": "light"
     },
     "output_type": "display_data"
    }
   ],
   "source": [
    "acc = history.history['acc']\n",
    "val_acc = history.history['val_acc']\n",
    "loss = history.history['loss']\n",
    "val_loss = history.history['val_loss']\n",
    "\n",
    "epochs = range(len(acc))\n",
    "\n",
    "plt.plot(epochs, acc, 'bo', label='Training acc')\n",
    "plt.plot(epochs, val_acc, 'b', label='Validation acc')\n",
    "plt.title('Training and validation accuracy')\n",
    "plt.legend()\n",
    "\n",
    "plt.figure()\n",
    "\n",
    "plt.plot(epochs, loss, 'bo', label='Training loss')\n",
    "plt.plot(epochs, val_loss, 'b', label='Validation loss')\n",
    "plt.title('Training and validation loss')\n",
    "plt.legend()\n",
    "\n",
    "plt.show()"
   ]
  },
  {
   "cell_type": "markdown",
   "metadata": {},
   "source": [
    "Con este esquema llegamos al 96% de exactitud. Mucho mejor que los modelos precedentes."
   ]
  },
  {
   "cell_type": "markdown",
   "metadata": {},
   "source": [
    "## Fine-tuning"
   ]
  },
  {
   "cell_type": "markdown",
   "metadata": {},
   "source": [
    "En este esquema de transfer learning, no se congela la totalidad del modelo importado. Se dejan libres las últimas capas para que adapten sus representaciones al dataset, haciéndolas mas relevantes al problema en cuestión y a las clases de la tarea de destino, reentrenàndose al mismo tiempo que se entrenan las capas fully connected agregadas.\n",
    "\n",
    "Para no propagar las actualizaciones de gran magnitud iniciales de las capas fully connected a las capas convolucionales no congeladas, es necesario seguir el siguiente esquema:\n",
    "1. Construir el modelo concatenando la base convolucional y las capas fully connected.\n",
    "2. Congelar toda la base convolucional\n",
    "3. Entrenar las capas fully connected para que sus pesos se \"inicialicen\" con valores adecuados y no se propaguen luego actualizaciones muy importantes a las capas convolucionales.\n",
    "4. Descongelar las últimas capas convolucionales.\n",
    "5. Entrenar de nuevo todas las capas entrenables al mismo tiempo, tanto las fully connected como las convolucionales liberadas."
   ]
  },
  {
   "cell_type": "markdown",
   "metadata": {},
   "source": [
    "Las primeras tres etapas ya se realizaron con el feature extraction sin data augmentation. Se continua con la cuarta y quinta etapas."
   ]
  },
  {
   "cell_type": "code",
   "execution_count": 42,
   "metadata": {},
   "outputs": [
    {
     "name": "stdout",
     "output_type": "stream",
     "text": [
      "_________________________________________________________________\n",
      "Layer (type)                 Output Shape              Param #   \n",
      "=================================================================\n",
      "input_2 (InputLayer)         (None, 150, 150, 3)       0         \n",
      "_________________________________________________________________\n",
      "block1_conv1 (Conv2D)        (None, 150, 150, 64)      1792      \n",
      "_________________________________________________________________\n",
      "block1_conv2 (Conv2D)        (None, 150, 150, 64)      36928     \n",
      "_________________________________________________________________\n",
      "block1_pool (MaxPooling2D)   (None, 75, 75, 64)        0         \n",
      "_________________________________________________________________\n",
      "block2_conv1 (Conv2D)        (None, 75, 75, 128)       73856     \n",
      "_________________________________________________________________\n",
      "block2_conv2 (Conv2D)        (None, 75, 75, 128)       147584    \n",
      "_________________________________________________________________\n",
      "block2_pool (MaxPooling2D)   (None, 37, 37, 128)       0         \n",
      "_________________________________________________________________\n",
      "block3_conv1 (Conv2D)        (None, 37, 37, 256)       295168    \n",
      "_________________________________________________________________\n",
      "block3_conv2 (Conv2D)        (None, 37, 37, 256)       590080    \n",
      "_________________________________________________________________\n",
      "block3_conv3 (Conv2D)        (None, 37, 37, 256)       590080    \n",
      "_________________________________________________________________\n",
      "block3_pool (MaxPooling2D)   (None, 18, 18, 256)       0         \n",
      "_________________________________________________________________\n",
      "block4_conv1 (Conv2D)        (None, 18, 18, 512)       1180160   \n",
      "_________________________________________________________________\n",
      "block4_conv2 (Conv2D)        (None, 18, 18, 512)       2359808   \n",
      "_________________________________________________________________\n",
      "block4_conv3 (Conv2D)        (None, 18, 18, 512)       2359808   \n",
      "_________________________________________________________________\n",
      "block4_pool (MaxPooling2D)   (None, 9, 9, 512)         0         \n",
      "_________________________________________________________________\n",
      "block5_conv1 (Conv2D)        (None, 9, 9, 512)         2359808   \n",
      "_________________________________________________________________\n",
      "block5_conv2 (Conv2D)        (None, 9, 9, 512)         2359808   \n",
      "_________________________________________________________________\n",
      "block5_conv3 (Conv2D)        (None, 9, 9, 512)         2359808   \n",
      "_________________________________________________________________\n",
      "block5_pool (MaxPooling2D)   (None, 4, 4, 512)         0         \n",
      "=================================================================\n",
      "Total params: 14,714,688\n",
      "Trainable params: 0\n",
      "Non-trainable params: 14,714,688\n",
      "_________________________________________________________________\n"
     ]
    }
   ],
   "source": [
    "conv_base.summary()"
   ]
  },
  {
   "cell_type": "markdown",
   "metadata": {},
   "source": [
    "El quinto bloque convolucional incluye 3 capas, que son las que se van a liberar.\n",
    "Primero se va a congelar toda la base convolucional, y luego se van a liberar las capas block5_conv1, block5_conv2 y block5_conv3 para que se puedan entrenar.\n",
    "\n",
    "Dado que las abstracciones iniciales aprendidas por las primeras capsa son suficientemente genéricas cómo para necesitar adaptarse a la tarea de clasificación de destino. Es más útil reentrenar las capas más especializadas, adaptándolas al nuevo problema.\n",
    "\n",
    "Entre más parámetros se tiene que entrenar, mayor el riesgo de overfitting. La base convolucional tiene 14.7 millones de parámetros. Entrenar más capas no es una buena idea, dado el tamaño pequeño del dataset. "
   ]
  },
  {
   "cell_type": "code",
   "execution_count": 43,
   "metadata": {},
   "outputs": [],
   "source": [
    "conv_base.trainable = True\n",
    "\n",
    "set_trainable = False\n",
    "for layer in conv_base.layers:\n",
    "    if layer.name == 'block5_conv1':\n",
    "        set_trainable = True\n",
    "    if set_trainable:\n",
    "        layer.trainable = True\n",
    "    else:\n",
    "        layer.trainable = False"
   ]
  },
  {
   "cell_type": "code",
   "execution_count": 44,
   "metadata": {},
   "outputs": [
    {
     "name": "stdout",
     "output_type": "stream",
     "text": [
      "_________________________________________________________________\n",
      "Layer (type)                 Output Shape              Param #   \n",
      "=================================================================\n",
      "input_2 (InputLayer)         (None, 150, 150, 3)       0         \n",
      "_________________________________________________________________\n",
      "block1_conv1 (Conv2D)        (None, 150, 150, 64)      1792      \n",
      "_________________________________________________________________\n",
      "block1_conv2 (Conv2D)        (None, 150, 150, 64)      36928     \n",
      "_________________________________________________________________\n",
      "block1_pool (MaxPooling2D)   (None, 75, 75, 64)        0         \n",
      "_________________________________________________________________\n",
      "block2_conv1 (Conv2D)        (None, 75, 75, 128)       73856     \n",
      "_________________________________________________________________\n",
      "block2_conv2 (Conv2D)        (None, 75, 75, 128)       147584    \n",
      "_________________________________________________________________\n",
      "block2_pool (MaxPooling2D)   (None, 37, 37, 128)       0         \n",
      "_________________________________________________________________\n",
      "block3_conv1 (Conv2D)        (None, 37, 37, 256)       295168    \n",
      "_________________________________________________________________\n",
      "block3_conv2 (Conv2D)        (None, 37, 37, 256)       590080    \n",
      "_________________________________________________________________\n",
      "block3_conv3 (Conv2D)        (None, 37, 37, 256)       590080    \n",
      "_________________________________________________________________\n",
      "block3_pool (MaxPooling2D)   (None, 18, 18, 256)       0         \n",
      "_________________________________________________________________\n",
      "block4_conv1 (Conv2D)        (None, 18, 18, 512)       1180160   \n",
      "_________________________________________________________________\n",
      "block4_conv2 (Conv2D)        (None, 18, 18, 512)       2359808   \n",
      "_________________________________________________________________\n",
      "block4_conv3 (Conv2D)        (None, 18, 18, 512)       2359808   \n",
      "_________________________________________________________________\n",
      "block4_pool (MaxPooling2D)   (None, 9, 9, 512)         0         \n",
      "_________________________________________________________________\n",
      "block5_conv1 (Conv2D)        (None, 9, 9, 512)         2359808   \n",
      "_________________________________________________________________\n",
      "block5_conv2 (Conv2D)        (None, 9, 9, 512)         2359808   \n",
      "_________________________________________________________________\n",
      "block5_conv3 (Conv2D)        (None, 9, 9, 512)         2359808   \n",
      "_________________________________________________________________\n",
      "block5_pool (MaxPooling2D)   (None, 4, 4, 512)         0         \n",
      "=================================================================\n",
      "Total params: 14,714,688\n",
      "Trainable params: 7,079,424\n",
      "Non-trainable params: 7,635,264\n",
      "_________________________________________________________________\n"
     ]
    }
   ],
   "source": [
    "conv_base.summary()"
   ]
  },
  {
   "cell_type": "markdown",
   "metadata": {},
   "source": [
    "Ahora vamos a entrenar el modelo a partir de los generadores."
   ]
  },
  {
   "cell_type": "code",
   "execution_count": 46,
   "metadata": {},
   "outputs": [
    {
     "name": "stdout",
     "output_type": "stream",
     "text": [
      "Found 2000 images belonging to 2 classes.\n",
      "Found 1000 images belonging to 2 classes.\n"
     ]
    }
   ],
   "source": [
    "from keras.preprocessing.image import ImageDataGenerator\n",
    "\n",
    "train_datagen = ImageDataGenerator(\n",
    "      rescale=1./255,\n",
    "      rotation_range=40,\n",
    "      width_shift_range=0.2,\n",
    "      height_shift_range=0.2,\n",
    "      shear_range=0.2,\n",
    "      zoom_range=0.2,\n",
    "      horizontal_flip=True,\n",
    "      fill_mode='nearest')\n",
    "\n",
    "# Note that the validation data should not be augmented!\n",
    "test_datagen = ImageDataGenerator(rescale=1./255)\n",
    "\n",
    "train_generator = train_datagen.flow_from_directory(\n",
    "        # This is the target directory\n",
    "        train_dir,\n",
    "        # All images will be resized to 150x150\n",
    "        target_size=(150, 150),\n",
    "        batch_size=20,\n",
    "        # Since we use binary_crossentropy loss, we need binary labels\n",
    "        class_mode='binary')\n",
    "\n",
    "validation_generator = test_datagen.flow_from_directory(\n",
    "        validation_dir,\n",
    "        target_size=(150, 150),\n",
    "        batch_size=20,\n",
    "        class_mode='binary')"
   ]
  },
  {
   "cell_type": "code",
   "execution_count": 47,
   "metadata": {},
   "outputs": [
    {
     "name": "stdout",
     "output_type": "stream",
     "text": [
      "_________________________________________________________________\n",
      "Layer (type)                 Output Shape              Param #   \n",
      "=================================================================\n",
      "vgg16 (Model)                (None, 4, 4, 512)         14714688  \n",
      "_________________________________________________________________\n",
      "flatten_6 (Flatten)          (None, 8192)              0         \n",
      "_________________________________________________________________\n",
      "dense_15 (Dense)             (None, 256)               2097408   \n",
      "_________________________________________________________________\n",
      "dense_16 (Dense)             (None, 1)                 257       \n",
      "=================================================================\n",
      "Total params: 16,812,353\n",
      "Trainable params: 9,177,089\n",
      "Non-trainable params: 7,635,264\n",
      "_________________________________________________________________\n"
     ]
    }
   ],
   "source": [
    "from keras import models\n",
    "from keras import layers\n",
    "\n",
    "model = models.Sequential()\n",
    "model.add(conv_base)\n",
    "model.add(layers.Flatten())\n",
    "model.add(layers.Dense(256, activation='relu'))\n",
    "model.add(layers.Dense(1, activation='sigmoid'))\n",
    "\n",
    "model.summary()"
   ]
  },
  {
   "cell_type": "code",
   "execution_count": 48,
   "metadata": {},
   "outputs": [
    {
     "name": "stdout",
     "output_type": "stream",
     "text": [
      "Epoch 1/100\n",
      "100/100 [==============================] - 12s 117ms/step - loss: 0.5687 - acc: 0.6955 - val_loss: 0.3726 - val_acc: 0.8380\n",
      "Epoch 2/100\n",
      "100/100 [==============================] - 10s 105ms/step - loss: 0.3856 - acc: 0.8250 - val_loss: 0.2537 - val_acc: 0.8870\n",
      "Epoch 3/100\n",
      "100/100 [==============================] - 11s 105ms/step - loss: 0.3326 - acc: 0.8525 - val_loss: 0.2245 - val_acc: 0.9060\n",
      "Epoch 4/100\n",
      "100/100 [==============================] - 10s 104ms/step - loss: 0.2928 - acc: 0.8790 - val_loss: 0.2003 - val_acc: 0.9170\n",
      "Epoch 5/100\n",
      "100/100 [==============================] - 10s 105ms/step - loss: 0.2669 - acc: 0.8820 - val_loss: 0.2210 - val_acc: 0.9050\n",
      "Epoch 6/100\n",
      "100/100 [==============================] - 10s 104ms/step - loss: 0.2453 - acc: 0.8945 - val_loss: 0.1927 - val_acc: 0.9170\n",
      "Epoch 7/100\n",
      "100/100 [==============================] - 10s 104ms/step - loss: 0.2443 - acc: 0.9025 - val_loss: 0.1845 - val_acc: 0.9180\n",
      "Epoch 8/100\n",
      "100/100 [==============================] - 10s 105ms/step - loss: 0.2197 - acc: 0.9110 - val_loss: 0.2087 - val_acc: 0.9170\n",
      "Epoch 9/100\n",
      "100/100 [==============================] - 11s 105ms/step - loss: 0.2068 - acc: 0.9120 - val_loss: 0.1888 - val_acc: 0.9190\n",
      "Epoch 10/100\n",
      "100/100 [==============================] - 10s 105ms/step - loss: 0.2014 - acc: 0.9130 - val_loss: 0.1829 - val_acc: 0.9220\n",
      "Epoch 11/100\n",
      "100/100 [==============================] - 11s 110ms/step - loss: 0.1943 - acc: 0.9205 - val_loss: 0.1773 - val_acc: 0.9200\n",
      "Epoch 12/100\n",
      "100/100 [==============================] - 12s 124ms/step - loss: 0.1841 - acc: 0.9235 - val_loss: 0.1851 - val_acc: 0.9210\n",
      "Epoch 13/100\n",
      "100/100 [==============================] - 11s 110ms/step - loss: 0.1663 - acc: 0.9270 - val_loss: 0.1957 - val_acc: 0.9170\n",
      "Epoch 14/100\n",
      "100/100 [==============================] - 11s 109ms/step - loss: 0.1638 - acc: 0.9330 - val_loss: 0.1761 - val_acc: 0.9270\n",
      "Epoch 15/100\n",
      "100/100 [==============================] - 11s 112ms/step - loss: 0.1677 - acc: 0.9335 - val_loss: 0.1677 - val_acc: 0.9270\n",
      "Epoch 16/100\n",
      "100/100 [==============================] - 12s 120ms/step - loss: 0.1424 - acc: 0.9445 - val_loss: 0.2805 - val_acc: 0.9030\n",
      "Epoch 17/100\n",
      "100/100 [==============================] - 12s 119ms/step - loss: 0.1485 - acc: 0.9450 - val_loss: 0.2287 - val_acc: 0.9160\n",
      "Epoch 18/100\n",
      "100/100 [==============================] - 11s 113ms/step - loss: 0.1488 - acc: 0.9410 - val_loss: 0.1904 - val_acc: 0.9280\n",
      "Epoch 19/100\n",
      "100/100 [==============================] - 11s 107ms/step - loss: 0.1455 - acc: 0.9415 - val_loss: 0.1751 - val_acc: 0.9250\n",
      "Epoch 20/100\n",
      "100/100 [==============================] - 12s 116ms/step - loss: 0.1318 - acc: 0.9475 - val_loss: 0.1810 - val_acc: 0.9240\n",
      "Epoch 21/100\n",
      "100/100 [==============================] - 12s 123ms/step - loss: 0.1240 - acc: 0.9495 - val_loss: 0.1752 - val_acc: 0.9270\n",
      "Epoch 22/100\n",
      "100/100 [==============================] - 12s 118ms/step - loss: 0.1259 - acc: 0.9510 - val_loss: 0.2329 - val_acc: 0.9160\n",
      "Epoch 23/100\n",
      "100/100 [==============================] - 12s 121ms/step - loss: 0.1277 - acc: 0.9460 - val_loss: 0.1652 - val_acc: 0.9290\n",
      "Epoch 24/100\n",
      "100/100 [==============================] - 11s 110ms/step - loss: 0.1318 - acc: 0.9445 - val_loss: 0.2036 - val_acc: 0.9180\n",
      "Epoch 25/100\n",
      "100/100 [==============================] - 12s 121ms/step - loss: 0.1099 - acc: 0.9625 - val_loss: 0.2236 - val_acc: 0.9190\n",
      "Epoch 26/100\n",
      "100/100 [==============================] - 12s 119ms/step - loss: 0.0962 - acc: 0.9605 - val_loss: 0.1867 - val_acc: 0.9320\n",
      "Epoch 27/100\n",
      "100/100 [==============================] - 12s 122ms/step - loss: 0.1162 - acc: 0.9535 - val_loss: 0.2192 - val_acc: 0.9180\n",
      "Epoch 28/100\n",
      "100/100 [==============================] - 11s 112ms/step - loss: 0.0961 - acc: 0.9615 - val_loss: 0.2209 - val_acc: 0.9240\n",
      "Epoch 29/100\n",
      "100/100 [==============================] - 12s 121ms/step - loss: 0.0944 - acc: 0.9630 - val_loss: 0.2066 - val_acc: 0.9230\n",
      "Epoch 30/100\n",
      "100/100 [==============================] - 11s 114ms/step - loss: 0.0901 - acc: 0.9650 - val_loss: 0.2054 - val_acc: 0.9220\n",
      "Epoch 31/100\n",
      "100/100 [==============================] - 12s 120ms/step - loss: 0.0870 - acc: 0.9680 - val_loss: 0.1864 - val_acc: 0.9290\n",
      "Epoch 32/100\n",
      "100/100 [==============================] - 12s 123ms/step - loss: 0.0931 - acc: 0.9655 - val_loss: 0.2043 - val_acc: 0.9270\n",
      "Epoch 33/100\n",
      "100/100 [==============================] - 12s 117ms/step - loss: 0.0919 - acc: 0.9650 - val_loss: 0.1957 - val_acc: 0.9330\n",
      "Epoch 34/100\n",
      "100/100 [==============================] - 12s 123ms/step - loss: 0.0744 - acc: 0.9735 - val_loss: 0.2247 - val_acc: 0.9270\n",
      "Epoch 35/100\n",
      "100/100 [==============================] - 11s 110ms/step - loss: 0.0802 - acc: 0.9720 - val_loss: 0.2344 - val_acc: 0.9270\n",
      "Epoch 36/100\n",
      "100/100 [==============================] - 12s 122ms/step - loss: 0.0741 - acc: 0.9705 - val_loss: 0.2066 - val_acc: 0.9250\n",
      "Epoch 37/100\n",
      "100/100 [==============================] - 11s 109ms/step - loss: 0.0667 - acc: 0.9740 - val_loss: 0.1986 - val_acc: 0.9250\n",
      "Epoch 38/100\n",
      "100/100 [==============================] - 11s 108ms/step - loss: 0.0793 - acc: 0.9680 - val_loss: 0.1891 - val_acc: 0.9350\n",
      "Epoch 39/100\n",
      "100/100 [==============================] - 13s 128ms/step - loss: 0.0765 - acc: 0.9725 - val_loss: 0.1887 - val_acc: 0.9370\n",
      "Epoch 40/100\n",
      "100/100 [==============================] - 12s 120ms/step - loss: 0.0713 - acc: 0.9725 - val_loss: 0.2089 - val_acc: 0.9250\n",
      "Epoch 41/100\n",
      "100/100 [==============================] - 11s 111ms/step - loss: 0.0645 - acc: 0.9750 - val_loss: 0.2014 - val_acc: 0.9300\n",
      "Epoch 42/100\n",
      "100/100 [==============================] - 11s 108ms/step - loss: 0.0704 - acc: 0.9750 - val_loss: 0.2103 - val_acc: 0.9290\n",
      "Epoch 43/100\n",
      "100/100 [==============================] - 12s 122ms/step - loss: 0.0619 - acc: 0.9795 - val_loss: 0.2091 - val_acc: 0.9340\n",
      "Epoch 44/100\n",
      "100/100 [==============================] - 12s 122ms/step - loss: 0.0487 - acc: 0.9805 - val_loss: 0.2077 - val_acc: 0.9310\n",
      "Epoch 45/100\n",
      "100/100 [==============================] - 11s 111ms/step - loss: 0.0686 - acc: 0.9725 - val_loss: 0.1857 - val_acc: 0.9390\n",
      "Epoch 46/100\n",
      "100/100 [==============================] - 11s 110ms/step - loss: 0.0486 - acc: 0.9800 - val_loss: 0.2875 - val_acc: 0.9190\n",
      "Epoch 47/100\n",
      "100/100 [==============================] - 12s 122ms/step - loss: 0.0657 - acc: 0.9770 - val_loss: 0.2243 - val_acc: 0.9250\n",
      "Epoch 48/100\n",
      "100/100 [==============================] - 12s 118ms/step - loss: 0.0525 - acc: 0.9780 - val_loss: 0.2717 - val_acc: 0.9210\n",
      "Epoch 49/100\n",
      "100/100 [==============================] - 11s 107ms/step - loss: 0.0580 - acc: 0.9785 - val_loss: 0.2656 - val_acc: 0.9250\n",
      "Epoch 50/100\n",
      "100/100 [==============================] - 11s 110ms/step - loss: 0.0569 - acc: 0.9775 - val_loss: 0.2524 - val_acc: 0.9260\n",
      "Epoch 51/100\n",
      "100/100 [==============================] - 13s 127ms/step - loss: 0.0662 - acc: 0.9800 - val_loss: 0.2555 - val_acc: 0.9240\n",
      "Epoch 52/100\n",
      "100/100 [==============================] - 12s 121ms/step - loss: 0.0536 - acc: 0.9800 - val_loss: 0.3076 - val_acc: 0.9150\n",
      "Epoch 53/100\n",
      "100/100 [==============================] - 11s 112ms/step - loss: 0.0496 - acc: 0.9775 - val_loss: 0.2845 - val_acc: 0.9200\n",
      "Epoch 54/100\n",
      "100/100 [==============================] - 13s 125ms/step - loss: 0.0511 - acc: 0.9790 - val_loss: 0.1915 - val_acc: 0.9320\n",
      "Epoch 55/100\n",
      "100/100 [==============================] - 12s 122ms/step - loss: 0.0406 - acc: 0.9865 - val_loss: 0.2044 - val_acc: 0.9370\n",
      "Epoch 56/100\n",
      "100/100 [==============================] - 12s 120ms/step - loss: 0.0441 - acc: 0.9850 - val_loss: 0.2080 - val_acc: 0.9390\n",
      "Epoch 57/100\n",
      "100/100 [==============================] - 11s 111ms/step - loss: 0.0541 - acc: 0.9790 - val_loss: 0.2393 - val_acc: 0.9340\n",
      "Epoch 58/100\n",
      "100/100 [==============================] - 11s 109ms/step - loss: 0.0511 - acc: 0.9815 - val_loss: 0.2254 - val_acc: 0.9320\n",
      "Epoch 59/100\n",
      "100/100 [==============================] - 12s 123ms/step - loss: 0.0488 - acc: 0.9785 - val_loss: 0.2217 - val_acc: 0.9340\n",
      "Epoch 60/100\n",
      "100/100 [==============================] - 11s 110ms/step - loss: 0.0459 - acc: 0.9825 - val_loss: 0.2072 - val_acc: 0.9330\n"
     ]
    },
    {
     "name": "stdout",
     "output_type": "stream",
     "text": [
      "Epoch 61/100\n",
      "100/100 [==============================] - 12s 121ms/step - loss: 0.0447 - acc: 0.9825 - val_loss: 0.2323 - val_acc: 0.9290\n",
      "Epoch 62/100\n",
      "100/100 [==============================] - 11s 111ms/step - loss: 0.0415 - acc: 0.9820 - val_loss: 0.2762 - val_acc: 0.9270\n",
      "Epoch 63/100\n",
      "100/100 [==============================] - 12s 120ms/step - loss: 0.0406 - acc: 0.9860 - val_loss: 0.2091 - val_acc: 0.9320\n",
      "Epoch 64/100\n",
      "100/100 [==============================] - 12s 118ms/step - loss: 0.0451 - acc: 0.9835 - val_loss: 0.2613 - val_acc: 0.9290\n",
      "Epoch 65/100\n",
      "100/100 [==============================] - 12s 117ms/step - loss: 0.0315 - acc: 0.9895 - val_loss: 0.2123 - val_acc: 0.9340\n",
      "Epoch 66/100\n",
      "100/100 [==============================] - 12s 120ms/step - loss: 0.0385 - acc: 0.9860 - val_loss: 0.2544 - val_acc: 0.9290\n",
      "Epoch 67/100\n",
      "100/100 [==============================] - 12s 119ms/step - loss: 0.0362 - acc: 0.9890 - val_loss: 0.2259 - val_acc: 0.9350\n",
      "Epoch 68/100\n",
      "100/100 [==============================] - 11s 105ms/step - loss: 0.0373 - acc: 0.9870 - val_loss: 0.2988 - val_acc: 0.9300\n",
      "Epoch 69/100\n",
      "100/100 [==============================] - 12s 123ms/step - loss: 0.0374 - acc: 0.9855 - val_loss: 0.2338 - val_acc: 0.9390\n",
      "Epoch 70/100\n",
      "100/100 [==============================] - 12s 123ms/step - loss: 0.0337 - acc: 0.9870 - val_loss: 0.2610 - val_acc: 0.9320\n",
      "Epoch 71/100\n",
      "100/100 [==============================] - 11s 109ms/step - loss: 0.0317 - acc: 0.9880 - val_loss: 0.4599 - val_acc: 0.9100\n",
      "Epoch 72/100\n",
      "100/100 [==============================] - 12s 121ms/step - loss: 0.0338 - acc: 0.9855 - val_loss: 0.2285 - val_acc: 0.9380\n",
      "Epoch 73/100\n",
      "100/100 [==============================] - 12s 117ms/step - loss: 0.0343 - acc: 0.9890 - val_loss: 0.2642 - val_acc: 0.9310\n",
      "Epoch 74/100\n",
      "100/100 [==============================] - 12s 120ms/step - loss: 0.0299 - acc: 0.9890 - val_loss: 0.2977 - val_acc: 0.9330\n",
      "Epoch 75/100\n",
      "100/100 [==============================] - 11s 113ms/step - loss: 0.0278 - acc: 0.9890 - val_loss: 0.3141 - val_acc: 0.9320\n",
      "Epoch 76/100\n",
      "100/100 [==============================] - 12s 124ms/step - loss: 0.0305 - acc: 0.9900 - val_loss: 0.2829 - val_acc: 0.9280\n",
      "Epoch 77/100\n",
      "100/100 [==============================] - 12s 122ms/step - loss: 0.0322 - acc: 0.9905 - val_loss: 0.2376 - val_acc: 0.9360\n",
      "Epoch 78/100\n",
      "100/100 [==============================] - 11s 108ms/step - loss: 0.0328 - acc: 0.9885 - val_loss: 0.2264 - val_acc: 0.9420\n",
      "Epoch 79/100\n",
      "100/100 [==============================] - 13s 128ms/step - loss: 0.0265 - acc: 0.9900 - val_loss: 0.2413 - val_acc: 0.9330\n",
      "Epoch 80/100\n",
      "100/100 [==============================] - 12s 121ms/step - loss: 0.0401 - acc: 0.9880 - val_loss: 0.2624 - val_acc: 0.9260\n",
      "Epoch 81/100\n",
      "100/100 [==============================] - 12s 118ms/step - loss: 0.0260 - acc: 0.9920 - val_loss: 0.2872 - val_acc: 0.9320\n",
      "Epoch 82/100\n",
      "100/100 [==============================] - 11s 110ms/step - loss: 0.0297 - acc: 0.9915 - val_loss: 0.2391 - val_acc: 0.9310\n",
      "Epoch 83/100\n",
      "100/100 [==============================] - 13s 128ms/step - loss: 0.0288 - acc: 0.9900 - val_loss: 0.2750 - val_acc: 0.9350\n",
      "Epoch 84/100\n",
      "100/100 [==============================] - 11s 108ms/step - loss: 0.0272 - acc: 0.9925 - val_loss: 0.2671 - val_acc: 0.9250\n",
      "Epoch 85/100\n",
      "100/100 [==============================] - 12s 124ms/step - loss: 0.0262 - acc: 0.9880 - val_loss: 0.2781 - val_acc: 0.9310\n",
      "Epoch 86/100\n",
      "100/100 [==============================] - 11s 108ms/step - loss: 0.0273 - acc: 0.9905 - val_loss: 0.2852 - val_acc: 0.9320\n",
      "Epoch 87/100\n",
      "100/100 [==============================] - 13s 125ms/step - loss: 0.0317 - acc: 0.9875 - val_loss: 0.3040 - val_acc: 0.9300\n",
      "Epoch 88/100\n",
      "100/100 [==============================] - 12s 123ms/step - loss: 0.0300 - acc: 0.9895 - val_loss: 0.2851 - val_acc: 0.9320\n",
      "Epoch 89/100\n",
      "100/100 [==============================] - 11s 112ms/step - loss: 0.0308 - acc: 0.9895 - val_loss: 0.2948 - val_acc: 0.9350\n",
      "Epoch 90/100\n",
      "100/100 [==============================] - 11s 110ms/step - loss: 0.0301 - acc: 0.9895 - val_loss: 0.2754 - val_acc: 0.9310\n",
      "Epoch 91/100\n",
      "100/100 [==============================] - 12s 122ms/step - loss: 0.0311 - acc: 0.9910 - val_loss: 0.3328 - val_acc: 0.9270\n",
      "Epoch 92/100\n",
      "100/100 [==============================] - 12s 118ms/step - loss: 0.0237 - acc: 0.9925 - val_loss: 0.2899 - val_acc: 0.9320\n",
      "Epoch 93/100\n",
      "100/100 [==============================] - 12s 115ms/step - loss: 0.0257 - acc: 0.9915 - val_loss: 0.2909 - val_acc: 0.9300\n",
      "Epoch 94/100\n",
      "100/100 [==============================] - 12s 120ms/step - loss: 0.0244 - acc: 0.9925 - val_loss: 0.2754 - val_acc: 0.9380\n",
      "Epoch 95/100\n",
      "100/100 [==============================] - 12s 123ms/step - loss: 0.0304 - acc: 0.9900 - val_loss: 0.2619 - val_acc: 0.9390\n",
      "Epoch 96/100\n",
      "100/100 [==============================] - 11s 112ms/step - loss: 0.0198 - acc: 0.9935 - val_loss: 0.2994 - val_acc: 0.9320\n",
      "Epoch 97/100\n",
      "100/100 [==============================] - 12s 123ms/step - loss: 0.0192 - acc: 0.9945 - val_loss: 0.2758 - val_acc: 0.9400\n",
      "Epoch 98/100\n",
      "100/100 [==============================] - 12s 121ms/step - loss: 0.0213 - acc: 0.9950 - val_loss: 0.2916 - val_acc: 0.9330\n",
      "Epoch 99/100\n",
      "100/100 [==============================] - 12s 123ms/step - loss: 0.0252 - acc: 0.9900 - val_loss: 0.2646 - val_acc: 0.9340\n",
      "Epoch 100/100\n",
      "100/100 [==============================] - 12s 118ms/step - loss: 0.0232 - acc: 0.9920 - val_loss: 0.2880 - val_acc: 0.9350\n"
     ]
    }
   ],
   "source": [
    "model.compile(loss='binary_crossentropy',\n",
    "              optimizer=optimizers.RMSprop(lr=1e-5),\n",
    "              metrics=['acc'])\n",
    "\n",
    "history = model.fit_generator(\n",
    "      train_generator,\n",
    "      steps_per_epoch=100,\n",
    "      epochs=100,\n",
    "      validation_data=validation_generator,\n",
    "      validation_steps=50)"
   ]
  },
  {
   "cell_type": "markdown",
   "metadata": {},
   "source": [
    "Grabamos el modelo en disco"
   ]
  },
  {
   "cell_type": "code",
   "execution_count": 49,
   "metadata": {},
   "outputs": [],
   "source": [
    "model_path = base_dir + \"cats_and_dogs_small_4_FineTune.h5\"\n",
    "model.save(model_path)"
   ]
  },
  {
   "cell_type": "markdown",
   "metadata": {},
   "source": [
    "Evaluamos los resultados"
   ]
  },
  {
   "cell_type": "code",
   "execution_count": 50,
   "metadata": {},
   "outputs": [
    {
     "data": {
      "image/png": "[encoded data removed]",
      "text/plain": [
       "<Figure size 432x288 with 1 Axes>"
      ]
     },
     "metadata": {
      "needs_background": "light"
     },
     "output_type": "display_data"
    },
    {
     "data": {
      "image/png": "[encoded data removed]",
      "text/plain": [
       "<Figure size 432x288 with 1 Axes>"
      ]
     },
     "metadata": {
      "needs_background": "light"
     },
     "output_type": "display_data"
    }
   ],
   "source": [
    "acc = history.history['acc']\n",
    "val_acc = history.history['val_acc']\n",
    "loss = history.history['loss']\n",
    "val_loss = history.history['val_loss']\n",
    "\n",
    "epochs = range(len(acc))\n",
    "\n",
    "plt.plot(epochs, acc, 'bo', label='Training acc')\n",
    "plt.plot(epochs, val_acc, 'b', label='Validation acc')\n",
    "plt.title('Training and validation accuracy')\n",
    "plt.legend()\n",
    "\n",
    "plt.figure()\n",
    "\n",
    "plt.plot(epochs, loss, 'bo', label='Training loss')\n",
    "plt.plot(epochs, val_loss, 'b', label='Validation loss')\n",
    "plt.title('Training and validation loss')\n",
    "plt.legend()\n",
    "\n",
    "plt.show()"
   ]
  },
  {
   "cell_type": "markdown",
   "metadata": {},
   "source": [
    "Las curvas obtenidas son bastante ruidosas. Vamos a suivizarlas para que sea más fácil entrenarlas"
   ]
  },
  {
   "cell_type": "code",
   "execution_count": 51,
   "metadata": {},
   "outputs": [
    {
     "data": {
      "image/png": "[encoded data removed]",
      "text/plain": [
       "<Figure size 432x288 with 1 Axes>"
      ]
     },
     "metadata": {
      "needs_background": "light"
     },
     "output_type": "display_data"
    },
    {
     "data": {
      "image/png": "[encoded data removed]",
      "text/plain": [
       "<Figure size 432x288 with 1 Axes>"
      ]
     },
     "metadata": {
      "needs_background": "light"
     },
     "output_type": "display_data"
    }
   ],
   "source": [
    "def smooth_curve(points, factor=0.8):\n",
    "  smoothed_points = []\n",
    "  for point in points:\n",
    "    if smoothed_points:\n",
    "      previous = smoothed_points[-1]\n",
    "      smoothed_points.append(previous * factor + point * (1 - factor))\n",
    "    else:\n",
    "      smoothed_points.append(point)\n",
    "  return smoothed_points\n",
    "\n",
    "plt.plot(epochs,\n",
    "         smooth_curve(acc), 'bo', label='Smoothed training acc')\n",
    "plt.plot(epochs,\n",
    "         smooth_curve(val_acc), 'b', label='Smoothed validation acc')\n",
    "plt.title('Training and validation accuracy')\n",
    "plt.legend()\n",
    "\n",
    "plt.figure()\n",
    "\n",
    "plt.plot(epochs,\n",
    "         smooth_curve(loss), 'bo', label='Smoothed training loss')\n",
    "plt.plot(epochs,\n",
    "         smooth_curve(val_loss), 'b', label='Smoothed validation loss')\n",
    "plt.title('Training and validation loss')\n",
    "plt.legend()\n",
    "\n",
    "plt.show()"
   ]
  },
  {
   "cell_type": "markdown",
   "metadata": {},
   "source": [
    "La curva de la pérdida no muestra ninguna mejora visible (de hecho parece que se está deteriorando).\n",
    "Así parezca que se está mejorando en la exactitud, lo que realmente importa es la distribución de las funciones de perdida, lo que se muestra es el promedio de los valores puntuales de las funciones de perdida. Esto, dado que la exactitud es el resultado de un umbral de las probabilidades de las clases predichas por el modelo.\n",
    "\n",
    "Se puede ahora evaluar el modelo aprendido con el dataset de test."
   ]
  },
  {
   "cell_type": "code",
   "execution_count": 23,
   "metadata": {},
   "outputs": [
    {
     "name": "stdout",
     "output_type": "stream",
     "text": [
      "Found 1000 images belonging to 2 classes.\n",
      "test acc: 0.9349999940395355\n"
     ]
    }
   ],
   "source": [
    "test_generator = test_datagen.flow_from_directory(\n",
    "        test_dir,\n",
    "        target_size=(150, 150),\n",
    "        batch_size=20,\n",
    "        class_mode='binary')\n",
    "\n",
    "test_loss, test_acc = model.evaluate_generator(test_generator, steps=50)\n",
    "print('test acc:', test_acc)"
   ]
  },
  {
   "cell_type": "markdown",
   "metadata": {},
   "source": [
    "Tenemos una exactitud del 97%."
   ]
  },
  {
   "cell_type": "markdown",
   "metadata": {},
   "source": [
    "## Conclusión del uso de las Convnets"
   ]
  },
  {
   "cell_type": "markdown",
   "metadata": {},
   "source": [
    "* Las convnets son los mejores modelos de machine learning para tareas de visión computacional. Se pueden obtener resultados decentes entrenando un modelo desde cero con un pequeño dataset.\n",
    "* Con un pequeño dataset, el **overfitting** será el problema principal. **Data augmentation** es una técnica poderosa para combatirlo cuando se trabaja con imágenes.\n",
    "* Es fácil reutilizar un modelo Convnet con un nuevo dataset, utilizandolo como extractor de características. El **transfer learning** ayuda mucho cuando se tienen pequeños datasets.\n",
    "* el **fine tuning** puede utilizarse como complemento, adaptando algunas de las representaciones previamente aprendidas por un modelo importado y poder así mejorar el rendimiento del modelo actual un poco más"
   ]
  }
 ],
 "metadata": {
  "kernelspec": {
   "display_name": "Python 3",
   "language": "python",
   "name": "python3"
  },
  "language_info": {
   "codemirror_mode": {
    "name": "ipython",
    "version": 3
   },
   "file_extension": ".py",
   "mimetype": "text/x-python",
   "name": "python",
   "nbconvert_exporter": "python",
   "pygments_lexer": "ipython3",
   "version": "3.6.6"
  }
 },
 "nbformat": 4,
 "nbformat_minor": 2
}
