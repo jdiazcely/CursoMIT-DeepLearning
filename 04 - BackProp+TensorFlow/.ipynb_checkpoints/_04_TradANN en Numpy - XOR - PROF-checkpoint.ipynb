{
 "cells": [
  {
   "cell_type": "markdown",
   "metadata": {},
   "source": [
    "# Red neuronal artificial desde cero en Numpy - Problema del XOR"
   ]
  },
  {
   "cell_type": "markdown",
   "metadata": {},
   "source": [
    "Mezcla entre los videos de Siraj Raval y de Andrew Ng\n",
    "- https://www.youtube.com/watch?v=vcZub77WvFA\n",
    "- https://www.youtube.com/watch?v=262XJe2I2D0\n",
    "- https://www.coursera.org/learn/neural-networks-deep-learning/lecture/6dDj7/backpropagation-intuition-optional\n"
   ]
  },
  {
   "cell_type": "markdown",
   "metadata": {},
   "source": [
    "Vamos a crear un clasificador binario que podrá aprender la solución a la operación de XOR, utilizando una red neuronal artificial con una capa escondida que sigue la estructura presentada en la siguiente imagen."
   ]
  },
  {
   "cell_type": "markdown",
   "metadata": {},
   "source": [
    "<img src=\"04_TradANNDesdeCero.png\">"
   ]
  },
  {
   "cell_type": "markdown",
   "metadata": {},
   "source": [
    "Para ilustrar el procedimiento de back-propagation vamos a utilizar solamente funciones activación sigmoide, y vamos a utilizar numpy para ilustrar las operaciones matemáticas matriciales básicas con numpy."
   ]
  },
  {
   "cell_type": "code",
   "execution_count": 1,
   "metadata": {},
   "outputs": [],
   "source": [
    "import numpy as np #operaciones matriciales y con vectores\n",
    "from sklearn.metrics import classification_report, confusion_matrix, accuracy_score\n",
    "import time"
   ]
  },
  {
   "cell_type": "markdown",
   "metadata": {},
   "source": [
    "Definimos la función sigmoide y su función gradiente basada en si misma."
   ]
  },
  {
   "cell_type": "code",
   "execution_count": 2,
   "metadata": {},
   "outputs": [],
   "source": [
    "def sigmoide(x):\n",
    "    return 1/(1+np.exp(-x))\n",
    "\n",
    "def sigmoideGrad(x):\n",
    "    return x*(1-x)"
   ]
  },
  {
   "cell_type": "markdown",
   "metadata": {},
   "source": [
    "Creamos datos sintéticos (XOR sobre las dos primeras columnas) y especificamos los parámetros de la red neuronal. Incluimos una tercera columna para mostrar que la red resultante aprende a ignorar los atributos que no son importantes."
   ]
  },
  {
   "cell_type": "code",
   "execution_count": 3,
   "metadata": {},
   "outputs": [
    {
     "name": "stdout",
     "output_type": "stream",
     "text": [
      "X [[0 0 1 1 0 0 1 1]\n",
      " [0 1 0 1 0 1 0 1]\n",
      " [1 1 1 1 0 0 0 0]]\n",
      "y [0 1 1 0 0 1 1 0]\n"
     ]
    }
   ],
   "source": [
    "# Queremos que cada dato registro sea un vector de 3 posiciones. \n",
    "# Tenemos aquí 8 registros apilados horizontalmente gracias a la transposición del array incialmente creado\n",
    "X = np.transpose(np.array([\n",
    "    [0,0,1],\n",
    "    [0,1,1],\n",
    "    [1,0,1],\n",
    "    [1,1,1],\n",
    "    [0,0,0],\n",
    "    [0,1,0],\n",
    "    [1,0,0],\n",
    "    [1,1,0]\n",
    "]))\n",
    "print(\"X\", X)\n",
    "\n",
    "y = np.array([\n",
    "    0, \n",
    "    1, \n",
    "    1, \n",
    "    0,\n",
    "    0, \n",
    "    1, \n",
    "    1, \n",
    "    0])\n",
    "print(\"y\", y)\n"
   ]
  },
  {
   "cell_type": "markdown",
   "metadata": {},
   "source": [
    "## Inicialización de los parámetros"
   ]
  },
  {
   "cell_type": "markdown",
   "metadata": {},
   "source": [
    "Inicializamos los pesos de la red aleatoriamente para la capa intermedia (1) y la capa de salida (2). La capa inicial no tiene pesos pues consiste únicamente de los datos de entrada.\n",
    "\n",
    "La primera capa tiene 4 neuronas y 3 inputs, creamos una matriz de pesos w1 con 4 filas y 3 columnas. Tenemos además un vector b1 con 4 posiciones.\n",
    "\n",
    "La segunda capa tiene 1 neurona y 4 inputs, creamos una matriz de pesos w2 con 1 fila y 4 columnas. Tenemos además un vector b2 con 1 posición."
   ]
  },
  {
   "cell_type": "code",
   "execution_count": 21,
   "metadata": {},
   "outputs": [],
   "source": [
    "def initParams():\n",
    "    np.random.seed(123456)\n",
    "\n",
    "    w1 = 2*np.random.random((4, 3))-1\n",
    "    w2 = 2*np.random.random((1, 4))-1\n",
    "    b1 = 2*np.random.random((4, 1))-1\n",
    "    b2 = 2*np.random.random((1, 1))-1\n",
    "    return(w1, b1, w2, b2)"
   ]
  },
  {
   "cell_type": "code",
   "execution_count": 22,
   "metadata": {},
   "outputs": [
    {
     "name": "stdout",
     "output_type": "stream",
     "text": [
      "w1: {[[-0.74606033  0.93343568 -0.47904799]\n",
      " [ 0.79447305 -0.24650057 -0.32755651]\n",
      " [-0.09724706  0.68051017 -0.75379571]\n",
      " [ 0.0860524  -0.25397555 -0.10400635]]}\n",
      "b1: {[[-0.54222539]\n",
      " [ 0.5535675 ]\n",
      " [ 0.18956718]\n",
      " [-0.72489289]]}\n",
      "w2: {[[-0.74111864  0.71975741  0.64077673 -0.29589292]]}\n",
      "b2: {[[0.70579956]]}\n"
     ]
    }
   ],
   "source": [
    "w1, b1, w2, b2 = initParams()\n",
    "print(\"w1: {%s}\\nb1: {%s}\" % (w1, b1))\n",
    "print(\"w2: {%s}\\nb2: {%s}\" % (w2, b2))"
   ]
  },
  {
   "cell_type": "markdown",
   "metadata": {},
   "source": [
    "## Feed Forward"
   ]
  },
  {
   "cell_type": "markdown",
   "metadata": {},
   "source": [
    "Comenzamos por definir la función feedForward, que recibe la matriz de inputs con todos los registros y retorna el vector con las predicciones correspondientes:"
   ]
  },
  {
   "cell_type": "code",
   "execution_count": 23,
   "metadata": {},
   "outputs": [],
   "source": [
    "def feedForward(X, w1, b1, w2, b2):\n",
    "    '''Calcula el valor predicho para todos los registros que se encuentran en X\n",
    "       -----------\n",
    "       Argumentos:\n",
    "       X: matriz con los inputs, con tantas filas como atributos y tantas columnas como registros\n",
    "       w1: matriz con los pesos de las conexiones entrantes de la 1a capa, \n",
    "         con tantas filas como atributos y tantas columnas como registros\n",
    "       b1: array con los sesgos de las neuronas de la 1a capa\n",
    "       w2: matriz con los pesos de las conexiones entrantes de la 2a capa, \n",
    "         con tantas filas como atributos y tantas columnas como registros\n",
    "       b2: array con los sesgos de las neuronas de la 2a capa\n",
    "       -----------\n",
    "       Retorna:\n",
    "       a1: matriz con las activaciones de la capa escondida, \n",
    "         con tantas filas como neuronas de la capa y tantas columnas como registros\n",
    "       a2 (y estimado): vector con las predicciones\n",
    "    '''\n",
    "    m=X.shape[1]\n",
    "    a0 = X # matriz de 3 filas (inputs) * 8 columnas (registros)\n",
    "    z1 = np.dot(w1, a0) # (4, 3) * (3, 8) --> (4, 8) 4 filas (neuronas capa 1) * 8 columnas (registros = inputs capa 1)\n",
    "    a1 = sigmoide(z1)   # (4, 8) 4 filas (neuronas capa 1) * 8 columnas (registros)\n",
    "    z2 = np.dot(w2, a1) # (1, 4) * (4, 8) --> (1, 8) 1 filas (neuronas capa 2) * 8 columnas (registros)\n",
    "    a2 = sigmoide(z2)   # (1, 8) 1 filas (neuronas capa 2) * 8 columnas (registros)\n",
    "    return (a1, a2)"
   ]
  },
  {
   "cell_type": "markdown",
   "metadata": {},
   "source": [
    "Podemos entonces evaluar el estado inicial de la red (con sus parámetros inicales):"
   ]
  },
  {
   "cell_type": "code",
   "execution_count": 24,
   "metadata": {},
   "outputs": [
    {
     "name": "stdout",
     "output_type": "stream",
     "text": [
      "[[0.52068432]\n",
      " [0.49822742]\n",
      " [0.57914146]\n",
      " [0.56160151]\n",
      " [0.54035237]\n",
      " [0.51996802]\n",
      " [0.60057781]\n",
      " [0.58093636]]\n"
     ]
    }
   ],
   "source": [
    "a1, a2 = feedForward(X, w1, b1, w2, b2)\n",
    "print(a2.transpose())"
   ]
  },
  {
   "cell_type": "markdown",
   "metadata": {},
   "source": [
    "Vemos que los datos están bastante alejados de la realidad [0, 1, 1, 0, 0, 1, 1, 0]."
   ]
  },
  {
   "cell_type": "markdown",
   "metadata": {},
   "source": [
    "## Función de costo"
   ]
  },
  {
   "cell_type": "code",
   "execution_count": 25,
   "metadata": {},
   "outputs": [],
   "source": [
    "epsilon = 0.00000001 # para evitar problemas de overflow"
   ]
  },
  {
   "cell_type": "code",
   "execution_count": 26,
   "metadata": {},
   "outputs": [],
   "source": [
    "def costoGlobal(y_real, y_est): \n",
    "    '''Calcula el costo global de la predicción con la red actual, comparando la clase real con las probabilidad estimadas\n",
    "       -----------\n",
    "       Argumentos:\n",
    "       y_real: array con las clases reales de los datos\n",
    "       y_est: array con las probabilidades de salida estimadas por la red\n",
    "       -----------\n",
    "       Retorna:\n",
    "       costo: promedio de los costos de cada predicción individual\n",
    "    '''\n",
    "    y_est = np.where(y_est<=0,epsilon,y_est)\n",
    "    y_est = np.where(y_est>=1,1-epsilon,y_est)\n",
    "    \n",
    "    costos = -(np.multiply(y_real, np.log(y_est))) - (np.multiply((1-y_real), np.log(1-y_est))) \n",
    "    # (1, 8) 1 filas * 8 columnas (registros)\n",
    "\n",
    "    return np.abs(np.mean(costos))"
   ]
  },
  {
   "cell_type": "code",
   "execution_count": 27,
   "metadata": {},
   "outputs": [
    {
     "data": {
      "text/plain": [
       "0.7017260765032634"
      ]
     },
     "execution_count": 27,
     "metadata": {},
     "output_type": "execute_result"
    }
   ],
   "source": [
    "costo = costoGlobal(y, a2)\n",
    "costo"
   ]
  },
  {
   "cell_type": "markdown",
   "metadata": {},
   "source": [
    "## Función de backpropagation"
   ]
  },
  {
   "cell_type": "code",
   "execution_count": 28,
   "metadata": {},
   "outputs": [],
   "source": [
    "def backProp(X, y, w1, b1, w2, b2, a1, a2): \n",
    "    '''Calcula los deltas de las actualizaciones de los parámetros de las capas \n",
    "       -----------\n",
    "       Argumentos:\n",
    "       X: matriz con los inputs, con tantas filas como atributos y tantas columnas como registros\n",
    "       y: array con los valores reales a predecir\n",
    "       w1: matriz con los pesos de las conexiones entrantes de la 1a capa, \n",
    "         con tantas filas como atributos y tantas columnas como registros\n",
    "       w2: matriz con los pesos de las conexiones entrantes de la 2a capa, \n",
    "         con tantas filas como atributos y tantas columnas como registros\n",
    "       b1: array con los sesgos de las neuronas de la 1a capa\n",
    "       b2: array con los sesgos de las neuronas de la 2a capa\n",
    "       a1: matriz con las activaciones de la capa escondida, con tantas filas como neuronas de la capa y tantas columnas como registros\n",
    "       a2 (y estimado): vector con las predicciones\n",
    "       -----------\n",
    "       Retorna:\n",
    "       dw1: matriz con las actualizaciones que se deben aplicar a los coeficientes de la capa 1 (hidden)\n",
    "       db1: array con las actualizaciones que se deben aplicar a los sesgos de la capa 1 (hidden)\n",
    "       dw2: matriz con las actualizaciones que se deben aplicar a los coeficientes de la capa 2 (salida)\n",
    "       db2: array con las actualizaciones que se deben aplicar a los sesgos de la capa 2 (salida)\n",
    "    '''\n",
    "    m=X.shape[1]\n",
    "    dz2 = a2-y          # (1, 8) 1 filas * 8 columnas (registros)\n",
    "    dw2 = (1/m)*np.dot(dz2, a1.T) # (1, 8) * (8, 4) --> (1, 4) 1 fila (neuronas capa 2), 4 inputs\n",
    "    db2 = (1/m)*np.sum(dz2, axis=1, keepdims=True) # (1,1) 1 fila (neuronas capa 2)\n",
    "\n",
    "    dz1 = np.dot(w2.T, dz2) * sigmoideGrad(a1) # (4,1) * (1,8) --> (4, 8) 4 filas (neuronas capa 1), 8 registros\n",
    "    dw1 = (1/m)*np.dot(dz1, X.T) #(4,8) * (8, 3) --> (4,3) 4 filas (neuronas capa 1), 3 inputs\n",
    "    db1 = (1/m)*np.sum(dz1, axis=1, keepdims=True) # (4,1) 4 filas (neuronas capa 1)\n",
    "\n",
    "    return (dw1, db1, dw2, db2)"
   ]
  },
  {
   "cell_type": "code",
   "execution_count": 29,
   "metadata": {},
   "outputs": [],
   "source": [
    "dw1, db1, dw2, db2 = backProp(X, y, w1, b1, w2, b2, a1, a2)"
   ]
  },
  {
   "cell_type": "markdown",
   "metadata": {},
   "source": [
    "## Ciclo de entrenamiento"
   ]
  },
  {
   "cell_type": "markdown",
   "metadata": {},
   "source": [
    "Vamos ahora a programar el ciclo (época) de back propagation.\n",
    "- Se calculan los valores intermediarios en la fase forward: a0 (son las entradas X), a1 y a2 (las salidas estimadas y_est)\n",
    "- Se calcula el error de cada época\n",
    "- Se encuentran los valores de los gradientes en la fase backward a partir de los resultados anteriores"
   ]
  },
  {
   "cell_type": "markdown",
   "metadata": {},
   "source": [
    "Definimos los hiperparámetros del modelo, utilizados para aprender los pesos de las capas (los verdaderos parámetros)."
   ]
  },
  {
   "cell_type": "code",
   "execution_count": 30,
   "metadata": {},
   "outputs": [],
   "source": [
    "def entrenarRed(epocas, lr, X, y, w1, b1, w2, b2, a1, a2, echo_progression=True):\n",
    "    '''Se encarga de controlar el ciclo de aprendizaje de los parámetros de la red\n",
    "       -----------\n",
    "       Argumentos:\n",
    "       epocas: número de iteraciones de aprendizaje a calcular \n",
    "       lr: (learning rate) tasa de aprendizaje que controla la magnitud de la actualización de los parámetros cada iteración\n",
    "       X: matriz con los inputs, con tantas filas como atributos y tantas columnas como registros\n",
    "       y: array con los valores reales a predecir\n",
    "       w1: matriz con los pesos de las conexiones entrantes de la 1a capa, \n",
    "         con tantas filas como atributos y tantas columnas como registros\n",
    "       w2: matriz con los pesos de las conexiones entrantes de la 2a capa, \n",
    "         con tantas filas como atributos y tantas columnas como registros\n",
    "       b1: array con los sesgos de las neuronas de la 1a capa\n",
    "       b2: array con los sesgos de las neuronas de la 2a capa\n",
    "       a1: matriz con las activaciones de la capa escondida, con tantas filas como neuronas de la capa y tantas columnas como registros\n",
    "       a2 (y estimado): vector con las predicciones\n",
    "       echo_progression: indica si se desea que se imprima el progreso de la tarea\n",
    "       -----------\n",
    "       Retorna:\n",
    "       costos: array con la evolución del costo de la red despúes de la actualización de cada época\n",
    "       accuracies: array con la evolución de la exactitud de la red despúes de la actualización de cada época \n",
    "       dw1: matriz con las actualizaciones que se deben aplicar a los coeficientes de la capa 1 (hidden)\n",
    "       db1: array con las actualizaciones que se deben aplicar a los sesgos de la capa 1 (hidden)\n",
    "       dw2: matriz con las actualizaciones que se deben aplicar a los coeficientes de la capa 2 (salida)\n",
    "       db2: array con las actualizaciones que se deben aplicar a los sesgos de la capa 2 (salida)\n",
    "    '''\n",
    "    costos = []\n",
    "    accuracies = []\n",
    "    for i in range(epocas):\n",
    "        a1, a2 = feedForward(X, w1, b1, w2, b2)\n",
    "        dw1, db1, dw2, db2 = backProp(X, y, w1, b1, w2, b2, a1, a2)\n",
    "\n",
    "        # Actualización de los parámetros\n",
    "        w1 -= lr*dw1\n",
    "        w2 -= lr*dw2\n",
    "        b1 -= lr*db1\n",
    "        b2 -= lr*db2\n",
    "        \n",
    "        #Costo y accuracy (usa el feed forward para obtener la predicción y luego calcula el accuracy)\n",
    "        #Se deben guardar los costos y accuracies en los vectores que se retornarán al final\n",
    "        _, a2 = feedForward(X, w1, b1, w2, b1)\n",
    "        y_pred = np.squeeze(np.where(a2>0.5,1,0))\n",
    "        accuracy = accuracy_score(y_pred, y)        \n",
    "        accuracies.append(accuracy)\n",
    "        costo = costoGlobal(y, a2)\n",
    "        costos.append(costo)\n",
    "        \n",
    "        if (echo_progression & (i%10==0)):\n",
    "            print(\"Epoca %d, costo = %12.10f, accuracy=%12.10f\" % (i, costo, accuracy))\n",
    "    \n",
    "    return (costos, accuracies, w1, b1, w2, b2)\n"
   ]
  },
  {
   "cell_type": "markdown",
   "metadata": {},
   "source": [
    "Definimos los hiperparámetros del modelo, utilizados para aprender los pesos de las capas (los verdaderos parámetros) y lanzamos el entrenamiento de la red."
   ]
  },
  {
   "cell_type": "code",
   "execution_count": 32,
   "metadata": {},
   "outputs": [
    {
     "name": "stdout",
     "output_type": "stream",
     "text": [
      "Epoca 0, costo = 0.6992603964, accuracy=0.3750000000\n",
      "Epoca 10, costo = 0.6952738270, accuracy=0.5000000000\n",
      "Epoca 20, costo = 0.6945555957, accuracy=0.5000000000\n",
      "Epoca 30, costo = 0.6940446829, accuracy=0.6250000000\n",
      "Epoca 40, costo = 0.6936634029, accuracy=0.5000000000\n",
      "Epoca 50, costo = 0.6933676314, accuracy=0.5000000000\n",
      "Epoca 60, costo = 0.6931283616, accuracy=0.5000000000\n",
      "Epoca 70, costo = 0.6929258971, accuracy=0.5000000000\n",
      "Epoca 80, costo = 0.6927464067, accuracy=0.5000000000\n",
      "Epoca 90, costo = 0.6925798078, accuracy=0.5000000000\n",
      "Epoca 100, costo = 0.6924184211, accuracy=0.5000000000\n",
      "Epoca 110, costo = 0.6922560863, accuracy=0.5000000000\n",
      "Epoca 120, costo = 0.6920875564, accuracy=0.5000000000\n",
      "Epoca 130, costo = 0.6919080598, accuracy=0.6250000000\n",
      "Epoca 140, costo = 0.6917129637, accuracy=0.5000000000\n",
      "Epoca 150, costo = 0.6914974897, accuracy=0.5000000000\n",
      "Epoca 160, costo = 0.6912564514, accuracy=0.5000000000\n",
      "Epoca 170, costo = 0.6909839855, accuracy=0.5000000000\n",
      "Epoca 180, costo = 0.6906732552, accuracy=0.5000000000\n",
      "Epoca 190, costo = 0.6903160998, accuracy=0.5000000000\n",
      "Epoca 200, costo = 0.6899026060, accuracy=0.5000000000\n",
      "Epoca 210, costo = 0.6894205684, accuracy=0.5000000000\n",
      "Epoca 220, costo = 0.6888548004, accuracy=0.5000000000\n",
      "Epoca 230, costo = 0.6881862472, accuracy=0.6250000000\n",
      "Epoca 240, costo = 0.6873908391, accuracy=0.6250000000\n",
      "Epoca 250, costo = 0.6864380126, accuracy=0.6250000000\n",
      "Epoca 260, costo = 0.6852888092, accuracy=0.6250000000\n",
      "Epoca 270, costo = 0.6838934568, accuracy=0.6250000000\n",
      "Epoca 280, costo = 0.6821883438, accuracy=0.6250000000\n",
      "Epoca 290, costo = 0.6800923279, accuracy=0.6250000000\n",
      "Epoca 300, costo = 0.6775024148, accuracy=0.6250000000\n",
      "Epoca 310, costo = 0.6742890189, accuracy=0.6250000000\n",
      "Epoca 320, costo = 0.6702913171, accuracy=0.6250000000\n",
      "Epoca 330, costo = 0.6653136467, accuracy=0.6250000000\n",
      "Epoca 340, costo = 0.6591243948, accuracy=0.6250000000\n",
      "Epoca 350, costo = 0.6514591739, accuracy=0.6250000000\n",
      "Epoca 360, costo = 0.6420298879, accuracy=0.6250000000\n",
      "Epoca 370, costo = 0.6305402061, accuracy=0.7500000000\n",
      "Epoca 380, costo = 0.6167062389, accuracy=0.8750000000\n",
      "Epoca 390, costo = 0.6002804776, accuracy=0.8750000000\n",
      "Epoca 400, costo = 0.5810800735, accuracy=0.8750000000\n",
      "Epoca 410, costo = 0.5590276425, accuracy=0.8750000000\n",
      "Epoca 420, costo = 0.5342149949, accuracy=0.8750000000\n",
      "Epoca 430, costo = 0.5069797080, accuracy=0.8750000000\n",
      "Epoca 440, costo = 0.4779428899, accuracy=0.8750000000\n",
      "Epoca 450, costo = 0.4479460905, accuracy=0.8750000000\n",
      "Epoca 460, costo = 0.4178906119, accuracy=0.8750000000\n",
      "Epoca 470, costo = 0.3885627883, accuracy=0.8750000000\n",
      "Epoca 480, costo = 0.3605304078, accuracy=0.8750000000\n",
      "Epoca 490, costo = 0.3341309720, accuracy=0.8750000000\n",
      "Epoca 500, costo = 0.3095190243, accuracy=0.8750000000\n",
      "Epoca 510, costo = 0.2867297951, accuracy=0.8750000000\n",
      "Epoca 520, costo = 0.2657320813, accuracy=0.8750000000\n",
      "Epoca 530, costo = 0.2464615419, accuracy=1.0000000000\n",
      "Epoca 540, costo = 0.2288370184, accuracy=1.0000000000\n",
      "Epoca 550, costo = 0.2127667006, accuracy=1.0000000000\n",
      "Epoca 560, costo = 0.1981503769, accuracy=1.0000000000\n",
      "Epoca 570, costo = 0.1848813947, accuracy=1.0000000000\n",
      "Epoca 580, costo = 0.1728494538, accuracy=1.0000000000\n",
      "Epoca 590, costo = 0.1619439375, accuracy=1.0000000000\n",
      "Epoca 600, costo = 0.1520571055, accuracy=1.0000000000\n",
      "Epoca 610, costo = 0.1430866470, accuracy=1.0000000000\n",
      "Epoca 620, costo = 0.1349374012, accuracy=1.0000000000\n",
      "Epoca 630, costo = 0.1275222848, accuracy=1.0000000000\n",
      "Epoca 640, costo = 0.1207625820, accuracy=1.0000000000\n",
      "Epoca 650, costo = 0.1145877815, accuracy=1.0000000000\n",
      "Epoca 660, costo = 0.1089351259, accuracy=1.0000000000\n",
      "Epoca 670, costo = 0.1037490013, accuracy=1.0000000000\n",
      "Epoca 680, costo = 0.0989802592, accuracy=1.0000000000\n",
      "Epoca 690, costo = 0.0945855292, accuracy=1.0000000000\n",
      "Epoca 700, costo = 0.0905265608, accuracy=1.0000000000\n",
      "Epoca 710, costo = 0.0867696121, accuracy=1.0000000000\n",
      "Epoca 720, costo = 0.0832848970, accuracy=1.0000000000\n",
      "Epoca 730, costo = 0.0800460909, accuracy=1.0000000000\n",
      "Epoca 740, costo = 0.0770298950, accuracy=1.0000000000\n",
      "Epoca 750, costo = 0.0742156538, accuracy=1.0000000000\n",
      "Epoca 760, costo = 0.0715850215, accuracy=1.0000000000\n",
      "Epoca 770, costo = 0.0691216725, accuracy=1.0000000000\n",
      "Epoca 780, costo = 0.0668110495, accuracy=1.0000000000\n",
      "Epoca 790, costo = 0.0646401454, accuracy=1.0000000000\n",
      "Epoca 800, costo = 0.0625973142, accuracy=1.0000000000\n",
      "Epoca 810, costo = 0.0606721069, accuracy=1.0000000000\n",
      "Epoca 820, costo = 0.0588551293, accuracy=1.0000000000\n",
      "Epoca 830, costo = 0.0571379184, accuracy=1.0000000000\n",
      "Epoca 840, costo = 0.0555128347, accuracy=1.0000000000\n",
      "Epoca 850, costo = 0.0539729686, accuracy=1.0000000000\n",
      "Epoca 860, costo = 0.0525120587, accuracy=1.0000000000\n",
      "Epoca 870, costo = 0.0511244202, accuracy=1.0000000000\n",
      "Epoca 880, costo = 0.0498048824, accuracy=1.0000000000\n",
      "Epoca 890, costo = 0.0485487340, accuracy=1.0000000000\n",
      "Epoca 900, costo = 0.0473516742, accuracy=1.0000000000\n",
      "Epoca 910, costo = 0.0462097712, accuracy=1.0000000000\n",
      "Epoca 920, costo = 0.0451194237, accuracy=1.0000000000\n",
      "Epoca 930, costo = 0.0440773286, accuracy=1.0000000000\n",
      "Epoca 940, costo = 0.0430804510, accuracy=1.0000000000\n",
      "Epoca 950, costo = 0.0421259986, accuracy=1.0000000000\n",
      "Epoca 960, costo = 0.0412113985, accuracy=1.0000000000\n",
      "Epoca 970, costo = 0.0403342763, accuracy=1.0000000000\n",
      "Epoca 980, costo = 0.0394924380, accuracy=1.0000000000\n",
      "Epoca 990, costo = 0.0386838538, accuracy=1.0000000000\n"
     ]
    }
   ],
   "source": [
    "lr = 1 # learning rate\n",
    "epocas = 1000 # Iteraciones de backpropagation\n",
    "\n",
    "w1, b1, w2, b2 = initParams()\n",
    "accuracies, costos, w1, b1, w2, b2 = entrenarRed(epocas, lr, X, y, w1, b1, w2, b2, a1, a2)"
   ]
  },
  {
   "cell_type": "markdown",
   "metadata": {},
   "source": [
    "Nuestras predicciones finales son: "
   ]
  },
  {
   "cell_type": "code",
   "execution_count": 33,
   "metadata": {},
   "outputs": [
    {
     "name": "stdout",
     "output_type": "stream",
     "text": [
      "y_est= [[0.0073705 ]\n",
      " [0.95605318]\n",
      " [0.97490624]\n",
      " [0.02354316]\n",
      " [0.09940058]\n",
      " [0.96013789]\n",
      " [0.97954782]\n",
      " [0.03559936]]\n",
      "costo 0.7017260765032634\n"
     ]
    }
   ],
   "source": [
    "_, a2 = feedForward(X, w1, b1, w2, b1)\n",
    "print(\"y_est=\", a2.transpose())\n",
    "print(\"costo\", costo)"
   ]
  },
  {
   "cell_type": "markdown",
   "metadata": {},
   "source": [
    "## Encontrar el mejor learning rate"
   ]
  },
  {
   "cell_type": "code",
   "execution_count": 39,
   "metadata": {},
   "outputs": [],
   "source": [
    "learningRates = np.arange(0, 2, 0.1)"
   ]
  },
  {
   "cell_type": "code",
   "execution_count": 40,
   "metadata": {},
   "outputs": [
    {
     "name": "stdout",
     "output_type": "stream",
     "text": [
      "LR:  0.0 , costo:  0.7017260765032634 , accuracy:  0.375\n",
      "LR:  0.1 , costo:  0.6924328098800948 , accuracy:  0.5\n",
      "LR:  0.2 , costo:  0.6899141535183999 , accuracy:  0.5\n",
      "LR:  0.30000000000000004 , costo:  0.6774853556350922 , accuracy:  0.625\n",
      "LR:  0.4 , costo:  0.5804755097666667 , accuracy:  0.875\n",
      "LR:  0.5 , costo:  0.30898120807841944 , accuracy:  0.875\n",
      "LR:  0.6000000000000001 , costo:  0.15211551189840564 , accuracy:  1.0\n",
      "LR:  0.7000000000000001 , costo:  0.09066450781205646 , accuracy:  1.0\n",
      "LR:  0.8 , costo:  0.06271659149655834 , accuracy:  1.0\n",
      "LR:  0.9 , costo:  0.047446899138399556 , accuracy:  1.0\n",
      "LR:  1.0 , costo:  0.03798300268847732 , accuracy:  1.0\n",
      "LR:  1.1 , costo:  0.03159251518493143 , accuracy:  1.0\n",
      "LR:  1.2000000000000002 , costo:  0.02700658134104586 , accuracy:  1.0\n",
      "LR:  1.3 , costo:  0.02356388504883926 , accuracy:  1.0\n",
      "LR:  1.4000000000000001 , costo:  0.020888473830013767 , accuracy:  1.0\n",
      "LR:  1.5 , costo:  0.018751778039033353 , accuracy:  1.0\n",
      "LR:  1.6 , costo:  0.01700723337223807 , accuracy:  1.0\n",
      "LR:  1.7000000000000002 , costo:  0.015556713936804332 , accuracy:  1.0\n",
      "LR:  1.8 , costo:  0.014332139237125868 , accuracy:  1.0\n",
      "LR:  1.9000000000000001 , costo:  0.013284839882977753 , accuracy:  1.0\n"
     ]
    }
   ],
   "source": [
    "costosFinales = []\n",
    "accuraciesFinales = []\n",
    "\n",
    "for lr in learningRates:\n",
    "    w1, b1, w2, b2 = initParams()\n",
    "    costos, accuracies, w1, b1, w2, b2 = entrenarRed(epocas, lr, X, y, w1, b1, w2, b2, a1, a2, False)\n",
    "    costosFinales.append(costos[epocas-1])\n",
    "    accuraciesFinales.append(accuracies[epocas-1])\n",
    "    print(\"LR: \", lr, \", costo: \", costos[epocas-1], \", accuracy: \", accuracies[epocas-1])"
   ]
  },
  {
   "cell_type": "code",
   "execution_count": 41,
   "metadata": {},
   "outputs": [],
   "source": [
    "costosFinales = np.array(costosFinales)"
   ]
  },
  {
   "cell_type": "code",
   "execution_count": 42,
   "metadata": {},
   "outputs": [
    {
     "data": {
      "image/png": "[encoded data removed]",
      "text/plain": [
       "<Figure size 1296x648 with 1 Axes>"
      ]
     },
     "metadata": {},
     "output_type": "display_data"
    }
   ],
   "source": [
    "import matplotlib.pyplot as plt #gráficos\n",
    "\n",
    "plt.figure(figsize=(18,9))\n",
    "ax = plt.gca()\n",
    "plt.plot(learningRates, costosFinales)\n",
    "#ax.set_xscale('log')\n",
    "#ax.set_xlim(ax.get_xlim()[::-1])  # reverse axis\n",
    "plt.axis('tight')\n",
    "plt.xlabel('Learning Rate')\n",
    "plt.ylabel('Costo')\n",
    "plt.title('Costo con respecto al learning rate')\n",
    "plt.legend(['train', 'test'])\n",
    "plt.show()"
   ]
  }
 ],
 "metadata": {
  "kernelspec": {
   "display_name": "Python 3",
   "language": "python",
   "name": "python3"
  },
  "language_info": {
   "codemirror_mode": {
    "name": "ipython",
    "version": 3
   },
   "file_extension": ".py",
   "mimetype": "text/x-python",
   "name": "python",
   "nbconvert_exporter": "python",
   "pygments_lexer": "ipython3",
   "version": "3.6.6"
  }
 },
 "nbformat": 4,
 "nbformat_minor": 2
}
