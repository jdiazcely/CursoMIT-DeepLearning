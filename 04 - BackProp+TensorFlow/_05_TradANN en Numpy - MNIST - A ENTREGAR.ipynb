{
 "cells": [
  {
   "cell_type": "markdown",
   "metadata": {},
   "source": [
    "# Red neuronal artificial en Numpy - MNIST"
   ]
  },
  {
   "cell_type": "markdown",
   "metadata": {},
   "source": [
    "Bibliografía:\n",
    "- Deep Learning with Python (capítulo 2), Francois Chollet, 2018 Manning\n",
    "- https://www.coursera.org/learn/neural-networks-deep-learning/lecture/6dDj7/backpropagation-intuition-optional, Andrew Ng, 2018 DeepLearning.ai\n",
    "- Learning Tensor Flow, Tom Hope, Yehezkel S. Resheff & Itay Lieder, 2017 O'Reilly\n",
    "- TensorFlow for Deep Learning, Bharath Ramsundar & Reza Bosagh Zadeh, 2018, O'Reilly\n",
    "- Python Machine Learning, 2nd ed. (capítulo 13), Sebastian Rachska, 2017 Packt\n",
    "- Machine Learning with TensrFlow (capítulo 7), Nishant Shukla, 2018 Manning\n"
   ]
  },
  {
   "cell_type": "markdown",
   "metadata": {},
   "source": [
    "Vamos en este notebook a implementar una red neuronal que permita la clasificación de imágenes de dígitos en escala de grises, utilizando tres niveles de extracción de programación.\n",
    "\n",
    "Además de utilizar **numpy**, aprovechamos para presentar las librerías **tensorflow** y **keras** a través de su aplicación al problema de clasificación mencionado. \n",
    "El modelo a implementar es una red con una capa escondida de 512 neuronas utilizando la función de activación **ReLU** y 10 neuronas de salida utilizando la función de activación **softmax**.\n",
    "\n",
    "Vamos a seguir un protocolo de *holdout* para evaluar los clasificadores."
   ]
  },
  {
   "cell_type": "markdown",
   "metadata": {},
   "source": [
    "# Exploración y entendimiento del dataset MNIST"
   ]
  },
  {
   "cell_type": "markdown",
   "metadata": {},
   "source": [
    "## Librerías"
   ]
  },
  {
   "cell_type": "code",
   "execution_count": 1,
   "metadata": {},
   "outputs": [],
   "source": [
    "import numpy as np\n",
    "import matplotlib.pyplot as plt\n",
    "from sklearn.metrics import classification_report, confusion_matrix"
   ]
  },
  {
   "cell_type": "code",
   "execution_count": 2,
   "metadata": {},
   "outputs": [
    {
     "data": {
      "text/plain": [
       "'1.8.0'"
      ]
     },
     "execution_count": 2,
     "metadata": {},
     "output_type": "execute_result"
    }
   ],
   "source": [
    "import tensorflow as tf\n",
    "tf.__version__"
   ]
  },
  {
   "cell_type": "markdown",
   "metadata": {},
   "source": [
    "Keras necesita una base para trabajar. Vamos a usar tensorflow"
   ]
  },
  {
   "cell_type": "code",
   "execution_count": 3,
   "metadata": {},
   "outputs": [
    {
     "name": "stderr",
     "output_type": "stream",
     "text": [
      "Using TensorFlow backend.\n"
     ]
    },
    {
     "data": {
      "text/plain": [
       "'2.2.0'"
      ]
     },
     "execution_count": 3,
     "metadata": {},
     "output_type": "execute_result"
    }
   ],
   "source": [
    "import keras\n",
    "keras.__version__"
   ]
  },
  {
   "cell_type": "markdown",
   "metadata": {},
   "source": [
    "Keras viene con MNIST directamente integrada. Las imagenes y sus etiquetas (clases) ya vienen particionadas en training y test sets."
   ]
  },
  {
   "cell_type": "markdown",
   "metadata": {},
   "source": [
    "## Carga de datos"
   ]
  },
  {
   "cell_type": "code",
   "execution_count": 4,
   "metadata": {},
   "outputs": [],
   "source": [
    "from keras.datasets import mnist\n",
    "(train_images, train_labels), (test_images, test_labels) = mnist.load_data()"
   ]
  },
  {
   "cell_type": "code",
   "execution_count": 5,
   "metadata": {},
   "outputs": [
    {
     "data": {
      "text/plain": [
       "array([  0,   0,   0,   0,   0,   0,   0,   0,   0,   0,   0,   0,   3,\n",
       "        18,  18,  18, 126, 136, 175,  26, 166, 255, 247, 127,   0,   0,\n",
       "         0,   0], dtype=uint8)"
      ]
     },
     "execution_count": 5,
     "metadata": {},
     "output_type": "execute_result"
    }
   ],
   "source": [
    "train_images[0][5] #La primera imagen, la 6a fila, muestra los 28 valores de gris (uno por cada columna)"
   ]
  },
  {
   "cell_type": "code",
   "execution_count": 6,
   "metadata": {},
   "outputs": [
    {
     "data": {
      "text/plain": [
       "(60000, 28, 28)"
      ]
     },
     "execution_count": 6,
     "metadata": {},
     "output_type": "execute_result"
    }
   ],
   "source": [
    "train_images.shape"
   ]
  },
  {
   "cell_type": "markdown",
   "metadata": {},
   "source": [
    "La primera dimension del tensor de train_images es de 60000, pues hay 60000 imagenes, las 2 siguientes dimensiones son las que dan el tamaño de las imágenes (28x28). Como son imagenes en escala de grises, no hay una 4a dimensión que tendría el canal de color (e.g. RGB). Cada valor de la matriz de 28x28 es una valor de gris de 0 a 255."
   ]
  },
  {
   "cell_type": "code",
   "execution_count": 7,
   "metadata": {},
   "outputs": [
    {
     "data": {
      "text/plain": [
       "60000"
      ]
     },
     "execution_count": 7,
     "metadata": {},
     "output_type": "execute_result"
    }
   ],
   "source": [
    "len (train_labels)"
   ]
  },
  {
   "cell_type": "code",
   "execution_count": 8,
   "metadata": {},
   "outputs": [
    {
     "data": {
      "text/plain": [
       "10000"
      ]
     },
     "execution_count": 8,
     "metadata": {},
     "output_type": "execute_result"
    }
   ],
   "source": [
    "len (test_labels)"
   ]
  },
  {
   "cell_type": "markdown",
   "metadata": {},
   "source": [
    "El testset tiene 10000 imágenes"
   ]
  },
  {
   "cell_type": "code",
   "execution_count": 9,
   "metadata": {},
   "outputs": [
    {
     "data": {
      "text/plain": [
       "array([5, 0, 4, ..., 5, 6, 8], dtype=uint8)"
      ]
     },
     "execution_count": 9,
     "metadata": {},
     "output_type": "execute_result"
    }
   ],
   "source": [
    "train_labels"
   ]
  },
  {
   "cell_type": "code",
   "execution_count": 10,
   "metadata": {},
   "outputs": [
    {
     "data": {
      "text/plain": [
       "(10000, 28, 28)"
      ]
     },
     "execution_count": 10,
     "metadata": {},
     "output_type": "execute_result"
    }
   ],
   "source": [
    "test_images.shape"
   ]
  },
  {
   "cell_type": "markdown",
   "metadata": {},
   "source": [
    "Podemos ver cada una de las imágenes"
   ]
  },
  {
   "cell_type": "code",
   "execution_count": 11,
   "metadata": {},
   "outputs": [
    {
     "data": {
      "image/png": "[encoded data removed]",
      "text/plain": [
       "<Figure size 432x288 with 1 Axes>"
      ]
     },
     "metadata": {},
     "output_type": "display_data"
    }
   ],
   "source": [
    "digit = train_images[4]\n",
    "plt.imshow(digit, cmap=plt.cm.binary)\n",
    "plt.show()"
   ]
  },
  {
   "cell_type": "markdown",
   "metadata": {},
   "source": [
    "## Preprocesamiento de los datos"
   ]
  },
  {
   "cell_type": "markdown",
   "metadata": {},
   "source": [
    "Necesitamos que los datos de entrenamiento y test estén en el formato dado por la capa de entrada de la red, donde se reciben los datos representados a partir de un tensor cuya primera dimensión tiene 784 neuronas, es decir, recibe como input instancias representadas por tensores con dimensionalidad (784,).\n",
    "\n",
    "Cómo los datos de entrenamiento están en tensores de 60000x28x28, es necesario convertirlos en un tensor de 60000x784. Idem para el tensor de test.\n",
    "\n",
    "Vamos también a modificar la escala de grises, que originalmente va de 0 a 255, a una escala que vaya de 0 a 1. Para esto, dividimos los valores originales por 255."
   ]
  },
  {
   "cell_type": "markdown",
   "metadata": {},
   "source": [
    "Definimos la estructura de la red (número de neuronas por capa y número de inputs)."
   ]
  },
  {
   "cell_type": "code",
   "execution_count": 12,
   "metadata": {},
   "outputs": [],
   "source": [
    "n0 = 28*28\n",
    "n1 = 512\n",
    "n2 = 10"
   ]
  },
  {
   "cell_type": "markdown",
   "metadata": {},
   "source": [
    "Vamos a aplanar los datos de train y test para poder utilizar cada pixel como un predictor (cada pixel en una columna diferente)."
   ]
  },
  {
   "cell_type": "code",
   "execution_count": 14,
   "metadata": {},
   "outputs": [],
   "source": [
    "train_images = train_images.reshape((60000, 28 * 28))\n",
    "train_images = train_images.astype('float32') / 255\n",
    "\n",
    "test_images = test_images.reshape((10000, 28 * 28))\n",
    "test_images = test_images.astype('float32') / 255"
   ]
  },
  {
   "cell_type": "markdown",
   "metadata": {},
   "source": [
    "Las etiquetas están en valores numéricos, vamos codificarlos en one hot encoding, con un vector de K posiciones para K clases, donde la clase específica de cada ejemplo tiene un valor de 1, y las demas posiciones del vector tienen valores de 0"
   ]
  },
  {
   "cell_type": "code",
   "execution_count": 15,
   "metadata": {},
   "outputs": [
    {
     "data": {
      "text/plain": [
       "array([5, 0, 4, 1, 9, 2, 1, 3, 1, 4], dtype=uint8)"
      ]
     },
     "execution_count": 15,
     "metadata": {},
     "output_type": "execute_result"
    }
   ],
   "source": [
    "train_labels[0:10]"
   ]
  },
  {
   "cell_type": "code",
   "execution_count": 16,
   "metadata": {},
   "outputs": [],
   "source": [
    "from keras.utils import to_categorical\n",
    "\n",
    "train_labels = to_categorical(train_labels)\n",
    "test_labels = to_categorical(test_labels)"
   ]
  },
  {
   "cell_type": "code",
   "execution_count": 17,
   "metadata": {},
   "outputs": [
    {
     "data": {
      "text/plain": [
       "(60000, 10)"
      ]
     },
     "execution_count": 17,
     "metadata": {},
     "output_type": "execute_result"
    }
   ],
   "source": [
    "train_labels.shape"
   ]
  },
  {
   "cell_type": "code",
   "execution_count": 18,
   "metadata": {},
   "outputs": [
    {
     "data": {
      "text/plain": [
       "(10000, 10)"
      ]
     },
     "execution_count": 18,
     "metadata": {},
     "output_type": "execute_result"
    }
   ],
   "source": [
    "test_labels.shape"
   ]
  },
  {
   "cell_type": "code",
   "execution_count": 19,
   "metadata": {},
   "outputs": [
    {
     "data": {
      "text/plain": [
       "array([[0., 0., 0., 0., 0., 1., 0., 0., 0., 0.],\n",
       "       [1., 0., 0., 0., 0., 0., 0., 0., 0., 0.]], dtype=float32)"
      ]
     },
     "execution_count": 19,
     "metadata": {},
     "output_type": "execute_result"
    }
   ],
   "source": [
    "train_labels[0:2]"
   ]
  },
  {
   "cell_type": "markdown",
   "metadata": {},
   "source": [
    "Como los labels están desordenados y no responde a ninguna organización sistemática, los podemos dejar así. Si siguieran un orden definido, sería necesario barajarlos para que el orden no influyera en el aprendizaje."
   ]
  },
  {
   "cell_type": "code",
   "execution_count": 20,
   "metadata": {},
   "outputs": [],
   "source": [
    "X_train = train_images.T\n",
    "y_train = train_labels.T\n",
    "m=X_train.shape[1]"
   ]
  },
  {
   "cell_type": "markdown",
   "metadata": {},
   "source": [
    "# MNIST: ANN con Numpy "
   ]
  },
  {
   "cell_type": "markdown",
   "metadata": {},
   "source": [
    "Definimos las funciones de activación y sus gradientes.\n",
    "\n",
    "La función de activación de softmax solo se puede utilizar en la última capa y generaliza la función sigmoide, por lo que su gradiente es el mismo que el del caso binario."
   ]
  },
  {
   "cell_type": "code",
   "execution_count": null,
   "metadata": {},
   "outputs": [],
   "source": [
    "def sigmoide(x):\n",
    "    return 1/(1+np.exp(-x))\n",
    "\n",
    "def sigmoideGrad(x):\n",
    "    return x*(1-x)\n",
    "\n",
    "def softmax(X):\n",
    "    ...TODO...\n",
    "    return ...\n"
   ]
  },
  {
   "cell_type": "code",
   "execution_count": 135,
   "metadata": {},
   "outputs": [],
   "source": [
    "def tanh(x):\n",
    "    ...TODO...\n",
    "    return ...\n",
    "\n",
    "def tanhGrad(x):\n",
    "    ...TODO...\n",
    "    return ..."
   ]
  },
  {
   "cell_type": "code",
   "execution_count": 136,
   "metadata": {},
   "outputs": [],
   "source": [
    "def relu(x):\n",
    "    ...TODO...\n",
    "    return ...\n",
    "\n",
    "def reluGrad(x):\n",
    "    ...TODO...\n",
    "    return ...\n"
   ]
  },
  {
   "cell_type": "markdown",
   "metadata": {},
   "source": [
    "## Inicialización de los parámetros"
   ]
  },
  {
   "cell_type": "markdown",
   "metadata": {},
   "source": [
    "Inicializamos los pesos de la red aleatoriamente para la capa intermedia (1) y la capa de salida (2). La capa inicial no tiene pesos pues consiste únicamente de los datos de entrada.\n",
    "\n",
    "La primera capa tiene n1 (512) neuronas y n0 (784) inputs, creamos una matriz de pesos w1 con n1 filas y n0 columnas. Tenemos además un vector b1 con n1 posiciones.\n",
    "\n",
    "La segunda capa tiene n2 (10) neuronas y n1 (512) inputs, creamos una matriz de pesos w2 con n2 fila y n1 columnas. Tenemos además un vector b2 con n2 posiciones."
   ]
  },
  {
   "cell_type": "code",
   "execution_count": 86,
   "metadata": {},
   "outputs": [],
   "source": [
    "def initParams():\n",
    "    np.random.seed(123456)\n",
    "\n",
    "    ...TODO...\n",
    "\n",
    "    return(w1, b1, w2, b2)"
   ]
  },
  {
   "cell_type": "code",
   "execution_count": 87,
   "metadata": {},
   "outputs": [
    {
     "name": "stdout",
     "output_type": "stream",
     "text": [
      "inputs:  (60000, 784)\n",
      "w1: {(512, 784)}\n",
      "b1: {(512, 1)}\n",
      "w2: {(10, 512)}\n",
      "b2: {(10, 1)}\n"
     ]
    }
   ],
   "source": [
    "w1, b1, w2, b2 = initParams()\n",
    "print(\"inputs: \", train_images.shape)\n",
    "print(\"w1: {%s}\\nb1: {%s}\" % (w1.shape, b1.shape))\n",
    "print(\"w2: {%s}\\nb2: {%s}\" % (w2.shape, b2.shape))"
   ]
  },
  {
   "cell_type": "markdown",
   "metadata": {},
   "source": [
    "## Feed Forward"
   ]
  },
  {
   "cell_type": "markdown",
   "metadata": {},
   "source": [
    "Comenzamos por definir la función feedForward, que recibe la matriz de inputs con todos los registros y retorna el vector con las predicciones correspondientes:"
   ]
  },
  {
   "cell_type": "code",
   "execution_count": 88,
   "metadata": {},
   "outputs": [],
   "source": [
    "def feedForward(X, w1, b1, w2, b2):\n",
    "    '''Calcula el valor predicho para todos los registros que se encuentran en X\n",
    "       -----------\n",
    "       Argumentos:\n",
    "       X: matriz con los inputs, con tantas filas como atributos y tantas columnas como registros\n",
    "       w1: matriz con los pesos de las conexiones entrantes de la 1a capa, \n",
    "         con tantas filas como atributos y tantas columnas como registros\n",
    "       b1: array con los sesgos de las neuronas de la 1a capa\n",
    "       w2: matriz con los pesos de las conexiones entrantes de la 2a capa, \n",
    "         con tantas filas como atributos y tantas columnas como registros\n",
    "       b2: array con los sesgos de las neuronas de la 2a capa\n",
    "       -----------\n",
    "       Retorna:\n",
    "       a1: matriz con las activaciones de la capa escondida, \n",
    "         con tantas filas como neuronas de la capa y tantas columnas como registros\n",
    "       a2 (y estimado): vector con las predicciones\n",
    "    '''\n",
    "\n",
    "    ...TODO...\n",
    "\n",
    "    return (a1, a2)"
   ]
  },
  {
   "cell_type": "markdown",
   "metadata": {},
   "source": [
    "Podemos entonces evaluar el estado inicial de la red (con sus parámetros iniciales):"
   ]
  },
  {
   "cell_type": "code",
   "execution_count": 89,
   "metadata": {},
   "outputs": [
    {
     "name": "stdout",
     "output_type": "stream",
     "text": [
      "[[0.10071491 0.10042403 0.10197454 ... 0.09950268 0.09953592 0.10050975]\n",
      " [0.09982152 0.09917264 0.10177136 ... 0.09984397 0.0986228  0.10154716]\n",
      " [0.10044414 0.09944697 0.10062615 ... 0.10005185 0.09904903 0.09962872]\n",
      " ...\n",
      " [0.10024492 0.1008202  0.10049123 ... 0.09974311 0.10031068 0.09981346]\n",
      " [0.10037734 0.09966835 0.10097462 ... 0.09993777 0.09929817 0.10047747]\n",
      " [0.09963554 0.10080644 0.10104211 ... 0.09960428 0.09928018 0.10077153]]\n"
     ]
    }
   ],
   "source": [
    "a1, a2 = feedForward(X_train, w1, b1, w2, b2)\n",
    "print(a2.transpose())"
   ]
  },
  {
   "cell_type": "markdown",
   "metadata": {},
   "source": [
    "Vemos que casi todas las probabilidades son cercanas al 10%, por lo que no hay inicialmente ninguna predilección definida por ninguno de los dígitos del 0 al 9."
   ]
  },
  {
   "cell_type": "markdown",
   "metadata": {},
   "source": [
    "## Función de costo"
   ]
  },
  {
   "cell_type": "markdown",
   "metadata": {},
   "source": [
    "La función de perdida es la **categorical_crossentropy**, que se utiliza en el caso de problemas de clasificación multiclase. El optimizador tratará de minimizarla. Es una función de distancia entre el valor real (que solo tiene una de las dimensiones con un 1 y las demás con un 0) y el predicho por el modelo (que tiene una distribución que probablemente no sea absoluta, sino que reparta la unidad de probabilidad en cada una de las clases).\n",
    "Esta función es la suma negativa de las entropias de cada una de las posiciones del vector one hot encoded de clases:\n",
    "$$H(y,\\tilde{y}) =-\\sum{y*log(\\tilde{y})}$$\n",
    "Como el valor de *y* es solo 1 en una de las posiciondes del vector de clases y 0 en las demás, solo una posición será considerada, de tal manera que la similitud entre los valores reales (1) y predichos (fracción de 1) es dada por el log del valor predicho para la clase real.  "
   ]
  },
  {
   "cell_type": "code",
   "execution_count": 90,
   "metadata": {},
   "outputs": [],
   "source": [
    "def costoGlobal(y_real, y_est): \n",
    "    '''Calcula el costo global de la predicción con la red actual, comparando la clase real con las probabilidad estimadas\n",
    "       -----------\n",
    "       Argumentos:\n",
    "       y_real: Matriz con las clases reales de los datos. numcols = registros, numrows = 10\n",
    "       y_est: array con las probabilidades de salida estimadas por la red\n",
    "       -----------\n",
    "       Retorna:\n",
    "       costo: promedio de los costos de cada predicción individual\n",
    "    '''\n",
    "    \n",
    "    ...TODO...\n",
    "\n",
    "    return ..."
   ]
  },
  {
   "cell_type": "code",
   "execution_count": 91,
   "metadata": {},
   "outputs": [
    {
     "data": {
      "text/plain": [
       "3.8408622903772436e-05"
      ]
     },
     "execution_count": 91,
     "metadata": {},
     "output_type": "execute_result"
    }
   ],
   "source": [
    "costo = costoGlobal(y_train, a2)\n",
    "costo"
   ]
  },
  {
   "cell_type": "markdown",
   "metadata": {},
   "source": [
    "## Función de backpropagation"
   ]
  },
  {
   "cell_type": "code",
   "execution_count": 92,
   "metadata": {},
   "outputs": [],
   "source": [
    "def backProp(X, y, w1, w2, a1, a2): \n",
    "    '''Calcula los deltas de las actualizaciones de los parámetros de las capas \n",
    "       -----------\n",
    "       Argumentos:\n",
    "       X: matriz con los inputs, con tantas filas como atributos y tantas columnas como registros\n",
    "       y: array con los valores reales a predecir\n",
    "       w1: matriz con los pesos de las conexiones entrantes de la 1a capa, \n",
    "         con tantas filas como atributos y tantas columnas como registros\n",
    "       w2: matriz con los pesos de las conexiones entrantes de la 2a capa, \n",
    "         con tantas filas como atributos y tantas columnas como registros\n",
    "       a1: matriz con las activaciones de la capa escondida, con tantas filas como neuronas de la capa y tantas columnas como registros\n",
    "       a2 (y estimado): matriz con las predicciones, con tantas columnas como registros y 10 filas (1 por cada dígito)\n",
    "       -----------\n",
    "       Retorna:\n",
    "       dw1: matriz con las actualizaciones que se deben aplicar a los coeficientes de la capa 1 (hidden)\n",
    "       db1: array con las actualizaciones que se deben aplicar a los sesgos de la capa 1 (hidden)\n",
    "       dw2: matriz con las actualizaciones que se deben aplicar a los coeficientes de la capa 2 (salida)\n",
    "       db2: array con las actualizaciones que se deben aplicar a los sesgos de la capa 2 (salida)\n",
    "    '''\n",
    "\n",
    "    ...TODO...\n",
    "\n",
    "    return (dw1, db1, dw2, db2)"
   ]
  },
  {
   "cell_type": "code",
   "execution_count": 93,
   "metadata": {},
   "outputs": [],
   "source": [
    "dw1, db1, dw2, db2 = backProp(X_train, y_train, w1, w2, a1, a2)"
   ]
  },
  {
   "cell_type": "markdown",
   "metadata": {},
   "source": [
    "## Ciclo de entrenamiento"
   ]
  },
  {
   "cell_type": "markdown",
   "metadata": {},
   "source": [
    "Vamos ahora a programar el ciclo (época) de back propagation.\n",
    "- Se calculan los valores intermediarios en la fase forward: a0 (son las entradas X), a1 y a2 (las salidas estimadas y_est)\n",
    "- Se calcula el error de cada época\n",
    "- Se encuentran los valores de los gradientes en la fase backward a partir de los resultados anteriores"
   ]
  },
  {
   "cell_type": "markdown",
   "metadata": {},
   "source": [
    "Definimos los hiperparámetros del modelo, utilizados para aprender los pesos de las capas (los verdaderos parámetros)."
   ]
  },
  {
   "cell_type": "code",
   "execution_count": 94,
   "metadata": {},
   "outputs": [],
   "source": [
    "lr = 0.5 # learning rate\n",
    "epocas = 100 # Iteraciones de backpropagation"
   ]
  },
  {
   "cell_type": "code",
   "execution_count": 95,
   "metadata": {},
   "outputs": [],
   "source": [
    "def entrenarRed(epocas, lr, X, y, w1, b1, w2, b2, echo_progression=True):\n",
    "    '''Se encarga de controlar el ciclo de aprendizaje de los parámetros de la red\n",
    "       -----------\n",
    "       Argumentos:\n",
    "       epocas: número de iteraciones de aprendizaje a calcular \n",
    "       lr: (learning rate) tasa de aprendizaje que controla la magnitud de la actualización de los parámetros cada iteración\n",
    "       X: matriz con los inputs, con tantas filas como atributos y tantas columnas como registros\n",
    "       y: array con los valores reales a predecir\n",
    "       w1: matriz con los pesos de las conexiones entrantes de la 1a capa, \n",
    "         con tantas filas como atributos y tantas columnas como registros\n",
    "       w2: matriz con los pesos de las conexiones entrantes de la 2a capa, \n",
    "         con tantas filas como atributos y tantas columnas como registros\n",
    "       b1: array con los sesgos de las neuronas de la 1a capa\n",
    "       b2: array con los sesgos de las neuronas de la 2a capa\n",
    "       echo_progression: indica si se desea que se imprima el progreso de la tarea\n",
    "       -----------\n",
    "       Retorna:\n",
    "       costos: array con la evolución del costo de la red despúes de la actualización de cada época\n",
    "       accuracies: array con la evolución de la exactitud de la red despúes de la actualización de cada época \n",
    "       dw1: matriz con las actualizaciones que se deben aplicar a los coeficientes de la capa 1 (hidden)\n",
    "       db1: array con las actualizaciones que se deben aplicar a los sesgos de la capa 1 (hidden)\n",
    "       dw2: matriz con las actualizaciones que se deben aplicar a los coeficientes de la capa 2 (salida)\n",
    "       db2: array con las actualizaciones que se deben aplicar a los sesgos de la capa 2 (salida)\n",
    "    '''\n",
    "\n",
    "    costos = []\n",
    "    accuracies = []\n",
    "    for i in range(epocas):\n",
    "\n",
    "        ...TODO...\n",
    "        \n",
    "    return (costos, accuracies, w1, b1, w2, b2)"
   ]
  },
  {
   "cell_type": "code",
   "execution_count": 34,
   "metadata": {},
   "outputs": [
    {
     "name": "stdout",
     "output_type": "stream",
     "text": [
      "Epoca 0, costo = 0.0000381018, accuracy=0.4972500000\n",
      "Epoca 10, costo = 0.0000250612, accuracy=0.6831833333\n",
      "Epoca 20, costo = 0.0000126605, accuracy=0.8180666667\n",
      "Epoca 30, costo = 0.0000093659, accuracy=0.8565000000\n",
      "Epoca 40, costo = 0.0000079415, accuracy=0.8748166667\n",
      "Epoca 50, costo = 0.0000071559, accuracy=0.8834166667\n",
      "Epoca 60, costo = 0.0000066651, accuracy=0.8895500000\n",
      "Epoca 70, costo = 0.0000063288, accuracy=0.8939333333\n",
      "Epoca 80, costo = 0.0000060816, accuracy=0.8975000000\n",
      "Epoca 90, costo = 0.0000058903, accuracy=0.9002833333\n",
      "Epoca 99, costo = 0.0000057507, accuracy=0.9021666667\n"
     ]
    }
   ],
   "source": [
    "lr = 0.5\n",
    "epocas = 100 # Iteraciones de backpropagation\n",
    "\n",
    "w1, b1, w2, b2 = initParams()\n",
    "costos, accuracies, w1, b1, w2, b2 = entrenarRed(epocas, lr, X_train, y_train, w1, b1, w2, b2)"
   ]
  },
  {
   "cell_type": "markdown",
   "metadata": {},
   "source": [
    "Nuestras predicciones finales son: "
   ]
  },
  {
   "cell_type": "code",
   "execution_count": 36,
   "metadata": {},
   "outputs": [
    {
     "name": "stdout",
     "output_type": "stream",
     "text": [
      "[[5690    0   58   23   15  101   48   39   33   46]\n",
      " [   0 6519   78   33   34   44   21   64  142   33]\n",
      " [  33   32 5182  141   35   35   67   89   81   29]\n",
      " [  16   32  104 5361    4  245    3   24  176   79]\n",
      " [  13    6  110    4 5350   69   68   66   31  211]\n",
      " [  52   31   16  260    6 4465   83   10  189   42]\n",
      " [  40    9  132   32   75  127 5585    2   53    5]\n",
      " [  10   19   86   79   10   28    0 5732   20  226]\n",
      " [  63   86  165  125   35  233   42   19 5028   60]\n",
      " [   6    8   27   73  278   74    1  220   98 5218]]\n",
      "             precision    recall  f1-score   support\n",
      "\n",
      "          0       0.96      0.94      0.95      6053\n",
      "          1       0.97      0.94      0.95      6968\n",
      "          2       0.87      0.91      0.89      5724\n",
      "          3       0.87      0.89      0.88      6044\n",
      "          4       0.92      0.90      0.91      5928\n",
      "          5       0.82      0.87      0.84      5154\n",
      "          6       0.94      0.92      0.93      6060\n",
      "          7       0.91      0.92      0.92      6210\n",
      "          8       0.86      0.86      0.86      5856\n",
      "          9       0.88      0.87      0.87      6003\n",
      "\n",
      "avg / total       0.90      0.90      0.90     60000\n",
      "\n"
     ]
    }
   ],
   "source": [
    "_, a2 = feedForward(X_train, w1, b1, w2, b2)\n",
    "\n",
    "y_pred = np.argmax(a2, axis=0)\n",
    "y_real = np.argmax(y_train, axis=0)\n",
    "print(confusion_matrix(y_pred, y_real))\n",
    "print(classification_report(y_pred, y_real))"
   ]
  },
  {
   "cell_type": "markdown",
   "metadata": {},
   "source": [
    "Veamos como nos va con el set de test"
   ]
  },
  {
   "cell_type": "code",
   "execution_count": 138,
   "metadata": {},
   "outputs": [],
   "source": [
    "X_test = test_images.T\n",
    "y_test = test_labels.T"
   ]
  },
  {
   "cell_type": "code",
   "execution_count": 38,
   "metadata": {},
   "outputs": [
    {
     "name": "stdout",
     "output_type": "stream",
     "text": [
      "[[ 957    0   12    5    1   17   17    6    8   11]\n",
      " [   0 1107    9    0    1    3    3   14    8    8]\n",
      " [   4    1  902   21    6    4    7   25    9    5]\n",
      " [   2    4   17  898    1   49    0    5   28   11]\n",
      " [   0    1   14    0  907   11   13    8   10   41]\n",
      " [   7    1    1   38    0  740   16    0   31   13]\n",
      " [   7    4   15    1   12   15  896    0   13    0]\n",
      " [   1    1   13   18    2    9    1  930   11   30]\n",
      " [   2   16   43   21    8   37    5    4  841    4]\n",
      " [   0    0    6    8   44    7    0   36   15  886]]\n",
      "             precision    recall  f1-score   support\n",
      "\n",
      "          0       0.98      0.93      0.95      1034\n",
      "          1       0.98      0.96      0.97      1153\n",
      "          2       0.87      0.92      0.89       984\n",
      "          3       0.89      0.88      0.89      1015\n",
      "          4       0.92      0.90      0.91      1005\n",
      "          5       0.83      0.87      0.85       847\n",
      "          6       0.94      0.93      0.93       963\n",
      "          7       0.90      0.92      0.91      1016\n",
      "          8       0.86      0.86      0.86       981\n",
      "          9       0.88      0.88      0.88      1002\n",
      "\n",
      "avg / total       0.91      0.91      0.91     10000\n",
      "\n"
     ]
    }
   ],
   "source": [
    "_, a2 = feedForward(X_test, w1, b1, w2, b2)\n",
    "y_pred = np.argmax(a2, axis=0)\n",
    "y_real = np.argmax(y_test, axis=0)\n",
    "print(confusion_matrix(y_pred, y_real))\n",
    "print(classification_report(y_pred, y_real))"
   ]
  },
  {
   "cell_type": "markdown",
   "metadata": {},
   "source": [
    "## Mini batch gradient descent"
   ]
  },
  {
   "cell_type": "markdown",
   "metadata": {},
   "source": [
    "Vamos ahora a pasar de una optimización de los parámetros con batch gradient descent (actualización solo después de pasar el set de datos entero) a una optimización con **mini-batch gradient descent**.\n",
    "\n",
    "Vamos a crear una nueva función de entrenamiento."
   ]
  },
  {
   "cell_type": "code",
   "execution_count": 36,
   "metadata": {},
   "outputs": [],
   "source": [
    "def entrenarRedMiniBatch(epocas, batch_size, lr, X, y, w1, b1, w2, b2, echo_progression=True):\n",
    "    '''Se encarga de controlar el ciclo de aprendizaje de los parámetros de la red\n",
    "    -----------\n",
    "    Argumentos:\n",
    "        epocas: número de iteraciones de aprendizaje a calcular \n",
    "        batch_size: tamaño del batch sobre el cual se calcula la acutualización de los parámetros.\n",
    "        lr: (learning rate) tasa de aprendizaje que controla la magnitud de la actualización de los parámetros cada iteración\n",
    "        X: matriz con los inputs, con tantas filas como atributos y tantas columnas como registros\n",
    "        y: array con los valores reales a predecir\n",
    "        w1: matriz con los pesos de las conexiones entrantes de la 1a capa, \n",
    "            con tantas filas como atributos y tantas columnas como registros\n",
    "        w2: matriz con los pesos de las conexiones entrantes de la 2a capa, \n",
    "            con tantas filas como atributos y tantas columnas como registros\n",
    "        b1: array con los sesgos de las neuronas de la 1a capa\n",
    "        b2: array con los sesgos de las neuronas de la 2a capa\n",
    "        echo_progression: indica si se desea que se imprima el progreso de la tarea\n",
    "    -----------\n",
    "    Retorna:\n",
    "        costos: array con la evolución del costo de la red despúes de la actualización de cada época\n",
    "        accuracies: array con la evolución de la exactitud de la red despúes de la actualización de cada época \n",
    "        dw1: matriz con las actualizaciones que se deben aplicar a los coeficientes de la capa 1 (hidden)\n",
    "        db1: array con las actualizaciones que se deben aplicar a los sesgos de la capa 1 (hidden)\n",
    "        dw2: matriz con las actualizaciones que se deben aplicar a los coeficientes de la capa 2 (salida)\n",
    "        db2: array con las actualizaciones que se deben aplicar a los sesgos de la capa 2 (salida)\n",
    "    '''\n",
    "\n",
    "    numbatches = (X.shape[1] / batch_size)\n",
    "    numbatches = int(numbatches)\n",
    "    costos = []\n",
    "    accuracies = []\n",
    "\n",
    "    print(\"Cada una de las %d épocas contará con  %d batches de %d registros\" % (epocas, numbatches, batch_size))\n",
    "    \n",
    "    ...TODO...\n",
    "    ...TODO...\n",
    "    ...TODO...\n",
    "\n",
    "    return (costos, accuracies, w1, b1, w2, b2)"
   ]
  },
  {
   "cell_type": "code",
   "execution_count": 40,
   "metadata": {},
   "outputs": [
    {
     "name": "stdout",
     "output_type": "stream",
     "text": [
      "Cada una de las 100 épocas contará con  1 batches de 60000 registros\n",
      "Epoca 0, Batch size: 60000, costo = 0.0000381018, accuracy=0.4972500000\n",
      "Epoca 10, Batch size: 60000, costo = 0.0000250612, accuracy=0.6831833333\n",
      "Epoca 20, Batch size: 60000, costo = 0.0000126605, accuracy=0.8180666667\n",
      "Epoca 30, Batch size: 60000, costo = 0.0000093659, accuracy=0.8565000000\n",
      "Epoca 40, Batch size: 60000, costo = 0.0000079415, accuracy=0.8748166667\n",
      "Epoca 50, Batch size: 60000, costo = 0.0000071559, accuracy=0.8834166667\n",
      "Epoca 60, Batch size: 60000, costo = 0.0000066651, accuracy=0.8895500000\n",
      "Epoca 70, Batch size: 60000, costo = 0.0000063288, accuracy=0.8939333333\n",
      "Epoca 80, Batch size: 60000, costo = 0.0000060816, accuracy=0.8975000000\n",
      "Epoca 90, Batch size: 60000, costo = 0.0000058903, accuracy=0.9002833333\n",
      "Epoca 100, Batch size: 60000, costo = 0.0000057507, accuracy=0.9021666667\n"
     ]
    }
   ],
   "source": [
    "lr = 1 # learning rate sigmoid\n",
    "lr = 1 # learning rate\n",
    "lr = 0.5 # learning rate tanh\n",
    "epocas = 100 # Iteraciones de backpropagation\n",
    "batch_size = 60000 # Paquete de registros a considerar para una actualización\n",
    "w1, b1, w2, b2 = initParams()\n",
    "costos_60000, accuracies_60000, w1, b1, w2, b2 = entrenarRedMiniBatch(epocas, batch_size, lr, X_train, y_train, w1, b1, w2, b2)"
   ]
  },
  {
   "cell_type": "code",
   "execution_count": 42,
   "metadata": {},
   "outputs": [
    {
     "name": "stdout",
     "output_type": "stream",
     "text": [
      "Cada una de las 100 épocas contará con  6 batches de 10000 registros\n",
      "Epoca 0, Batch size: 10000, costo = 0.0000350722, accuracy=0.6775000000\n",
      "Epoca 10, Batch size: 10000, costo = 0.0000064976, accuracy=0.8914500000\n",
      "Epoca 20, Batch size: 10000, costo = 0.0000054684, accuracy=0.9066333333\n",
      "Epoca 30, Batch size: 10000, costo = 0.0000050736, accuracy=0.9143833333\n",
      "Epoca 40, Batch size: 10000, costo = 0.0000048284, accuracy=0.9186333333\n",
      "Epoca 50, Batch size: 10000, costo = 0.0000046329, accuracy=0.9216333333\n",
      "Epoca 60, Batch size: 10000, costo = 0.0000044497, accuracy=0.9246500000\n",
      "Epoca 70, Batch size: 10000, costo = 0.0000042596, accuracy=0.9281500000\n",
      "Epoca 80, Batch size: 10000, costo = 0.0000040548, accuracy=0.9316833333\n",
      "Epoca 90, Batch size: 10000, costo = 0.0000038359, accuracy=0.9355166667\n",
      "Epoca 100, Batch size: 10000, costo = 0.0000036712, accuracy=0.9379500000\n"
     ]
    }
   ],
   "source": [
    "lr = 1 # learning rate sigmoid\n",
    "lr = 1 # learning rate\n",
    "lr = 0.5 # learning rate tanh\n",
    "epocas = 100 # Iteraciones de backpropagation\n",
    "batch_size = 10000 # Paquete de registros a considerar para una actualización\n",
    "w1, b1, w2, b2 = initParams()\n",
    "costos_10000, accuracies_10000, w1, b1, w2, b2 = entrenarRedMiniBatch(epocas, batch_size, lr, X_train, y_train, w1, b1, w2, b2)"
   ]
  },
  {
   "cell_type": "code",
   "execution_count": 43,
   "metadata": {},
   "outputs": [
    {
     "name": "stdout",
     "output_type": "stream",
     "text": [
      "Cada una de las 100 épocas contará con  10 batches de 6000 registros\n",
      "Epoca 0, Batch size: 6000, costo = 0.0000274132, accuracy=0.6783833333\n",
      "Epoca 10, Batch size: 6000, costo = 0.0000056349, accuracy=0.9037333333\n",
      "Epoca 20, Batch size: 6000, costo = 0.0000049606, accuracy=0.9160000000\n",
      "Epoca 30, Batch size: 6000, costo = 0.0000046075, accuracy=0.9219166667\n",
      "Epoca 40, Batch size: 6000, costo = 0.0000043801, accuracy=0.9246000000\n",
      "Epoca 50, Batch size: 6000, costo = 0.0000039467, accuracy=0.9337833333\n",
      "Epoca 60, Batch size: 6000, costo = 0.0000036537, accuracy=0.9382333333\n",
      "Epoca 70, Batch size: 6000, costo = 0.0000032879, accuracy=0.9453166667\n",
      "Epoca 80, Batch size: 6000, costo = 0.0000030092, accuracy=0.9499166667\n",
      "Epoca 90, Batch size: 6000, costo = 0.0000027570, accuracy=0.9540166667\n",
      "Epoca 100, Batch size: 6000, costo = 0.0000025599, accuracy=0.9571166667\n"
     ]
    }
   ],
   "source": [
    "lr = 1 # learning rate sigmoid\n",
    "lr = 1 # learning rate\n",
    "lr = 0.5 # learning rate tanh\n",
    "epocas = 100 # Iteraciones de backpropagation\n",
    "batch_size = 6000 # Paquete de registros a considerar para una actualización\n",
    "w1, b1, w2, b2 = initParams()\n",
    "costos_6000, accuracies_6000, w1, b1, w2, b2 = entrenarRedMiniBatch(epocas, batch_size, lr, X_train, y_train, w1, b1, w2, b2)"
   ]
  },
  {
   "cell_type": "code",
   "execution_count": 44,
   "metadata": {},
   "outputs": [
    {
     "name": "stdout",
     "output_type": "stream",
     "text": [
      "Cada una de las 100 épocas contará con  60 batches de 1000 registros\n",
      "Epoca 0, Batch size: 1000, costo = 0.0000069099, accuracy=0.8828333333\n",
      "Epoca 10, Batch size: 1000, costo = 0.0000035494, accuracy=0.9401000000\n",
      "Epoca 20, Batch size: 1000, costo = 0.0000021774, accuracy=0.9628500000\n",
      "Epoca 30, Batch size: 1000, costo = 0.0000015129, accuracy=0.9747333333\n",
      "Epoca 40, Batch size: 1000, costo = 0.0000011260, accuracy=0.9816000000\n",
      "Epoca 50, Batch size: 1000, costo = 0.0000008686, accuracy=0.9862333333\n",
      "Epoca 60, Batch size: 1000, costo = 0.0000006838, accuracy=0.9898500000\n",
      "Epoca 70, Batch size: 1000, costo = 0.0000005459, accuracy=0.9926500000\n",
      "Epoca 80, Batch size: 1000, costo = 0.0000004410, accuracy=0.9944333333\n",
      "Epoca 90, Batch size: 1000, costo = 0.0000003604, accuracy=0.9962500000\n",
      "Epoca 100, Batch size: 1000, costo = 0.0000003036, accuracy=0.9973500000\n"
     ]
    }
   ],
   "source": [
    "lr = 1 # learning rate sigmoid\n",
    "lr = 1 # learning rate\n",
    "lr = 0.5 # learning rate tanh\n",
    "epocas = 100 # Iteraciones de backpropagation\n",
    "batch_size = 1000 # Paquete de registros a considerar para una actualización\n",
    "w1, b1, w2, b2 = initParams()\n",
    "costos_1000, accuracies_1000, w1, b1, w2, b2 = entrenarRedMiniBatch(epocas, batch_size, lr, X_train, y_train, w1, b1, w2, b2)"
   ]
  },
  {
   "cell_type": "code",
   "execution_count": 45,
   "metadata": {},
   "outputs": [
    {
     "name": "stdout",
     "output_type": "stream",
     "text": [
      "Cada una de las 100 épocas contará con  100 batches de 600 registros\n",
      "Epoca 0, Batch size: 600, costo = 0.0000059801, accuracy=0.8946500000\n",
      "Epoca 10, Batch size: 600, costo = 0.0000025066, accuracy=0.9577666667\n",
      "Epoca 20, Batch size: 600, costo = 0.0000013790, accuracy=0.9769500000\n",
      "Epoca 30, Batch size: 600, costo = 0.0000008881, accuracy=0.9856500000\n",
      "Epoca 40, Batch size: 600, costo = 0.0000006073, accuracy=0.9910833333\n",
      "Epoca 50, Batch size: 600, costo = 0.0000004288, accuracy=0.9945500000\n",
      "Epoca 60, Batch size: 600, costo = 0.0000003117, accuracy=0.9970166667\n",
      "Epoca 70, Batch size: 600, costo = 0.0000002338, accuracy=0.9983833333\n",
      "Epoca 80, Batch size: 600, costo = 0.0000001804, accuracy=0.9990666667\n",
      "Epoca 90, Batch size: 600, costo = 0.0000001427, accuracy=0.9995500000\n",
      "Epoca 100, Batch size: 600, costo = 0.0000001177, accuracy=0.9997666667\n"
     ]
    }
   ],
   "source": [
    "lr = 1 # learning rate sigmoid\n",
    "lr = 1 # learning rate\n",
    "lr = 0.5 # learning rate tanh\n",
    "epocas = 100 # Iteraciones de backpropagation\n",
    "batch_size = 600 # Paquete de registros a considerar para una actualización\n",
    "w1, b1, w2, b2 = initParams()\n",
    "costos_600, accuracies_600, w1, b1, w2, b2 = entrenarRedMiniBatch(epocas, batch_size, lr, X_train, y_train, w1, b1, w2, b2)"
   ]
  },
  {
   "cell_type": "code",
   "execution_count": 46,
   "metadata": {},
   "outputs": [
    {
     "name": "stdout",
     "output_type": "stream",
     "text": [
      "Cada una de las 100 épocas contará con  1200 batches de 50 registros\n",
      "Epoca 0, Batch size: 50, costo = 0.0000035315, accuracy=0.9358166667\n",
      "Epoca 10, Batch size: 50, costo = 0.0000002638, accuracy=0.9949166667\n",
      "Epoca 20, Batch size: 50, costo = 0.0000000444, accuracy=0.9998500000\n",
      "Epoca 30, Batch size: 50, costo = 0.0000000176, accuracy=1.0000000000\n",
      "Epoca 40, Batch size: 50, costo = 0.0000000104, accuracy=1.0000000000\n",
      "Epoca 50, Batch size: 50, costo = 0.0000000073, accuracy=1.0000000000\n",
      "Epoca 60, Batch size: 50, costo = 0.0000000057, accuracy=1.0000000000\n",
      "Epoca 70, Batch size: 50, costo = 0.0000000046, accuracy=1.0000000000\n",
      "Epoca 80, Batch size: 50, costo = 0.0000000039, accuracy=1.0000000000\n",
      "Epoca 90, Batch size: 50, costo = 0.0000000034, accuracy=1.0000000000\n",
      "Epoca 100, Batch size: 50, costo = 0.0000000030, accuracy=1.0000000000\n"
     ]
    }
   ],
   "source": [
    "lr = 1 # learning rate sigmoid\n",
    "lr = 1 # learning rate\n",
    "lr = 0.5 # learning rate tanh\n",
    "epocas = 100 # Iteraciones de backpropagation\n",
    "batch_size = 50 # Paquete de registros a considerar para una actualización\n",
    "w1, b1, w2, b2 = initParams()\n",
    "costos_50, accuracies_50, w1, b1, w2, b2 = entrenarRedMiniBatch(epocas, batch_size, lr, X_train, y_train, w1, b1, w2, b2)"
   ]
  },
  {
   "cell_type": "code",
   "execution_count": 47,
   "metadata": {},
   "outputs": [
    {
     "name": "stdout",
     "output_type": "stream",
     "text": [
      "Cada una de las 100 épocas contará con  1200 batches de 50 registros\n",
      "Epoca 0, Batch size: 50, costo = 0.0000135403, accuracy=0.9158166667\n",
      "Epoca 10, Batch size: 50, costo = 0.0000006513, accuracy=0.9901666667\n",
      "Epoca 20, Batch size: 50, costo = 0.0000000232, accuracy=0.9995333333\n",
      "Epoca 30, Batch size: 50, costo = 0.0000000003, accuracy=1.0000000000\n",
      "Epoca 40, Batch size: 50, costo = 0.0000000002, accuracy=1.0000000000\n",
      "Epoca 50, Batch size: 50, costo = 0.0000000002, accuracy=1.0000000000\n",
      "Epoca 60, Batch size: 50, costo = 0.0000000001, accuracy=1.0000000000\n",
      "Epoca 70, Batch size: 50, costo = 0.0000000001, accuracy=1.0000000000\n",
      "Epoca 80, Batch size: 50, costo = 0.0000000001, accuracy=1.0000000000\n",
      "Epoca 90, Batch size: 50, costo = 0.0000000001, accuracy=1.0000000000\n",
      "Epoca 100, Batch size: 50, costo = 0.0000000001, accuracy=1.0000000000\n"
     ]
    }
   ],
   "source": [
    "lr = 1 # learning rate sigmoid\n",
    "lr = 1 # learning rate\n",
    "lr = 0.7 # learning rate tanh\n",
    "epocas = 100 # Iteraciones de backpropagation\n",
    "batch_size = 50 # Paquete de registros a considerar para una actualización\n",
    "w1, b1, w2, b2 = initParams()\n",
    "costos_50_07, accuracies_50_07, w1, b1, w2, b2 = entrenarRedMiniBatch(epocas, batch_size, lr, X_train, y_train, w1, b1, w2, b2)"
   ]
  },
  {
   "cell_type": "code",
   "execution_count": 48,
   "metadata": {},
   "outputs": [
    {
     "name": "stdout",
     "output_type": "stream",
     "text": [
      "Cada una de las 100 épocas contará con  1200 batches de 50 registros\n",
      "Epoca 0, Batch size: 50, costo = 0.0000164015, accuracy=0.9272500000\n",
      "Epoca 10, Batch size: 50, costo = 0.0000102754, accuracy=0.9447333333\n",
      "Epoca 20, Batch size: 50, costo = 0.0000041918, accuracy=0.9702500000\n",
      "Epoca 30, Batch size: 50, costo = 0.0000010434, accuracy=0.9899333333\n",
      "Epoca 40, Batch size: 50, costo = 0.0000003686, accuracy=0.9955666667\n",
      "Epoca 50, Batch size: 50, costo = 0.0000001206, accuracy=0.9981833333\n",
      "Epoca 60, Batch size: 50, costo = 0.0000000186, accuracy=0.9996666667\n",
      "Epoca 70, Batch size: 50, costo = 0.0000000000, accuracy=1.0000000000\n",
      "Epoca 80, Batch size: 50, costo = 0.0000000000, accuracy=1.0000000000\n",
      "Epoca 90, Batch size: 50, costo = 0.0000000000, accuracy=1.0000000000\n",
      "Epoca 100, Batch size: 50, costo = 0.0000000000, accuracy=1.0000000000\n"
     ]
    }
   ],
   "source": [
    "lr = 1 # learning rate sigmoid\n",
    "lr = 1 # learning rate\n",
    "lr = 0.9 # learning rate tanh\n",
    "epocas = 100 # Iteraciones de backpropagation\n",
    "batch_size = 50 # Paquete de registros a considerar para una actualización\n",
    "w1, b1, w2, b2 = initParams()\n",
    "costos_50_09, accuracies_50_09, w1, b1, w2, b2 = entrenarRedMiniBatch(epocas, batch_size, lr, X_train, y_train, w1, b1, w2, b2)"
   ]
  },
  {
   "cell_type": "code",
   "execution_count": 49,
   "metadata": {},
   "outputs": [
    {
     "name": "stdout",
     "output_type": "stream",
     "text": [
      "Cada una de las 100 épocas contará con  1200 batches de 50 registros\n",
      "Epoca 0, Batch size: 50, costo = 0.0000043939, accuracy=0.9206000000\n",
      "Epoca 10, Batch size: 50, costo = 0.0000004068, accuracy=0.9928166667\n",
      "Epoca 20, Batch size: 50, costo = 0.0000001207, accuracy=0.9987333333\n",
      "Epoca 30, Batch size: 50, costo = 0.0000000398, accuracy=0.9999333333\n",
      "Epoca 40, Batch size: 50, costo = 0.0000000226, accuracy=1.0000000000\n",
      "Epoca 50, Batch size: 50, costo = 0.0000000152, accuracy=1.0000000000\n",
      "Epoca 60, Batch size: 50, costo = 0.0000000113, accuracy=1.0000000000\n",
      "Epoca 70, Batch size: 50, costo = 0.0000000089, accuracy=1.0000000000\n",
      "Epoca 80, Batch size: 50, costo = 0.0000000073, accuracy=1.0000000000\n",
      "Epoca 90, Batch size: 50, costo = 0.0000000062, accuracy=1.0000000000\n",
      "Epoca 100, Batch size: 50, costo = 0.0000000055, accuracy=1.0000000000\n"
     ]
    }
   ],
   "source": [
    "lr = 1 # learning rate sigmoid\n",
    "lr = 1 # learning rate\n",
    "lr = 0.3 # learning rate tanh\n",
    "epocas = 100 # Iteraciones de backpropagation\n",
    "batch_size = 50 # Paquete de registros a considerar para una actualización\n",
    "w1, b1, w2, b2 = initParams()\n",
    "costos_50_03, accuracies_50_03, w1, b1, w2, b2 = entrenarRedMiniBatch(epocas, batch_size, lr, X_train, y_train, w1, b1, w2, b2)"
   ]
  },
  {
   "cell_type": "code",
   "execution_count": 50,
   "metadata": {},
   "outputs": [
    {
     "name": "stdout",
     "output_type": "stream",
     "text": [
      "Cada una de las 100 épocas contará con  1200 batches de 50 registros\n",
      "Epoca 0, Batch size: 50, costo = 0.0000052837, accuracy=0.9061000000\n",
      "Epoca 10, Batch size: 50, costo = 0.0000011809, accuracy=0.9793166667\n",
      "Epoca 20, Batch size: 50, costo = 0.0000005138, accuracy=0.9917833333\n",
      "Epoca 30, Batch size: 50, costo = 0.0000002599, accuracy=0.9973666667\n",
      "Epoca 40, Batch size: 50, costo = 0.0000001515, accuracy=0.9991666667\n",
      "Epoca 50, Batch size: 50, costo = 0.0000000919, accuracy=0.9998166667\n",
      "Epoca 60, Batch size: 50, costo = 0.0000000613, accuracy=0.9999666667\n",
      "Epoca 70, Batch size: 50, costo = 0.0000000454, accuracy=1.0000000000\n",
      "Epoca 80, Batch size: 50, costo = 0.0000000355, accuracy=1.0000000000\n",
      "Epoca 90, Batch size: 50, costo = 0.0000000289, accuracy=1.0000000000\n",
      "Epoca 100, Batch size: 50, costo = 0.0000000246, accuracy=1.0000000000\n"
     ]
    }
   ],
   "source": [
    "lr = 1 # learning rate sigmoid\n",
    "lr = 1 # learning rate\n",
    "lr = 0.1 # learning rate tanh\n",
    "epocas = 100 # Iteraciones de backpropagation\n",
    "batch_size = 50 # Paquete de registros a considerar para una actualización\n",
    "w1, b1, w2, b2 = initParams()\n",
    "costos_50_01, accuracies_50_01, w1, b1, w2, b2 = entrenarRedMiniBatch(epocas, batch_size, lr, X_train, y_train, w1, b1, w2, b2)"
   ]
  },
  {
   "cell_type": "code",
   "execution_count": 51,
   "metadata": {},
   "outputs": [],
   "source": [
    "rango_epocas = np.arange(1, epocas+1)"
   ]
  },
  {
   "cell_type": "code",
   "execution_count": 53,
   "metadata": {},
   "outputs": [
    {
     "data": {
      "text/plain": [
       "Text(0.5,1,'Accuracy X learning rates (batch de 50) (últimas 20 épocas)')"
      ]
     },
     "execution_count": 53,
     "metadata": {},
     "output_type": "execute_result"
    },
    {
     "data": {
      "image/png": "[encoded data removed]",
      "text/plain": [
       "<Figure size 1080x1440 with 8 Axes>"
      ]
     },
     "metadata": {},
     "output_type": "display_data"
    }
   ],
   "source": [
    "import matplotlib.pyplot as plt #gráficos\n",
    "\n",
    "fig, axes = plt.subplots(4, 2, figsize=(15,20))\n",
    "\n",
    "# Left plot\n",
    "axes[0, 0].plot(rango_epocas, costos_60000, color='blue', label='60000')\n",
    "axes[0, 0].plot(rango_epocas, costos_10000, color='lightblue', label='10000')\n",
    "axes[0, 0].plot(rango_epocas, costos_6000, color='firebrick', label='6000')\n",
    "axes[0, 0].plot(rango_epocas, costos_1000, color='red', label='1000')\n",
    "axes[0, 0].plot(rango_epocas, costos_600, color='orange', label='600')\n",
    "axes[0, 0].plot(rango_epocas, costos_50, color='lawngreen', label='50')\n",
    "axes[0, 0].set_ylabel('costo')\n",
    "axes[0, 0].set_xlabel('época')\n",
    "axes[0, 0].legend(loc=1)\n",
    "axes[0, 0].set_title('Costo X batch sizes')\n",
    "\n",
    "# Right plot\n",
    "axes[0, 1].plot(rango_epocas, accuracies_60000, color='blue', label='60000')\n",
    "axes[0, 1].plot(rango_epocas, accuracies_10000, color='lightblue', label='10000')\n",
    "axes[0, 1].plot(rango_epocas, accuracies_6000, color='firebrick', label='6000')\n",
    "axes[0, 1].plot(rango_epocas, accuracies_1000, color='red', label='1000')\n",
    "axes[0, 1].plot(rango_epocas, accuracies_600, color='orange', label='600')\n",
    "axes[0, 1].plot(rango_epocas, accuracies_50, color='lawngreen', label='50')\n",
    "axes[0, 1].set_ylabel('accuracy')\n",
    "axes[0, 1].set_xlabel('época')\n",
    "axes[0, 1].legend(loc=4)\n",
    "axes[0, 1].set_title('Accuracy X batch sizes')\n",
    "\n",
    "# Left plot\n",
    "axes[1, 0].plot(rango_epocas[80:], costos_60000[80:], color='blue', label='60000')\n",
    "axes[1, 0].plot(rango_epocas[80:], costos_10000[80:], color='lightblue', label='10000')\n",
    "axes[1, 0].plot(rango_epocas[80:], costos_6000[80:], color='firebrick', label='6000')\n",
    "axes[1, 0].plot(rango_epocas[80:], costos_1000[80:], color='red', label='1000')\n",
    "axes[1, 0].plot(rango_epocas[80:], costos_600[80:], color='orange', label='600')\n",
    "axes[1, 0].plot(rango_epocas[80:], costos_50[80:], color='lawngreen', label='50')\n",
    "axes[1, 0].set_ylabel('costo')\n",
    "axes[1, 0].set_xlabel('época')\n",
    "axes[1, 0].legend(loc=2)\n",
    "axes[1, 0].set_title('Costo X batch sizes (últimas 20 épocas)')\n",
    "\n",
    "# Right plot\n",
    "axes[1, 1].plot(rango_epocas[80:], accuracies_60000[80:], color='blue', label='60000')\n",
    "axes[1, 1].plot(rango_epocas[80:], accuracies_10000[80:], color='lightblue', label='10000')\n",
    "axes[1, 1].plot(rango_epocas[80:], accuracies_6000[80:], color='firebrick', label='6000')\n",
    "axes[1, 1].plot(rango_epocas[80:], accuracies_1000[80:], color='red', label='1000')\n",
    "axes[1, 1].plot(rango_epocas[80:], accuracies_600[80:], color='orange', label='600')\n",
    "axes[1, 1].plot(rango_epocas[80:], accuracies_50[80:], color='lawngreen', label='50')\n",
    "axes[1, 1].set_ylabel('accuracy')\n",
    "axes[1, 1].set_xlabel('época')\n",
    "axes[1, 1].legend(loc=2)\n",
    "axes[1, 1].set_title('Accuracy X batch sizes (últimas 20 épocas)')\n",
    "\n",
    "# Left plot\n",
    "axes[2, 0].plot(rango_epocas, costos_50_09, color='blue', label='lr=0.9')\n",
    "axes[2, 0].plot(rango_epocas, costos_50_07, color='lightblue', label='lr=0.7')\n",
    "axes[2, 0].plot(rango_epocas, costos_50, color='orange', label='lr=0.5')\n",
    "axes[2, 0].plot(rango_epocas, costos_50_03, color='red', label='lr=0.3')\n",
    "axes[2, 0].plot(rango_epocas, costos_50_01, color='lawngreen', label='lr=0.1')\n",
    "axes[2, 0].set_ylabel('costo')\n",
    "axes[2, 0].set_xlabel('época')\n",
    "axes[2, 0].legend(loc=1)\n",
    "axes[2, 0].set_title('Costo X learning rates (batch de 50)')\n",
    "\n",
    "# Left plot\n",
    "axes[2, 1].plot(rango_epocas, accuracies_50_09, color='blue', label='lr=0.9')\n",
    "axes[2, 1].plot(rango_epocas, accuracies_50_07, color='lightblue', label='lr=0.7')\n",
    "axes[2, 1].plot(rango_epocas, accuracies_50, color='orange', label='lr=0.5')\n",
    "axes[2, 1].plot(rango_epocas, accuracies_50_03, color='red', label='lr=0.3')\n",
    "axes[2, 1].plot(rango_epocas, accuracies_50_01, color='lawngreen', label='lr=0.1')\n",
    "axes[2, 1].set_ylabel('accuracy')\n",
    "axes[2, 1].set_xlabel('época')\n",
    "axes[2, 1].legend(loc=4)\n",
    "axes[2, 1].set_title('Accuracy X learning rates (batch de 50)')\n",
    "\n",
    "# Left plot\n",
    "axes[3, 0].plot(rango_epocas[80:], costos_50_09[80:], color='blue', label='lr=0.9')\n",
    "axes[3, 0].plot(rango_epocas[80:], costos_50_07[80:], color='lightblue', label='lr=0.7')\n",
    "axes[3, 0].plot(rango_epocas[80:], costos_50[80:], color='orange', label='lr=0.5')\n",
    "axes[3, 0].plot(rango_epocas[80:], costos_50_03[80:], color='red', label='lr=0.3')\n",
    "axes[3, 0].plot(rango_epocas[80:], costos_50_01[80:], color='lawngreen', label='lr=0.1')\n",
    "axes[3, 0].set_ylabel('costo')\n",
    "axes[3, 0].set_xlabel('época')\n",
    "axes[3, 0].legend(loc=1)\n",
    "axes[3, 0].set_title('Costo X learning rates (batch de 50) (últimas 20 épocas)')\n",
    "\n",
    "# Left plot\n",
    "axes[3, 1].plot(rango_epocas[80:], accuracies_50_09[80:], color='blue', label='lr=0.9')\n",
    "axes[3, 1].plot(rango_epocas[80:], accuracies_50_07[80:], color='lightblue', label='lr=0.7')\n",
    "axes[3, 1].plot(rango_epocas[80:], accuracies_50[80:], color='orange', label='lr=0.5')\n",
    "axes[3, 1].plot(rango_epocas[80:], accuracies_50_03[80:], color='red', label='lr=0.3')\n",
    "axes[3, 1].plot(rango_epocas[80:], accuracies_50_01[80:], color='lawngreen', label='lr=0.1')\n",
    "axes[3, 1].set_ylabel('accuracy')\n",
    "axes[3, 1].set_xlabel('época')\n",
    "axes[3, 1].legend(loc=4)\n",
    "axes[3, 1].set_title('Accuracy X learning rates (batch de 50) (últimas 20 épocas)')\n"
   ]
  },
  {
   "cell_type": "code",
   "execution_count": null,
   "metadata": {},
   "outputs": [],
   "source": [
    "lr = 1 # learning rate sigmoid\n",
    "lr = 1 # learning rate\n",
    "lr = 0.5 # learning rate tanh\n",
    "epocas = 100 # Iteraciones de backpropagation\n",
    "batch_size = 60000 # Paquete de registros a considerar para una actualización\n",
    "w1, b1, w2, b2 = initParams()\n",
    "costos_60000, accuracies_60000, w1, b1, w2, b2 = entrenarRedMiniBatch(epocas, batch_size, lr, X_train, y_train, w1, b1, w2, b2)\n",
    "\n",
    "lr = 1 # learning rate sigmoid\n",
    "lr = 1 # learning rate\n",
    "lr = 0.5 # learning rate tanh\n",
    "epocas = 100 # Iteraciones de backpropagation\n",
    "batch_size = 10000 # Paquete de registros a considerar para una actualización\n",
    "w1, b1, w2, b2 = initParams()\n",
    "costos_10000, accuracies_10000, w1, b1, w2, b2 = entrenarRedMiniBatch(epocas, batch_size, lr, X_train, y_train, w1, b1, w2, b2)\n",
    "\n",
    "lr = 1 # learning rate sigmoid\n",
    "lr = 1 # learning rate\n",
    "lr = 0.5 # learning rate tanh\n",
    "epocas = 100 # Iteraciones de backpropagation\n",
    "batch_size = 6000 # Paquete de registros a considerar para una actualización\n",
    "w1, b1, w2, b2 = initParams()\n",
    "costos_6000, accuracies_6000, w1, b1, w2, b2 = entrenarRedMiniBatch(epocas, batch_size, lr, X_train, y_train, w1, b1, w2, b2)\n",
    "\n",
    "lr = 1 # learning rate sigmoid\n",
    "lr = 1 # learning rate\n",
    "lr = 0.5 # learning rate tanh\n",
    "epocas = 100 # Iteraciones de backpropagation\n",
    "batch_size = 1000 # Paquete de registros a considerar para una actualización\n",
    "w1, b1, w2, b2 = initParams()\n",
    "costos_1000, accuracies_1000, w1, b1, w2, b2 = entrenarRedMiniBatch(epocas, batch_size, lr, X_train, y_train, w1, b1, w2, b2)\n",
    "\n",
    "lr = 1 # learning rate sigmoid\n",
    "lr = 1 # learning rate\n",
    "lr = 0.5 # learning rate tanh\n",
    "epocas = 100 # Iteraciones de backpropagation\n",
    "batch_size = 600 # Paquete de registros a considerar para una actualización\n",
    "w1, b1, w2, b2 = initParams()\n",
    "costos_600, accuracies_600, w1, b1, w2, b2 = entrenarRedMiniBatch(epocas, batch_size, lr, X_train, y_train, w1, b1, w2, b2)\n",
    "\n",
    "lr = 1 # learning rate sigmoid\n",
    "lr = 1 # learning rate\n",
    "lr = 0.5 # learning rate tanh\n",
    "epocas = 100 # Iteraciones de backpropagation\n",
    "batch_size = 50 # Paquete de registros a considerar para una actualización\n",
    "w1, b1, w2, b2 = initParams()\n",
    "costos_50, accuracies_50, w1, b1, w2, b2 = entrenarRedMiniBatch(epocas, batch_size, lr, X_train, y_train, w1, b1, w2, b2)\n",
    "\n",
    "lr = 1 # learning rate sigmoid\n",
    "lr = 1 # learning rate\n",
    "lr = 0.7 # learning rate tanh\n",
    "epocas = 100 # Iteraciones de backpropagation\n",
    "batch_size = 50 # Paquete de registros a considerar para una actualización\n",
    "w1, b1, w2, b2 = initParams()\n",
    "costos_50_07, accuracies_50_07, w1, b1, w2, b2 = entrenarRedMiniBatch(epocas, batch_size, lr, X_train, y_train, w1, b1, w2, b2)\n",
    "\n",
    "lr = 1 # learning rate sigmoid\n",
    "lr = 1 # learning rate\n",
    "lr = 0.9 # learning rate tanh\n",
    "epocas = 100 # Iteraciones de backpropagation\n",
    "batch_size = 50 # Paquete de registros a considerar para una actualización\n",
    "w1, b1, w2, b2 = initParams()\n",
    "costos_50_09, accuracies_50_09, w1, b1, w2, b2 = entrenarRedMiniBatch(epocas, batch_size, lr, X_train, y_train, w1, b1, w2, b2)\n",
    "\n",
    "lr = 1 # learning rate sigmoid\n",
    "lr = 1 # learning rate\n",
    "lr = 0.3 # learning rate tanh\n",
    "epocas = 100 # Iteraciones de backpropagation\n",
    "batch_size = 50 # Paquete de registros a considerar para una actualización\n",
    "w1, b1, w2, b2 = initParams()\n",
    "costos_50_03, accuracies_50_03, w1, b1, w2, b2 = entrenarRedMiniBatch(epocas, batch_size, lr, X_train, y_train, w1, b1, w2, b2)\n",
    "\n",
    "lr = 1 # learning rate sigmoid\n",
    "lr = 1 # learning rate\n",
    "lr = 0.1 # learning rate tanh\n",
    "epocas = 100 # Iteraciones de backpropagation\n",
    "batch_size = 50 # Paquete de registros a considerar para una actualización\n",
    "w1, b1, w2, b2 = initParams()\n",
    "costos_50_01, accuracies_50_01, w1, b1, w2, b2 = entrenarRedMiniBatch(epocas, batch_size, lr, X_train, y_train, w1, b1, w2, b2)\n",
    "\n",
    "rango_epocas = np.arange(1, epocas+1)\n",
    "\n",
    "import matplotlib.pyplot as plt #gráficos\n",
    "\n",
    "fig, axes = plt.subplots(4, 2, figsize=(15,20))\n",
    "\n",
    "# Left plot\n",
    "axes[0, 0].plot(rango_epocas, costos_60000, color='blue', label='60000')\n",
    "axes[0, 0].plot(rango_epocas, costos_10000, color='lightblue', label='10000')\n",
    "axes[0, 0].plot(rango_epocas, costos_6000, color='firebrick', label='6000')\n",
    "axes[0, 0].plot(rango_epocas, costos_1000, color='red', label='1000')\n",
    "axes[0, 0].plot(rango_epocas, costos_600, color='orange', label='600')\n",
    "axes[0, 0].plot(rango_epocas, costos_50, color='lawngreen', label='50')\n",
    "axes[0, 0].set_ylabel('costo')\n",
    "axes[0, 0].set_xlabel('época')\n",
    "axes[0, 0].legend(loc=1)\n",
    "axes[0, 0].set_title('Costo X batch sizes')\n",
    "\n",
    "# Right plot\n",
    "axes[0, 1].plot(rango_epocas, accuracies_60000, color='blue', label='60000')\n",
    "axes[0, 1].plot(rango_epocas, accuracies_10000, color='lightblue', label='10000')\n",
    "axes[0, 1].plot(rango_epocas, accuracies_6000, color='firebrick', label='6000')\n",
    "axes[0, 1].plot(rango_epocas, accuracies_1000, color='red', label='1000')\n",
    "axes[0, 1].plot(rango_epocas, accuracies_600, color='orange', label='600')\n",
    "axes[0, 1].plot(rango_epocas, accuracies_50, color='lawngreen', label='50')\n",
    "axes[0, 1].set_ylabel('accuracy')\n",
    "axes[0, 1].set_xlabel('época')\n",
    "axes[0, 1].legend(loc=4)\n",
    "axes[0, 1].set_title('Accuracy X batch sizes')\n",
    "\n",
    "# Left plot\n",
    "axes[1, 0].plot(rango_epocas[80:], costos_60000[80:], color='blue', label='60000')\n",
    "axes[1, 0].plot(rango_epocas[80:], costos_10000[80:], color='lightblue', label='10000')\n",
    "axes[1, 0].plot(rango_epocas[80:], costos_6000[80:], color='firebrick', label='6000')\n",
    "axes[1, 0].plot(rango_epocas[80:], costos_1000[80:], color='red', label='1000')\n",
    "axes[1, 0].plot(rango_epocas[80:], costos_600[80:], color='orange', label='600')\n",
    "axes[1, 0].plot(rango_epocas[80:], costos_50[80:], color='lawngreen', label='50')\n",
    "axes[1, 0].set_ylabel('costo')\n",
    "axes[1, 0].set_xlabel('época')\n",
    "axes[1, 0].legend(loc=2)\n",
    "axes[1, 0].set_title('Costo X batch sizes (últimas 20 épocas)')\n",
    "\n",
    "# Right plot\n",
    "axes[1, 1].plot(rango_epocas[80:], accuracies_60000[80:], color='blue', label='60000')\n",
    "axes[1, 1].plot(rango_epocas[80:], accuracies_10000[80:], color='lightblue', label='10000')\n",
    "axes[1, 1].plot(rango_epocas[80:], accuracies_6000[80:], color='firebrick', label='6000')\n",
    "axes[1, 1].plot(rango_epocas[80:], accuracies_1000[80:], color='red', label='1000')\n",
    "axes[1, 1].plot(rango_epocas[80:], accuracies_600[80:], color='orange', label='600')\n",
    "axes[1, 1].plot(rango_epocas[80:], accuracies_50[80:], color='lawngreen', label='50')\n",
    "axes[1, 1].set_ylabel('accuracy')\n",
    "axes[1, 1].set_xlabel('época')\n",
    "axes[1, 1].legend(loc=2)\n",
    "axes[1, 1].set_title('Accuracy X batch sizes (últimas 20 épocas)')\n",
    "\n",
    "# Left plot\n",
    "axes[2, 0].plot(rango_epocas, costos_50_09, color='blue', label='lr=0.9')\n",
    "axes[2, 0].plot(rango_epocas, costos_50_07, color='lightblue', label='lr=0.7')\n",
    "axes[2, 0].plot(rango_epocas, costos_50, color='orange', label='lr=0.5')\n",
    "axes[2, 0].plot(rango_epocas, costos_50_03, color='red', label='lr=0.3')\n",
    "axes[2, 0].plot(rango_epocas, costos_50_01, color='lawngreen', label='lr=0.1')\n",
    "axes[2, 0].set_ylabel('costo')\n",
    "axes[2, 0].set_xlabel('época')\n",
    "axes[2, 0].legend(loc=1)\n",
    "axes[2, 0].set_title('Costo X learning rates (batch de 50)')\n",
    "\n",
    "# Left plot\n",
    "axes[2, 1].plot(rango_epocas, accuracies_50_09, color='blue', label='lr=0.9')\n",
    "axes[2, 1].plot(rango_epocas, accuracies_50_07, color='lightblue', label='lr=0.7')\n",
    "axes[2, 1].plot(rango_epocas, accuracies_50, color='orange', label='lr=0.5')\n",
    "axes[2, 1].plot(rango_epocas, accuracies_50_03, color='red', label='lr=0.3')\n",
    "axes[2, 1].plot(rango_epocas, accuracies_50_01, color='lawngreen', label='lr=0.1')\n",
    "axes[2, 1].set_ylabel('accuracy')\n",
    "axes[2, 1].set_xlabel('época')\n",
    "axes[2, 1].legend(loc=4)\n",
    "axes[2, 1].set_title('Accuracy X learning rates (batch de 50)')\n",
    "\n",
    "# Left plot\n",
    "axes[3, 0].plot(rango_epocas[80:], costos_50_09[80:], color='blue', label='lr=0.9')\n",
    "axes[3, 0].plot(rango_epocas[80:], costos_50_07[80:], color='lightblue', label='lr=0.7')\n",
    "axes[3, 0].plot(rango_epocas[80:], costos_50[80:], color='orange', label='lr=0.5')\n",
    "axes[3, 0].plot(rango_epocas[80:], costos_50_03[80:], color='red', label='lr=0.3')\n",
    "axes[3, 0].plot(rango_epocas[80:], costos_50_01[80:], color='lawngreen', label='lr=0.1')\n",
    "axes[3, 0].set_ylabel('costo')\n",
    "axes[3, 0].set_xlabel('época')\n",
    "axes[3, 0].legend(loc=1)\n",
    "axes[3, 0].set_title('Costo X learning rates (batch de 50) (últimas 20 épocas)')\n",
    "\n",
    "# Left plot\n",
    "axes[3, 1].plot(rango_epocas[80:], accuracies_50_09[80:], color='blue', label='lr=0.9')\n",
    "axes[3, 1].plot(rango_epocas[80:], accuracies_50_07[80:], color='lightblue', label='lr=0.7')\n",
    "axes[3, 1].plot(rango_epocas[80:], accuracies_50[80:], color='orange', label='lr=0.5')\n",
    "axes[3, 1].plot(rango_epocas[80:], accuracies_50_03[80:], color='red', label='lr=0.3')\n",
    "axes[3, 1].plot(rango_epocas[80:], accuracies_50_01[80:], color='lawngreen', label='lr=0.1')\n",
    "axes[3, 1].set_ylabel('accuracy')\n",
    "axes[3, 1].set_xlabel('época')\n",
    "axes[3, 1].legend(loc=4)\n",
    "axes[3, 1].set_title('Accuracy X learning rates (batch de 50) (últimas 20 épocas)')\n"
   ]
  }
 ],
 "metadata": {
  "kernelspec": {
   "display_name": "Python 3",
   "language": "python",
   "name": "python3"
  },
  "language_info": {
   "codemirror_mode": {
    "name": "ipython",
    "version": 3
   },
   "file_extension": ".py",
   "mimetype": "text/x-python",
   "name": "python",
   "nbconvert_exporter": "python",
   "pygments_lexer": "ipython3",
   "version": "3.6.6"
  }
 },
 "nbformat": 4,
 "nbformat_minor": 2
}
