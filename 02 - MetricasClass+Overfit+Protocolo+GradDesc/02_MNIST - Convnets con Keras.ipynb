{
 "cells": [
  {
   "cell_type": "markdown",
   "metadata": {},
   "source": [
    "# ML vs. CNNs"
   ]
  },
  {
   "cell_type": "markdown",
   "metadata": {},
   "source": [
    "Imaginen que uds trabajan en el correo, y quieren automatizar el despacho de los paquetes y cartas.\n",
    "\n",
    "Ya disponen de un software que logra capturar las direcciones y separarlas caracter por caracter en imágenes de 8 píxeles x 8 píxeles en escala de grises, tales que 0 es el negro absoluto, y entre mayor el valor más claro el pixel.\n",
    "\n",
    "Ese software además puede inferir, según el lugar de los caracteres en la dirección, si cada caracter es una letra o un dígito, pero su labor se termina ahí. "
   ]
  },
  {
   "cell_type": "markdown",
   "metadata": {},
   "source": [
    "<img src=\"Imagen_0_64x64.png\">"
   ]
  },
  {
   "cell_type": "markdown",
   "metadata": {},
   "source": [
    "Se va a utilizar el dataset de imágenes de dígitos MNIST que viene en la librería de Keras, que presenta 60000+10000 imágenes en escala de grises de tamaño 28x28 pixeles. El dataset de la librería scikit-learn que utilizamos anteriormente tenía imágenes de 8x8 pixeles.\n",
    "\n",
    "La idea de esta aproximación es comparar dos modelos de clasificación: un modelo de Naïve Bayes de machine learning tradicional, y un modelo de redes convolucionales típico de Deep Learning."
   ]
  },
  {
   "cell_type": "markdown",
   "metadata": {},
   "source": [
    "## Obtención y preparación del dataset"
   ]
  },
  {
   "cell_type": "markdown",
   "metadata": {},
   "source": [
    "Los datos vienen separados en dos subconjuntos: uno para entrenar los modelos clasificadores y otro para evaluarlos. Cada dataset viene en una matriz de 3 dimensiones.\n",
    "La primera dimensión de train_images es de 60000, pues hay 60000 imagenes, las 2 siguientes dimensiones son las que dan el tamaño de las imágenes (28x28). Cada valor de la matriz de 28x28 es una valor de gris de 0 a 255 (enteros)."
   ]
  },
  {
   "cell_type": "code",
   "execution_count": 51,
   "metadata": {},
   "outputs": [],
   "source": [
    "import numpy as np\n",
    "from sklearn import metrics\n",
    "from sklearn.naive_bayes import GaussianNB\n",
    "import sklearn.metrics as metrics\n",
    "import pylab as pl"
   ]
  },
  {
   "cell_type": "code",
   "execution_count": 34,
   "metadata": {},
   "outputs": [],
   "source": [
    "import keras\n",
    "from keras.datasets import mnist\n",
    "from keras.utils import to_categorical\n",
    "\n",
    "(train_images, train_labels), (test_images, test_labels) = mnist.load_data()"
   ]
  },
  {
   "cell_type": "code",
   "execution_count": 35,
   "metadata": {},
   "outputs": [
    {
     "data": {
      "text/plain": [
       "(60000, 28, 28)"
      ]
     },
     "execution_count": 35,
     "metadata": {},
     "output_type": "execute_result"
    }
   ],
   "source": [
    "train_images.shape"
   ]
  },
  {
   "cell_type": "code",
   "execution_count": 36,
   "metadata": {},
   "outputs": [
    {
     "data": {
      "text/plain": [
       "(10000, 28, 28)"
      ]
     },
     "execution_count": 36,
     "metadata": {},
     "output_type": "execute_result"
    }
   ],
   "source": [
    "test_images.shape"
   ]
  },
  {
   "cell_type": "markdown",
   "metadata": {},
   "source": [
    "## Modelo Naïve Bayes de ML tradicional"
   ]
  },
  {
   "cell_type": "code",
   "execution_count": 37,
   "metadata": {},
   "outputs": [
    {
     "name": "stdout",
     "output_type": "stream",
     "text": [
      "Se tienen en total: 60000 imágenes de entrenamiento y  10000 de test\n",
      "[[  0   0   0   0   0   0   0   0   0   0   0   0   0   0   0   0   0   0\n",
      "    0   0   0   0   0   0   0   0   0   0]\n",
      " [  0   0   0   0   0   0   0   0   0   0   0   0   0   0   0   0   0   0\n",
      "    0   0   0   0   0   0   0   0   0   0]\n",
      " [  0   0   0   0   0   0   0   0   0   0   0   0   0   0   0   0   0   0\n",
      "    0   0   0   0   0   0   0   0   0   0]\n",
      " [  0   0   0   0   0   0   0   0   0   0   0   0   0   0   0   0   0   0\n",
      "    0   0   0   0   0   0   0   0   0   0]\n",
      " [  0   0   0   0   0   0   0   0   0   0   0   0   0   0   0   0   0  38\n",
      "  190  25   0   0   0   0   0   0   0   0]\n",
      " [  0   0   0  13  25  10   0   0   0   0   0   0   0   0   0   0   0 112\n",
      "  252 125   4   0   0   0   0   0   0   0]\n",
      " [  0   0   0 132 252 113   0   0   0   0   0   0   0   0   0   0   0  61\n",
      "  252 252  36   0   0   0   0   0   0   0]\n",
      " [  0   0   0 132 252 240  79   0   0   0   0   0   0   0   0   0   0  84\n",
      "  252 252  36   0   0   0   0   0   0   0]\n",
      " [  0   0   0 132 252 252 238  52   0   0   0   0   0   0   0   0  12 198\n",
      "  252 252 122   0   0   0   0   0   0   0]\n",
      " [  0   0   0  99 252 252 252 181  17   0   0   0   0   0   0   0  49 252\n",
      "  252 252 122   0   0   0   0   0   0   0]\n",
      " [  0   0   0   3 125 252 252 252 100   0   0   0   0   0   0   0  26 218\n",
      "  252 252  36   0   0   0   0   0   0   0]\n",
      " [  0   0   0   0  15 216 252 252 207  19   0   0   0   0   0   0  49 252\n",
      "  252 252  36   0   0   0   0   0   0   0]\n",
      " [  0   0   0   0   0 157 252 252 252  48   0   0   0   6 109 109 194 252\n",
      "  252 252  36   0   0   0   0   0   0   0]\n",
      " [  0   0   0   0   0 100 252 252 252 105   0  58 116 128 252 252 252 252\n",
      "  252 212  19   0   0   0   0   0   0   0]\n",
      " [  0   0   0   0   0   0 164 253 253 253 253 253 253 255 253 253 253 253\n",
      "  253 253  99   0   0   0   0   0   0   0]\n",
      " [  0   0   0   0   0   0  49 252 252 252 252 252 252 253 252 252 252 252\n",
      "  252 252 155   0   0   0   0   0   0   0]\n",
      " [  0   0   0   0   0   0  49 252 252 252 252 252 252 217 216 141 126 252\n",
      "  252 252 155   0   0   0   0   0   0   0]\n",
      " [  0   0   0   0   0   0  49 252 252 252 234 204  89   0   0   0  49 252\n",
      "  252 252 155   0   0   0   0   0   0   0]\n",
      " [  0   0   0   0   0   0  14 158 192 151  45   0   0   0   0   0  49 252\n",
      "  252 252 225  17   0   0   0   0   0   0]\n",
      " [  0   0   0   0   0   0   0   0   0   0   0   0   0   0   0   0  49 252\n",
      "  252 252 252  23   0   0   0   0   0   0]\n",
      " [  0   0   0   0   0   0   0   0   0   0   0   0   0   0   0   0  33 228\n",
      "  252 252 252 157   4   0   0   0   0   0]\n",
      " [  0   0   0   0   0   0   0   0   0   0   0   0   0   0   0   0   0  55\n",
      "  229 252 252 252  11   0   0   0   0   0]\n",
      " [  0   0   0   0   0   0   0   0   0   0   0   0   0   0   0   0   0   0\n",
      "   53 232 252 252  63   0   0   0   0   0]\n",
      " [  0   0   0   0   0   0   0   0   0   0   0   0   0   0   0   0   0   0\n",
      "    0  90 206 131  11   0   0   0   0   0]\n",
      " [  0   0   0   0   0   0   0   0   0   0   0   0   0   0   0   0   0   0\n",
      "    0   0   0   0   0   0   0   0   0   0]\n",
      " [  0   0   0   0   0   0   0   0   0   0   0   0   0   0   0   0   0   0\n",
      "    0   0   0   0   0   0   0   0   0   0]\n",
      " [  0   0   0   0   0   0   0   0   0   0   0   0   0   0   0   0   0   0\n",
      "    0   0   0   0   0   0   0   0   0   0]\n",
      " [  0   0   0   0   0   0   0   0   0   0   0   0   0   0   0   0   0   0\n",
      "    0   0   0   0   0   0   0   0   0   0]]\n"
     ]
    },
    {
     "data": {
      "text/plain": [
       "<Figure size 432x288 with 0 Axes>"
      ]
     },
     "metadata": {},
     "output_type": "display_data"
    },
    {
     "data": {
      "image/png": "[encoded data removed]",
      "text/plain": [
       "<Figure size 288x288 with 1 Axes>"
      ]
     },
     "metadata": {},
     "output_type": "display_data"
    }
   ],
   "source": [
    "pl.gray() # Queremos las imágenes en grises\n",
    "pl.matshow(train_images[20]) # Imprimir una imagen dada\n",
    "print(\"Se tienen en total:\", len(train_images), \"imágenes de entrenamiento y \", len(test_images), \"de test\")\n",
    "print(train_images[20]) # Ver su representación en pixeles"
   ]
  },
  {
   "cell_type": "code",
   "execution_count": 38,
   "metadata": {},
   "outputs": [
    {
     "name": "stdout",
     "output_type": "stream",
     "text": [
      "4\n"
     ]
    }
   ],
   "source": [
    "y = train_labels\n",
    "print(y[20])"
   ]
  },
  {
   "cell_type": "markdown",
   "metadata": {},
   "source": [
    "Para poder simplificar la representación de los datos, se pueden aplanar las matrices de pixeles para poner cada imagen en un solo array de 64 pixeles:"
   ]
  },
  {
   "cell_type": "code",
   "execution_count": 39,
   "metadata": {},
   "outputs": [
    {
     "name": "stdout",
     "output_type": "stream",
     "text": [
      "[  0   0   0   0   0   0   0   0   0   0   0   0   0   0   0   0   0   0\n",
      "   0   0   0   0   0   0   0   0   0   0   0   0   0   0   0   0   0   0\n",
      "   0   0   0   0   0   0   0   0   0   0   0   0   0   0   0   0   0   0\n",
      "   0   0   0   0   0   0   0   0   0   0   0   0   0   0   0   0   0   0\n",
      "   0   0   0   0   0   0   0   0   0   0   0   0   0   0   0   0   0   0\n",
      "   0   0   0   0   0   0   0   0   0   0   0   0   0   0   0   0   0   0\n",
      "   0   0   0   0   0   0   0   0   0   0   0   0   0   0   0   0   0   0\n",
      "   0   0   0  38 190  25   0   0   0   0   0   0   0   0   0   0   0  13\n",
      "  25  10   0   0   0   0   0   0   0   0   0   0   0 112 252 125   4   0\n",
      "   0   0   0   0   0   0   0   0   0 132 252 113   0   0   0   0   0   0\n",
      "   0   0   0   0   0  61 252 252  36   0   0   0   0   0   0   0   0   0\n",
      "   0 132 252 240  79   0   0   0   0   0   0   0   0   0   0  84 252 252\n",
      "  36   0   0   0   0   0   0   0   0   0   0 132 252 252 238  52   0   0\n",
      "   0   0   0   0   0   0  12 198 252 252 122   0   0   0   0   0   0   0\n",
      "   0   0   0  99 252 252 252 181  17   0   0   0   0   0   0   0  49 252\n",
      " 252 252 122   0   0   0   0   0   0   0   0   0   0   3 125 252 252 252\n",
      " 100   0   0   0   0   0   0   0  26 218 252 252  36   0   0   0   0   0\n",
      "   0   0   0   0   0   0  15 216 252 252 207  19   0   0   0   0   0   0\n",
      "  49 252 252 252  36   0   0   0   0   0   0   0   0   0   0   0   0 157\n",
      " 252 252 252  48   0   0   0   6 109 109 194 252 252 252  36   0   0   0\n",
      "   0   0   0   0   0   0   0   0   0 100 252 252 252 105   0  58 116 128\n",
      " 252 252 252 252 252 212  19   0   0   0   0   0   0   0   0   0   0   0\n",
      "   0   0 164 253 253 253 253 253 253 255 253 253 253 253 253 253  99   0\n",
      "   0   0   0   0   0   0   0   0   0   0   0   0  49 252 252 252 252 252\n",
      " 252 253 252 252 252 252 252 252 155   0   0   0   0   0   0   0   0   0\n",
      "   0   0   0   0  49 252 252 252 252 252 252 217 216 141 126 252 252 252\n",
      " 155   0   0   0   0   0   0   0   0   0   0   0   0   0  49 252 252 252\n",
      " 234 204  89   0   0   0  49 252 252 252 155   0   0   0   0   0   0   0\n",
      "   0   0   0   0   0   0  14 158 192 151  45   0   0   0   0   0  49 252\n",
      " 252 252 225  17   0   0   0   0   0   0   0   0   0   0   0   0   0   0\n",
      "   0   0   0   0   0   0   0   0  49 252 252 252 252  23   0   0   0   0\n",
      "   0   0   0   0   0   0   0   0   0   0   0   0   0   0   0   0   0   0\n",
      "  33 228 252 252 252 157   4   0   0   0   0   0   0   0   0   0   0   0\n",
      "   0   0   0   0   0   0   0   0   0   0   0  55 229 252 252 252  11   0\n",
      "   0   0   0   0   0   0   0   0   0   0   0   0   0   0   0   0   0   0\n",
      "   0   0   0   0  53 232 252 252  63   0   0   0   0   0   0   0   0   0\n",
      "   0   0   0   0   0   0   0   0   0   0   0   0   0   0   0  90 206 131\n",
      "  11   0   0   0   0   0   0   0   0   0   0   0   0   0   0   0   0   0\n",
      "   0   0   0   0   0   0   0   0   0   0   0   0   0   0   0   0   0   0\n",
      "   0   0   0   0   0   0   0   0   0   0   0   0   0   0   0   0   0   0\n",
      "   0   0   0   0   0   0   0   0   0   0   0   0   0   0   0   0   0   0\n",
      "   0   0   0   0   0   0   0   0   0   0   0   0   0   0   0   0   0   0\n",
      "   0   0   0   0   0   0   0   0   0   0   0   0   0   0   0   0   0   0\n",
      "   0   0   0   0   0   0   0   0   0   0]\n"
     ]
    }
   ],
   "source": [
    "X = train_images.reshape((len(train_images), -1)) # se reducen las dimensiones\n",
    "print(X[20])"
   ]
  },
  {
   "cell_type": "code",
   "execution_count": 23,
   "metadata": {},
   "outputs": [],
   "source": [
    "gnb = GaussianNB()\n",
    "fit = gnb.fit(X, y)"
   ]
  },
  {
   "cell_type": "markdown",
   "metadata": {},
   "source": [
    "Se pueden evaluar las clases estimadas por el modelo vs. las clases reales"
   ]
  },
  {
   "cell_type": "code",
   "execution_count": 24,
   "metadata": {},
   "outputs": [
    {
     "name": "stdout",
     "output_type": "stream",
     "text": [
      "Reales   : [5 0 4 1 9 2 1 3 1 4 3 5 3 6 1 7 2 8 6 9 4 0 9 1 1]\n",
      "Estimados: [3 0 4 1 9 8 1 8 1 8 8 8 3 6 1 9 6 1 6 9 3 0 9 1 6]\n"
     ]
    }
   ],
   "source": [
    "y_estimado = fit.predict(X)\n",
    "print(\"Reales   :\", y[0:25])\n",
    "print(\"Estimados:\", y_estimado[0:25])"
   ]
  },
  {
   "cell_type": "markdown",
   "metadata": {},
   "source": [
    "Podemos tener una idea más clara de los casos en los que se equivoca el modelo:"
   ]
  },
  {
   "cell_type": "code",
   "execution_count": 40,
   "metadata": {},
   "outputs": [
    {
     "data": {
      "image/png": "[encoded data removed]",
      "text/plain": [
       "<Figure size 432x288 with 15 Axes>"
      ]
     },
     "metadata": {},
     "output_type": "display_data"
    }
   ],
   "source": [
    "images_and_predictions = list(zip(train_images, y_estimado))\n",
    "for index, (image, prediction) in enumerate(images_and_predictions[:15]):\n",
    "    pl.subplot(3,5, index+1) #se crean los placeholders de 3x5 filasXcolumnas\n",
    "    pl.axis('off')  #se quitan los ejes\n",
    "    pl.imshow(image, cmap=pl.cm.gray_r)\n",
    "    pl.title('Pred: %i' % prediction)\n",
    "plt.show()"
   ]
  },
  {
   "cell_type": "markdown",
   "metadata": {},
   "source": [
    "Nos gustaría tener una idea de la correctitud global del modelo aprendido."
   ]
  },
  {
   "cell_type": "code",
   "execution_count": 41,
   "metadata": {},
   "outputs": [
    {
     "data": {
      "text/plain": [
       "0.5649"
      ]
     },
     "execution_count": 41,
     "metadata": {},
     "output_type": "execute_result"
    }
   ],
   "source": [
    "metrics.accuracy_score(y, y_estimado)"
   ]
  },
  {
   "cell_type": "code",
   "execution_count": 86,
   "metadata": {},
   "outputs": [
    {
     "data": {
      "text/plain": [
       "0.5162161559545535"
      ]
     },
     "execution_count": 86,
     "metadata": {},
     "output_type": "execute_result"
    }
   ],
   "source": [
    "metrics.cohen_kappa_score(y, y_estimado)"
   ]
  },
  {
   "cell_type": "markdown",
   "metadata": {},
   "source": [
    "Recordemos que con el dataset de imágenes de 8x8 pixeles este tipo de clasificadores alcanzaba una correctitud del 85.8%. En este caso con las imágenes de 28x28 solo se logra el 56.5%. \n",
    "Podemos entonces ver las limitaciones de los modelos tradicionales para el tratamiento de datos no estructurados como las imágenes. Además hay que tener en cuenta que estas imágenes están bastante depuradas en el sentido de que no cuentan con más información que la de los dígitos en cuestión, solo tienen un canal de color (escala de grises), los dígitos están centrados y abarcan la totalidad del espacio.\n",
    "\n",
    "Si tuvieramos imágenes un poco más complejas los modelos tradicionales perderían por completo su poder predictivo."
   ]
  },
  {
   "cell_type": "code",
   "execution_count": 82,
   "metadata": {},
   "outputs": [
    {
     "name": "stdout",
     "output_type": "stream",
     "text": [
      "             precision    recall  f1-score   support\n",
      "\n",
      "          0       0.77      0.88      0.82      5923\n",
      "          1       0.81      0.94      0.87      6742\n",
      "          2       0.88      0.30      0.45      5958\n",
      "          3       0.74      0.37      0.49      6131\n",
      "          4       0.84      0.18      0.29      5842\n",
      "          5       0.66      0.06      0.11      5421\n",
      "          6       0.67      0.94      0.78      5918\n",
      "          7       0.91      0.31      0.46      6265\n",
      "          8       0.29      0.65      0.40      5851\n",
      "          9       0.38      0.95      0.54      5949\n",
      "\n",
      "avg / total       0.70      0.56      0.53     60000\n",
      "\n"
     ]
    }
   ],
   "source": [
    "print(metrics.classification_report(y, y_estimado))"
   ]
  },
  {
   "cell_type": "code",
   "execution_count": 85,
   "metadata": {},
   "outputs": [
    {
     "data": {
      "text/plain": [
       "array([[5206,    9,   33,   16,    9,   13,  165,    5,  356,  111],\n",
       "       [   4, 6341,   15,   33,    3,   12,   74,    4,  173,   83],\n",
       "       [ 484,  152, 1786,  474,   33,   37, 1443,   17, 1444,   88],\n",
       "       [ 274,  295,   49, 2277,   11,   15,  268,   46, 2274,  622],\n",
       "       [ 114,   39,   49,   33, 1027,   35,  483,   21, 1259, 2782],\n",
       "       [ 525,  122,   33,  125,   34,  336,  273,   11, 3411,  551],\n",
       "       [  47,   92,   25,    3,    4,   19, 5572,    0,  148,    8],\n",
       "       [  27,   36,    9,   54,   51,    8,   15, 1919,  190, 3956],\n",
       "       [  88,  722,   23,   51,   19,   33,   80,    6, 3802, 1027],\n",
       "       [  30,   31,   17,    7,   33,    4,    4,   83,  112, 5628]],\n",
       "      dtype=int64)"
      ]
     },
     "execution_count": 85,
     "metadata": {},
     "output_type": "execute_result"
    },
    {
     "data": {
      "image/png": "[encoded data removed]",
      "text/plain": [
       "<Figure size 432x288 with 2 Axes>"
      ]
     },
     "metadata": {},
     "output_type": "display_data"
    }
   ],
   "source": [
    "cm= metrics.confusion_matrix(y, y_estimado)\n",
    "plt.imshow(cm, cmap=plt.cm.Blues)\n",
    "plt.title(\"Matriz de confusión - CNN\")\n",
    "plt.colorbar()\n",
    "tick_marks = np.arange(3)\n",
    "cm"
   ]
  },
  {
   "cell_type": "markdown",
   "metadata": {},
   "source": [
    "## Modelo Convolucional"
   ]
  },
  {
   "cell_type": "markdown",
   "metadata": {},
   "source": [
    "Vamos ahora a aplicar un modelo de redes neuronales convoluncionales (CNN - Convulutional Neural Network).\n",
    "El propósito aquí es solo de ilustración; la explicación del funcionamiento se hará progresivamente a través del curso."
   ]
  },
  {
   "cell_type": "markdown",
   "metadata": {},
   "source": [
    "Necesitamos que los datos de entrenamiento y test estén en el formato dado por la capa de entrada de la red que vamos a definir. El modelo recibirá tensores, matrices multi-dimensionales con el alto de la imagen, el largo de la imagen, y el canal de color, que representarán instancias de imágenes que usan 1 solo canal de color (la escala de grises) que originalmente va de 0 a 255 (enteros)."
   ]
  },
  {
   "cell_type": "markdown",
   "metadata": {},
   "source": [
    "Dado que partimos de un tensor de entrenamiento 60000x28x28, tenemos que agregar el cuarto eje al tensor (con una sola dimensión, con el único canal de color), vamos además a normalizar la escala de grises con valores float que vayan de 0 a 1.\n",
    "\n",
    "Finalmente, convertimos los labels de arrays one hot encoded."
   ]
  },
  {
   "cell_type": "code",
   "execution_count": 43,
   "metadata": {},
   "outputs": [
    {
     "data": {
      "text/plain": [
       "array([0., 0., 0., 0., 0., 1., 0., 0., 0., 0.], dtype=float32)"
      ]
     },
     "execution_count": 43,
     "metadata": {},
     "output_type": "execute_result"
    }
   ],
   "source": [
    "train_images = train_images.reshape((60000, 28, 28, 1))\n",
    "train_images = train_images.astype('float32') / 255\n",
    "\n",
    "test_images = test_images.reshape((10000, 28, 28, 1))\n",
    "test_images = test_images.astype('float32') / 255\n",
    "\n",
    "train_labels = to_categorical(train_labels)\n",
    "test_labels = to_categorical(test_labels)\n",
    "\n",
    "train_labels[0]"
   ]
  },
  {
   "cell_type": "markdown",
   "metadata": {},
   "source": [
    "Vamos a definir un modelo:\n",
    "* que recibe un tensor con las instancias de imágen con tres ejes con la dimensionalidad (28, 28, 1), \n",
    "* con 3 capas convolucionales 2D, la primera con 32 filtros de 3x3 utilizando una función de activación RELU, y la segunda con 64 filtros,\n",
    "* con capas intermedias de pooling que toman las salidas de las capas convolucionales, calculando el MAX de los valores de ventanas de 2x2.\n",
    "* con una capa que aplana la salida de las capas convolucionales\n",
    "* con 2 capas densas totalmente conectadas de 64 neuronas y 10 neuronas respectivamente, la primera con una función de activación ReLU y la última sirviendo de capa de salida utilizando una función de activación Softmax."
   ]
  },
  {
   "cell_type": "code",
   "execution_count": 29,
   "metadata": {},
   "outputs": [
    {
     "name": "stdout",
     "output_type": "stream",
     "text": [
      "_________________________________________________________________\n",
      "Layer (type)                 Output Shape              Param #   \n",
      "=================================================================\n",
      "conv2d_4 (Conv2D)            (None, 26, 26, 32)        320       \n",
      "_________________________________________________________________\n",
      "max_pooling2d_3 (MaxPooling2 (None, 13, 13, 32)        0         \n",
      "_________________________________________________________________\n",
      "conv2d_5 (Conv2D)            (None, 11, 11, 64)        18496     \n",
      "_________________________________________________________________\n",
      "max_pooling2d_4 (MaxPooling2 (None, 5, 5, 64)          0         \n",
      "_________________________________________________________________\n",
      "conv2d_6 (Conv2D)            (None, 3, 3, 64)          36928     \n",
      "_________________________________________________________________\n",
      "flatten_1 (Flatten)          (None, 576)               0         \n",
      "_________________________________________________________________\n",
      "dense_1 (Dense)              (None, 64)                36928     \n",
      "_________________________________________________________________\n",
      "dense_2 (Dense)              (None, 10)                650       \n",
      "=================================================================\n",
      "Total params: 93,322\n",
      "Trainable params: 93,322\n",
      "Non-trainable params: 0\n",
      "_________________________________________________________________\n"
     ]
    }
   ],
   "source": [
    "from keras import layers\n",
    "from keras import models\n",
    "\n",
    "model = models.Sequential()\n",
    "model.add(layers.Conv2D(32, (3, 3), activation='relu', input_shape=(28, 28, 1)))\n",
    "model.add(layers.MaxPooling2D((2, 2)))\n",
    "model.add(layers.Conv2D(64, (3, 3), activation='relu'))\n",
    "model.add(layers.MaxPooling2D((2, 2)))\n",
    "model.add(layers.Conv2D(64, (3, 3), activation='relu'))\n",
    "\n",
    "model.add(layers.Flatten())\n",
    "model.add(layers.Dense(64, activation='relu'))\n",
    "model.add(layers.Dense(10, activation='softmax'))\n",
    "\n",
    "model.summary()"
   ]
  },
  {
   "cell_type": "markdown",
   "metadata": {},
   "source": [
    "Podemos ver que el total de parámetros para esta \"sencilla\" red es ya de 93322!\n",
    "Por ahora solo hemos definido la arquitectura de la red. Vamos ahora a compilarla y a entrenarla con el dataset de training. Utilizamos un **optimizador** rmsprop modifica los valores de los parámetros teniendo en cuenta una **funcion de costo** que se quiere minimizar (ya hablaremos de esto en detalle más adelante). "
   ]
  },
  {
   "cell_type": "code",
   "execution_count": 30,
   "metadata": {},
   "outputs": [
    {
     "name": "stdout",
     "output_type": "stream",
     "text": [
      "Epoch 1/5\n",
      "60000/60000 [==============================] - 48s 793us/step - loss: 0.1705 - acc: 0.9463\n",
      "Epoch 2/5\n",
      "60000/60000 [==============================] - 52s 868us/step - loss: 0.0477 - acc: 0.98460s - loss: 0.0478 - \n",
      "Epoch 3/5\n",
      "60000/60000 [==============================] - 53s 876us/step - loss: 0.0334 - acc: 0.9895\n",
      "Epoch 4/5\n",
      "60000/60000 [==============================] - 50s 833us/step - loss: 0.0256 - acc: 0.9922\n",
      "Epoch 5/5\n",
      "60000/60000 [==============================] - 49s 822us/step - loss: 0.0201 - acc: 0.9936\n"
     ]
    },
    {
     "data": {
      "text/plain": [
       "<keras.callbacks.History at 0x236950aabe0>"
      ]
     },
     "execution_count": 30,
     "metadata": {},
     "output_type": "execute_result"
    }
   ],
   "source": [
    "model.compile(optimizer='rmsprop',\n",
    "              loss='categorical_crossentropy',\n",
    "              metrics=['accuracy'])\n",
    "model.fit(train_images, train_labels, epochs=5, batch_size=64)"
   ]
  },
  {
   "cell_type": "markdown",
   "metadata": {},
   "source": [
    "Evaluamos el modelo CNN aprendido con el set de test:"
   ]
  },
  {
   "cell_type": "code",
   "execution_count": 48,
   "metadata": {},
   "outputs": [
    {
     "name": "stdout",
     "output_type": "stream",
     "text": [
      "Se obtienen las 10 probabilidades de cada clase para las 10000 imágenes de test\n"
     ]
    },
    {
     "data": {
      "text/plain": [
       "(10000, 10)"
      ]
     },
     "execution_count": 48,
     "metadata": {},
     "output_type": "execute_result"
    }
   ],
   "source": [
    "predictions = model.predict(test_images)\n",
    "print(\"Se obtienen las 10 probabilidades de cada clase para las 10000 imágenes de test\")\n",
    "predictions.shape"
   ]
  },
  {
   "cell_type": "code",
   "execution_count": 49,
   "metadata": {},
   "outputs": [
    {
     "data": {
      "text/plain": [
       "array([6.9642092e-10, 1.8763027e-09, 1.7930181e-06, 5.7932482e-07,\n",
       "       8.6888523e-09, 1.4104765e-09, 2.3430834e-12, 9.9999714e-01,\n",
       "       3.7093548e-09, 4.2131589e-07], dtype=float32)"
      ]
     },
     "execution_count": 49,
     "metadata": {},
     "output_type": "execute_result"
    }
   ],
   "source": [
    "predictions[0]"
   ]
  },
  {
   "cell_type": "markdown",
   "metadata": {},
   "source": [
    "Encontramos el dígito más probable que corresponde entonces con la clase predicha."
   ]
  },
  {
   "cell_type": "code",
   "execution_count": 74,
   "metadata": {},
   "outputs": [],
   "source": [
    "y_pred = np.argmax(predictions, axis=1)\n",
    "y_test = np.argmax(test_labels, axis=1)"
   ]
  },
  {
   "cell_type": "code",
   "execution_count": 83,
   "metadata": {},
   "outputs": [
    {
     "data": {
      "text/plain": [
       "array([[ 975,    1,    3,    0,    0,    0,    1,    0,    0,    0],\n",
       "       [   0, 1124,    1,    1,    1,    1,    2,    1,    4,    0],\n",
       "       [   0,    0, 1031,    0,    0,    0,    0,    1,    0,    0],\n",
       "       [   0,    0,    1, 1006,    0,    2,    0,    0,    1,    0],\n",
       "       [   0,    0,    0,    0,  973,    0,    2,    0,    0,    7],\n",
       "       [   2,    0,    0,    4,    0,  884,    1,    0,    0,    1],\n",
       "       [   2,    1,    0,    0,    1,    4,  949,    0,    1,    0],\n",
       "       [   0,    2,   18,    0,    0,    0,    0, 1003,    1,    4],\n",
       "       [   1,    0,    3,    0,    0,    1,    0,    0,  966,    3],\n",
       "       [   0,    0,    0,    0,    2,    2,    0,    0,    0, 1005]],\n",
       "      dtype=int64)"
      ]
     },
     "execution_count": 83,
     "metadata": {},
     "output_type": "execute_result"
    },
    {
     "data": {
      "image/png": "[encoded data removed]",
      "text/plain": [
       "<Figure size 432x288 with 2 Axes>"
      ]
     },
     "metadata": {},
     "output_type": "display_data"
    }
   ],
   "source": [
    "cm= metrics.confusion_matrix(y_test, y_pred)\n",
    "plt.imshow(cm, cmap=plt.cm.Blues)\n",
    "plt.title(\"Matriz de confusión - CNN\")\n",
    "plt.colorbar()\n",
    "tick_marks = np.arange(3)\n",
    "cm"
   ]
  },
  {
   "cell_type": "code",
   "execution_count": 78,
   "metadata": {},
   "outputs": [
    {
     "data": {
      "text/plain": [
       "0.9916"
      ]
     },
     "execution_count": 78,
     "metadata": {},
     "output_type": "execute_result"
    }
   ],
   "source": [
    "metrics.accuracy_score(y_test, y_pred)"
   ]
  },
  {
   "cell_type": "code",
   "execution_count": 77,
   "metadata": {},
   "outputs": [
    {
     "name": "stdout",
     "output_type": "stream",
     "text": [
      "             precision    recall  f1-score   support\n",
      "\n",
      "          0       0.99      0.99      0.99       980\n",
      "          1       1.00      0.99      0.99      1135\n",
      "          2       0.98      1.00      0.99      1032\n",
      "          3       1.00      1.00      1.00      1010\n",
      "          4       1.00      0.99      0.99       982\n",
      "          5       0.99      0.99      0.99       892\n",
      "          6       0.99      0.99      0.99       958\n",
      "          7       1.00      0.98      0.99      1028\n",
      "          8       0.99      0.99      0.99       974\n",
      "          9       0.99      1.00      0.99      1009\n",
      "\n",
      "avg / total       0.99      0.99      0.99     10000\n",
      "\n"
     ]
    }
   ],
   "source": [
    "print(metrics.classification_report(y_test, y_pred))"
   ]
  }
 ],
 "metadata": {
  "kernelspec": {
   "display_name": "Python 3",
   "language": "python",
   "name": "python3"
  },
  "language_info": {
   "codemirror_mode": {
    "name": "ipython",
    "version": 3
   },
   "file_extension": ".py",
   "mimetype": "text/x-python",
   "name": "python",
   "nbconvert_exporter": "python",
   "pygments_lexer": "ipython3",
   "version": "3.6.6"
  }
 },
 "nbformat": 4,
 "nbformat_minor": 2
}
