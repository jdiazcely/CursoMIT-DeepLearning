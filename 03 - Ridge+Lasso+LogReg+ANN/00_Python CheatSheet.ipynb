{
 "cells": [
  {
   "cell_type": "markdown",
   "metadata": {},
   "source": [
    "# Python CheatSheet"
   ]
  },
  {
   "cell_type": "markdown",
   "metadata": {},
   "source": [
    "Usualmente queremos realizar operaciones sobre datos y podemos perder mucho tiempo buscando la manera adecuada de lograr lo que deseamos al desconocer el lenguaje."
   ]
  },
  {
   "cell_type": "markdown",
   "metadata": {},
   "source": [
    "Lo primero siempre es importar las librerias que vamos a utilizar"
   ]
  },
  {
   "cell_type": "code",
   "execution_count": 1,
   "metadata": {},
   "outputs": [
    {
     "name": "stderr",
     "output_type": "stream",
     "text": [
      "Using TensorFlow backend.\n"
     ]
    }
   ],
   "source": [
    "import numpy as np #operaciones matriciales y con vectores\n",
    "import pandas as pd #tratamiento de datos\n",
    "#import matplotlib as mpl\n",
    "import matplotlib.pyplot as plt #gráficos y figuras\n",
    "from PIL import Image # operaciones básicas con imágenes\n",
    "\n",
    "from sklearn import datasets #conjuntos de datos de la libreria de ML scikit-learn\n",
    "from keras.datasets import mnist #conjunto de datos con imágenes en escala de grises de la librería Keras para hacer DL"
   ]
  },
  {
   "cell_type": "markdown",
   "metadata": {},
   "source": [
    "## Creación de arrays (tensores) con numpy"
   ]
  },
  {
   "cell_type": "markdown",
   "metadata": {},
   "source": [
    "La librería **numpy** está diseñada para poder ejecutar operaciones matriciales de manera óptima desde el punto de vista de la implementación. El tipo de dato que se utiliza para ello es el array multidimensional (n-dimensional array o *ndarray*).\n",
    "\n",
    "Estos arreglos multidimensionales son los **tensores**, donde cada uno de sus ejes es un **rango** o **rank**, y posee un cierto número de dimensiones."
   ]
  },
  {
   "cell_type": "markdown",
   "metadata": {},
   "source": [
    "Definamos tensores de rango 0, 1, y 2. Se trata de matrices multidimensionales que se definen como numpy arrays."
   ]
  },
  {
   "cell_type": "code",
   "execution_count": 2,
   "metadata": {},
   "outputs": [
    {
     "name": "stdout",
     "output_type": "stream",
     "text": [
      "12 \n",
      " [12  3  6 14] \n",
      " [[ 5 78  2 34  0]\n",
      " [ 6 79  3 35  1]\n",
      " [ 7 80  4 36  2]]\n"
     ]
    }
   ],
   "source": [
    "x = np.array(12)\n",
    "y = np.array([12,3,6,14])\n",
    "z = np.array([[5, 78, 2, 34, 0],\n",
    "              [6, 79, 3, 35, 1],\n",
    "              [7, 80, 4, 36, 2]])\n",
    "print(x, '\\n', y, '\\n', z)"
   ]
  },
  {
   "cell_type": "markdown",
   "metadata": {},
   "source": [
    "Obtener el dimensionamiento (el número de ejes). Los escalares tienen 0 dimensiones, por convención."
   ]
  },
  {
   "cell_type": "code",
   "execution_count": 3,
   "metadata": {},
   "outputs": [
    {
     "name": "stdout",
     "output_type": "stream",
     "text": [
      "0 1 2\n"
     ]
    }
   ],
   "source": [
    "print(x.ndim, y.ndim, z.ndim)"
   ]
  },
  {
   "cell_type": "markdown",
   "metadata": {},
   "source": [
    "Obtener la forma de los tensores"
   ]
  },
  {
   "cell_type": "code",
   "execution_count": 4,
   "metadata": {},
   "outputs": [
    {
     "name": "stdout",
     "output_type": "stream",
     "text": [
      "() (4,) (3, 5)\n"
     ]
    }
   ],
   "source": [
    "print(x.shape, y.shape, z.shape)"
   ]
  },
  {
   "cell_type": "markdown",
   "metadata": {},
   "source": [
    "Se puede dar el caso de que se abuse utilizando el término \"dimensiones\" para referirse al \"rango\" o al número de \"ejes\" de un tensor.\n",
    "\n",
    "El primer tensor es un escalra. el segundo es un array con un eje de 4 dimensiones. El tercero es un tensor de rango 2, con 3 dimensiones en el primer eje y 5 dimensiones en el segundo eje."
   ]
  },
  {
   "cell_type": "markdown",
   "metadata": {},
   "source": [
    "Tipo de datos de los tensores"
   ]
  },
  {
   "cell_type": "code",
   "execution_count": 5,
   "metadata": {},
   "outputs": [
    {
     "name": "stdout",
     "output_type": "stream",
     "text": [
      "int32 int32 int32\n"
     ]
    }
   ],
   "source": [
    "print(x.dtype, y.dtype, z.dtype)"
   ]
  },
  {
   "cell_type": "markdown",
   "metadata": {},
   "source": [
    "# Convenciones de los ejes de los tensores"
   ]
  },
  {
   "cell_type": "markdown",
   "metadata": {},
   "source": [
    "Como primera convención, se considera que el primer eje siempre sera utilizado para separar las instancias, independientemente del tipo de datos (vectores de features, secuencias, imágenes, videos, etc.)"
   ]
  },
  {
   "cell_type": "markdown",
   "metadata": {},
   "source": [
    "Para los datos **vectoriales**, hojas de cálculo clásicas, se tiene que la primera dimensión se usa para las instancias y la segunda para los features"
   ]
  },
  {
   "cell_type": "markdown",
   "metadata": {},
   "source": [
    "Para las **secuencias** o **series temporales**, cada instancia tiene la foto de varios features en varios momentos de tiempo. Se tiene como convención, en el caso de varias instancias de fotos temporales los siguientes ejes:\n",
    "* el primer eje es el de las instancias, como ya se había aclarado\n",
    "* el segundo eje se utiliza para la temporalidad\n",
    "* el tercer eje contiene las features tomadas del instante dado por el segundo eje"
   ]
  },
  {
   "cell_type": "markdown",
   "metadata": {},
   "source": [
    "Para las **imágenes**, al tener un eje para el canal de color, hay dos convenciones diferentes:\n",
    "* *channels-first*: primer eje para instancias, segundo para los canales de color, tercero y cuarto para alto y largo\n",
    "* *channels-last*: primer eje para instancias, segundo para y tercero para alto y largo, cuarto para los canales de color."
   ]
  },
  {
   "cell_type": "markdown",
   "metadata": {},
   "source": [
    "Los **videos** siguen las mismas dos convenciones de las imágenes, teniendo en cuenta que cada frame es una imágen. En el caso de *channels-last*, se tendrían entonces los ejes arreglados de la siguiente manera: instancias, frames, alto, largo, color."
   ]
  },
  {
   "cell_type": "markdown",
   "metadata": {},
   "source": [
    "## Broadcasting"
   ]
  },
  {
   "cell_type": "markdown",
   "metadata": {},
   "source": [
    "Cuando se hacen operaciones element-wise sobre dos tensores (sumas, restas, producto, ...), es posible que uno de los tensores no tenga la dimensionalidad adecuada.\n",
    "Internamente, numpy realiza la operación de broadcasting, que consiste, en los tensores que no tienen dimensionalidad reducida, en reproducir la información disponible a los otros ejes según necesidad."
   ]
  },
  {
   "cell_type": "markdown",
   "metadata": {},
   "source": [
    "Esto consiste en dos etapas: primero se crean los ejes faltantes en el tensor más pequeño, luego este es repetido a lo largo de los nuevos ejes para coincidir con la forma necesaria para la operación"
   ]
  },
  {
   "cell_type": "markdown",
   "metadata": {},
   "source": [
    "Por ejemplo, si vamos a sumar un tensor *x* de 2 ejes con dimensiones (32, 10) y un tensor *y* de un eje con dimensiones (10,), es necesario hacer un broadcasting del tensor *y*, para que quede con las mismas dimensiones de *x*, copiando el contenido de las 10 posiciones de *y* 32 veces. "
   ]
  },
  {
   "cell_type": "markdown",
   "metadata": {},
   "source": [
    "## DataFrames de Pandas"
   ]
  },
  {
   "cell_type": "markdown",
   "metadata": {},
   "source": [
    "La librería **pandas** está construida sobre **numpy** y permite realizar manipulaciones comunes de una manera mucho más fácil y flexible que trabajando directamente sobre numpy arrays. Es muy útil para tareas de EDA (Exploratory Data Analysis).\n",
    "La estuctura ofrecida por pandas es el objeto *DataFrame*."
   ]
  },
  {
   "cell_type": "code",
   "execution_count": 6,
   "metadata": {},
   "outputs": [
    {
     "data": {
      "text/plain": [
       "array([[ 3,  5],\n",
       "       [ 4,  6],\n",
       "       [12,  4],\n",
       "       [ 2,  6]])"
      ]
     },
     "execution_count": 6,
     "metadata": {},
     "output_type": "execute_result"
    }
   ],
   "source": [
    "array = np.array([[3,5], [4,6], [12, 4],[2,6]])\n",
    "array"
   ]
  },
  {
   "cell_type": "code",
   "execution_count": 7,
   "metadata": {},
   "outputs": [
    {
     "data": {
      "text/html": [
       "<div>\n",
       "<style scoped>\n",
       "    .dataframe tbody tr th:only-of-type {\n",
       "        vertical-align: middle;\n",
       "    }\n",
       "\n",
       "    .dataframe tbody tr th {\n",
       "        vertical-align: top;\n",
       "    }\n",
       "\n",
       "    .dataframe thead th {\n",
       "        text-align: right;\n",
       "    }\n",
       "</style>\n",
       "<table border=\"1\" class=\"dataframe\">\n",
       "  <thead>\n",
       "    <tr style=\"text-align: right;\">\n",
       "      <th></th>\n",
       "      <th>0</th>\n",
       "      <th>1</th>\n",
       "    </tr>\n",
       "  </thead>\n",
       "  <tbody>\n",
       "    <tr>\n",
       "      <th>0</th>\n",
       "      <td>3</td>\n",
       "      <td>5</td>\n",
       "    </tr>\n",
       "    <tr>\n",
       "      <th>1</th>\n",
       "      <td>4</td>\n",
       "      <td>6</td>\n",
       "    </tr>\n",
       "    <tr>\n",
       "      <th>2</th>\n",
       "      <td>12</td>\n",
       "      <td>4</td>\n",
       "    </tr>\n",
       "    <tr>\n",
       "      <th>3</th>\n",
       "      <td>2</td>\n",
       "      <td>6</td>\n",
       "    </tr>\n",
       "  </tbody>\n",
       "</table>\n",
       "</div>"
      ],
      "text/plain": [
       "    0  1\n",
       "0   3  5\n",
       "1   4  6\n",
       "2  12  4\n",
       "3   2  6"
      ]
     },
     "execution_count": 7,
     "metadata": {},
     "output_type": "execute_result"
    }
   ],
   "source": [
    "df = pd.DataFrame(array)\n",
    "df"
   ]
  },
  {
   "cell_type": "markdown",
   "metadata": {},
   "source": [
    "Una de las operaciones más importantes es consultar las dimensiones de las estructuras de datos (método *shape* de las mismas), así como su tipo (método global *type*)."
   ]
  },
  {
   "cell_type": "code",
   "execution_count": 8,
   "metadata": {},
   "outputs": [
    {
     "name": "stdout",
     "output_type": "stream",
     "text": [
      "array.shape =  (4, 2)\n",
      "df.shape =  (4, 2)\n",
      "type(array) =  <class 'numpy.ndarray'>\n",
      "type(df) =  <class 'pandas.core.frame.DataFrame'>\n"
     ]
    }
   ],
   "source": [
    "print(\"array.shape = \", array.shape)\n",
    "print(\"df.shape = \", df.shape)\n",
    "print(\"type(array) = \", type(array))\n",
    "print(\"type(df) = \", type(df))"
   ]
  },
  {
   "cell_type": "markdown",
   "metadata": {},
   "source": [
    "# Funciones"
   ]
  },
  {
   "cell_type": "markdown",
   "metadata": {},
   "source": [
    "Podemos definir funciones con parámetros de entrada y salida, que se podrán reutilizar al llamarlas desde diferentes partes del código. Por ejemplo, definamos la función sigmoide, muy usada en el contexto de la regresión logística y las redes neuronales tradicionales y profundas.\n",
    "\n",
    "Existe una librería **math** que permite realizar operaciones matemáticas como las funciones logarítmicas o exponenciales. El problea es que no permite la aplicación de sus funciones a estructuras de datos como los arrays. Esa es otra de las funciones de la librería **numpy**. Para la definición de la función sigmoide vamos entonces a utilizar *np.exp()* en vez de *math.exp()*."
   ]
  },
  {
   "cell_type": "code",
   "execution_count": 9,
   "metadata": {},
   "outputs": [],
   "source": [
    "def sigmoide(x):\n",
    "    \"\"\"\n",
    "    Calcular el sigmoide de x.\n",
    "\n",
    "    Argumentos:\n",
    "    x -- un número o un numpy.ndarray de números de cualquier tamaño\n",
    "\n",
    "    Retorna:\n",
    "    s -- en el caso de una entrada escalar, retorna el valor escalar sigmoide correspondiente\n",
    "         en el caso de una entrada ndarray, retorna el ndarray con los valroes sigmoides correspondientes\n",
    "    \"\"\"\n",
    "    \n",
    "    return  1/(1 + np.exp(-x))"
   ]
  },
  {
   "cell_type": "markdown",
   "metadata": {},
   "source": [
    "Se puede invocar la función para un valor dado:"
   ]
  },
  {
   "cell_type": "code",
   "execution_count": 10,
   "metadata": {},
   "outputs": [
    {
     "name": "stdout",
     "output_type": "stream",
     "text": [
      "sigmoide(-1)= 0.2689414213699951\n",
      "sigmoide(0)= 0.5\n",
      "sigmoide(1)= 0.7310585786300049\n",
      "sigmoide([-1, 0, 1])= [0.26894142 0.5        0.73105858]\n"
     ]
    }
   ],
   "source": [
    "print(\"sigmoide(-1)=\", sigmoide(-1))\n",
    "print(\"sigmoide(0)=\", sigmoide(0))\n",
    "print(\"sigmoide(1)=\", sigmoide(1))\n",
    "print(\"sigmoide([-1, 0, 1])=\", sigmoide(np.array([-1, 0, 1])))"
   ]
  },
  {
   "cell_type": "markdown",
   "metadata": {},
   "source": [
    "Ahora implementemos la función softmax"
   ]
  },
  {
   "cell_type": "code",
   "execution_count": 11,
   "metadata": {},
   "outputs": [
    {
     "name": "stdout",
     "output_type": "stream",
     "text": [
      "softmax([3.0, 1.0, 0.2])                =  [0.8360188  0.11314284 0.05083836]\n",
      "softmax([3.0, 2.9, 2.8])                =  [0.3671654  0.33222499 0.30060961]\n",
      "softmax([3.0, 0.2, 0.1])                =  [0.89619123 0.05449744 0.04931133]\n",
      "softmax([3.0, 0.02, 0.01])              =  [0.908199 0.04613  0.045671]\n",
      "softmax([3.0, 0.0002, 0.0001])          =  [0.90943064 0.04528694 0.04528241]\n",
      "softmax([3.0, 0.00000002, 0.00000001])  =  [0.909443  0.0452785 0.0452785]\n",
      "softmax([30.0, 0.00000002, 0.00000001]) =  [1.00000000e+00 9.35762316e-14 9.35762306e-14]\n"
     ]
    }
   ],
   "source": [
    "def softmax(x):\n",
    "    \"\"\"\n",
    "    Calcular los valores softmax de x\n",
    "    \n",
    "    Argumentos:\n",
    "    x -- un numpy.ndarray de la estructura de entrada\n",
    "\n",
    "    Retorna:\n",
    "    sm -- un ndarray \n",
    "    \"\"\"\n",
    "    \n",
    "    e_x = np.exp(x - np.max(x))\n",
    "    return e_x / e_x.sum()\n",
    "\n",
    "print(\"softmax([3.0, 1.0, 0.2])                = \", softmax([3.0, 1.0, 0.2]))\n",
    "print(\"softmax([3.0, 2.9, 2.8])                = \", softmax([3.0, 2.9, 2.8]))\n",
    "print(\"softmax([3.0, 0.2, 0.1])                = \", softmax([3.0, 0.2, 0.1]))\n",
    "print(\"softmax([3.0, 0.02, 0.01])              = \", softmax([3.0, 0.02, 0.01]))\n",
    "print(\"softmax([3.0, 0.0002, 0.0001])          = \", softmax([3.0, 0.0002, 0.0001]))\n",
    "print(\"softmax([3.0, 0.00000002, 0.00000001])  = \", softmax([3.0, 0.00000002, 0.00000001]))\n",
    "print(\"softmax([30.0, 0.00000002, 0.00000001]) = \", softmax([30.0, 0.00000002, 0.00000001]))"
   ]
  },
  {
   "cell_type": "markdown",
   "metadata": {},
   "source": [
    "# Manipulación de estructuras de datos"
   ]
  },
  {
   "cell_type": "markdown",
   "metadata": {},
   "source": [
    "Vamos a cargar el dataset iris. Este dataset está incluido en la librería **datasets**, en forma de un objeto que tiene varios atributos. Nos interesan particularmente:\n",
    "- data: los valores de los registros de las variables independientes\n",
    "- target: los valores de las categorías (de flores) de los registros\n",
    "- feature_names: los nombres de las variables independientes\n",
    "\n",
    "Vamos a cargar cada uno de estos atributos en variables *DataFrame*, y a utilizar funciones como describe(), info(), head() y los atributos shape, size y dtypes, que nos dan más información acerca de los *DataFrames* y sus contenidos."
   ]
  },
  {
   "cell_type": "code",
   "execution_count": 12,
   "metadata": {},
   "outputs": [],
   "source": [
    "iris = datasets.load_iris()\n",
    "X = pd.DataFrame(iris.data)\n",
    "y = pd.DataFrame(iris.target)\n",
    "X.columns=iris.feature_names"
   ]
  },
  {
   "cell_type": "code",
   "execution_count": 13,
   "metadata": {},
   "outputs": [
    {
     "data": {
      "text/html": [
       "<div>\n",
       "<style scoped>\n",
       "    .dataframe tbody tr th:only-of-type {\n",
       "        vertical-align: middle;\n",
       "    }\n",
       "\n",
       "    .dataframe tbody tr th {\n",
       "        vertical-align: top;\n",
       "    }\n",
       "\n",
       "    .dataframe thead th {\n",
       "        text-align: right;\n",
       "    }\n",
       "</style>\n",
       "<table border=\"1\" class=\"dataframe\">\n",
       "  <thead>\n",
       "    <tr style=\"text-align: right;\">\n",
       "      <th></th>\n",
       "      <th>sepal length (cm)</th>\n",
       "      <th>sepal width (cm)</th>\n",
       "      <th>petal length (cm)</th>\n",
       "      <th>petal width (cm)</th>\n",
       "    </tr>\n",
       "  </thead>\n",
       "  <tbody>\n",
       "    <tr>\n",
       "      <th>0</th>\n",
       "      <td>5.1</td>\n",
       "      <td>3.5</td>\n",
       "      <td>1.4</td>\n",
       "      <td>0.2</td>\n",
       "    </tr>\n",
       "    <tr>\n",
       "      <th>1</th>\n",
       "      <td>4.9</td>\n",
       "      <td>3.0</td>\n",
       "      <td>1.4</td>\n",
       "      <td>0.2</td>\n",
       "    </tr>\n",
       "    <tr>\n",
       "      <th>2</th>\n",
       "      <td>4.7</td>\n",
       "      <td>3.2</td>\n",
       "      <td>1.3</td>\n",
       "      <td>0.2</td>\n",
       "    </tr>\n",
       "    <tr>\n",
       "      <th>3</th>\n",
       "      <td>4.6</td>\n",
       "      <td>3.1</td>\n",
       "      <td>1.5</td>\n",
       "      <td>0.2</td>\n",
       "    </tr>\n",
       "    <tr>\n",
       "      <th>4</th>\n",
       "      <td>5.0</td>\n",
       "      <td>3.6</td>\n",
       "      <td>1.4</td>\n",
       "      <td>0.2</td>\n",
       "    </tr>\n",
       "  </tbody>\n",
       "</table>\n",
       "</div>"
      ],
      "text/plain": [
       "   sepal length (cm)  sepal width (cm)  petal length (cm)  petal width (cm)\n",
       "0                5.1               3.5                1.4               0.2\n",
       "1                4.9               3.0                1.4               0.2\n",
       "2                4.7               3.2                1.3               0.2\n",
       "3                4.6               3.1                1.5               0.2\n",
       "4                5.0               3.6                1.4               0.2"
      ]
     },
     "execution_count": 13,
     "metadata": {},
     "output_type": "execute_result"
    }
   ],
   "source": [
    "X.head()"
   ]
  },
  {
   "cell_type": "code",
   "execution_count": 14,
   "metadata": {},
   "outputs": [
    {
     "data": {
      "text/html": [
       "<div>\n",
       "<style scoped>\n",
       "    .dataframe tbody tr th:only-of-type {\n",
       "        vertical-align: middle;\n",
       "    }\n",
       "\n",
       "    .dataframe tbody tr th {\n",
       "        vertical-align: top;\n",
       "    }\n",
       "\n",
       "    .dataframe thead th {\n",
       "        text-align: right;\n",
       "    }\n",
       "</style>\n",
       "<table border=\"1\" class=\"dataframe\">\n",
       "  <thead>\n",
       "    <tr style=\"text-align: right;\">\n",
       "      <th></th>\n",
       "      <th>0</th>\n",
       "    </tr>\n",
       "  </thead>\n",
       "  <tbody>\n",
       "    <tr>\n",
       "      <th>0</th>\n",
       "      <td>0</td>\n",
       "    </tr>\n",
       "    <tr>\n",
       "      <th>1</th>\n",
       "      <td>0</td>\n",
       "    </tr>\n",
       "    <tr>\n",
       "      <th>2</th>\n",
       "      <td>0</td>\n",
       "    </tr>\n",
       "    <tr>\n",
       "      <th>3</th>\n",
       "      <td>0</td>\n",
       "    </tr>\n",
       "    <tr>\n",
       "      <th>4</th>\n",
       "      <td>0</td>\n",
       "    </tr>\n",
       "  </tbody>\n",
       "</table>\n",
       "</div>"
      ],
      "text/plain": [
       "   0\n",
       "0  0\n",
       "1  0\n",
       "2  0\n",
       "3  0\n",
       "4  0"
      ]
     },
     "execution_count": 14,
     "metadata": {},
     "output_type": "execute_result"
    }
   ],
   "source": [
    "y.head()"
   ]
  },
  {
   "cell_type": "code",
   "execution_count": 15,
   "metadata": {},
   "outputs": [
    {
     "name": "stdout",
     "output_type": "stream",
     "text": [
      "X.shape=  (150, 4)\n",
      "X.size=  600\n",
      "X.dtypes=  sepal length (cm)    float64\n",
      "sepal width (cm)     float64\n",
      "petal length (cm)    float64\n",
      "petal width (cm)     float64\n",
      "dtype: object\n",
      "\n",
      "\n",
      "y.shape=  (150, 1)\n",
      "y.size=  150\n",
      "y.dtypes=  0    int32\n",
      "dtype: object\n"
     ]
    }
   ],
   "source": [
    "print(\"X.shape= \", X.shape)\n",
    "print(\"X.size= \", X.size)\n",
    "print(\"X.dtypes= \", X.dtypes)\n",
    "print(\"\\n\")\n",
    "print(\"y.shape= \", y.shape)\n",
    "print(\"y.size= \", y.size)\n",
    "print(\"y.dtypes= \", y.dtypes)"
   ]
  },
  {
   "cell_type": "code",
   "execution_count": 16,
   "metadata": {},
   "outputs": [
    {
     "data": {
      "text/html": [
       "<div>\n",
       "<style scoped>\n",
       "    .dataframe tbody tr th:only-of-type {\n",
       "        vertical-align: middle;\n",
       "    }\n",
       "\n",
       "    .dataframe tbody tr th {\n",
       "        vertical-align: top;\n",
       "    }\n",
       "\n",
       "    .dataframe thead th {\n",
       "        text-align: right;\n",
       "    }\n",
       "</style>\n",
       "<table border=\"1\" class=\"dataframe\">\n",
       "  <thead>\n",
       "    <tr style=\"text-align: right;\">\n",
       "      <th></th>\n",
       "      <th>sepal length (cm)</th>\n",
       "      <th>sepal width (cm)</th>\n",
       "      <th>petal length (cm)</th>\n",
       "      <th>petal width (cm)</th>\n",
       "    </tr>\n",
       "  </thead>\n",
       "  <tbody>\n",
       "    <tr>\n",
       "      <th>count</th>\n",
       "      <td>150.000000</td>\n",
       "      <td>150.000000</td>\n",
       "      <td>150.000000</td>\n",
       "      <td>150.000000</td>\n",
       "    </tr>\n",
       "    <tr>\n",
       "      <th>mean</th>\n",
       "      <td>5.843333</td>\n",
       "      <td>3.054000</td>\n",
       "      <td>3.758667</td>\n",
       "      <td>1.198667</td>\n",
       "    </tr>\n",
       "    <tr>\n",
       "      <th>std</th>\n",
       "      <td>0.828066</td>\n",
       "      <td>0.433594</td>\n",
       "      <td>1.764420</td>\n",
       "      <td>0.763161</td>\n",
       "    </tr>\n",
       "    <tr>\n",
       "      <th>min</th>\n",
       "      <td>4.300000</td>\n",
       "      <td>2.000000</td>\n",
       "      <td>1.000000</td>\n",
       "      <td>0.100000</td>\n",
       "    </tr>\n",
       "    <tr>\n",
       "      <th>25%</th>\n",
       "      <td>5.100000</td>\n",
       "      <td>2.800000</td>\n",
       "      <td>1.600000</td>\n",
       "      <td>0.300000</td>\n",
       "    </tr>\n",
       "    <tr>\n",
       "      <th>50%</th>\n",
       "      <td>5.800000</td>\n",
       "      <td>3.000000</td>\n",
       "      <td>4.350000</td>\n",
       "      <td>1.300000</td>\n",
       "    </tr>\n",
       "    <tr>\n",
       "      <th>75%</th>\n",
       "      <td>6.400000</td>\n",
       "      <td>3.300000</td>\n",
       "      <td>5.100000</td>\n",
       "      <td>1.800000</td>\n",
       "    </tr>\n",
       "    <tr>\n",
       "      <th>max</th>\n",
       "      <td>7.900000</td>\n",
       "      <td>4.400000</td>\n",
       "      <td>6.900000</td>\n",
       "      <td>2.500000</td>\n",
       "    </tr>\n",
       "  </tbody>\n",
       "</table>\n",
       "</div>"
      ],
      "text/plain": [
       "       sepal length (cm)  sepal width (cm)  petal length (cm)  \\\n",
       "count         150.000000        150.000000         150.000000   \n",
       "mean            5.843333          3.054000           3.758667   \n",
       "std             0.828066          0.433594           1.764420   \n",
       "min             4.300000          2.000000           1.000000   \n",
       "25%             5.100000          2.800000           1.600000   \n",
       "50%             5.800000          3.000000           4.350000   \n",
       "75%             6.400000          3.300000           5.100000   \n",
       "max             7.900000          4.400000           6.900000   \n",
       "\n",
       "       petal width (cm)  \n",
       "count        150.000000  \n",
       "mean           1.198667  \n",
       "std            0.763161  \n",
       "min            0.100000  \n",
       "25%            0.300000  \n",
       "50%            1.300000  \n",
       "75%            1.800000  \n",
       "max            2.500000  "
      ]
     },
     "execution_count": 16,
     "metadata": {},
     "output_type": "execute_result"
    }
   ],
   "source": [
    "X.describe(include=\"all\")"
   ]
  },
  {
   "cell_type": "code",
   "execution_count": 17,
   "metadata": {},
   "outputs": [
    {
     "name": "stdout",
     "output_type": "stream",
     "text": [
      "<class 'pandas.core.frame.DataFrame'>\n",
      "RangeIndex: 150 entries, 0 to 149\n",
      "Data columns (total 4 columns):\n",
      "sepal length (cm)    150 non-null float64\n",
      "sepal width (cm)     150 non-null float64\n",
      "petal length (cm)    150 non-null float64\n",
      "petal width (cm)     150 non-null float64\n",
      "dtypes: float64(4)\n",
      "memory usage: 4.8 KB\n"
     ]
    }
   ],
   "source": [
    "X.info()"
   ]
  },
  {
   "cell_type": "markdown",
   "metadata": {},
   "source": [
    "## Slicing"
   ]
  },
  {
   "cell_type": "markdown",
   "metadata": {},
   "source": [
    "Vamos a utilizar el set de imagenes de MNIST. es un np.array de 60000 imágenes de 28 pixeles por 28 pixeles."
   ]
  },
  {
   "cell_type": "code",
   "execution_count": 18,
   "metadata": {},
   "outputs": [
    {
     "data": {
      "text/plain": [
       "(60000, 28, 28)"
      ]
     },
     "execution_count": 18,
     "metadata": {},
     "output_type": "execute_result"
    }
   ],
   "source": [
    "(train_images, train_labels), (test_images, test_labels) = mnist.load_data()\n",
    "train_images.shape"
   ]
  },
  {
   "cell_type": "markdown",
   "metadata": {},
   "source": [
    "Las coordenadas de los arreglos en numpy empiezan en 0. \n",
    "Al definir un rango, el límite inferior esta incluido, el límite superior no."
   ]
  },
  {
   "cell_type": "code",
   "execution_count": 19,
   "metadata": {},
   "outputs": [
    {
     "data": {
      "text/plain": [
       "(90, 28, 28)"
      ]
     },
     "execution_count": 19,
     "metadata": {},
     "output_type": "execute_result"
    }
   ],
   "source": [
    "# Las imagenes de la 10 a la 99 (90 imágenes). Los \":\" del segundo y tercer eje no son estrictamente necesarios,\n",
    "# sirven para definir los rangos de los ejes para hacer particionamientos de los tensores\n",
    "segmento=train_images[10:100,:,:]\n",
    "segmento.shape"
   ]
  },
  {
   "cell_type": "code",
   "execution_count": 20,
   "metadata": {},
   "outputs": [
    {
     "data": {
      "text/plain": [
       "(60000, 14, 14)"
      ]
     },
     "execution_count": 20,
     "metadata": {},
     "output_type": "execute_result"
    }
   ],
   "source": [
    "# De todas las 60000 imágense me interesan los pixeles de la mitad: \n",
    "# los que comienzan en la esquina 7,7 y terminan en la (28-7), (28,7)\n",
    "segmento=train_images[:,7:-7,7:-7]\n",
    "segmento.shape"
   ]
  },
  {
   "cell_type": "code",
   "execution_count": null,
   "metadata": {},
   "outputs": [],
   "source": []
  },
  {
   "cell_type": "code",
   "execution_count": null,
   "metadata": {},
   "outputs": [],
   "source": []
  },
  {
   "cell_type": "code",
   "execution_count": null,
   "metadata": {},
   "outputs": [],
   "source": []
  },
  {
   "cell_type": "code",
   "execution_count": null,
   "metadata": {},
   "outputs": [],
   "source": []
  },
  {
   "cell_type": "markdown",
   "metadata": {},
   "source": [
    "## Imágenes y el método reshape"
   ]
  },
  {
   "cell_type": "markdown",
   "metadata": {},
   "source": [
    "Vamos a cargar una imágen que tiene 3 dimensiones (número de pixeles de ancho, número de pixeles de alto, número de canales de color (3, RGB)), y vamos a mostrar una transformación que se hace con mucha frecuencia en modelos de análisis de imágenes."
   ]
  },
  {
   "cell_type": "code",
   "execution_count": 21,
   "metadata": {},
   "outputs": [
    {
     "data": {
      "text/plain": [
       "(368, 700, 3)"
      ]
     },
     "execution_count": 21,
     "metadata": {},
     "output_type": "execute_result"
    }
   ],
   "source": [
    "imagen = Image.open(\"gato.jpg\")\n",
    "gato = np.array(imagen)\n",
    "gato.shape"
   ]
  },
  {
   "cell_type": "code",
   "execution_count": 22,
   "metadata": {},
   "outputs": [
    {
     "data": {
      "text/plain": [
       "<matplotlib.image.AxesImage at 0x1db42aa2470>"
      ]
     },
     "execution_count": 22,
     "metadata": {},
     "output_type": "execute_result"
    },
    {
     "data": {
      "image/png": "[encoded data removed]",
      "text/plain": [
       "<Figure size 432x288 with 1 Axes>"
      ]
     },
     "metadata": {},
     "output_type": "display_data"
    }
   ],
   "source": [
    "plt.imshow(imagen)"
   ]
  },
  {
   "cell_type": "markdown",
   "metadata": {},
   "source": [
    "Cada posición de una matriz de 368 pixeles de alto, 700 pixeles de ancho y 3 canales de color, tiene un valor dado.\n",
    "\n",
    "Queremos que cada pixel de cada color sea un atributo, por lo que queremos transformar la estructura de datos para que quede con una sola fila, con todos los valores de color organizados consecutivamente uno a la derecha del otro."
   ]
  },
  {
   "cell_type": "code",
   "execution_count": 28,
   "metadata": {},
   "outputs": [
    {
     "name": "stdout",
     "output_type": "stream",
     "text": [
      "el número de valores que decriben esta imágen es:  772800\n"
     ]
    },
    {
     "data": {
      "text/plain": [
       "(1, 772800)"
      ]
     },
     "execution_count": 28,
     "metadata": {},
     "output_type": "execute_result"
    }
   ],
   "source": [
    "print(\"el número de valores que decriben esta imágen es: \", (gato.shape[0]*gato.shape[1]*gato.shape[2]))\n",
    "gato_plano = gato.reshape(1, -1)\n",
    "gato_plano.shape"
   ]
  }
 ],
 "metadata": {
  "kernelspec": {
   "display_name": "Python 3",
   "language": "python",
   "name": "python3"
  },
  "language_info": {
   "codemirror_mode": {
    "name": "ipython",
    "version": 3
   },
   "file_extension": ".py",
   "mimetype": "text/x-python",
   "name": "python",
   "nbconvert_exporter": "python",
   "pygments_lexer": "ipython3",
   "version": "3.6.6"
  }
 },
 "nbformat": 4,
 "nbformat_minor": 2
}
