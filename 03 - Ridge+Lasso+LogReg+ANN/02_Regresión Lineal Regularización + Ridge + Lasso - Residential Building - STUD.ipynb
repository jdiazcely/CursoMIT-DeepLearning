{
 "cells": [
  {
   "cell_type": "markdown",
   "metadata": {},
   "source": [
    "# Regresión lineal"
   ]
  },
  {
   "cell_type": "markdown",
   "metadata": {},
   "source": [
    "Importamos las librerías que vamos a utilizar"
   ]
  },
  {
   "cell_type": "code",
   "execution_count": 1,
   "metadata": {},
   "outputs": [],
   "source": [
    "import numpy as np #operaciones matriciales y con vectores\n",
    "import pandas as pd #tratamiento de datos\n",
    "import matplotlib.pyplot as plt #gráficos\n",
    "from sklearn import datasets, linear_model #datasets y modelos de aprendizaje automático (ML)\n",
    "from sklearn.model_selection import train_test_split #metodo de particionamiento de datasets para evaluación\n",
    "from sklearn.model_selection import cross_val_score, cross_validate #método para evaluar varios particionamientos de C-V\n",
    "from sklearn.metrics import mean_squared_error, r2_score\n",
    "import seaborn as sns\n",
    "\n",
    "from scipy import stats #para poder hacer cálculos científicos --> valores p\n",
    "import statsmodels.api as sm"
   ]
  },
  {
   "cell_type": "markdown",
   "metadata": {},
   "source": [
    "## Preparación de los datos"
   ]
  },
  {
   "cell_type": "markdown",
   "metadata": {},
   "source": [
    "Vamos a cargar en un **dataframe** de ***pandas*** el datset \"ResidentialBuiliding\" que se encuentra en un archivo EXCEL."
   ]
  },
  {
   "cell_type": "code",
   "execution_count": 2,
   "metadata": {},
   "outputs": [],
   "source": [
    "data = pd.read_excel(\"02_ResidentialBuilding.xlsx\")"
   ]
  },
  {
   "cell_type": "code",
   "execution_count": 3,
   "metadata": {},
   "outputs": [
    {
     "name": "stdout",
     "output_type": "stream",
     "text": [
      "(372, 8)\n"
     ]
    },
    {
     "data": {
      "text/html": [
       "<div>\n",
       "<style scoped>\n",
       "    .dataframe tbody tr th:only-of-type {\n",
       "        vertical-align: middle;\n",
       "    }\n",
       "\n",
       "    .dataframe tbody tr th {\n",
       "        vertical-align: top;\n",
       "    }\n",
       "\n",
       "    .dataframe thead th {\n",
       "        text-align: right;\n",
       "    }\n",
       "</style>\n",
       "<table border=\"1\" class=\"dataframe\">\n",
       "  <thead>\n",
       "    <tr style=\"text-align: right;\">\n",
       "      <th></th>\n",
       "      <th>zipcode</th>\n",
       "      <th>total_floor_area</th>\n",
       "      <th>lot_area</th>\n",
       "      <th>total_cost_preliminary_estimation</th>\n",
       "      <th>duration_construction</th>\n",
       "      <th>price_unit_begining_project</th>\n",
       "      <th>total_population</th>\n",
       "      <th>actual_construction_cost</th>\n",
       "    </tr>\n",
       "  </thead>\n",
       "  <tbody>\n",
       "    <tr>\n",
       "      <th>0</th>\n",
       "      <td>1</td>\n",
       "      <td>3150.0</td>\n",
       "      <td>920.0</td>\n",
       "      <td>598.5</td>\n",
       "      <td>16</td>\n",
       "      <td>1200</td>\n",
       "      <td>41407.0</td>\n",
       "      <td>410</td>\n",
       "    </tr>\n",
       "    <tr>\n",
       "      <th>1</th>\n",
       "      <td>1</td>\n",
       "      <td>7600.0</td>\n",
       "      <td>1140.0</td>\n",
       "      <td>3040.0</td>\n",
       "      <td>23</td>\n",
       "      <td>2900</td>\n",
       "      <td>44835.0</td>\n",
       "      <td>1000</td>\n",
       "    </tr>\n",
       "    <tr>\n",
       "      <th>2</th>\n",
       "      <td>1</td>\n",
       "      <td>4800.0</td>\n",
       "      <td>840.0</td>\n",
       "      <td>480.0</td>\n",
       "      <td>15</td>\n",
       "      <td>630</td>\n",
       "      <td>37933.0</td>\n",
       "      <td>170</td>\n",
       "    </tr>\n",
       "    <tr>\n",
       "      <th>3</th>\n",
       "      <td>1</td>\n",
       "      <td>685.0</td>\n",
       "      <td>202.0</td>\n",
       "      <td>13.7</td>\n",
       "      <td>4</td>\n",
       "      <td>140</td>\n",
       "      <td>8194.0</td>\n",
       "      <td>30</td>\n",
       "    </tr>\n",
       "    <tr>\n",
       "      <th>4</th>\n",
       "      <td>1</td>\n",
       "      <td>3000.0</td>\n",
       "      <td>800.0</td>\n",
       "      <td>1230.0</td>\n",
       "      <td>13</td>\n",
       "      <td>5000</td>\n",
       "      <td>48260.0</td>\n",
       "      <td>700</td>\n",
       "    </tr>\n",
       "  </tbody>\n",
       "</table>\n",
       "</div>"
      ],
      "text/plain": [
       "   zipcode  total_floor_area  lot_area  total_cost_preliminary_estimation  \\\n",
       "0        1            3150.0     920.0                              598.5   \n",
       "1        1            7600.0    1140.0                             3040.0   \n",
       "2        1            4800.0     840.0                              480.0   \n",
       "3        1             685.0     202.0                               13.7   \n",
       "4        1            3000.0     800.0                             1230.0   \n",
       "\n",
       "   duration_construction  price_unit_begining_project  total_population  \\\n",
       "0                     16                         1200           41407.0   \n",
       "1                     23                         2900           44835.0   \n",
       "2                     15                          630           37933.0   \n",
       "3                      4                          140            8194.0   \n",
       "4                     13                         5000           48260.0   \n",
       "\n",
       "   actual_construction_cost  \n",
       "0                       410  \n",
       "1                      1000  \n",
       "2                       170  \n",
       "3                        30  \n",
       "4                       700  "
      ]
     },
     "execution_count": 3,
     "metadata": {},
     "output_type": "execute_result"
    }
   ],
   "source": [
    "print(data.shape)\n",
    "data.head()"
   ]
  },
  {
   "cell_type": "markdown",
   "metadata": {},
   "source": [
    "Hay 372 registros con 8 variables.\n",
    "Vamos a analizar si hay problemas de datos con respecto a valores faltantes y outliers"
   ]
  },
  {
   "cell_type": "code",
   "execution_count": 4,
   "metadata": {},
   "outputs": [
    {
     "data": {
      "text/html": [
       "<div>\n",
       "<style scoped>\n",
       "    .dataframe tbody tr th:only-of-type {\n",
       "        vertical-align: middle;\n",
       "    }\n",
       "\n",
       "    .dataframe tbody tr th {\n",
       "        vertical-align: top;\n",
       "    }\n",
       "\n",
       "    .dataframe thead th {\n",
       "        text-align: right;\n",
       "    }\n",
       "</style>\n",
       "<table border=\"1\" class=\"dataframe\">\n",
       "  <thead>\n",
       "    <tr style=\"text-align: right;\">\n",
       "      <th></th>\n",
       "      <th>count</th>\n",
       "      <th>mean</th>\n",
       "      <th>std</th>\n",
       "      <th>min</th>\n",
       "      <th>25%</th>\n",
       "      <th>50%</th>\n",
       "      <th>75%</th>\n",
       "      <th>max</th>\n",
       "    </tr>\n",
       "  </thead>\n",
       "  <tbody>\n",
       "    <tr>\n",
       "      <th>zipcode</th>\n",
       "      <td>372.0</td>\n",
       "      <td>9.728495</td>\n",
       "      <td>6.563309</td>\n",
       "      <td>1.0</td>\n",
       "      <td>4.0</td>\n",
       "      <td>8.00</td>\n",
       "      <td>17.00</td>\n",
       "      <td>20.0</td>\n",
       "    </tr>\n",
       "    <tr>\n",
       "      <th>total_floor_area</th>\n",
       "      <td>372.0</td>\n",
       "      <td>1729.044355</td>\n",
       "      <td>1802.371491</td>\n",
       "      <td>200.0</td>\n",
       "      <td>720.0</td>\n",
       "      <td>1220.00</td>\n",
       "      <td>2100.00</td>\n",
       "      <td>15670.0</td>\n",
       "    </tr>\n",
       "    <tr>\n",
       "      <th>lot_area</th>\n",
       "      <td>372.0</td>\n",
       "      <td>426.114247</td>\n",
       "      <td>490.076498</td>\n",
       "      <td>60.0</td>\n",
       "      <td>190.0</td>\n",
       "      <td>300.00</td>\n",
       "      <td>490.50</td>\n",
       "      <td>5000.0</td>\n",
       "    </tr>\n",
       "    <tr>\n",
       "      <th>total_cost_preliminary_estimation</th>\n",
       "      <td>372.0</td>\n",
       "      <td>327.904086</td>\n",
       "      <td>563.544337</td>\n",
       "      <td>3.7</td>\n",
       "      <td>67.8</td>\n",
       "      <td>164.70</td>\n",
       "      <td>366.05</td>\n",
       "      <td>7208.2</td>\n",
       "    </tr>\n",
       "    <tr>\n",
       "      <th>duration_construction</th>\n",
       "      <td>372.0</td>\n",
       "      <td>6.266129</td>\n",
       "      <td>2.096495</td>\n",
       "      <td>2.0</td>\n",
       "      <td>5.0</td>\n",
       "      <td>6.00</td>\n",
       "      <td>7.00</td>\n",
       "      <td>23.0</td>\n",
       "    </tr>\n",
       "    <tr>\n",
       "      <th>price_unit_begining_project</th>\n",
       "      <td>372.0</td>\n",
       "      <td>1088.118280</td>\n",
       "      <td>995.826172</td>\n",
       "      <td>40.0</td>\n",
       "      <td>440.0</td>\n",
       "      <td>805.00</td>\n",
       "      <td>1300.00</td>\n",
       "      <td>5700.0</td>\n",
       "    </tr>\n",
       "    <tr>\n",
       "      <th>total_population</th>\n",
       "      <td>372.0</td>\n",
       "      <td>27551.883065</td>\n",
       "      <td>13516.283345</td>\n",
       "      <td>8194.0</td>\n",
       "      <td>12065.0</td>\n",
       "      <td>25758.75</td>\n",
       "      <td>40234.00</td>\n",
       "      <td>49572.0</td>\n",
       "    </tr>\n",
       "    <tr>\n",
       "      <th>actual_construction_cost</th>\n",
       "      <td>372.0</td>\n",
       "      <td>232.647849</td>\n",
       "      <td>162.627656</td>\n",
       "      <td>20.0</td>\n",
       "      <td>110.0</td>\n",
       "      <td>190.00</td>\n",
       "      <td>330.00</td>\n",
       "      <td>1000.0</td>\n",
       "    </tr>\n",
       "  </tbody>\n",
       "</table>\n",
       "</div>"
      ],
      "text/plain": [
       "                                   count          mean           std     min  \\\n",
       "zipcode                            372.0      9.728495      6.563309     1.0   \n",
       "total_floor_area                   372.0   1729.044355   1802.371491   200.0   \n",
       "lot_area                           372.0    426.114247    490.076498    60.0   \n",
       "total_cost_preliminary_estimation  372.0    327.904086    563.544337     3.7   \n",
       "duration_construction              372.0      6.266129      2.096495     2.0   \n",
       "price_unit_begining_project        372.0   1088.118280    995.826172    40.0   \n",
       "total_population                   372.0  27551.883065  13516.283345  8194.0   \n",
       "actual_construction_cost           372.0    232.647849    162.627656    20.0   \n",
       "\n",
       "                                       25%       50%       75%      max  \n",
       "zipcode                                4.0      8.00     17.00     20.0  \n",
       "total_floor_area                     720.0   1220.00   2100.00  15670.0  \n",
       "lot_area                             190.0    300.00    490.50   5000.0  \n",
       "total_cost_preliminary_estimation     67.8    164.70    366.05   7208.2  \n",
       "duration_construction                  5.0      6.00      7.00     23.0  \n",
       "price_unit_begining_project          440.0    805.00   1300.00   5700.0  \n",
       "total_population                   12065.0  25758.75  40234.00  49572.0  \n",
       "actual_construction_cost             110.0    190.00    330.00   1000.0  "
      ]
     },
     "execution_count": 4,
     "metadata": {},
     "output_type": "execute_result"
    }
   ],
   "source": [
    "data.describe().transpose()"
   ]
  },
  {
   "cell_type": "markdown",
   "metadata": {},
   "source": [
    "No hay problemas de valores faltantes.\n",
    "Sin embargo, el zipcode se está considerando como un dato numérico, cuando en realidad es un dato categórico que utiliza una codificación numérica par diferenciar diferentes zonas de la ciudad."
   ]
  },
  {
   "cell_type": "code",
   "execution_count": 5,
   "metadata": {},
   "outputs": [
    {
     "data": {
      "text/html": [
       "<div>\n",
       "<style scoped>\n",
       "    .dataframe tbody tr th:only-of-type {\n",
       "        vertical-align: middle;\n",
       "    }\n",
       "\n",
       "    .dataframe tbody tr th {\n",
       "        vertical-align: top;\n",
       "    }\n",
       "\n",
       "    .dataframe thead th {\n",
       "        text-align: right;\n",
       "    }\n",
       "</style>\n",
       "<table border=\"1\" class=\"dataframe\">\n",
       "  <thead>\n",
       "    <tr style=\"text-align: right;\">\n",
       "      <th></th>\n",
       "      <th>zipcode</th>\n",
       "      <th>total_floor_area</th>\n",
       "      <th>lot_area</th>\n",
       "      <th>total_cost_preliminary_estimation</th>\n",
       "      <th>duration_construction</th>\n",
       "      <th>price_unit_begining_project</th>\n",
       "      <th>total_population</th>\n",
       "      <th>actual_construction_cost</th>\n",
       "    </tr>\n",
       "  </thead>\n",
       "  <tbody>\n",
       "    <tr>\n",
       "      <th>count</th>\n",
       "      <td>372</td>\n",
       "      <td>372.000000</td>\n",
       "      <td>372.000000</td>\n",
       "      <td>372.000000</td>\n",
       "      <td>372.000000</td>\n",
       "      <td>372.000000</td>\n",
       "      <td>372.000000</td>\n",
       "      <td>372.000000</td>\n",
       "    </tr>\n",
       "    <tr>\n",
       "      <th>unique</th>\n",
       "      <td>20</td>\n",
       "      <td>NaN</td>\n",
       "      <td>NaN</td>\n",
       "      <td>NaN</td>\n",
       "      <td>NaN</td>\n",
       "      <td>NaN</td>\n",
       "      <td>NaN</td>\n",
       "      <td>NaN</td>\n",
       "    </tr>\n",
       "    <tr>\n",
       "      <th>top</th>\n",
       "      <td>20</td>\n",
       "      <td>NaN</td>\n",
       "      <td>NaN</td>\n",
       "      <td>NaN</td>\n",
       "      <td>NaN</td>\n",
       "      <td>NaN</td>\n",
       "      <td>NaN</td>\n",
       "      <td>NaN</td>\n",
       "    </tr>\n",
       "    <tr>\n",
       "      <th>freq</th>\n",
       "      <td>33</td>\n",
       "      <td>NaN</td>\n",
       "      <td>NaN</td>\n",
       "      <td>NaN</td>\n",
       "      <td>NaN</td>\n",
       "      <td>NaN</td>\n",
       "      <td>NaN</td>\n",
       "      <td>NaN</td>\n",
       "    </tr>\n",
       "    <tr>\n",
       "      <th>mean</th>\n",
       "      <td>NaN</td>\n",
       "      <td>1729.044355</td>\n",
       "      <td>426.114247</td>\n",
       "      <td>327.904086</td>\n",
       "      <td>6.266129</td>\n",
       "      <td>1088.118280</td>\n",
       "      <td>27551.883065</td>\n",
       "      <td>232.647849</td>\n",
       "    </tr>\n",
       "    <tr>\n",
       "      <th>std</th>\n",
       "      <td>NaN</td>\n",
       "      <td>1802.371491</td>\n",
       "      <td>490.076498</td>\n",
       "      <td>563.544337</td>\n",
       "      <td>2.096495</td>\n",
       "      <td>995.826172</td>\n",
       "      <td>13516.283345</td>\n",
       "      <td>162.627656</td>\n",
       "    </tr>\n",
       "    <tr>\n",
       "      <th>min</th>\n",
       "      <td>NaN</td>\n",
       "      <td>200.000000</td>\n",
       "      <td>60.000000</td>\n",
       "      <td>3.700000</td>\n",
       "      <td>2.000000</td>\n",
       "      <td>40.000000</td>\n",
       "      <td>8194.000000</td>\n",
       "      <td>20.000000</td>\n",
       "    </tr>\n",
       "    <tr>\n",
       "      <th>25%</th>\n",
       "      <td>NaN</td>\n",
       "      <td>720.000000</td>\n",
       "      <td>190.000000</td>\n",
       "      <td>67.800000</td>\n",
       "      <td>5.000000</td>\n",
       "      <td>440.000000</td>\n",
       "      <td>12065.000000</td>\n",
       "      <td>110.000000</td>\n",
       "    </tr>\n",
       "    <tr>\n",
       "      <th>50%</th>\n",
       "      <td>NaN</td>\n",
       "      <td>1220.000000</td>\n",
       "      <td>300.000000</td>\n",
       "      <td>164.700000</td>\n",
       "      <td>6.000000</td>\n",
       "      <td>805.000000</td>\n",
       "      <td>25758.750000</td>\n",
       "      <td>190.000000</td>\n",
       "    </tr>\n",
       "    <tr>\n",
       "      <th>75%</th>\n",
       "      <td>NaN</td>\n",
       "      <td>2100.000000</td>\n",
       "      <td>490.500000</td>\n",
       "      <td>366.050000</td>\n",
       "      <td>7.000000</td>\n",
       "      <td>1300.000000</td>\n",
       "      <td>40234.000000</td>\n",
       "      <td>330.000000</td>\n",
       "    </tr>\n",
       "    <tr>\n",
       "      <th>max</th>\n",
       "      <td>NaN</td>\n",
       "      <td>15670.000000</td>\n",
       "      <td>5000.000000</td>\n",
       "      <td>7208.200000</td>\n",
       "      <td>23.000000</td>\n",
       "      <td>5700.000000</td>\n",
       "      <td>49572.000000</td>\n",
       "      <td>1000.000000</td>\n",
       "    </tr>\n",
       "  </tbody>\n",
       "</table>\n",
       "</div>"
      ],
      "text/plain": [
       "       zipcode  total_floor_area     lot_area  \\\n",
       "count      372        372.000000   372.000000   \n",
       "unique      20               NaN          NaN   \n",
       "top         20               NaN          NaN   \n",
       "freq        33               NaN          NaN   \n",
       "mean       NaN       1729.044355   426.114247   \n",
       "std        NaN       1802.371491   490.076498   \n",
       "min        NaN        200.000000    60.000000   \n",
       "25%        NaN        720.000000   190.000000   \n",
       "50%        NaN       1220.000000   300.000000   \n",
       "75%        NaN       2100.000000   490.500000   \n",
       "max        NaN      15670.000000  5000.000000   \n",
       "\n",
       "        total_cost_preliminary_estimation  duration_construction  \\\n",
       "count                          372.000000             372.000000   \n",
       "unique                                NaN                    NaN   \n",
       "top                                   NaN                    NaN   \n",
       "freq                                  NaN                    NaN   \n",
       "mean                           327.904086               6.266129   \n",
       "std                            563.544337               2.096495   \n",
       "min                              3.700000               2.000000   \n",
       "25%                             67.800000               5.000000   \n",
       "50%                            164.700000               6.000000   \n",
       "75%                            366.050000               7.000000   \n",
       "max                           7208.200000              23.000000   \n",
       "\n",
       "        price_unit_begining_project  total_population  \\\n",
       "count                    372.000000        372.000000   \n",
       "unique                          NaN               NaN   \n",
       "top                             NaN               NaN   \n",
       "freq                            NaN               NaN   \n",
       "mean                    1088.118280      27551.883065   \n",
       "std                      995.826172      13516.283345   \n",
       "min                       40.000000       8194.000000   \n",
       "25%                      440.000000      12065.000000   \n",
       "50%                      805.000000      25758.750000   \n",
       "75%                     1300.000000      40234.000000   \n",
       "max                     5700.000000      49572.000000   \n",
       "\n",
       "        actual_construction_cost  \n",
       "count                 372.000000  \n",
       "unique                       NaN  \n",
       "top                          NaN  \n",
       "freq                         NaN  \n",
       "mean                  232.647849  \n",
       "std                   162.627656  \n",
       "min                    20.000000  \n",
       "25%                   110.000000  \n",
       "50%                   190.000000  \n",
       "75%                   330.000000  \n",
       "max                  1000.000000  "
      ]
     },
     "execution_count": 5,
     "metadata": {},
     "output_type": "execute_result"
    }
   ],
   "source": [
    "data.zipcode = data.zipcode.astype(str)\n",
    "data.columns\n",
    "data.describe(include='all')"
   ]
  },
  {
   "cell_type": "markdown",
   "metadata": {},
   "source": [
    "Es necesario crear variables dummy para cada uno de sus 20 valores."
   ]
  },
  {
   "cell_type": "code",
   "execution_count": 6,
   "metadata": {},
   "outputs": [
    {
     "data": {
      "text/html": [
       "<div>\n",
       "<style scoped>\n",
       "    .dataframe tbody tr th:only-of-type {\n",
       "        vertical-align: middle;\n",
       "    }\n",
       "\n",
       "    .dataframe tbody tr th {\n",
       "        vertical-align: top;\n",
       "    }\n",
       "\n",
       "    .dataframe thead th {\n",
       "        text-align: right;\n",
       "    }\n",
       "</style>\n",
       "<table border=\"1\" class=\"dataframe\">\n",
       "  <thead>\n",
       "    <tr style=\"text-align: right;\">\n",
       "      <th></th>\n",
       "      <th>1</th>\n",
       "      <th>10</th>\n",
       "      <th>11</th>\n",
       "      <th>12</th>\n",
       "      <th>13</th>\n",
       "      <th>14</th>\n",
       "      <th>15</th>\n",
       "      <th>16</th>\n",
       "      <th>17</th>\n",
       "      <th>18</th>\n",
       "      <th>19</th>\n",
       "      <th>2</th>\n",
       "      <th>20</th>\n",
       "      <th>3</th>\n",
       "      <th>4</th>\n",
       "      <th>5</th>\n",
       "      <th>6</th>\n",
       "      <th>7</th>\n",
       "      <th>8</th>\n",
       "      <th>9</th>\n",
       "    </tr>\n",
       "  </thead>\n",
       "  <tbody>\n",
       "    <tr>\n",
       "      <th>0</th>\n",
       "      <td>1</td>\n",
       "      <td>0</td>\n",
       "      <td>0</td>\n",
       "      <td>0</td>\n",
       "      <td>0</td>\n",
       "      <td>0</td>\n",
       "      <td>0</td>\n",
       "      <td>0</td>\n",
       "      <td>0</td>\n",
       "      <td>0</td>\n",
       "      <td>0</td>\n",
       "      <td>0</td>\n",
       "      <td>0</td>\n",
       "      <td>0</td>\n",
       "      <td>0</td>\n",
       "      <td>0</td>\n",
       "      <td>0</td>\n",
       "      <td>0</td>\n",
       "      <td>0</td>\n",
       "      <td>0</td>\n",
       "    </tr>\n",
       "    <tr>\n",
       "      <th>1</th>\n",
       "      <td>1</td>\n",
       "      <td>0</td>\n",
       "      <td>0</td>\n",
       "      <td>0</td>\n",
       "      <td>0</td>\n",
       "      <td>0</td>\n",
       "      <td>0</td>\n",
       "      <td>0</td>\n",
       "      <td>0</td>\n",
       "      <td>0</td>\n",
       "      <td>0</td>\n",
       "      <td>0</td>\n",
       "      <td>0</td>\n",
       "      <td>0</td>\n",
       "      <td>0</td>\n",
       "      <td>0</td>\n",
       "      <td>0</td>\n",
       "      <td>0</td>\n",
       "      <td>0</td>\n",
       "      <td>0</td>\n",
       "    </tr>\n",
       "    <tr>\n",
       "      <th>2</th>\n",
       "      <td>1</td>\n",
       "      <td>0</td>\n",
       "      <td>0</td>\n",
       "      <td>0</td>\n",
       "      <td>0</td>\n",
       "      <td>0</td>\n",
       "      <td>0</td>\n",
       "      <td>0</td>\n",
       "      <td>0</td>\n",
       "      <td>0</td>\n",
       "      <td>0</td>\n",
       "      <td>0</td>\n",
       "      <td>0</td>\n",
       "      <td>0</td>\n",
       "      <td>0</td>\n",
       "      <td>0</td>\n",
       "      <td>0</td>\n",
       "      <td>0</td>\n",
       "      <td>0</td>\n",
       "      <td>0</td>\n",
       "    </tr>\n",
       "    <tr>\n",
       "      <th>3</th>\n",
       "      <td>1</td>\n",
       "      <td>0</td>\n",
       "      <td>0</td>\n",
       "      <td>0</td>\n",
       "      <td>0</td>\n",
       "      <td>0</td>\n",
       "      <td>0</td>\n",
       "      <td>0</td>\n",
       "      <td>0</td>\n",
       "      <td>0</td>\n",
       "      <td>0</td>\n",
       "      <td>0</td>\n",
       "      <td>0</td>\n",
       "      <td>0</td>\n",
       "      <td>0</td>\n",
       "      <td>0</td>\n",
       "      <td>0</td>\n",
       "      <td>0</td>\n",
       "      <td>0</td>\n",
       "      <td>0</td>\n",
       "    </tr>\n",
       "    <tr>\n",
       "      <th>4</th>\n",
       "      <td>1</td>\n",
       "      <td>0</td>\n",
       "      <td>0</td>\n",
       "      <td>0</td>\n",
       "      <td>0</td>\n",
       "      <td>0</td>\n",
       "      <td>0</td>\n",
       "      <td>0</td>\n",
       "      <td>0</td>\n",
       "      <td>0</td>\n",
       "      <td>0</td>\n",
       "      <td>0</td>\n",
       "      <td>0</td>\n",
       "      <td>0</td>\n",
       "      <td>0</td>\n",
       "      <td>0</td>\n",
       "      <td>0</td>\n",
       "      <td>0</td>\n",
       "      <td>0</td>\n",
       "      <td>0</td>\n",
       "    </tr>\n",
       "  </tbody>\n",
       "</table>\n",
       "</div>"
      ],
      "text/plain": [
       "   1  10  11  12  13  14  15  16  17  18  19  2  20  3  4  5  6  7  8  9\n",
       "0  1   0   0   0   0   0   0   0   0   0   0  0   0  0  0  0  0  0  0  0\n",
       "1  1   0   0   0   0   0   0   0   0   0   0  0   0  0  0  0  0  0  0  0\n",
       "2  1   0   0   0   0   0   0   0   0   0   0  0   0  0  0  0  0  0  0  0\n",
       "3  1   0   0   0   0   0   0   0   0   0   0  0   0  0  0  0  0  0  0  0\n",
       "4  1   0   0   0   0   0   0   0   0   0   0  0   0  0  0  0  0  0  0  0"
      ]
     },
     "execution_count": 6,
     "metadata": {},
     "output_type": "execute_result"
    }
   ],
   "source": [
    "dummyCols=pd.get_dummies(data.zipcode)\n",
    "dummyCols.head()"
   ]
  },
  {
   "cell_type": "code",
   "execution_count": 7,
   "metadata": {},
   "outputs": [],
   "source": [
    "dummyCols=pd.get_dummies(data.zipcode)\n",
    "del data['zipcode']"
   ]
  },
  {
   "cell_type": "code",
   "execution_count": 8,
   "metadata": {},
   "outputs": [
    {
     "data": {
      "text/plain": [
       "Index(['zip_1', 'zip_10', 'zip_11', 'zip_12', 'zip_13', 'zip_14', 'zip_15',\n",
       "       'zip_16', 'zip_17', 'zip_18', 'zip_19', 'zip_2', 'zip_20', 'zip_3',\n",
       "       'zip_4', 'zip_5', 'zip_6', 'zip_7', 'zip_8', 'zip_9'],\n",
       "      dtype='object')"
      ]
     },
     "execution_count": 8,
     "metadata": {},
     "output_type": "execute_result"
    }
   ],
   "source": [
    "dummyCols.columns = 'zip_' + dummyCols.columns\n",
    "dummyCols.columns"
   ]
  },
  {
   "cell_type": "code",
   "execution_count": 9,
   "metadata": {},
   "outputs": [],
   "source": [
    "data = data.join(dummyCols)"
   ]
  },
  {
   "cell_type": "code",
   "execution_count": 10,
   "metadata": {},
   "outputs": [
    {
     "data": {
      "text/html": [
       "<div>\n",
       "<style scoped>\n",
       "    .dataframe tbody tr th:only-of-type {\n",
       "        vertical-align: middle;\n",
       "    }\n",
       "\n",
       "    .dataframe tbody tr th {\n",
       "        vertical-align: top;\n",
       "    }\n",
       "\n",
       "    .dataframe thead th {\n",
       "        text-align: right;\n",
       "    }\n",
       "</style>\n",
       "<table border=\"1\" class=\"dataframe\">\n",
       "  <thead>\n",
       "    <tr style=\"text-align: right;\">\n",
       "      <th></th>\n",
       "      <th>count</th>\n",
       "      <th>mean</th>\n",
       "      <th>std</th>\n",
       "      <th>min</th>\n",
       "      <th>25%</th>\n",
       "      <th>50%</th>\n",
       "      <th>75%</th>\n",
       "      <th>max</th>\n",
       "    </tr>\n",
       "  </thead>\n",
       "  <tbody>\n",
       "    <tr>\n",
       "      <th>total_floor_area</th>\n",
       "      <td>372.0</td>\n",
       "      <td>1729.044355</td>\n",
       "      <td>1802.371491</td>\n",
       "      <td>200.0</td>\n",
       "      <td>720.0</td>\n",
       "      <td>1220.00</td>\n",
       "      <td>2100.00</td>\n",
       "      <td>15670.0</td>\n",
       "    </tr>\n",
       "    <tr>\n",
       "      <th>lot_area</th>\n",
       "      <td>372.0</td>\n",
       "      <td>426.114247</td>\n",
       "      <td>490.076498</td>\n",
       "      <td>60.0</td>\n",
       "      <td>190.0</td>\n",
       "      <td>300.00</td>\n",
       "      <td>490.50</td>\n",
       "      <td>5000.0</td>\n",
       "    </tr>\n",
       "    <tr>\n",
       "      <th>total_cost_preliminary_estimation</th>\n",
       "      <td>372.0</td>\n",
       "      <td>327.904086</td>\n",
       "      <td>563.544337</td>\n",
       "      <td>3.7</td>\n",
       "      <td>67.8</td>\n",
       "      <td>164.70</td>\n",
       "      <td>366.05</td>\n",
       "      <td>7208.2</td>\n",
       "    </tr>\n",
       "    <tr>\n",
       "      <th>duration_construction</th>\n",
       "      <td>372.0</td>\n",
       "      <td>6.266129</td>\n",
       "      <td>2.096495</td>\n",
       "      <td>2.0</td>\n",
       "      <td>5.0</td>\n",
       "      <td>6.00</td>\n",
       "      <td>7.00</td>\n",
       "      <td>23.0</td>\n",
       "    </tr>\n",
       "    <tr>\n",
       "      <th>price_unit_begining_project</th>\n",
       "      <td>372.0</td>\n",
       "      <td>1088.118280</td>\n",
       "      <td>995.826172</td>\n",
       "      <td>40.0</td>\n",
       "      <td>440.0</td>\n",
       "      <td>805.00</td>\n",
       "      <td>1300.00</td>\n",
       "      <td>5700.0</td>\n",
       "    </tr>\n",
       "    <tr>\n",
       "      <th>total_population</th>\n",
       "      <td>372.0</td>\n",
       "      <td>27551.883065</td>\n",
       "      <td>13516.283345</td>\n",
       "      <td>8194.0</td>\n",
       "      <td>12065.0</td>\n",
       "      <td>25758.75</td>\n",
       "      <td>40234.00</td>\n",
       "      <td>49572.0</td>\n",
       "    </tr>\n",
       "    <tr>\n",
       "      <th>actual_construction_cost</th>\n",
       "      <td>372.0</td>\n",
       "      <td>232.647849</td>\n",
       "      <td>162.627656</td>\n",
       "      <td>20.0</td>\n",
       "      <td>110.0</td>\n",
       "      <td>190.00</td>\n",
       "      <td>330.00</td>\n",
       "      <td>1000.0</td>\n",
       "    </tr>\n",
       "    <tr>\n",
       "      <th>zip_1</th>\n",
       "      <td>372.0</td>\n",
       "      <td>0.080645</td>\n",
       "      <td>0.272656</td>\n",
       "      <td>0.0</td>\n",
       "      <td>0.0</td>\n",
       "      <td>0.00</td>\n",
       "      <td>0.00</td>\n",
       "      <td>1.0</td>\n",
       "    </tr>\n",
       "    <tr>\n",
       "      <th>zip_10</th>\n",
       "      <td>372.0</td>\n",
       "      <td>0.018817</td>\n",
       "      <td>0.136062</td>\n",
       "      <td>0.0</td>\n",
       "      <td>0.0</td>\n",
       "      <td>0.00</td>\n",
       "      <td>0.00</td>\n",
       "      <td>1.0</td>\n",
       "    </tr>\n",
       "    <tr>\n",
       "      <th>zip_11</th>\n",
       "      <td>372.0</td>\n",
       "      <td>0.010753</td>\n",
       "      <td>0.103275</td>\n",
       "      <td>0.0</td>\n",
       "      <td>0.0</td>\n",
       "      <td>0.00</td>\n",
       "      <td>0.00</td>\n",
       "      <td>1.0</td>\n",
       "    </tr>\n",
       "    <tr>\n",
       "      <th>zip_12</th>\n",
       "      <td>372.0</td>\n",
       "      <td>0.034946</td>\n",
       "      <td>0.183891</td>\n",
       "      <td>0.0</td>\n",
       "      <td>0.0</td>\n",
       "      <td>0.00</td>\n",
       "      <td>0.00</td>\n",
       "      <td>1.0</td>\n",
       "    </tr>\n",
       "    <tr>\n",
       "      <th>zip_13</th>\n",
       "      <td>372.0</td>\n",
       "      <td>0.034946</td>\n",
       "      <td>0.183891</td>\n",
       "      <td>0.0</td>\n",
       "      <td>0.0</td>\n",
       "      <td>0.00</td>\n",
       "      <td>0.00</td>\n",
       "      <td>1.0</td>\n",
       "    </tr>\n",
       "    <tr>\n",
       "      <th>zip_14</th>\n",
       "      <td>372.0</td>\n",
       "      <td>0.056452</td>\n",
       "      <td>0.231103</td>\n",
       "      <td>0.0</td>\n",
       "      <td>0.0</td>\n",
       "      <td>0.00</td>\n",
       "      <td>0.00</td>\n",
       "      <td>1.0</td>\n",
       "    </tr>\n",
       "    <tr>\n",
       "      <th>zip_15</th>\n",
       "      <td>372.0</td>\n",
       "      <td>0.026882</td>\n",
       "      <td>0.161956</td>\n",
       "      <td>0.0</td>\n",
       "      <td>0.0</td>\n",
       "      <td>0.00</td>\n",
       "      <td>0.00</td>\n",
       "      <td>1.0</td>\n",
       "    </tr>\n",
       "    <tr>\n",
       "      <th>zip_16</th>\n",
       "      <td>372.0</td>\n",
       "      <td>0.018817</td>\n",
       "      <td>0.136062</td>\n",
       "      <td>0.0</td>\n",
       "      <td>0.0</td>\n",
       "      <td>0.00</td>\n",
       "      <td>0.00</td>\n",
       "      <td>1.0</td>\n",
       "    </tr>\n",
       "    <tr>\n",
       "      <th>zip_17</th>\n",
       "      <td>372.0</td>\n",
       "      <td>0.056452</td>\n",
       "      <td>0.231103</td>\n",
       "      <td>0.0</td>\n",
       "      <td>0.0</td>\n",
       "      <td>0.00</td>\n",
       "      <td>0.00</td>\n",
       "      <td>1.0</td>\n",
       "    </tr>\n",
       "    <tr>\n",
       "      <th>zip_18</th>\n",
       "      <td>372.0</td>\n",
       "      <td>0.053763</td>\n",
       "      <td>0.225854</td>\n",
       "      <td>0.0</td>\n",
       "      <td>0.0</td>\n",
       "      <td>0.00</td>\n",
       "      <td>0.00</td>\n",
       "      <td>1.0</td>\n",
       "    </tr>\n",
       "    <tr>\n",
       "      <th>zip_19</th>\n",
       "      <td>372.0</td>\n",
       "      <td>0.053763</td>\n",
       "      <td>0.225854</td>\n",
       "      <td>0.0</td>\n",
       "      <td>0.0</td>\n",
       "      <td>0.00</td>\n",
       "      <td>0.00</td>\n",
       "      <td>1.0</td>\n",
       "    </tr>\n",
       "    <tr>\n",
       "      <th>zip_2</th>\n",
       "      <td>372.0</td>\n",
       "      <td>0.067204</td>\n",
       "      <td>0.250713</td>\n",
       "      <td>0.0</td>\n",
       "      <td>0.0</td>\n",
       "      <td>0.00</td>\n",
       "      <td>0.00</td>\n",
       "      <td>1.0</td>\n",
       "    </tr>\n",
       "    <tr>\n",
       "      <th>zip_20</th>\n",
       "      <td>372.0</td>\n",
       "      <td>0.088710</td>\n",
       "      <td>0.284707</td>\n",
       "      <td>0.0</td>\n",
       "      <td>0.0</td>\n",
       "      <td>0.00</td>\n",
       "      <td>0.00</td>\n",
       "      <td>1.0</td>\n",
       "    </tr>\n",
       "    <tr>\n",
       "      <th>zip_3</th>\n",
       "      <td>372.0</td>\n",
       "      <td>0.080645</td>\n",
       "      <td>0.272656</td>\n",
       "      <td>0.0</td>\n",
       "      <td>0.0</td>\n",
       "      <td>0.00</td>\n",
       "      <td>0.00</td>\n",
       "      <td>1.0</td>\n",
       "    </tr>\n",
       "    <tr>\n",
       "      <th>zip_4</th>\n",
       "      <td>372.0</td>\n",
       "      <td>0.088710</td>\n",
       "      <td>0.284707</td>\n",
       "      <td>0.0</td>\n",
       "      <td>0.0</td>\n",
       "      <td>0.00</td>\n",
       "      <td>0.00</td>\n",
       "      <td>1.0</td>\n",
       "    </tr>\n",
       "    <tr>\n",
       "      <th>zip_5</th>\n",
       "      <td>372.0</td>\n",
       "      <td>0.053763</td>\n",
       "      <td>0.225854</td>\n",
       "      <td>0.0</td>\n",
       "      <td>0.0</td>\n",
       "      <td>0.00</td>\n",
       "      <td>0.00</td>\n",
       "      <td>1.0</td>\n",
       "    </tr>\n",
       "    <tr>\n",
       "      <th>zip_6</th>\n",
       "      <td>372.0</td>\n",
       "      <td>0.051075</td>\n",
       "      <td>0.220448</td>\n",
       "      <td>0.0</td>\n",
       "      <td>0.0</td>\n",
       "      <td>0.00</td>\n",
       "      <td>0.00</td>\n",
       "      <td>1.0</td>\n",
       "    </tr>\n",
       "    <tr>\n",
       "      <th>zip_7</th>\n",
       "      <td>372.0</td>\n",
       "      <td>0.056452</td>\n",
       "      <td>0.231103</td>\n",
       "      <td>0.0</td>\n",
       "      <td>0.0</td>\n",
       "      <td>0.00</td>\n",
       "      <td>0.00</td>\n",
       "      <td>1.0</td>\n",
       "    </tr>\n",
       "    <tr>\n",
       "      <th>zip_8</th>\n",
       "      <td>372.0</td>\n",
       "      <td>0.056452</td>\n",
       "      <td>0.231103</td>\n",
       "      <td>0.0</td>\n",
       "      <td>0.0</td>\n",
       "      <td>0.00</td>\n",
       "      <td>0.00</td>\n",
       "      <td>1.0</td>\n",
       "    </tr>\n",
       "    <tr>\n",
       "      <th>zip_9</th>\n",
       "      <td>372.0</td>\n",
       "      <td>0.010753</td>\n",
       "      <td>0.103275</td>\n",
       "      <td>0.0</td>\n",
       "      <td>0.0</td>\n",
       "      <td>0.00</td>\n",
       "      <td>0.00</td>\n",
       "      <td>1.0</td>\n",
       "    </tr>\n",
       "  </tbody>\n",
       "</table>\n",
       "</div>"
      ],
      "text/plain": [
       "                                   count          mean           std     min  \\\n",
       "total_floor_area                   372.0   1729.044355   1802.371491   200.0   \n",
       "lot_area                           372.0    426.114247    490.076498    60.0   \n",
       "total_cost_preliminary_estimation  372.0    327.904086    563.544337     3.7   \n",
       "duration_construction              372.0      6.266129      2.096495     2.0   \n",
       "price_unit_begining_project        372.0   1088.118280    995.826172    40.0   \n",
       "total_population                   372.0  27551.883065  13516.283345  8194.0   \n",
       "actual_construction_cost           372.0    232.647849    162.627656    20.0   \n",
       "zip_1                              372.0      0.080645      0.272656     0.0   \n",
       "zip_10                             372.0      0.018817      0.136062     0.0   \n",
       "zip_11                             372.0      0.010753      0.103275     0.0   \n",
       "zip_12                             372.0      0.034946      0.183891     0.0   \n",
       "zip_13                             372.0      0.034946      0.183891     0.0   \n",
       "zip_14                             372.0      0.056452      0.231103     0.0   \n",
       "zip_15                             372.0      0.026882      0.161956     0.0   \n",
       "zip_16                             372.0      0.018817      0.136062     0.0   \n",
       "zip_17                             372.0      0.056452      0.231103     0.0   \n",
       "zip_18                             372.0      0.053763      0.225854     0.0   \n",
       "zip_19                             372.0      0.053763      0.225854     0.0   \n",
       "zip_2                              372.0      0.067204      0.250713     0.0   \n",
       "zip_20                             372.0      0.088710      0.284707     0.0   \n",
       "zip_3                              372.0      0.080645      0.272656     0.0   \n",
       "zip_4                              372.0      0.088710      0.284707     0.0   \n",
       "zip_5                              372.0      0.053763      0.225854     0.0   \n",
       "zip_6                              372.0      0.051075      0.220448     0.0   \n",
       "zip_7                              372.0      0.056452      0.231103     0.0   \n",
       "zip_8                              372.0      0.056452      0.231103     0.0   \n",
       "zip_9                              372.0      0.010753      0.103275     0.0   \n",
       "\n",
       "                                       25%       50%       75%      max  \n",
       "total_floor_area                     720.0   1220.00   2100.00  15670.0  \n",
       "lot_area                             190.0    300.00    490.50   5000.0  \n",
       "total_cost_preliminary_estimation     67.8    164.70    366.05   7208.2  \n",
       "duration_construction                  5.0      6.00      7.00     23.0  \n",
       "price_unit_begining_project          440.0    805.00   1300.00   5700.0  \n",
       "total_population                   12065.0  25758.75  40234.00  49572.0  \n",
       "actual_construction_cost             110.0    190.00    330.00   1000.0  \n",
       "zip_1                                  0.0      0.00      0.00      1.0  \n",
       "zip_10                                 0.0      0.00      0.00      1.0  \n",
       "zip_11                                 0.0      0.00      0.00      1.0  \n",
       "zip_12                                 0.0      0.00      0.00      1.0  \n",
       "zip_13                                 0.0      0.00      0.00      1.0  \n",
       "zip_14                                 0.0      0.00      0.00      1.0  \n",
       "zip_15                                 0.0      0.00      0.00      1.0  \n",
       "zip_16                                 0.0      0.00      0.00      1.0  \n",
       "zip_17                                 0.0      0.00      0.00      1.0  \n",
       "zip_18                                 0.0      0.00      0.00      1.0  \n",
       "zip_19                                 0.0      0.00      0.00      1.0  \n",
       "zip_2                                  0.0      0.00      0.00      1.0  \n",
       "zip_20                                 0.0      0.00      0.00      1.0  \n",
       "zip_3                                  0.0      0.00      0.00      1.0  \n",
       "zip_4                                  0.0      0.00      0.00      1.0  \n",
       "zip_5                                  0.0      0.00      0.00      1.0  \n",
       "zip_6                                  0.0      0.00      0.00      1.0  \n",
       "zip_7                                  0.0      0.00      0.00      1.0  \n",
       "zip_8                                  0.0      0.00      0.00      1.0  \n",
       "zip_9                                  0.0      0.00      0.00      1.0  "
      ]
     },
     "execution_count": 10,
     "metadata": {},
     "output_type": "execute_result"
    }
   ],
   "source": [
    "data.describe(include='all').transpose()"
   ]
  },
  {
   "cell_type": "markdown",
   "metadata": {},
   "source": [
    "# Aprendizaje del modelo de regresión - Evaluación sobre el conjunto de datos de entrenamiento"
   ]
  },
  {
   "cell_type": "markdown",
   "metadata": {},
   "source": [
    "Vamos a crear un modelo de regresión lineal que permita obtener *actual_construction_cost* a partir de algunas de las demás variables independientes del dataset."
   ]
  },
  {
   "cell_type": "code",
   "execution_count": 11,
   "metadata": {},
   "outputs": [],
   "source": [
    "indep_vars = data.columns\n",
    "indep_vars = indep_vars.drop('actual_construction_cost')\n",
    "dep_vars = ['actual_construction_cost']"
   ]
  },
  {
   "cell_type": "code",
   "execution_count": 12,
   "metadata": {},
   "outputs": [],
   "source": [
    "indep_vars = list(indep_vars)\n",
    "X = data[indep_vars]\n",
    "y = data[dep_vars]"
   ]
  },
  {
   "cell_type": "markdown",
   "metadata": {},
   "source": [
    "Tenemos un dataframe con los datos de las variables independientes y otro con los de la variables dependiente.\n",
    "\n",
    "Vamos ahora a partir cada dataframe en 2 de manera aleatoria: 67% de los datos se utilizarán para aprender el modelo, y 33 para evaluarlo."
   ]
  },
  {
   "cell_type": "code",
   "execution_count": 13,
   "metadata": {},
   "outputs": [],
   "source": [
    "train_X, test_X, train_y, test_y = train_test_split(X, y, test_size=0.33, random_state=42)"
   ]
  },
  {
   "cell_type": "code",
   "execution_count": 14,
   "metadata": {},
   "outputs": [
    {
     "name": "stdout",
     "output_type": "stream",
     "text": [
      "(249, 26)\n",
      "(249, 1)\n",
      "(123, 26)\n",
      "(123, 1)\n"
     ]
    }
   ],
   "source": [
    "print(train_X.shape)\n",
    "print(train_y.shape)\n",
    "print(test_X.shape)\n",
    "print(test_y.shape)"
   ]
  },
  {
   "cell_type": "markdown",
   "metadata": {},
   "source": [
    "Ya tenemos todos los datos preparados para lanzar el modelo de regresión lineal a partir de los datos de entrenamiento.\n",
    "Lanzamos el método **fit** que se encarga de encontrar la mejor línea de ajuste, y consultamos los diferentes coeficientes encontrados para las variables independientes."
   ]
  },
  {
   "cell_type": "code",
   "execution_count": 15,
   "metadata": {},
   "outputs": [
    {
     "data": {
      "text/plain": [
       "LinearRegression(copy_X=True, fit_intercept=True, n_jobs=1, normalize=True)"
      ]
     },
     "execution_count": 15,
     "metadata": {},
     "output_type": "execute_result"
    }
   ],
   "source": [
    "regr = linear_model.LinearRegression(normalize=True)\n",
    "regr.fit(train_X, train_y)"
   ]
  },
  {
   "cell_type": "markdown",
   "metadata": {},
   "source": [
    "Se estableció que se va a utilizar un modelo de regresión lineal, que por defecto incluye un coeficiente para la interceptación de la ordenada en el origen, y que normaliza los datos de las variables predictivas."
   ]
  },
  {
   "cell_type": "code",
   "execution_count": 16,
   "metadata": {},
   "outputs": [
    {
     "name": "stdout",
     "output_type": "stream",
     "text": [
      "total_floor_area: -0.03478021807947818\n",
      "lot_area: 0.03778165709311816\n",
      "total_cost_preliminary_estimation: 0.19536838181363722\n",
      "duration_construction: 15.723836871000296\n",
      "price_unit_begining_project: 0.1031244251694558\n",
      "total_population: 0.0005264628397030338\n",
      "zip_1: -768343505577848.4\n",
      "zip_10: -768343505577726.9\n",
      "zip_11: -768343505577775.1\n",
      "zip_12: -768343505577751.6\n",
      "zip_13: -768343505577773.1\n",
      "zip_14: -768343505577755.5\n",
      "zip_15: -768343505577725.0\n",
      "zip_16: -768343505577728.5\n",
      "zip_17: -768343505577726.2\n",
      "zip_18: -768343505577700.4\n",
      "zip_19: -768343505577702.9\n",
      "zip_2: -768343505577728.8\n",
      "zip_20: -768343505577782.2\n",
      "zip_3: -768343505577806.0\n",
      "zip_4: -768343505577691.4\n",
      "zip_5: -768343505577723.6\n",
      "zip_6: -768343505577803.4\n",
      "zip_7: -768343505577741.9\n",
      "zip_8: -768343505577732.0\n",
      "zip_9: -768343505577660.2\n",
      "intercepción: 768343505577741.2\n"
     ]
    }
   ],
   "source": [
    "for var, coef in zip(indep_vars, np.squeeze(regr.coef_)):\n",
    "    print(\"{}: {}\".format(var, coef))\n",
    "print(\"intercepción: {}\".format(np.squeeze(regr.intercept_)))"
   ]
  },
  {
   "cell_type": "markdown",
   "metadata": {},
   "source": [
    "## Predicción"
   ]
  },
  {
   "cell_type": "markdown",
   "metadata": {},
   "source": [
    "Vamos a predecir la variable dependiente ajustada según el modelo para los datos de entrenamiento y para los datos de test"
   ]
  },
  {
   "cell_type": "code",
   "execution_count": 17,
   "metadata": {},
   "outputs": [
    {
     "name": "stdout",
     "output_type": "stream",
     "text": [
      "(249, 1)\n",
      "(123, 1)\n",
      "MSE (train): 4752.3402\n",
      "MSE (test) : 7770.5506\n",
      "R2  (train): 0.8135\n",
      "R2  (test) : 0.7237\n"
     ]
    }
   ],
   "source": [
    "train_y_pred = regr.predict(train_X)\n",
    "test_y_pred = regr.predict(test_X)\n",
    "print(train_y_pred.shape)\n",
    "print(test_y_pred.shape)\n",
    "print(\"MSE (train): %.4f\" % mean_squared_error(train_y, train_y_pred))\n",
    "print(\"MSE (test) : %.4f\" % mean_squared_error(test_y, test_y_pred))\n",
    "print('R2  (train): %.4f' % r2_score(train_y, train_y_pred))\n",
    "print('R2  (test) : %.4f' % r2_score(test_y, test_y_pred))"
   ]
  },
  {
   "cell_type": "markdown",
   "metadata": {},
   "source": [
    "scikit-learn no ofrece el cálculo del R2 ajustado, por lo que lo calculamos a mano:"
   ]
  },
  {
   "cell_type": "code",
   "execution_count": 18,
   "metadata": {},
   "outputs": [
    {
     "name": "stdout",
     "output_type": "stream",
     "text": [
      "R2 adj (train): 0.7917\n",
      "R2 adj (test): 0.6488\n"
     ]
    }
   ],
   "source": [
    "r2_aj_train = 1 - (1-r2_score(train_y, train_y_pred))*(len(train_y)-1) / (len(train_y) - train_X.shape[1] - 1)\n",
    "print('R2 adj (train): %.4f' %r2_aj_train)\n",
    "r2_aj_test = 1 - (1-r2_score(test_y, test_y_pred))*(len(test_y)-1) / (len(test_y) - test_X.shape[1] - 1)\n",
    "print('R2 adj (test): %.4f' %r2_aj_test)"
   ]
  },
  {
   "cell_type": "markdown",
   "metadata": {},
   "source": [
    "El valor del R2 ajustado corrige el valor del R2 con respecto a la complejidad dada por el número de variables independientes utilizadas, y permite comparar modelos de diferente número de predictores."
   ]
  },
  {
   "cell_type": "markdown",
   "metadata": {},
   "source": [
    "## Escogencia de variables"
   ]
  },
  {
   "cell_type": "markdown",
   "metadata": {},
   "source": [
    "Empezamos por escoger como primera variable *total_cost_preliminary_estimation*, pues es la que tiene la correlación más importante con *actual_construction_cost* (no se muestra cómo obtuvimos este resultado)."
   ]
  },
  {
   "cell_type": "code",
   "execution_count": 25,
   "metadata": {},
   "outputs": [
    {
     "name": "stdout",
     "output_type": "stream",
     "text": [
      "0.5730843381513779\n"
     ]
    }
   ],
   "source": [
    "train_X2 = train_X[['price_unit_begining_project']]\n",
    "train_X2 = sm.add_constant(train_X2)\n",
    "modeloStats = sm.OLS(train_y, train_X2)\n",
    "results = modeloStats.fit();\n",
    "print(results.rsquared_adj)"
   ]
  },
  {
   "cell_type": "markdown",
   "metadata": {},
   "source": [
    "Partimos entonces de un R2 ajustado de 0.573.\n",
    "Buscamos la siguiente mejor variable a agregar a *price_unit_begining_project*."
   ]
  },
  {
   "cell_type": "code",
   "execution_count": 26,
   "metadata": {},
   "outputs": [
    {
     "name": "stdout",
     "output_type": "stream",
     "text": [
      "[0.5733321743298702, 0.5719946005845187, 0.6569544073747955, 0.6405594631817955, 0.5902086846270551, 0.5899155704124422, 0.5713545648650085, 0.5722288576144884, 0.5864140852305494, 0.5714125202329056, 0.5798707053097305, 0.5714515158509832, 0.5713490088201882, 0.5749394111688001, 0.5715684711920006, 0.5726181198771527, 0.5716463694610224, 0.5724657551202431, 0.5719184986105097, 0.5718648395419765, 0.5713653613247052, 0.5730079938380179, 0.5779164694751634, 0.5756115965516038, 0.573882225322228]\n",
      "['price_unit_begining_project', 'total_cost_preliminary_estimation']\n"
     ]
    }
   ],
   "source": [
    "var_escogidas = ['price_unit_begining_project']\n",
    "var_intentar = ['total_floor_area', 'lot_area', 'total_cost_preliminary_estimation', 'duration_construction', \n",
    "                'total_population', 'zip_1', 'zip_2', 'zip_3', 'zip_4', 'zip_5', 'zip_6', 'zip_7', 'zip_8',\n",
    "                'zip_9', 'zip_10', 'zip_11', 'zip_12', 'zip_13', 'zip_14', 'zip_15', 'zip_16', 'zip_17',\n",
    "                'zip_18', 'zip_19', 'zip_20']\n",
    "\n",
    "r2_aj_stepwise = []\n",
    "max_r2 = 0;\n",
    "for nueva_var in var_intentar:\n",
    "    var_modelo=np.append(var_escogidas, nueva_var)\n",
    "    train_X2 = train_X[var_modelo]\n",
    "    train_X2 = sm.add_constant(train_X2)\n",
    "    modeloStats = sm.OLS(train_y, train_X2)\n",
    "    results = modeloStats.fit();\n",
    "    if results.rsquared_adj > max_r2:\n",
    "        max_r2 = results.rsquared_adj\n",
    "        var_escogida = nueva_var\n",
    "    r2_aj_stepwise.append(results.rsquared_adj)\n",
    "print(r2_aj_stepwise)\n",
    "var_escogidas.append(var_escogida)\n",
    "print(var_escogidas)"
   ]
  },
  {
   "cell_type": "markdown",
   "metadata": {},
   "source": [
    "Encontramos que el agregar *total_cost_preliminary_estimation* a *price_unit_begining_project* nos hace llegar el R2 ajustado a un valor de 0.657.\n",
    "\n",
    "Buscamos la siguiente mejor variable a agregar."
   ]
  },
  {
   "cell_type": "code",
   "execution_count": 27,
   "metadata": {},
   "outputs": [
    {
     "name": "stdout",
     "output_type": "stream",
     "text": [
      "[0.7251177329825829, 0.7056359347642795, 0.6872425118254586, 0.6669956534267971, 0.6827805743993776, 0.6556266643395912, 0.6630521231840729, 0.6677563658950265, 0.6557586014307151, 0.6597658409432777, 0.6555597377650806, 0.6568243338302341, 0.6595747089960333, 0.6563428406721333, 0.6561237766320234, 0.6557595149722225, 0.6562206382820874, 0.6555640000497468, 0.6573427214075918, 0.655709674613298, 0.6583385898036636, 0.6626853523198684, 0.6602762002565125, 0.664249280920948]\n",
      "['price_unit_begining_project', 'total_cost_preliminary_estimation', 'total_floor_area']\n"
     ]
    }
   ],
   "source": [
    "var_escogidas = ['price_unit_begining_project', 'total_cost_preliminary_estimation']\n",
    "var_intentar = ['total_floor_area', 'lot_area', 'duration_construction', \n",
    "                'total_population', 'zip_1', 'zip_2', 'zip_3', 'zip_4', 'zip_5', 'zip_6', 'zip_7', 'zip_8',\n",
    "                'zip_9', 'zip_10', 'zip_11', 'zip_12', 'zip_13', 'zip_14', 'zip_15', 'zip_16', 'zip_17',\n",
    "                'zip_18', 'zip_19', 'zip_20']\n",
    "\n",
    "\n",
    "r2_aj_stepwise = []\n",
    "max_r2 = 0;\n",
    "for nueva_var in var_intentar:\n",
    "    var_modelo=np.append(var_escogidas, nueva_var)\n",
    "    train_X2 = train_X[var_modelo]\n",
    "    train_X2 = sm.add_constant(train_X2)\n",
    "    modeloStats = sm.OLS(train_y, train_X2)\n",
    "    results = modeloStats.fit();\n",
    "    if results.rsquared_adj > max_r2:\n",
    "        max_r2 = results.rsquared_adj\n",
    "        var_escogida = nueva_var\n",
    "    r2_aj_stepwise.append(results.rsquared_adj)\n",
    "print(r2_aj_stepwise)\n",
    "var_escogidas.append(var_escogida)\n",
    "print(var_escogidas)"
   ]
  },
  {
   "cell_type": "markdown",
   "metadata": {},
   "source": [
    "Encontramos que el agregar *total_floor_area* a *total_cost_preliminary_estimation* y *price_unit_begining_project* nos hace llegar el R2 ajustado a un valor de 0.725.\n",
    "\n",
    "Buscamos las siguiente variables a agregar hasta que encontramos que no se puede seguir mejorando el R2 ajustado."
   ]
  },
  {
   "cell_type": "code",
   "execution_count": 28,
   "metadata": {},
   "outputs": [
    {
     "name": "stdout",
     "output_type": "stream",
     "text": [
      "[0.7978202765484377, 0.7979494243789943, 0.7981289633785842, 0.7977981569050812, 0.7978237371097138, 0.7983913930789173, 0.7978798202128143, 0.7978048908559534, 0.7978752193120044]\n",
      "['price_unit_begining_project', 'total_cost_preliminary_estimation', 'total_floor_area', 'duration_construction', 'zip_1', 'zip_3', 'zip_6', 'zip_20', 'zip_4', 'zip_18', 'zip_9', 'zip_19', 'total_population', 'zip_13', 'lot_area', 'zip_14', 'zip_11', 'zip_12']\n"
     ]
    }
   ],
   "source": [
    "var_escogidas = ['price_unit_begining_project', 'total_cost_preliminary_estimation', 'total_floor_area',\n",
    "                'duration_construction', 'zip_1', 'zip_3', 'zip_6', 'zip_20', 'zip_4', 'zip_18', 'zip_9',\n",
    "                'zip_19', 'total_population', 'zip_13', 'lot_area', 'zip_14', 'zip_11']\n",
    "var_intentar = ['zip_2', 'zip_5', 'zip_7', 'zip_8',\n",
    "                'zip_10', 'zip_12', 'zip_15', 'zip_16', 'zip_17']\n",
    "\n",
    "r2_aj_stepwise = []\n",
    "max_r2 = 0;\n",
    "for nueva_var in var_intentar:\n",
    "    var_modelo=np.append(var_escogidas, nueva_var)\n",
    "    train_X2 = train_X[var_modelo]\n",
    "    train_X2 = sm.add_constant(train_X2)\n",
    "    modeloStats = sm.OLS(train_y, train_X2)\n",
    "    results = modeloStats.fit();\n",
    "    if results.rsquared_adj > max_r2:\n",
    "        max_r2 = results.rsquared_adj\n",
    "        var_escogida = nueva_var\n",
    "    r2_aj_stepwise.append(results.rsquared_adj)\n",
    "print(r2_aj_stepwise)\n",
    "var_escogidas.append(var_escogida)\n",
    "print(var_escogidas)"
   ]
  },
  {
   "cell_type": "code",
   "execution_count": 29,
   "metadata": {},
   "outputs": [
    {
     "data": {
      "text/html": [
       "<table class=\"simpletable\">\n",
       "<caption>OLS Regression Results</caption>\n",
       "<tr>\n",
       "  <th>Dep. Variable:</th>    <td>actual_construction_cost</td> <th>  R-squared:         </th> <td>   0.812</td>\n",
       "</tr>\n",
       "<tr>\n",
       "  <th>Model:</th>                       <td>OLS</td>           <th>  Adj. R-squared:    </th> <td>   0.799</td>\n",
       "</tr>\n",
       "<tr>\n",
       "  <th>Method:</th>                 <td>Least Squares</td>      <th>  F-statistic:       </th> <td>   58.87</td>\n",
       "</tr>\n",
       "<tr>\n",
       "  <th>Date:</th>                 <td>Sun, 23 Sep 2018</td>     <th>  Prob (F-statistic):</th> <td>6.43e-74</td>\n",
       "</tr>\n",
       "<tr>\n",
       "  <th>Time:</th>                     <td>11:43:50</td>         <th>  Log-Likelihood:    </th> <td> -1408.1</td>\n",
       "</tr>\n",
       "<tr>\n",
       "  <th>No. Observations:</th>          <td>   249</td>          <th>  AIC:               </th> <td>   2852.</td>\n",
       "</tr>\n",
       "<tr>\n",
       "  <th>Df Residuals:</th>              <td>   231</td>          <th>  BIC:               </th> <td>   2915.</td>\n",
       "</tr>\n",
       "<tr>\n",
       "  <th>Df Model:</th>                  <td>    17</td>          <th>                     </th>     <td> </td>   \n",
       "</tr>\n",
       "<tr>\n",
       "  <th>Covariance Type:</th>          <td>nonrobust</td>        <th>                     </th>     <td> </td>   \n",
       "</tr>\n",
       "</table>\n",
       "<table class=\"simpletable\">\n",
       "<tr>\n",
       "                  <td></td>                     <th>coef</th>     <th>std err</th>      <th>t</th>      <th>P>|t|</th>  <th>[0.025</th>    <th>0.975]</th>  \n",
       "</tr>\n",
       "<tr>\n",
       "  <th>const</th>                             <td>   10.4295</td> <td>   19.544</td> <td>    0.534</td> <td> 0.594</td> <td>  -28.078</td> <td>   48.937</td>\n",
       "</tr>\n",
       "<tr>\n",
       "  <th>price_unit_begining_project</th>       <td>    0.1029</td> <td>    0.008</td> <td>   13.167</td> <td> 0.000</td> <td>    0.087</td> <td>    0.118</td>\n",
       "</tr>\n",
       "<tr>\n",
       "  <th>total_cost_preliminary_estimation</th> <td>    0.1971</td> <td>    0.021</td> <td>    9.313</td> <td> 0.000</td> <td>    0.155</td> <td>    0.239</td>\n",
       "</tr>\n",
       "<tr>\n",
       "  <th>total_floor_area</th>                  <td>   -0.0358</td> <td>    0.012</td> <td>   -3.108</td> <td> 0.002</td> <td>   -0.058</td> <td>   -0.013</td>\n",
       "</tr>\n",
       "<tr>\n",
       "  <th>duration_construction</th>             <td>   15.5125</td> <td>    2.423</td> <td>    6.402</td> <td> 0.000</td> <td>   10.739</td> <td>   20.286</td>\n",
       "</tr>\n",
       "<tr>\n",
       "  <th>zip_1</th>                             <td> -116.2120</td> <td>   24.109</td> <td>   -4.820</td> <td> 0.000</td> <td> -163.714</td> <td>  -68.710</td>\n",
       "</tr>\n",
       "<tr>\n",
       "  <th>zip_3</th>                             <td>  -74.6942</td> <td>   22.238</td> <td>   -3.359</td> <td> 0.001</td> <td> -118.510</td> <td>  -30.879</td>\n",
       "</tr>\n",
       "<tr>\n",
       "  <th>zip_6</th>                             <td>  -71.6210</td> <td>   21.613</td> <td>   -3.314</td> <td> 0.001</td> <td> -114.206</td> <td>  -29.036</td>\n",
       "</tr>\n",
       "<tr>\n",
       "  <th>zip_20</th>                            <td>  -50.9658</td> <td>   18.413</td> <td>   -2.768</td> <td> 0.006</td> <td>  -87.245</td> <td>  -14.687</td>\n",
       "</tr>\n",
       "<tr>\n",
       "  <th>zip_4</th>                             <td>   39.9374</td> <td>   17.134</td> <td>    2.331</td> <td> 0.021</td> <td>    6.179</td> <td>   73.696</td>\n",
       "</tr>\n",
       "<tr>\n",
       "  <th>zip_18</th>                            <td>   30.9673</td> <td>   20.100</td> <td>    1.541</td> <td> 0.125</td> <td>   -8.635</td> <td>   70.569</td>\n",
       "</tr>\n",
       "<tr>\n",
       "  <th>zip_9</th>                             <td>   71.2692</td> <td>   42.054</td> <td>    1.695</td> <td> 0.091</td> <td>  -11.589</td> <td>  154.128</td>\n",
       "</tr>\n",
       "<tr>\n",
       "  <th>zip_19</th>                            <td>   28.5179</td> <td>   21.944</td> <td>    1.300</td> <td> 0.195</td> <td>  -14.719</td> <td>   71.754</td>\n",
       "</tr>\n",
       "<tr>\n",
       "  <th>total_population</th>                  <td>    0.0006</td> <td>    0.000</td> <td>    1.553</td> <td> 0.122</td> <td>   -0.000</td> <td>    0.001</td>\n",
       "</tr>\n",
       "<tr>\n",
       "  <th>zip_13</th>                            <td>  -41.8310</td> <td>   30.374</td> <td>   -1.377</td> <td> 0.170</td> <td> -101.676</td> <td>   18.014</td>\n",
       "</tr>\n",
       "<tr>\n",
       "  <th>lot_area</th>                          <td>    0.0404</td> <td>    0.033</td> <td>    1.213</td> <td> 0.226</td> <td>   -0.025</td> <td>    0.106</td>\n",
       "</tr>\n",
       "<tr>\n",
       "  <th>zip_14</th>                            <td>  -24.4835</td> <td>   19.446</td> <td>   -1.259</td> <td> 0.209</td> <td>  -62.798</td> <td>   13.831</td>\n",
       "</tr>\n",
       "<tr>\n",
       "  <th>zip_11</th>                            <td>  -42.2365</td> <td>   36.644</td> <td>   -1.153</td> <td> 0.250</td> <td> -114.436</td> <td>   29.963</td>\n",
       "</tr>\n",
       "</table>\n",
       "<table class=\"simpletable\">\n",
       "<tr>\n",
       "  <th>Omnibus:</th>       <td>11.723</td> <th>  Durbin-Watson:     </th> <td>   2.105</td>\n",
       "</tr>\n",
       "<tr>\n",
       "  <th>Prob(Omnibus):</th> <td> 0.003</td> <th>  Jarque-Bera (JB):  </th> <td>  13.647</td>\n",
       "</tr>\n",
       "<tr>\n",
       "  <th>Skew:</th>          <td> 0.410</td> <th>  Prob(JB):          </th> <td> 0.00109</td>\n",
       "</tr>\n",
       "<tr>\n",
       "  <th>Kurtosis:</th>      <td> 3.802</td> <th>  Cond. No.          </th> <td>2.85e+05</td>\n",
       "</tr>\n",
       "</table><br/><br/>Warnings:<br/>[1] Standard Errors assume that the covariance matrix of the errors is correctly specified.<br/>[2] The condition number is large, 2.85e+05. This might indicate that there are<br/>strong multicollinearity or other numerical problems."
      ],
      "text/plain": [
       "<class 'statsmodels.iolib.summary.Summary'>\n",
       "\"\"\"\n",
       "                               OLS Regression Results                               \n",
       "====================================================================================\n",
       "Dep. Variable:     actual_construction_cost   R-squared:                       0.812\n",
       "Model:                                  OLS   Adj. R-squared:                  0.799\n",
       "Method:                       Least Squares   F-statistic:                     58.87\n",
       "Date:                      Sun, 23 Sep 2018   Prob (F-statistic):           6.43e-74\n",
       "Time:                              11:43:50   Log-Likelihood:                -1408.1\n",
       "No. Observations:                       249   AIC:                             2852.\n",
       "Df Residuals:                           231   BIC:                             2915.\n",
       "Df Model:                                17                                         \n",
       "Covariance Type:                  nonrobust                                         \n",
       "=====================================================================================================\n",
       "                                        coef    std err          t      P>|t|      [0.025      0.975]\n",
       "-----------------------------------------------------------------------------------------------------\n",
       "const                                10.4295     19.544      0.534      0.594     -28.078      48.937\n",
       "price_unit_begining_project           0.1029      0.008     13.167      0.000       0.087       0.118\n",
       "total_cost_preliminary_estimation     0.1971      0.021      9.313      0.000       0.155       0.239\n",
       "total_floor_area                     -0.0358      0.012     -3.108      0.002      -0.058      -0.013\n",
       "duration_construction                15.5125      2.423      6.402      0.000      10.739      20.286\n",
       "zip_1                              -116.2120     24.109     -4.820      0.000    -163.714     -68.710\n",
       "zip_3                               -74.6942     22.238     -3.359      0.001    -118.510     -30.879\n",
       "zip_6                               -71.6210     21.613     -3.314      0.001    -114.206     -29.036\n",
       "zip_20                              -50.9658     18.413     -2.768      0.006     -87.245     -14.687\n",
       "zip_4                                39.9374     17.134      2.331      0.021       6.179      73.696\n",
       "zip_18                               30.9673     20.100      1.541      0.125      -8.635      70.569\n",
       "zip_9                                71.2692     42.054      1.695      0.091     -11.589     154.128\n",
       "zip_19                               28.5179     21.944      1.300      0.195     -14.719      71.754\n",
       "total_population                      0.0006      0.000      1.553      0.122      -0.000       0.001\n",
       "zip_13                              -41.8310     30.374     -1.377      0.170    -101.676      18.014\n",
       "lot_area                              0.0404      0.033      1.213      0.226      -0.025       0.106\n",
       "zip_14                              -24.4835     19.446     -1.259      0.209     -62.798      13.831\n",
       "zip_11                              -42.2365     36.644     -1.153      0.250    -114.436      29.963\n",
       "==============================================================================\n",
       "Omnibus:                       11.723   Durbin-Watson:                   2.105\n",
       "Prob(Omnibus):                  0.003   Jarque-Bera (JB):               13.647\n",
       "Skew:                           0.410   Prob(JB):                      0.00109\n",
       "Kurtosis:                       3.802   Cond. No.                     2.85e+05\n",
       "==============================================================================\n",
       "\n",
       "Warnings:\n",
       "[1] Standard Errors assume that the covariance matrix of the errors is correctly specified.\n",
       "[2] The condition number is large, 2.85e+05. This might indicate that there are\n",
       "strong multicollinearity or other numerical problems.\n",
       "\"\"\""
      ]
     },
     "execution_count": 29,
     "metadata": {},
     "output_type": "execute_result"
    }
   ],
   "source": [
    "var_escogidas = ['price_unit_begining_project', 'total_cost_preliminary_estimation', 'total_floor_area',\n",
    "                'duration_construction', 'zip_1', 'zip_3', 'zip_6', 'zip_20', 'zip_4', 'zip_18', 'zip_9',\n",
    "                'zip_19', 'total_population', 'zip_13', 'lot_area', 'zip_14', 'zip_11']\n",
    "train_X2 = train_X[var_escogidas]\n",
    "train_X2 = sm.add_constant(train_X2)\n",
    "modeloStats = sm.OLS(train_y, train_X2)\n",
    "results = modeloStats.fit();\n",
    "results.summary()"
   ]
  },
  {
   "cell_type": "markdown",
   "metadata": {},
   "source": [
    "Encontramos que no todas son significativas, las últimas 9 variables que agregamos no tienen coeficientes significativos. Las eliminamos del modelo."
   ]
  },
  {
   "cell_type": "code",
   "execution_count": 30,
   "metadata": {},
   "outputs": [
    {
     "data": {
      "text/html": [
       "<table class=\"simpletable\">\n",
       "<caption>OLS Regression Results</caption>\n",
       "<tr>\n",
       "  <th>Dep. Variable:</th>    <td>actual_construction_cost</td> <th>  R-squared:         </th> <td>   0.799</td>\n",
       "</tr>\n",
       "<tr>\n",
       "  <th>Model:</th>                       <td>OLS</td>           <th>  Adj. R-squared:    </th> <td>   0.791</td>\n",
       "</tr>\n",
       "<tr>\n",
       "  <th>Method:</th>                 <td>Least Squares</td>      <th>  F-statistic:       </th> <td>   105.3</td>\n",
       "</tr>\n",
       "<tr>\n",
       "  <th>Date:</th>                 <td>Sun, 23 Sep 2018</td>     <th>  Prob (F-statistic):</th> <td>5.50e-78</td>\n",
       "</tr>\n",
       "<tr>\n",
       "  <th>Time:</th>                     <td>11:43:50</td>         <th>  Log-Likelihood:    </th> <td> -1417.0</td>\n",
       "</tr>\n",
       "<tr>\n",
       "  <th>No. Observations:</th>          <td>   249</td>          <th>  AIC:               </th> <td>   2854.</td>\n",
       "</tr>\n",
       "<tr>\n",
       "  <th>Df Residuals:</th>              <td>   239</td>          <th>  BIC:               </th> <td>   2889.</td>\n",
       "</tr>\n",
       "<tr>\n",
       "  <th>Df Model:</th>                  <td>     9</td>          <th>                     </th>     <td> </td>   \n",
       "</tr>\n",
       "<tr>\n",
       "  <th>Covariance Type:</th>          <td>nonrobust</td>        <th>                     </th>     <td> </td>   \n",
       "</tr>\n",
       "</table>\n",
       "<table class=\"simpletable\">\n",
       "<tr>\n",
       "                  <td></td>                     <th>coef</th>     <th>std err</th>      <th>t</th>      <th>P>|t|</th>  <th>[0.025</th>    <th>0.975]</th>  \n",
       "</tr>\n",
       "<tr>\n",
       "  <th>const</th>                             <td>   23.5881</td> <td>   18.185</td> <td>    1.297</td> <td> 0.196</td> <td>  -12.236</td> <td>   59.412</td>\n",
       "</tr>\n",
       "<tr>\n",
       "  <th>price_unit_begining_project</th>       <td>    0.1050</td> <td>    0.008</td> <td>   13.437</td> <td> 0.000</td> <td>    0.090</td> <td>    0.120</td>\n",
       "</tr>\n",
       "<tr>\n",
       "  <th>total_cost_preliminary_estimation</th> <td>    0.1960</td> <td>    0.021</td> <td>    9.360</td> <td> 0.000</td> <td>    0.155</td> <td>    0.237</td>\n",
       "</tr>\n",
       "<tr>\n",
       "  <th>total_floor_area</th>                  <td>   -0.0231</td> <td>    0.005</td> <td>   -5.077</td> <td> 0.000</td> <td>   -0.032</td> <td>   -0.014</td>\n",
       "</tr>\n",
       "<tr>\n",
       "  <th>duration_construction</th>             <td>   15.2789</td> <td>    2.401</td> <td>    6.363</td> <td> 0.000</td> <td>   10.549</td> <td>   20.009</td>\n",
       "</tr>\n",
       "<tr>\n",
       "  <th>zip_1</th>                             <td> -131.3638</td> <td>   23.564</td> <td>   -5.575</td> <td> 0.000</td> <td> -177.783</td> <td>  -84.944</td>\n",
       "</tr>\n",
       "<tr>\n",
       "  <th>zip_3</th>                             <td>  -83.9761</td> <td>   21.749</td> <td>   -3.861</td> <td> 0.000</td> <td> -126.821</td> <td>  -41.132</td>\n",
       "</tr>\n",
       "<tr>\n",
       "  <th>zip_6</th>                             <td>  -75.2883</td> <td>   21.688</td> <td>   -3.471</td> <td> 0.001</td> <td> -118.013</td> <td>  -32.564</td>\n",
       "</tr>\n",
       "<tr>\n",
       "  <th>zip_20</th>                            <td>  -50.0421</td> <td>   18.167</td> <td>   -2.755</td> <td> 0.006</td> <td>  -85.831</td> <td>  -14.254</td>\n",
       "</tr>\n",
       "<tr>\n",
       "  <th>zip_4</th>                             <td>   40.1860</td> <td>   16.899</td> <td>    2.378</td> <td> 0.018</td> <td>    6.897</td> <td>   73.475</td>\n",
       "</tr>\n",
       "</table>\n",
       "<table class=\"simpletable\">\n",
       "<tr>\n",
       "  <th>Omnibus:</th>       <td>14.230</td> <th>  Durbin-Watson:     </th> <td>   2.109</td>\n",
       "</tr>\n",
       "<tr>\n",
       "  <th>Prob(Omnibus):</th> <td> 0.001</td> <th>  Jarque-Bera (JB):  </th> <td>  15.204</td>\n",
       "</tr>\n",
       "<tr>\n",
       "  <th>Skew:</th>          <td> 0.540</td> <th>  Prob(JB):          </th> <td>0.000499</td>\n",
       "</tr>\n",
       "<tr>\n",
       "  <th>Kurtosis:</th>      <td> 3.548</td> <th>  Cond. No.          </th> <td>1.59e+04</td>\n",
       "</tr>\n",
       "</table><br/><br/>Warnings:<br/>[1] Standard Errors assume that the covariance matrix of the errors is correctly specified.<br/>[2] The condition number is large, 1.59e+04. This might indicate that there are<br/>strong multicollinearity or other numerical problems."
      ],
      "text/plain": [
       "<class 'statsmodels.iolib.summary.Summary'>\n",
       "\"\"\"\n",
       "                               OLS Regression Results                               \n",
       "====================================================================================\n",
       "Dep. Variable:     actual_construction_cost   R-squared:                       0.799\n",
       "Model:                                  OLS   Adj. R-squared:                  0.791\n",
       "Method:                       Least Squares   F-statistic:                     105.3\n",
       "Date:                      Sun, 23 Sep 2018   Prob (F-statistic):           5.50e-78\n",
       "Time:                              11:43:50   Log-Likelihood:                -1417.0\n",
       "No. Observations:                       249   AIC:                             2854.\n",
       "Df Residuals:                           239   BIC:                             2889.\n",
       "Df Model:                                 9                                         \n",
       "Covariance Type:                  nonrobust                                         \n",
       "=====================================================================================================\n",
       "                                        coef    std err          t      P>|t|      [0.025      0.975]\n",
       "-----------------------------------------------------------------------------------------------------\n",
       "const                                23.5881     18.185      1.297      0.196     -12.236      59.412\n",
       "price_unit_begining_project           0.1050      0.008     13.437      0.000       0.090       0.120\n",
       "total_cost_preliminary_estimation     0.1960      0.021      9.360      0.000       0.155       0.237\n",
       "total_floor_area                     -0.0231      0.005     -5.077      0.000      -0.032      -0.014\n",
       "duration_construction                15.2789      2.401      6.363      0.000      10.549      20.009\n",
       "zip_1                              -131.3638     23.564     -5.575      0.000    -177.783     -84.944\n",
       "zip_3                               -83.9761     21.749     -3.861      0.000    -126.821     -41.132\n",
       "zip_6                               -75.2883     21.688     -3.471      0.001    -118.013     -32.564\n",
       "zip_20                              -50.0421     18.167     -2.755      0.006     -85.831     -14.254\n",
       "zip_4                                40.1860     16.899      2.378      0.018       6.897      73.475\n",
       "==============================================================================\n",
       "Omnibus:                       14.230   Durbin-Watson:                   2.109\n",
       "Prob(Omnibus):                  0.001   Jarque-Bera (JB):               15.204\n",
       "Skew:                           0.540   Prob(JB):                     0.000499\n",
       "Kurtosis:                       3.548   Cond. No.                     1.59e+04\n",
       "==============================================================================\n",
       "\n",
       "Warnings:\n",
       "[1] Standard Errors assume that the covariance matrix of the errors is correctly specified.\n",
       "[2] The condition number is large, 1.59e+04. This might indicate that there are\n",
       "strong multicollinearity or other numerical problems.\n",
       "\"\"\""
      ]
     },
     "execution_count": 30,
     "metadata": {},
     "output_type": "execute_result"
    }
   ],
   "source": [
    "var_escogidas = ['price_unit_begining_project', 'total_cost_preliminary_estimation', 'total_floor_area',\n",
    "                'duration_construction', 'zip_1', 'zip_3', 'zip_6', 'zip_20', 'zip_4']\n",
    "train_X2 = train_X[var_escogidas]\n",
    "train_X2 = sm.add_constant(train_X2)\n",
    "modeloStats = sm.OLS(train_y, train_X2)\n",
    "results = modeloStats.fit();\n",
    "results.summary()"
   ]
  },
  {
   "cell_type": "markdown",
   "metadata": {},
   "source": [
    "Solo consideramos las 2 variables independientes escogidas"
   ]
  },
  {
   "cell_type": "code",
   "execution_count": 31,
   "metadata": {},
   "outputs": [],
   "source": [
    "regr = linear_model.LinearRegression()\n",
    "regr.fit(train_X[var_escogidas], train_y)\n",
    "train_y_pred=regr.predict(train_X[var_escogidas])"
   ]
  },
  {
   "cell_type": "markdown",
   "metadata": {},
   "source": [
    "**Ojo**: Deberíamos analizar los supuestos de los datos, pero no lo vamos a hacer para no repetirnos."
   ]
  },
  {
   "cell_type": "markdown",
   "metadata": {},
   "source": [
    "## Ridge regression"
   ]
  },
  {
   "cell_type": "markdown",
   "metadata": {},
   "source": [
    "Vamos a aplicar regularización a partir del modelo de ridge regression.\n",
    "La penalización en este modelo se controla a partir del parámetro alpha en la clase **Ridge** de scikit-learn."
   ]
  },
  {
   "cell_type": "markdown",
   "metadata": {},
   "source": [
    "### Comparación del modelo de regresión lineal vs un ridge regression específico"
   ]
  },
  {
   "cell_type": "markdown",
   "metadata": {},
   "source": [
    "Volvemos a considerar la totalidad de las variables independientes y creamos un modelo de regresión lineal:"
   ]
  },
  {
   "cell_type": "code",
   "execution_count": 35,
   "metadata": {},
   "outputs": [],
   "source": [
    "from sklearn.linear_model import LinearRegression, Ridge, RidgeCV, Lasso, LassoCV #modelamiento"
   ]
  },
  {
   "cell_type": "code",
   "execution_count": 36,
   "metadata": {},
   "outputs": [
    {
     "data": {
      "text/plain": [
       "LinearRegression(copy_X=True, fit_intercept=True, n_jobs=1, normalize=False)"
      ]
     },
     "execution_count": 36,
     "metadata": {},
     "output_type": "execute_result"
    }
   ],
   "source": [
    "regr = LinearRegression()\n",
    "regr.fit(train_X, train_y)"
   ]
  },
  {
   "cell_type": "code",
   "execution_count": 37,
   "metadata": {},
   "outputs": [
    {
     "data": {
      "text/plain": [
       "Index(['total_floor_area', 'lot_area', 'total_cost_preliminary_estimation',\n",
       "       'duration_construction', 'price_unit_begining_project',\n",
       "       'total_population', 'zip_1', 'zip_10', 'zip_11', 'zip_12', 'zip_13',\n",
       "       'zip_14', 'zip_15', 'zip_16', 'zip_17', 'zip_18', 'zip_19', 'zip_2',\n",
       "       'zip_20', 'zip_3', 'zip_4', 'zip_5', 'zip_6', 'zip_7', 'zip_8',\n",
       "       'zip_9'],\n",
       "      dtype='object')"
      ]
     },
     "execution_count": 37,
     "metadata": {},
     "output_type": "execute_result"
    }
   ],
   "source": [
    "train_X.columns"
   ]
  },
  {
   "cell_type": "code",
   "execution_count": 38,
   "metadata": {},
   "outputs": [
    {
     "data": {
      "text/plain": [
       "array([[-3.48105912e-02,  3.76585200e-02,  1.95992108e-01,\n",
       "         1.56574087e+01,  1.02853862e-01,  5.34389284e-04,\n",
       "        -1.04014898e+02,  1.73723782e+01, -2.95105307e+01,\n",
       "        -7.59366339e+00, -2.92870019e+01, -1.18193361e+01,\n",
       "         1.92377406e+01,  1.60887858e+01,  1.76814615e+01,\n",
       "         4.37590349e+01,  4.12229596e+01,  1.50191213e+01,\n",
       "        -3.81640145e+01, -6.20423570e+01,  5.29262275e+01,\n",
       "         2.00244169e+01, -5.91174253e+01,  2.27296190e+00,\n",
       "         1.20681950e+01,  8.38759440e+01]])"
      ]
     },
     "execution_count": 38,
     "metadata": {},
     "output_type": "execute_result"
    }
   ],
   "source": [
    "regr.coef_"
   ]
  },
  {
   "cell_type": "code",
   "execution_count": 39,
   "metadata": {},
   "outputs": [
    {
     "name": "stdout",
     "output_type": "stream",
     "text": [
      "MSE (train): 4751.8571\n",
      "MSE (test) : 7807.9106\n",
      "R2  (train): 0.8135\n",
      "R2  (test) : 0.7223\n",
      "R2 adj (train): 0.7917\n",
      "R2 adj (test): 0.6471\n"
     ]
    }
   ],
   "source": [
    "train_y_pred = regr.predict(train_X)\n",
    "test_y_pred = regr.predict(test_X)\n",
    "train_y_pred[0:5]\n",
    "print(\"MSE (train): %.4f\" % mean_squared_error(train_y, train_y_pred))\n",
    "print(\"MSE (test) : %.4f\" % mean_squared_error(test_y, test_y_pred))\n",
    "print('R2  (train): %.4f' % r2_score(train_y, train_y_pred))\n",
    "print('R2  (test) : %.4f' % r2_score(test_y, test_y_pred))\n",
    "r2_aj_train = 1 - (1-r2_score(train_y, train_y_pred))*(len(train_y)-1) / (len(train_y) - train_X.shape[1] - 1)\n",
    "print('R2 adj (train): %.4f' %r2_aj_train)\n",
    "r2_aj_test = 1 - (1-r2_score(test_y, test_y_pred))*(len(test_y)-1) / (len(test_y) - test_X.shape[1] - 1)\n",
    "print('R2 adj (test): %.4f' %r2_aj_test)"
   ]
  },
  {
   "cell_type": "markdown",
   "metadata": {},
   "source": [
    "Ahora vamos a lanzar una regresión Ridge con un valor cualquiera de alpha (0.2)."
   ]
  },
  {
   "cell_type": "code",
   "execution_count": 40,
   "metadata": {},
   "outputs": [
    {
     "name": "stdout",
     "output_type": "stream",
     "text": [
      "MSE (train): 5470.8625\n",
      "MSE (test) : 7276.1732\n",
      "R2  (train): 0.7853\n",
      "R2  (test) : 0.7412\n",
      "R2 adj (train): 0.7602\n",
      "R2 adj (test): 0.6712\n"
     ]
    }
   ],
   "source": [
    "ridgereg = Ridge(alpha=0.2, fit_intercept=True, normalize=True)\n",
    "ridgereg.fit(train_X, train_y)\n",
    "\n",
    "train_y_pred = ridgereg.predict(train_X)\n",
    "test_y_pred = ridgereg.predict(test_X)\n",
    "train_y_pred[0:5]\n",
    "print(\"MSE (train): %.4f\" % mean_squared_error(train_y, train_y_pred))\n",
    "print(\"MSE (test) : %.4f\" % mean_squared_error(test_y, test_y_pred))\n",
    "print('R2  (train): %.4f' % r2_score(train_y, train_y_pred))\n",
    "print('R2  (test) : %.4f' % r2_score(test_y, test_y_pred))\n",
    "r2_aj_train = 1 - (1-r2_score(train_y, train_y_pred))*(len(train_y)-1) / (len(train_y) - train_X.shape[1] - 1)\n",
    "print('R2 adj (train): %.4f' %r2_aj_train)\n",
    "r2_aj_test = 1 - (1-r2_score(test_y, test_y_pred))*(len(test_y)-1) / (len(test_y) - test_X.shape[1] - 1)\n",
    "print('R2 adj (test): %.4f' %r2_aj_test)"
   ]
  },
  {
   "cell_type": "markdown",
   "metadata": {},
   "source": [
    "Nótese como se mejora el score en el conjunto de test.\n",
    "Lo que estamos haciendo es mejorando la generalización del modelo a datos nuevos."
   ]
  },
  {
   "cell_type": "markdown",
   "metadata": {},
   "source": [
    "Se va a controlar el parámetro *alpha* que controla el componente de penalización de la complejidad de los modelos de Ridge regression.\n",
    "Se crea un conjunto de valores de *alpha* siguiendo una escala logarítmica que se van a utilizar para analizar como varían los coeficientes."
   ]
  },
  {
   "cell_type": "code",
   "execution_count": 41,
   "metadata": {},
   "outputs": [
    {
     "data": {
      "text/plain": [
       "array([0.0001    , 0.00010186, 0.00010376, 0.00010569, 0.00010765])"
      ]
     },
     "execution_count": 41,
     "metadata": {},
     "output_type": "execute_result"
    }
   ],
   "source": [
    "n_alphas = 1000\n",
    "alphas = np.logspace(-4, 4, n_alphas)\n",
    "alphas[:5]"
   ]
  },
  {
   "cell_type": "markdown",
   "metadata": {},
   "source": [
    "Vamos a recorrer el array de valores de alpha, y vamos a aprender un modelo de Ridge para cada configuración, guardando en el array *coef* los coeficientes de las variables independientes de cada modelo."
   ]
  },
  {
   "cell_type": "code",
   "execution_count": 51,
   "metadata": {},
   "outputs": [],
   "source": [
    "coefs = []\n",
    "r2adj_train_vec = []\n",
    "r2adj_test_vec = []\n",
    "\n",
    "for a in alphas:\n",
    "    ridge = Ridge(alpha=a, fit_intercept=True, normalize=True)\n",
    "    ridge.fit(train_X, train_y)\n",
    "    coefs.append(ridge.coef_)\n",
    "    train_y_pred = ridge.predict(train_X)\n",
    "    test_y_pred = ridge.predict(test_X)\n",
    "    r2_aj_train = 1 - (1-r2_score(train_y, train_y_pred))*(len(train_y)-1) / (len(train_y) - train_X.shape[1] - 1)\n",
    "    r2_aj_test = 1 - (1-r2_score(test_y, test_y_pred))*(len(test_y)-1) / (len(test_y) - test_X.shape[1] - 1)\n",
    "    r2adj_train_vec.append(r2_aj_train)\n",
    "    r2adj_test_vec.append(r2_aj_test)"
   ]
  },
  {
   "cell_type": "markdown",
   "metadata": {},
   "source": [
    "Vamos ahora a plotear los valores de las métricas con respecto al valor del alpha."
   ]
  },
  {
   "cell_type": "code",
   "execution_count": 52,
   "metadata": {},
   "outputs": [
    {
     "data": {
      "text/plain": [
       "<matplotlib.legend.Legend at 0x1adbe348e80>"
      ]
     },
     "execution_count": 52,
     "metadata": {},
     "output_type": "execute_result"
    },
    {
     "data": {
      "image/png": "[encoded data removed]",
      "text/plain": [
       "<Figure size 1080x504 with 1 Axes>"
      ]
     },
     "metadata": {},
     "output_type": "display_data"
    }
   ],
   "source": [
    "plt.figure(figsize=(15,7))\n",
    "ax = plt.gca() # get current axis\n",
    "plt.plot(alphas, np.squeeze(coefs))\n",
    "ax.set_xscale('log')\n",
    "ax.set_xlim(ax.get_xlim()[::-1])  # reverse axis\n",
    "plt.axis('tight')\n",
    "plt.xlabel('alpha')\n",
    "plt.ylabel('weights')\n",
    "plt.title('Ridge coefficients as a function of the regularization')\n",
    "plt.legend(indep_vars)"
   ]
  },
  {
   "cell_type": "markdown",
   "metadata": {},
   "source": [
    "¿Cuáles son las variables mas importantes?"
   ]
  },
  {
   "cell_type": "markdown",
   "metadata": {},
   "source": [
    "Vamos ahora analizar los valores de r2 ajustado en los dataset de entrenamiento y test.\n",
    "\n",
    "Creamos un array con los valores de las dos series uno a uno para poder plotearlos al mismo tiempo."
   ]
  },
  {
   "cell_type": "code",
   "execution_count": 53,
   "metadata": {},
   "outputs": [
    {
     "name": "stdout",
     "output_type": "stream",
     "text": [
      "train:  (1000, 1)\n",
      "test:  (1000, 1)\n",
      "concatenación:  (1000, 2)\n"
     ]
    }
   ],
   "source": [
    "t1 = np.array(r2adj_train_vec)\n",
    "t1 = t1[:, np.newaxis]\n",
    "print(\"train: \", t1.shape)\n",
    "\n",
    "t2 = np.array(r2adj_test_vec)\n",
    "t2 = t2[:, np.newaxis]\n",
    "print(\"test: \", t2.shape)\n",
    "\n",
    "r2adj_vecs = np.concatenate((t1, t2), axis=1)\n",
    "print(\"concatenación: \", r2adj_vecs.shape)"
   ]
  },
  {
   "cell_type": "code",
   "execution_count": 45,
   "metadata": {},
   "outputs": [
    {
     "data": {
      "text/plain": [
       "<matplotlib.legend.Legend at 0x1adbd2e52b0>"
      ]
     },
     "execution_count": 45,
     "metadata": {},
     "output_type": "execute_result"
    },
    {
     "data": {
      "image/png": "[encoded data removed]",
      "text/plain": [
       "<Figure size 1296x648 with 1 Axes>"
      ]
     },
     "metadata": {},
     "output_type": "display_data"
    }
   ],
   "source": [
    "plt.figure(figsize=(18,9))\n",
    "ax = plt.gca()\n",
    "plt.plot(alphas, r2adj_vecs)\n",
    "ax.set_xscale('log')\n",
    "ax.set_xlim(ax.get_xlim()[::-1])  # reverse axis\n",
    "plt.axis('tight')\n",
    "plt.xlabel('alpha')\n",
    "plt.ylabel('R2 ajustado')\n",
    "plt.title('R2 ajustado con respecto al alpha')\n",
    "plt.legend(['train', 'test'])"
   ]
  },
  {
   "cell_type": "markdown",
   "metadata": {},
   "source": [
    "Encontramos que para un valor de alpha un poco por debajo de 0.2, se obtiene el valor máximal de R2 ajustado para el conjunto de test.\n",
    "Vamos a utilizar CV para comparar valores de alpha cercanos. "
   ]
  },
  {
   "cell_type": "code",
   "execution_count": 46,
   "metadata": {},
   "outputs": [
    {
     "name": "stdout",
     "output_type": "stream",
     "text": [
      "El nivel máximo de R2 es 0.6713999902490587, y se alcanza con un alpha de 0.1783410220710008\n"
     ]
    }
   ],
   "source": [
    "indiceMax = np.argmax(r2adj_test_vec)\n",
    "r2Max = r2adj_test_vec[indiceMax]\n",
    "alphaMax = alphas[indiceMax]\n",
    "print(\"El nivel máximo de R2 es {}, y se alcanza con un alpha de {}\".format(r2Max, alphaMax))"
   ]
  },
  {
   "cell_type": "code",
   "execution_count": 47,
   "metadata": {},
   "outputs": [
    {
     "name": "stdout",
     "output_type": "stream",
     "text": [
      "MSE (train): 5367.8267\n",
      "MSE (test) : 7270.9156\n",
      "R2  (train): 0.7894\n",
      "R2  (test) : 0.7414\n",
      "R2 adj (train): 0.7647\n",
      "R2 adj (test): 0.6714\n"
     ]
    }
   ],
   "source": [
    "ridgereg = Ridge(alpha=alphaMax, normalize=True)\n",
    "ridgereg.fit(train_X, train_y)\n",
    "\n",
    "train_y_pred = ridgereg.predict(train_X)\n",
    "test_y_pred = ridgereg.predict(test_X)\n",
    "train_y_pred[0:5]\n",
    "print(\"MSE (train): %.4f\" % mean_squared_error(train_y, train_y_pred))\n",
    "print(\"MSE (test) : %.4f\" % mean_squared_error(test_y, test_y_pred))\n",
    "print('R2  (train): %.4f' % r2_score(train_y, train_y_pred))\n",
    "print('R2  (test) : %.4f' % r2_score(test_y, test_y_pred))\n",
    "r2_aj_train = 1 - (1-r2_score(train_y, train_y_pred))*(len(train_y)-1) / (len(train_y) - train_X.shape[1] - 1)\n",
    "print('R2 adj (train): %.4f' %r2_aj_train)\n",
    "r2_aj_test = 1 - (1-r2_score(test_y, test_y_pred))*(len(test_y)-1) / (len(test_y) - test_X.shape[1] - 1)\n",
    "print('R2 adj (test): %.4f' %r2_aj_test)"
   ]
  },
  {
   "cell_type": "markdown",
   "metadata": {},
   "source": [
    "Con Ridge regression podemos llegar hasta a un valor de R2 ajustado de 0.6714 y un MSE de 7270."
   ]
  },
  {
   "cell_type": "markdown",
   "metadata": {},
   "source": [
    "## Lasso regression"
   ]
  },
  {
   "cell_type": "markdown",
   "metadata": {},
   "source": [
    "Vamos ahora utilizar la regularización del modelo de Lasso. Utilizamos un valor de alpha específico (1)."
   ]
  },
  {
   "cell_type": "code",
   "execution_count": 54,
   "metadata": {},
   "outputs": [
    {
     "name": "stdout",
     "output_type": "stream",
     "text": [
      "MSE (train): 8024.4537\n",
      "MSE (test) : 7143.2000\n",
      "R2  (train): 0.6851\n",
      "R2  (test) : 0.7460\n",
      "R2 adj (train): 0.6482\n",
      "R2 adj (test): 0.6772\n"
     ]
    }
   ],
   "source": [
    "lassoreg = Lasso(alpha=1.0, normalize=True)\n",
    "lassoreg.fit(train_X, train_y)\n",
    "\n",
    "train_y_pred = lassoreg.predict(train_X)\n",
    "test_y_pred = lassoreg.predict(test_X)\n",
    "print(\"MSE (train): %.4f\" % mean_squared_error(train_y, train_y_pred))\n",
    "print(\"MSE (test) : %.4f\" % mean_squared_error(test_y, test_y_pred))\n",
    "print('R2  (train): %.4f' % r2_score(train_y, train_y_pred))\n",
    "print('R2  (test) : %.4f' % r2_score(test_y, test_y_pred))\n",
    "r2_aj_train = 1 - (1-r2_score(train_y, train_y_pred))*(len(train_y)-1) / (len(train_y) - train_X.shape[1] - 1)\n",
    "print('R2 adj (train): %.4f' %r2_aj_train)\n",
    "r2_aj_test = 1 - (1-r2_score(test_y, test_y_pred))*(len(test_y)-1) / (len(test_y) - test_X.shape[1] - 1)\n",
    "print('R2 adj (test): %.4f' %r2_aj_test)"
   ]
  },
  {
   "cell_type": "markdown",
   "metadata": {},
   "source": [
    "Noten como se mejora el valor de las métricas para el conjunto de test:\n",
    "- Con el modelo de regresión lineal teníamos un valor de R2 ajustado de 0.6471 y un MSE de 7807\n",
    "- Con Ridge regression pasamos a un valor de R2 ajustado de 0.6714 y un MSE de 7270\n",
    "- Con Lasso regression llegamos a un valor de R2 ajustado de 0.6772 y un MSE de 7143"
   ]
  },
  {
   "cell_type": "code",
   "execution_count": 55,
   "metadata": {},
   "outputs": [
    {
     "data": {
      "text/plain": [
       "array([-0.00000000e+00, -3.61884863e-03,  9.22729303e-02,  8.08859054e+00,\n",
       "        8.66152409e-02,  1.88856492e-04, -1.20130404e+00,  0.00000000e+00,\n",
       "       -0.00000000e+00, -0.00000000e+00, -0.00000000e+00, -0.00000000e+00,\n",
       "        0.00000000e+00,  0.00000000e+00,  0.00000000e+00,  0.00000000e+00,\n",
       "        0.00000000e+00,  0.00000000e+00, -0.00000000e+00, -0.00000000e+00,\n",
       "        1.41442441e+01,  0.00000000e+00, -0.00000000e+00, -0.00000000e+00,\n",
       "        0.00000000e+00,  0.00000000e+00])"
      ]
     },
     "execution_count": 55,
     "metadata": {},
     "output_type": "execute_result"
    }
   ],
   "source": [
    "lassoreg.coef_"
   ]
  },
  {
   "cell_type": "markdown",
   "metadata": {},
   "source": [
    "Vemos que con el valor del alpha dado, varios de los parámetros dejan de ser considerados (coeficientes en 0)."
   ]
  },
  {
   "cell_type": "markdown",
   "metadata": {},
   "source": [
    "### Análisis de los modelos para diferentes grados de penalización"
   ]
  },
  {
   "cell_type": "markdown",
   "metadata": {},
   "source": [
    "Se va a controlar el parámetro *alpha* que controla el componente de penalización de la complejidad de los modelos de Lasso regression.\n",
    "Se crea un conjunto de valores de *alpha* siguiendo una escala logarítmica que se van a utilizar para analizar como varían los coeficientes."
   ]
  },
  {
   "cell_type": "code",
   "execution_count": 67,
   "metadata": {},
   "outputs": [],
   "source": [
    "n_alphas = 200\n",
    "alphas = np.logspace(-1, 1, n_alphas)"
   ]
  },
  {
   "cell_type": "markdown",
   "metadata": {},
   "source": [
    "Vamos a recorrer el array de valores de alpha, y vamos a aprender un modelo de Ridge para configuración, guardando en el array *coef* los coeficientes de las variables independientes de cada modelo."
   ]
  },
  {
   "cell_type": "code",
   "execution_count": 68,
   "metadata": {},
   "outputs": [],
   "source": [
    "coefs = []\n",
    "r2adj_train_vec = []\n",
    "r2adj_test_vec = []\n",
    "\n",
    "for a in alphas:\n",
    "    lasso = Lasso(alpha=a, fit_intercept=True, normalize=True)\n",
    "    lasso.fit(train_X, train_y)\n",
    "    coefs.append(lasso.coef_)\n",
    "    train_y_pred = lasso.predict(train_X)\n",
    "    test_y_pred = lasso.predict(test_X)\n",
    "    r2_aj_train = 1 - (1-r2_score(train_y, train_y_pred))*(len(train_y)-1) / (len(train_y) - train_X.shape[1] - 1)\n",
    "    r2_aj_test = 1 - (1-r2_score(test_y, test_y_pred))*(len(test_y)-1) / (len(test_y) - test_X.shape[1] - 1)\n",
    "    r2adj_train_vec.append(r2_aj_train)\n",
    "    r2adj_test_vec.append(r2_aj_test)"
   ]
  },
  {
   "cell_type": "markdown",
   "metadata": {},
   "source": [
    "Vamos ahora a plotear los valores de las métricas con respecto al valor del alpha."
   ]
  },
  {
   "cell_type": "code",
   "execution_count": 69,
   "metadata": {},
   "outputs": [
    {
     "data": {
      "text/plain": [
       "<matplotlib.legend.Legend at 0x1adbee52b70>"
      ]
     },
     "execution_count": 69,
     "metadata": {},
     "output_type": "execute_result"
    },
    {
     "data": {
      "image/png": "[encoded data removed]",
      "text/plain": [
       "<Figure size 1080x504 with 1 Axes>"
      ]
     },
     "metadata": {},
     "output_type": "display_data"
    }
   ],
   "source": [
    "plt.figure(figsize=(15,7))\n",
    "ax = plt.gca()\n",
    "plt.plot(alphas, np.squeeze(coefs))\n",
    "ax.set_xscale('log')\n",
    "ax.set_xlim(ax.get_xlim()[::-1])  # reverse axis\n",
    "ax.set_xlim(ax.get_xlim()[::-1])  # reverse axis\n",
    "plt.axis('tight')\n",
    "plt.xlabel('alpha')\n",
    "plt.ylabel('weights')\n",
    "plt.title('Lasso coefficients as a function of the regularization')\n",
    "plt.legend(indep_vars)"
   ]
  },
  {
   "cell_type": "markdown",
   "metadata": {},
   "source": [
    "Vemos cómo para valores muy negativos de alpha tenemos que la mayoría de coeficientes son diferentes de 0:"
   ]
  },
  {
   "cell_type": "code",
   "execution_count": 70,
   "metadata": {},
   "outputs": [
    {
     "data": {
      "text/plain": [
       "array([-2.07289869e-02, -0.00000000e+00,  1.81311567e-01,  1.42753301e+01,\n",
       "        1.01263893e-01,  5.17752726e-04, -1.09678727e+02,  0.00000000e+00,\n",
       "       -2.93210847e+01, -1.12617022e+01, -3.04146143e+01, -1.63237973e+01,\n",
       "        2.34956278e+00,  0.00000000e+00,  6.84023476e-01,  2.62033463e+01,\n",
       "        2.37919741e+01,  0.00000000e+00, -4.19729472e+01, -6.82108061e+01,\n",
       "        3.85580953e+01,  0.00000000e+00, -6.27497481e+01, -6.06328133e+00,\n",
       "        0.00000000e+00,  5.86517923e+01])"
      ]
     },
     "execution_count": 70,
     "metadata": {},
     "output_type": "execute_result"
    }
   ],
   "source": [
    "coefs[0]"
   ]
  },
  {
   "cell_type": "markdown",
   "metadata": {},
   "source": [
    "Y para valores elevados de alpha, muy pocas variables independientes siguen siendo consideradas"
   ]
  },
  {
   "cell_type": "code",
   "execution_count": 72,
   "metadata": {},
   "outputs": [
    {
     "data": {
      "text/plain": [
       "array([ 0.        , -0.        ,  0.0558923 ,  0.        ,  0.06095683,\n",
       "        0.        ,  0.        , -0.        , -0.        , -0.        ,\n",
       "       -0.        , -0.        ,  0.        ,  0.        , -0.        ,\n",
       "        0.        ,  0.        ,  0.        , -0.        ,  0.        ,\n",
       "        0.        , -0.        , -0.        , -0.        ,  0.        ,\n",
       "        0.        ])"
      ]
     },
     "execution_count": 72,
     "metadata": {},
     "output_type": "execute_result"
    }
   ],
   "source": [
    "coefs[150]"
   ]
  },
  {
   "cell_type": "code",
   "execution_count": 73,
   "metadata": {},
   "outputs": [
    {
     "data": {
      "text/plain": [
       "Index(['total_floor_area', 'lot_area', 'total_cost_preliminary_estimation',\n",
       "       'duration_construction', 'price_unit_begining_project',\n",
       "       'total_population', 'zip_1', 'zip_10', 'zip_11', 'zip_12', 'zip_13',\n",
       "       'zip_14', 'zip_15', 'zip_16', 'zip_17', 'zip_18', 'zip_19', 'zip_2',\n",
       "       'zip_20', 'zip_3', 'zip_4', 'zip_5', 'zip_6', 'zip_7', 'zip_8',\n",
       "       'zip_9'],\n",
       "      dtype='object')"
      ]
     },
     "execution_count": 73,
     "metadata": {},
     "output_type": "execute_result"
    }
   ],
   "source": [
    "train_X.columns"
   ]
  },
  {
   "cell_type": "code",
   "execution_count": 74,
   "metadata": {},
   "outputs": [
    {
     "data": {
      "text/plain": [
       "3.217641750250737"
      ]
     },
     "execution_count": 74,
     "metadata": {},
     "output_type": "execute_result"
    }
   ],
   "source": [
    "alphas[150]"
   ]
  },
  {
   "cell_type": "markdown",
   "metadata": {},
   "source": [
    "Tenemos sólo total_cost_preliminary_estimation y price_unit_begining_project intervienen en el modelo con un valor de alpha de 3.217."
   ]
  },
  {
   "cell_type": "markdown",
   "metadata": {},
   "source": [
    "Vamos ahora a buscar cual es mejor valor de alpha, analizando los valores de r2 ajustado en los dataset de entrenamiento y test.\n",
    "Creamos un array con los valores de las dos series uno a uno para poder plotearlos al mismo tiempo."
   ]
  },
  {
   "cell_type": "code",
   "execution_count": 75,
   "metadata": {},
   "outputs": [
    {
     "name": "stdout",
     "output_type": "stream",
     "text": [
      "train:  (200, 1)\n",
      "test:  (200, 1)\n",
      "concatenación:  (200, 2)\n"
     ]
    }
   ],
   "source": [
    "t1 = np.array(r2adj_train_vec)\n",
    "t1 = t1[:, np.newaxis]\n",
    "print(\"train: \", t1.shape)\n",
    "\n",
    "t2 = np.array(r2adj_test_vec)\n",
    "t2 = t2[:, np.newaxis]\n",
    "print(\"test: \", t2.shape)\n",
    "\n",
    "r2adj_vecs = np.concatenate((t1, t2), axis=1)\n",
    "print(\"concatenación: \", r2adj_vecs.shape)"
   ]
  },
  {
   "cell_type": "code",
   "execution_count": 76,
   "metadata": {},
   "outputs": [
    {
     "data": {
      "text/plain": [
       "<matplotlib.legend.Legend at 0x1adbfbeac18>"
      ]
     },
     "execution_count": 76,
     "metadata": {},
     "output_type": "execute_result"
    },
    {
     "data": {
      "image/png": "[encoded data removed]",
      "text/plain": [
       "<Figure size 1296x648 with 1 Axes>"
      ]
     },
     "metadata": {},
     "output_type": "display_data"
    }
   ],
   "source": [
    "plt.figure(figsize=(18,9))\n",
    "ax = plt.gca()\n",
    "plt.plot(alphas, r2adj_vecs)\n",
    "ax.set_xscale('log')\n",
    "ax.set_xlim(ax.get_xlim()[::-1])  # reverse axis\n",
    "plt.axis('tight')\n",
    "plt.xlabel('alpha')\n",
    "plt.ylabel('R2 ajustado')\n",
    "plt.title('R2 ajustado con respecto al alpha')\n",
    "plt.legend(['train', 'test'])"
   ]
  },
  {
   "cell_type": "markdown",
   "metadata": {},
   "source": [
    "Encontramos que para un valor de alpha alrededor de 0.5 se obtiene el valor máximal de R2 ajustado para el conjunto de test.\n",
    "Vamos a utilizar CV para comparar valores de alpha cercanos. "
   ]
  },
  {
   "cell_type": "code",
   "execution_count": 78,
   "metadata": {},
   "outputs": [
    {
     "name": "stdout",
     "output_type": "stream",
     "text": [
      "El nivel máximo de R2 es 0.6901716435061457, y se alcanza con un alpha de 0.5052631065335681\n"
     ]
    }
   ],
   "source": [
    "indiceMax = np.argmax(r2adj_test_vec)\n",
    "r2Max = r2adj_test_vec[indiceMax]\n",
    "alphaMax = alphas[indiceMax]\n",
    "print(\"El nivel máximo de R2 es {}, y se alcanza con un alpha de {}\".format(r2Max, alphaMax))"
   ]
  },
  {
   "cell_type": "code",
   "execution_count": 79,
   "metadata": {},
   "outputs": [
    {
     "name": "stdout",
     "output_type": "stream",
     "text": [
      "MSE (train): 5969.6925\n",
      "MSE (test) : 6855.5562\n",
      "R2  (train): 0.7657\n",
      "R2  (test) : 0.7562\n",
      "R2 adj (train): 0.7383\n",
      "R2 adj (test): 0.6902\n"
     ]
    }
   ],
   "source": [
    "lassoreg = Lasso(alpha=alphaMax, normalize=True)\n",
    "lassoreg.fit(train_X, train_y)\n",
    "\n",
    "train_y_pred = lassoreg.predict(train_X)\n",
    "test_y_pred = lassoreg.predict(test_X)\n",
    "train_y_pred[0:5]\n",
    "print(\"MSE (train): %.4f\" % mean_squared_error(train_y, train_y_pred))\n",
    "print(\"MSE (test) : %.4f\" % mean_squared_error(test_y, test_y_pred))\n",
    "print('R2  (train): %.4f' % r2_score(train_y, train_y_pred))\n",
    "print('R2  (test) : %.4f' % r2_score(test_y, test_y_pred))\n",
    "r2_aj_train = 1 - (1-r2_score(train_y, train_y_pred))*(len(train_y)-1) / (len(train_y) - train_X.shape[1] - 1)\n",
    "print('R2 adj (train): %.4f' %r2_aj_train)\n",
    "r2_aj_test = 1 - (1-r2_score(test_y, test_y_pred))*(len(test_y)-1) / (len(test_y) - test_X.shape[1] - 1)\n",
    "print('R2 adj (test): %.4f' %r2_aj_test)"
   ]
  },
  {
   "cell_type": "markdown",
   "metadata": {},
   "source": [
    "Con Lasso regression podemos llegar hasta a un valor de R2 ajustado de 0.6902 y un MSE de 6853."
   ]
  }
 ],
 "metadata": {
  "kernelspec": {
   "display_name": "Python 3",
   "language": "python",
   "name": "python3"
  },
  "language_info": {
   "codemirror_mode": {
    "name": "ipython",
    "version": 3
   },
   "file_extension": ".py",
   "mimetype": "text/x-python",
   "name": "python",
   "nbconvert_exporter": "python",
   "pygments_lexer": "ipython3",
   "version": "3.6.6"
  }
 },
 "nbformat": 4,
 "nbformat_minor": 2
}
